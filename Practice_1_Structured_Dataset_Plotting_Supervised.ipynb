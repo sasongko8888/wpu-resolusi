{
  "cells": [
    {
      "cell_type": "markdown",
      "metadata": {
        "id": "view-in-github",
        "colab_type": "text"
      },
      "source": [
        "<a href=\"https://colab.research.google.com/github/sasongko8888/wpu-resolusi/blob/main/Practice_1_Structured_Dataset_Plotting_Supervised.ipynb\" target=\"_parent\"><img src=\"https://colab.research.google.com/assets/colab-badge.svg\" alt=\"Open In Colab\"/></a>"
      ]
    },
    {
      "cell_type": "markdown",
      "metadata": {
        "id": "XGjVo-Ex-rnA"
      },
      "source": [
        "# Introduction Google Colab"
      ]
    },
    {
      "cell_type": "markdown",
      "metadata": {
        "id": "5fCEDCU_qrC0"
      },
      "source": [
        "<p><img alt=\"Colaboratory logo\" height=\"45px\" src=\"/img/colab_favicon.ico\" align=\"left\" hspace=\"10px\" vspace=\"0px\"></p>\n",
        "\n",
        "<h1>Apa itu Google Colab?</h1>\n",
        "\n",
        "Colaboratory, atau disingkat \"Colab\", memungkinkan Anda untuk menulis dan mengeksekusi Python di browser Anda, dengan\n",
        "\n",
        "- Tidak perlu konfigurasi\n",
        "- Akses gratis ke GPU\n",
        "- Berbagi dengan mudah\n"
      ]
    },
    {
      "cell_type": "code",
      "execution_count": null,
      "metadata": {
        "id": "AUAxzEtJ-kpA",
        "colab": {
          "base_uri": "https://localhost:8080/"
        },
        "outputId": "ec2604cb-8184-40fa-8f5e-b020d2701359"
      },
      "outputs": [
        {
          "output_type": "stream",
          "name": "stdout",
          "text": [
            "Python 3.9.16\n"
          ]
        }
      ],
      "source": [
        "# Cek versi python\n",
        "!python --version"
      ]
    },
    {
      "cell_type": "markdown",
      "metadata": {
        "id": "xWRFHfWEBLO9"
      },
      "source": [
        "# Dataset Terstruktur\n",
        "Jenis format data yang umum digunakan:\n",
        "   - **CSV**: Format file sederhana yang digunakan untuk menyimpan data tabel.\n",
        "   - **JSON**: Terutama digunakan untuk mengirimkan data antara server dan aplikasi web.\n",
        "   - **Excel**: File spreadsheet yang dibuat dengan Microsoft Excel.\n",
        "   - **XML**: Terutama digunakan untuk menyimpan atau mengangkut data dalam aplikasi HTML. "
      ]
    },
    {
      "cell_type": "markdown",
      "metadata": {
        "id": "FuBx5h-r_gqT"
      },
      "source": [
        "# Pandas\n",
        "![image.png](https://media.chinaeducationaltours.com/image/panda/panda-1080.jpg)\n",
        "- *Library* Software yang ditulis untuk bahasa pemrograman Python untuk analisis data\n",
        "- Mengakses dan memanipulasi data dalam DataFrame dan Series\n",
        "- Menyediakan struktur dan operasi data untuk memanipulasi tabel numerik dan kategorik\n",
        "- Pandas dapat membaca data dari berbagai format seperti  **CSV**, **TSV**, **MS Excel**, dll."
      ]
    },
    {
      "cell_type": "markdown",
      "metadata": {
        "id": "rPuepNloCScc"
      },
      "source": [
        "### Kegunaan Pandas:\n",
        "\n",
        "- Manipulasi data:\n",
        "  - *Extract column*(kolom), *Extract row*(baris)\n",
        "  - Grouping and Aggregation \n",
        "  - *Filtering* (Memilih baris berdasarkan suatu kriteria tertentu)\n",
        "  - Joining (Penggabungan antara dua atau lebih *DataFrame*)\n",
        "  - Pivoting\n",
        "- *Data cleaning*:\n",
        "  - Menghapus data yang hilang (*Missing values*)\n",
        "  - *Imputation*"
      ]
    },
    {
      "cell_type": "markdown",
      "metadata": {
        "id": "yGnIdu4oNvEg"
      },
      "source": [
        "## Manipulasi Data"
      ]
    },
    {
      "cell_type": "markdown",
      "metadata": {
        "id": "Fz7t9hrHPZp8"
      },
      "source": [
        "Manipulasi data adalah teknik dasar yang digunakan pada kegiatan analisis data."
      ]
    },
    {
      "cell_type": "markdown",
      "metadata": {
        "id": "YMpEk6BXUwEX"
      },
      "source": [
        "### Import library"
      ]
    },
    {
      "cell_type": "code",
      "execution_count": null,
      "metadata": {
        "id": "7FhWA4eo_PSl"
      },
      "outputs": [],
      "source": [
        "# Import library\n",
        "import pandas as pd"
      ]
    },
    {
      "cell_type": "markdown",
      "metadata": {
        "id": "isDhPoRUUrjH"
      },
      "source": [
        "### Creating a sample dataset"
      ]
    },
    {
      "cell_type": "markdown",
      "metadata": {
        "id": "1cFfbsy7_GEz"
      },
      "source": [
        "- Pandas terbentuk dari **list of dictionary**"
      ]
    },
    {
      "cell_type": "code",
      "execution_count": null,
      "metadata": {
        "id": "VLcDMdtp_Fbp",
        "colab": {
          "base_uri": "https://localhost:8080/",
          "height": 269
        },
        "outputId": "6cac1ebb-bec2-40b8-f47a-aadc0b70220a"
      },
      "outputs": [
        {
          "output_type": "execute_result",
          "data": {
            "text/plain": [
              "  Student Class  Age  Score\n",
              "0   Farid     A   15     80\n",
              "1   Rizky     A   15     82\n",
              "2    Anna     B   16     95\n",
              "3    Dani     A   17     72\n",
              "4    Juna     B   15     67\n",
              "5    Bayu     B   18     98\n",
              "6  Gilang     B   16     85"
            ],
            "text/html": [
              "\n",
              "  <div id=\"df-d8370633-f30c-4476-9bba-2732c16d4e2b\">\n",
              "    <div class=\"colab-df-container\">\n",
              "      <div>\n",
              "<style scoped>\n",
              "    .dataframe tbody tr th:only-of-type {\n",
              "        vertical-align: middle;\n",
              "    }\n",
              "\n",
              "    .dataframe tbody tr th {\n",
              "        vertical-align: top;\n",
              "    }\n",
              "\n",
              "    .dataframe thead th {\n",
              "        text-align: right;\n",
              "    }\n",
              "</style>\n",
              "<table border=\"1\" class=\"dataframe\">\n",
              "  <thead>\n",
              "    <tr style=\"text-align: right;\">\n",
              "      <th></th>\n",
              "      <th>Student</th>\n",
              "      <th>Class</th>\n",
              "      <th>Age</th>\n",
              "      <th>Score</th>\n",
              "    </tr>\n",
              "  </thead>\n",
              "  <tbody>\n",
              "    <tr>\n",
              "      <th>0</th>\n",
              "      <td>Farid</td>\n",
              "      <td>A</td>\n",
              "      <td>15</td>\n",
              "      <td>80</td>\n",
              "    </tr>\n",
              "    <tr>\n",
              "      <th>1</th>\n",
              "      <td>Rizky</td>\n",
              "      <td>A</td>\n",
              "      <td>15</td>\n",
              "      <td>82</td>\n",
              "    </tr>\n",
              "    <tr>\n",
              "      <th>2</th>\n",
              "      <td>Anna</td>\n",
              "      <td>B</td>\n",
              "      <td>16</td>\n",
              "      <td>95</td>\n",
              "    </tr>\n",
              "    <tr>\n",
              "      <th>3</th>\n",
              "      <td>Dani</td>\n",
              "      <td>A</td>\n",
              "      <td>17</td>\n",
              "      <td>72</td>\n",
              "    </tr>\n",
              "    <tr>\n",
              "      <th>4</th>\n",
              "      <td>Juna</td>\n",
              "      <td>B</td>\n",
              "      <td>15</td>\n",
              "      <td>67</td>\n",
              "    </tr>\n",
              "    <tr>\n",
              "      <th>5</th>\n",
              "      <td>Bayu</td>\n",
              "      <td>B</td>\n",
              "      <td>18</td>\n",
              "      <td>98</td>\n",
              "    </tr>\n",
              "    <tr>\n",
              "      <th>6</th>\n",
              "      <td>Gilang</td>\n",
              "      <td>B</td>\n",
              "      <td>16</td>\n",
              "      <td>85</td>\n",
              "    </tr>\n",
              "  </tbody>\n",
              "</table>\n",
              "</div>\n",
              "      <button class=\"colab-df-convert\" onclick=\"convertToInteractive('df-d8370633-f30c-4476-9bba-2732c16d4e2b')\"\n",
              "              title=\"Convert this dataframe to an interactive table.\"\n",
              "              style=\"display:none;\">\n",
              "        \n",
              "  <svg xmlns=\"http://www.w3.org/2000/svg\" height=\"24px\"viewBox=\"0 0 24 24\"\n",
              "       width=\"24px\">\n",
              "    <path d=\"M0 0h24v24H0V0z\" fill=\"none\"/>\n",
              "    <path d=\"M18.56 5.44l.94 2.06.94-2.06 2.06-.94-2.06-.94-.94-2.06-.94 2.06-2.06.94zm-11 1L8.5 8.5l.94-2.06 2.06-.94-2.06-.94L8.5 2.5l-.94 2.06-2.06.94zm10 10l.94 2.06.94-2.06 2.06-.94-2.06-.94-.94-2.06-.94 2.06-2.06.94z\"/><path d=\"M17.41 7.96l-1.37-1.37c-.4-.4-.92-.59-1.43-.59-.52 0-1.04.2-1.43.59L10.3 9.45l-7.72 7.72c-.78.78-.78 2.05 0 2.83L4 21.41c.39.39.9.59 1.41.59.51 0 1.02-.2 1.41-.59l7.78-7.78 2.81-2.81c.8-.78.8-2.07 0-2.86zM5.41 20L4 18.59l7.72-7.72 1.47 1.35L5.41 20z\"/>\n",
              "  </svg>\n",
              "      </button>\n",
              "      \n",
              "  <style>\n",
              "    .colab-df-container {\n",
              "      display:flex;\n",
              "      flex-wrap:wrap;\n",
              "      gap: 12px;\n",
              "    }\n",
              "\n",
              "    .colab-df-convert {\n",
              "      background-color: #E8F0FE;\n",
              "      border: none;\n",
              "      border-radius: 50%;\n",
              "      cursor: pointer;\n",
              "      display: none;\n",
              "      fill: #1967D2;\n",
              "      height: 32px;\n",
              "      padding: 0 0 0 0;\n",
              "      width: 32px;\n",
              "    }\n",
              "\n",
              "    .colab-df-convert:hover {\n",
              "      background-color: #E2EBFA;\n",
              "      box-shadow: 0px 1px 2px rgba(60, 64, 67, 0.3), 0px 1px 3px 1px rgba(60, 64, 67, 0.15);\n",
              "      fill: #174EA6;\n",
              "    }\n",
              "\n",
              "    [theme=dark] .colab-df-convert {\n",
              "      background-color: #3B4455;\n",
              "      fill: #D2E3FC;\n",
              "    }\n",
              "\n",
              "    [theme=dark] .colab-df-convert:hover {\n",
              "      background-color: #434B5C;\n",
              "      box-shadow: 0px 1px 3px 1px rgba(0, 0, 0, 0.15);\n",
              "      filter: drop-shadow(0px 1px 2px rgba(0, 0, 0, 0.3));\n",
              "      fill: #FFFFFF;\n",
              "    }\n",
              "  </style>\n",
              "\n",
              "      <script>\n",
              "        const buttonEl =\n",
              "          document.querySelector('#df-d8370633-f30c-4476-9bba-2732c16d4e2b button.colab-df-convert');\n",
              "        buttonEl.style.display =\n",
              "          google.colab.kernel.accessAllowed ? 'block' : 'none';\n",
              "\n",
              "        async function convertToInteractive(key) {\n",
              "          const element = document.querySelector('#df-d8370633-f30c-4476-9bba-2732c16d4e2b');\n",
              "          const dataTable =\n",
              "            await google.colab.kernel.invokeFunction('convertToInteractive',\n",
              "                                                     [key], {});\n",
              "          if (!dataTable) return;\n",
              "\n",
              "          const docLinkHtml = 'Like what you see? Visit the ' +\n",
              "            '<a target=\"_blank\" href=https://colab.research.google.com/notebooks/data_table.ipynb>data table notebook</a>'\n",
              "            + ' to learn more about interactive tables.';\n",
              "          element.innerHTML = '';\n",
              "          dataTable['output_type'] = 'display_data';\n",
              "          await google.colab.output.renderOutput(dataTable, element);\n",
              "          const docLink = document.createElement('div');\n",
              "          docLink.innerHTML = docLinkHtml;\n",
              "          element.appendChild(docLink);\n",
              "        }\n",
              "      </script>\n",
              "    </div>\n",
              "  </div>\n",
              "  "
            ]
          },
          "metadata": {},
          "execution_count": 3
        }
      ],
      "source": [
        "# Creating a sample dataset\n",
        "student = [\"Farid\", \"Rizky\", \"Anna\", \"Dani\", \"Juna\", \"Bayu\", \"Gilang\"]\n",
        "classroom = [\"A\",\"A\",\"B\",\"A\",\"B\",\"B\",\"B\"]\n",
        "age = [15,15,16,17,15,18,16]\n",
        "score = [80,82,95,72,67,98,85]\n",
        "data = {\"Student\":student, \"Class\":classroom, \"Age\":age, \"Score\":score}\n",
        "df = pd.DataFrame(data)\n",
        "df"
      ]
    },
    {
      "cell_type": "markdown",
      "metadata": {
        "id": "l9v8x8lOCBff"
      },
      "source": [
        "- Dan juga bisa dibentuk dari **list of list**"
      ]
    },
    {
      "cell_type": "code",
      "execution_count": null,
      "metadata": {
        "id": "fmTdueEkBMUJ",
        "colab": {
          "base_uri": "https://localhost:8080/",
          "height": 269
        },
        "outputId": "76687b61-4949-4c74-ed59-ea527d55b010"
      },
      "outputs": [
        {
          "output_type": "execute_result",
          "data": {
            "text/plain": [
              "  Student Class  Age  Score\n",
              "0   Farid     A   15     80\n",
              "1   Rizky     A   15     82\n",
              "2    Anna     B   16     95\n",
              "3    Dani     A   17     72\n",
              "4    Juna     B   15     67\n",
              "5    Bayu     B   18     98\n",
              "6  Gilang     B   16     85"
            ],
            "text/html": [
              "\n",
              "  <div id=\"df-734fba39-e7ef-4cd4-923c-5879e300deee\">\n",
              "    <div class=\"colab-df-container\">\n",
              "      <div>\n",
              "<style scoped>\n",
              "    .dataframe tbody tr th:only-of-type {\n",
              "        vertical-align: middle;\n",
              "    }\n",
              "\n",
              "    .dataframe tbody tr th {\n",
              "        vertical-align: top;\n",
              "    }\n",
              "\n",
              "    .dataframe thead th {\n",
              "        text-align: right;\n",
              "    }\n",
              "</style>\n",
              "<table border=\"1\" class=\"dataframe\">\n",
              "  <thead>\n",
              "    <tr style=\"text-align: right;\">\n",
              "      <th></th>\n",
              "      <th>Student</th>\n",
              "      <th>Class</th>\n",
              "      <th>Age</th>\n",
              "      <th>Score</th>\n",
              "    </tr>\n",
              "  </thead>\n",
              "  <tbody>\n",
              "    <tr>\n",
              "      <th>0</th>\n",
              "      <td>Farid</td>\n",
              "      <td>A</td>\n",
              "      <td>15</td>\n",
              "      <td>80</td>\n",
              "    </tr>\n",
              "    <tr>\n",
              "      <th>1</th>\n",
              "      <td>Rizky</td>\n",
              "      <td>A</td>\n",
              "      <td>15</td>\n",
              "      <td>82</td>\n",
              "    </tr>\n",
              "    <tr>\n",
              "      <th>2</th>\n",
              "      <td>Anna</td>\n",
              "      <td>B</td>\n",
              "      <td>16</td>\n",
              "      <td>95</td>\n",
              "    </tr>\n",
              "    <tr>\n",
              "      <th>3</th>\n",
              "      <td>Dani</td>\n",
              "      <td>A</td>\n",
              "      <td>17</td>\n",
              "      <td>72</td>\n",
              "    </tr>\n",
              "    <tr>\n",
              "      <th>4</th>\n",
              "      <td>Juna</td>\n",
              "      <td>B</td>\n",
              "      <td>15</td>\n",
              "      <td>67</td>\n",
              "    </tr>\n",
              "    <tr>\n",
              "      <th>5</th>\n",
              "      <td>Bayu</td>\n",
              "      <td>B</td>\n",
              "      <td>18</td>\n",
              "      <td>98</td>\n",
              "    </tr>\n",
              "    <tr>\n",
              "      <th>6</th>\n",
              "      <td>Gilang</td>\n",
              "      <td>B</td>\n",
              "      <td>16</td>\n",
              "      <td>85</td>\n",
              "    </tr>\n",
              "  </tbody>\n",
              "</table>\n",
              "</div>\n",
              "      <button class=\"colab-df-convert\" onclick=\"convertToInteractive('df-734fba39-e7ef-4cd4-923c-5879e300deee')\"\n",
              "              title=\"Convert this dataframe to an interactive table.\"\n",
              "              style=\"display:none;\">\n",
              "        \n",
              "  <svg xmlns=\"http://www.w3.org/2000/svg\" height=\"24px\"viewBox=\"0 0 24 24\"\n",
              "       width=\"24px\">\n",
              "    <path d=\"M0 0h24v24H0V0z\" fill=\"none\"/>\n",
              "    <path d=\"M18.56 5.44l.94 2.06.94-2.06 2.06-.94-2.06-.94-.94-2.06-.94 2.06-2.06.94zm-11 1L8.5 8.5l.94-2.06 2.06-.94-2.06-.94L8.5 2.5l-.94 2.06-2.06.94zm10 10l.94 2.06.94-2.06 2.06-.94-2.06-.94-.94-2.06-.94 2.06-2.06.94z\"/><path d=\"M17.41 7.96l-1.37-1.37c-.4-.4-.92-.59-1.43-.59-.52 0-1.04.2-1.43.59L10.3 9.45l-7.72 7.72c-.78.78-.78 2.05 0 2.83L4 21.41c.39.39.9.59 1.41.59.51 0 1.02-.2 1.41-.59l7.78-7.78 2.81-2.81c.8-.78.8-2.07 0-2.86zM5.41 20L4 18.59l7.72-7.72 1.47 1.35L5.41 20z\"/>\n",
              "  </svg>\n",
              "      </button>\n",
              "      \n",
              "  <style>\n",
              "    .colab-df-container {\n",
              "      display:flex;\n",
              "      flex-wrap:wrap;\n",
              "      gap: 12px;\n",
              "    }\n",
              "\n",
              "    .colab-df-convert {\n",
              "      background-color: #E8F0FE;\n",
              "      border: none;\n",
              "      border-radius: 50%;\n",
              "      cursor: pointer;\n",
              "      display: none;\n",
              "      fill: #1967D2;\n",
              "      height: 32px;\n",
              "      padding: 0 0 0 0;\n",
              "      width: 32px;\n",
              "    }\n",
              "\n",
              "    .colab-df-convert:hover {\n",
              "      background-color: #E2EBFA;\n",
              "      box-shadow: 0px 1px 2px rgba(60, 64, 67, 0.3), 0px 1px 3px 1px rgba(60, 64, 67, 0.15);\n",
              "      fill: #174EA6;\n",
              "    }\n",
              "\n",
              "    [theme=dark] .colab-df-convert {\n",
              "      background-color: #3B4455;\n",
              "      fill: #D2E3FC;\n",
              "    }\n",
              "\n",
              "    [theme=dark] .colab-df-convert:hover {\n",
              "      background-color: #434B5C;\n",
              "      box-shadow: 0px 1px 3px 1px rgba(0, 0, 0, 0.15);\n",
              "      filter: drop-shadow(0px 1px 2px rgba(0, 0, 0, 0.3));\n",
              "      fill: #FFFFFF;\n",
              "    }\n",
              "  </style>\n",
              "\n",
              "      <script>\n",
              "        const buttonEl =\n",
              "          document.querySelector('#df-734fba39-e7ef-4cd4-923c-5879e300deee button.colab-df-convert');\n",
              "        buttonEl.style.display =\n",
              "          google.colab.kernel.accessAllowed ? 'block' : 'none';\n",
              "\n",
              "        async function convertToInteractive(key) {\n",
              "          const element = document.querySelector('#df-734fba39-e7ef-4cd4-923c-5879e300deee');\n",
              "          const dataTable =\n",
              "            await google.colab.kernel.invokeFunction('convertToInteractive',\n",
              "                                                     [key], {});\n",
              "          if (!dataTable) return;\n",
              "\n",
              "          const docLinkHtml = 'Like what you see? Visit the ' +\n",
              "            '<a target=\"_blank\" href=https://colab.research.google.com/notebooks/data_table.ipynb>data table notebook</a>'\n",
              "            + ' to learn more about interactive tables.';\n",
              "          element.innerHTML = '';\n",
              "          dataTable['output_type'] = 'display_data';\n",
              "          await google.colab.output.renderOutput(dataTable, element);\n",
              "          const docLink = document.createElement('div');\n",
              "          docLink.innerHTML = docLinkHtml;\n",
              "          element.appendChild(docLink);\n",
              "        }\n",
              "      </script>\n",
              "    </div>\n",
              "  </div>\n",
              "  "
            ]
          },
          "metadata": {},
          "execution_count": 4
        }
      ],
      "source": [
        "# Creating a sample dataset \n",
        "data=[[\"Farid\", \"A\", 15, 80,],\n",
        "      [\"Rizky\", \"A\", 15, 82,],\n",
        "      [\"Anna\", \"B\", 16, 95,],\n",
        "      [\"Dani\", \"A\", 17, 72,],\n",
        "      [\"Juna\", \"B\", 15, 67,],\n",
        "      [\"Bayu\", \"B\", 18, 98,],\n",
        "      [\"Gilang\", \"B\", 16, 85,]]\n",
        "columns = [\"Student\",\"Class\",\"Age\",\"Score\"]\n",
        "df = pd.DataFrame(data=data,columns=columns)\n",
        "df"
      ]
    },
    {
      "cell_type": "markdown",
      "metadata": {
        "id": "hgIBO-D0CHDf"
      },
      "source": [
        "- Kita dapat menambahkan data (harus berupa dictionary dari setiap kolom) ke DataFrame dengan menggunakan method **\"append\"** dengan mengabaikan index."
      ]
    },
    {
      "cell_type": "code",
      "execution_count": null,
      "metadata": {
        "id": "s27yy_E0_wJF",
        "colab": {
          "base_uri": "https://localhost:8080/"
        },
        "outputId": "b392193a-a6cb-4bfb-9d87-4fd0f08e2327"
      },
      "outputs": [
        {
          "output_type": "stream",
          "name": "stderr",
          "text": [
            "<ipython-input-5-2633362b8e09>:3: FutureWarning: The frame.append method is deprecated and will be removed from pandas in a future version. Use pandas.concat instead.\n",
            "  df = df.append(data7, ignore_index=True)\n"
          ]
        }
      ],
      "source": [
        "# Add data (one record) into dataframe\n",
        "data7 = {\"Student\":\"Dila\", \"Class\":\"A\", \"Age\":18, \"Score\":82}\n",
        "df = df.append(data7, ignore_index=True)"
      ]
    },
    {
      "cell_type": "markdown",
      "metadata": {
        "id": "DSH1d8HuD3YZ"
      },
      "source": [
        "- Memanggil DataFrame untuk kolom tertentu dengan menggunakan pemanggilan berdasarkan list"
      ]
    },
    {
      "cell_type": "code",
      "execution_count": null,
      "metadata": {
        "id": "EBXzD40FKUfk",
        "colab": {
          "base_uri": "https://localhost:8080/",
          "height": 300
        },
        "outputId": "30b7c58c-eaec-4dec-926a-aba754c73da2"
      },
      "outputs": [
        {
          "output_type": "execute_result",
          "data": {
            "text/plain": [
              "  Student Class\n",
              "0   Farid     A\n",
              "1   Rizky     A\n",
              "2    Anna     B\n",
              "3    Dani     A\n",
              "4    Juna     B\n",
              "5    Bayu     B\n",
              "6  Gilang     B\n",
              "7    Dila     A"
            ],
            "text/html": [
              "\n",
              "  <div id=\"df-b9e87c74-2551-4c9c-b690-ca057d26907c\">\n",
              "    <div class=\"colab-df-container\">\n",
              "      <div>\n",
              "<style scoped>\n",
              "    .dataframe tbody tr th:only-of-type {\n",
              "        vertical-align: middle;\n",
              "    }\n",
              "\n",
              "    .dataframe tbody tr th {\n",
              "        vertical-align: top;\n",
              "    }\n",
              "\n",
              "    .dataframe thead th {\n",
              "        text-align: right;\n",
              "    }\n",
              "</style>\n",
              "<table border=\"1\" class=\"dataframe\">\n",
              "  <thead>\n",
              "    <tr style=\"text-align: right;\">\n",
              "      <th></th>\n",
              "      <th>Student</th>\n",
              "      <th>Class</th>\n",
              "    </tr>\n",
              "  </thead>\n",
              "  <tbody>\n",
              "    <tr>\n",
              "      <th>0</th>\n",
              "      <td>Farid</td>\n",
              "      <td>A</td>\n",
              "    </tr>\n",
              "    <tr>\n",
              "      <th>1</th>\n",
              "      <td>Rizky</td>\n",
              "      <td>A</td>\n",
              "    </tr>\n",
              "    <tr>\n",
              "      <th>2</th>\n",
              "      <td>Anna</td>\n",
              "      <td>B</td>\n",
              "    </tr>\n",
              "    <tr>\n",
              "      <th>3</th>\n",
              "      <td>Dani</td>\n",
              "      <td>A</td>\n",
              "    </tr>\n",
              "    <tr>\n",
              "      <th>4</th>\n",
              "      <td>Juna</td>\n",
              "      <td>B</td>\n",
              "    </tr>\n",
              "    <tr>\n",
              "      <th>5</th>\n",
              "      <td>Bayu</td>\n",
              "      <td>B</td>\n",
              "    </tr>\n",
              "    <tr>\n",
              "      <th>6</th>\n",
              "      <td>Gilang</td>\n",
              "      <td>B</td>\n",
              "    </tr>\n",
              "    <tr>\n",
              "      <th>7</th>\n",
              "      <td>Dila</td>\n",
              "      <td>A</td>\n",
              "    </tr>\n",
              "  </tbody>\n",
              "</table>\n",
              "</div>\n",
              "      <button class=\"colab-df-convert\" onclick=\"convertToInteractive('df-b9e87c74-2551-4c9c-b690-ca057d26907c')\"\n",
              "              title=\"Convert this dataframe to an interactive table.\"\n",
              "              style=\"display:none;\">\n",
              "        \n",
              "  <svg xmlns=\"http://www.w3.org/2000/svg\" height=\"24px\"viewBox=\"0 0 24 24\"\n",
              "       width=\"24px\">\n",
              "    <path d=\"M0 0h24v24H0V0z\" fill=\"none\"/>\n",
              "    <path d=\"M18.56 5.44l.94 2.06.94-2.06 2.06-.94-2.06-.94-.94-2.06-.94 2.06-2.06.94zm-11 1L8.5 8.5l.94-2.06 2.06-.94-2.06-.94L8.5 2.5l-.94 2.06-2.06.94zm10 10l.94 2.06.94-2.06 2.06-.94-2.06-.94-.94-2.06-.94 2.06-2.06.94z\"/><path d=\"M17.41 7.96l-1.37-1.37c-.4-.4-.92-.59-1.43-.59-.52 0-1.04.2-1.43.59L10.3 9.45l-7.72 7.72c-.78.78-.78 2.05 0 2.83L4 21.41c.39.39.9.59 1.41.59.51 0 1.02-.2 1.41-.59l7.78-7.78 2.81-2.81c.8-.78.8-2.07 0-2.86zM5.41 20L4 18.59l7.72-7.72 1.47 1.35L5.41 20z\"/>\n",
              "  </svg>\n",
              "      </button>\n",
              "      \n",
              "  <style>\n",
              "    .colab-df-container {\n",
              "      display:flex;\n",
              "      flex-wrap:wrap;\n",
              "      gap: 12px;\n",
              "    }\n",
              "\n",
              "    .colab-df-convert {\n",
              "      background-color: #E8F0FE;\n",
              "      border: none;\n",
              "      border-radius: 50%;\n",
              "      cursor: pointer;\n",
              "      display: none;\n",
              "      fill: #1967D2;\n",
              "      height: 32px;\n",
              "      padding: 0 0 0 0;\n",
              "      width: 32px;\n",
              "    }\n",
              "\n",
              "    .colab-df-convert:hover {\n",
              "      background-color: #E2EBFA;\n",
              "      box-shadow: 0px 1px 2px rgba(60, 64, 67, 0.3), 0px 1px 3px 1px rgba(60, 64, 67, 0.15);\n",
              "      fill: #174EA6;\n",
              "    }\n",
              "\n",
              "    [theme=dark] .colab-df-convert {\n",
              "      background-color: #3B4455;\n",
              "      fill: #D2E3FC;\n",
              "    }\n",
              "\n",
              "    [theme=dark] .colab-df-convert:hover {\n",
              "      background-color: #434B5C;\n",
              "      box-shadow: 0px 1px 3px 1px rgba(0, 0, 0, 0.15);\n",
              "      filter: drop-shadow(0px 1px 2px rgba(0, 0, 0, 0.3));\n",
              "      fill: #FFFFFF;\n",
              "    }\n",
              "  </style>\n",
              "\n",
              "      <script>\n",
              "        const buttonEl =\n",
              "          document.querySelector('#df-b9e87c74-2551-4c9c-b690-ca057d26907c button.colab-df-convert');\n",
              "        buttonEl.style.display =\n",
              "          google.colab.kernel.accessAllowed ? 'block' : 'none';\n",
              "\n",
              "        async function convertToInteractive(key) {\n",
              "          const element = document.querySelector('#df-b9e87c74-2551-4c9c-b690-ca057d26907c');\n",
              "          const dataTable =\n",
              "            await google.colab.kernel.invokeFunction('convertToInteractive',\n",
              "                                                     [key], {});\n",
              "          if (!dataTable) return;\n",
              "\n",
              "          const docLinkHtml = 'Like what you see? Visit the ' +\n",
              "            '<a target=\"_blank\" href=https://colab.research.google.com/notebooks/data_table.ipynb>data table notebook</a>'\n",
              "            + ' to learn more about interactive tables.';\n",
              "          element.innerHTML = '';\n",
              "          dataTable['output_type'] = 'display_data';\n",
              "          await google.colab.output.renderOutput(dataTable, element);\n",
              "          const docLink = document.createElement('div');\n",
              "          docLink.innerHTML = docLinkHtml;\n",
              "          element.appendChild(docLink);\n",
              "        }\n",
              "      </script>\n",
              "    </div>\n",
              "  </div>\n",
              "  "
            ]
          },
          "metadata": {},
          "execution_count": 6
        }
      ],
      "source": [
        "# View by Column, get DataFrame\n",
        "cols = ['Student','Class']\n",
        "df[cols]"
      ]
    },
    {
      "cell_type": "markdown",
      "metadata": {
        "id": "mauyqvUYET6F"
      },
      "source": [
        "- Jika pemanggilan menggunakan string, akan memberikan keluaran berupa Series"
      ]
    },
    {
      "cell_type": "code",
      "execution_count": null,
      "metadata": {
        "id": "y8ca0l1-Eeqy",
        "colab": {
          "base_uri": "https://localhost:8080/"
        },
        "outputId": "e7a0303e-76a8-49ce-905c-bbac89238405"
      },
      "outputs": [
        {
          "output_type": "execute_result",
          "data": {
            "text/plain": [
              "0     Farid\n",
              "1     Rizky\n",
              "2      Anna\n",
              "3      Dani\n",
              "4      Juna\n",
              "5      Bayu\n",
              "6    Gilang\n",
              "7      Dila\n",
              "Name: Student, dtype: object"
            ]
          },
          "metadata": {},
          "execution_count": 7
        }
      ],
      "source": [
        "# View by Column, get Series\n",
        "cols = 'Student'\n",
        "df[cols]"
      ]
    },
    {
      "cell_type": "markdown",
      "metadata": {
        "id": "j207uh2zE6D6"
      },
      "source": [
        "- Memanggil DataFrame untuk baris tertentu dengan menggunakan pemanggilan berdasarkan list"
      ]
    },
    {
      "cell_type": "code",
      "execution_count": null,
      "metadata": {
        "id": "cP2tosxgKdA7",
        "colab": {
          "base_uri": "https://localhost:8080/",
          "height": 143
        },
        "outputId": "d3ae085f-9d3b-44b5-9c74-50aeeb9c6fab"
      },
      "outputs": [
        {
          "output_type": "execute_result",
          "data": {
            "text/plain": [
              "  Student Class  Age  Score\n",
              "2    Anna     B   16     95\n",
              "3    Dani     A   17     72\n",
              "4    Juna     B   15     67"
            ],
            "text/html": [
              "\n",
              "  <div id=\"df-c06a8419-3f69-4536-8d2e-96f210e24f08\">\n",
              "    <div class=\"colab-df-container\">\n",
              "      <div>\n",
              "<style scoped>\n",
              "    .dataframe tbody tr th:only-of-type {\n",
              "        vertical-align: middle;\n",
              "    }\n",
              "\n",
              "    .dataframe tbody tr th {\n",
              "        vertical-align: top;\n",
              "    }\n",
              "\n",
              "    .dataframe thead th {\n",
              "        text-align: right;\n",
              "    }\n",
              "</style>\n",
              "<table border=\"1\" class=\"dataframe\">\n",
              "  <thead>\n",
              "    <tr style=\"text-align: right;\">\n",
              "      <th></th>\n",
              "      <th>Student</th>\n",
              "      <th>Class</th>\n",
              "      <th>Age</th>\n",
              "      <th>Score</th>\n",
              "    </tr>\n",
              "  </thead>\n",
              "  <tbody>\n",
              "    <tr>\n",
              "      <th>2</th>\n",
              "      <td>Anna</td>\n",
              "      <td>B</td>\n",
              "      <td>16</td>\n",
              "      <td>95</td>\n",
              "    </tr>\n",
              "    <tr>\n",
              "      <th>3</th>\n",
              "      <td>Dani</td>\n",
              "      <td>A</td>\n",
              "      <td>17</td>\n",
              "      <td>72</td>\n",
              "    </tr>\n",
              "    <tr>\n",
              "      <th>4</th>\n",
              "      <td>Juna</td>\n",
              "      <td>B</td>\n",
              "      <td>15</td>\n",
              "      <td>67</td>\n",
              "    </tr>\n",
              "  </tbody>\n",
              "</table>\n",
              "</div>\n",
              "      <button class=\"colab-df-convert\" onclick=\"convertToInteractive('df-c06a8419-3f69-4536-8d2e-96f210e24f08')\"\n",
              "              title=\"Convert this dataframe to an interactive table.\"\n",
              "              style=\"display:none;\">\n",
              "        \n",
              "  <svg xmlns=\"http://www.w3.org/2000/svg\" height=\"24px\"viewBox=\"0 0 24 24\"\n",
              "       width=\"24px\">\n",
              "    <path d=\"M0 0h24v24H0V0z\" fill=\"none\"/>\n",
              "    <path d=\"M18.56 5.44l.94 2.06.94-2.06 2.06-.94-2.06-.94-.94-2.06-.94 2.06-2.06.94zm-11 1L8.5 8.5l.94-2.06 2.06-.94-2.06-.94L8.5 2.5l-.94 2.06-2.06.94zm10 10l.94 2.06.94-2.06 2.06-.94-2.06-.94-.94-2.06-.94 2.06-2.06.94z\"/><path d=\"M17.41 7.96l-1.37-1.37c-.4-.4-.92-.59-1.43-.59-.52 0-1.04.2-1.43.59L10.3 9.45l-7.72 7.72c-.78.78-.78 2.05 0 2.83L4 21.41c.39.39.9.59 1.41.59.51 0 1.02-.2 1.41-.59l7.78-7.78 2.81-2.81c.8-.78.8-2.07 0-2.86zM5.41 20L4 18.59l7.72-7.72 1.47 1.35L5.41 20z\"/>\n",
              "  </svg>\n",
              "      </button>\n",
              "      \n",
              "  <style>\n",
              "    .colab-df-container {\n",
              "      display:flex;\n",
              "      flex-wrap:wrap;\n",
              "      gap: 12px;\n",
              "    }\n",
              "\n",
              "    .colab-df-convert {\n",
              "      background-color: #E8F0FE;\n",
              "      border: none;\n",
              "      border-radius: 50%;\n",
              "      cursor: pointer;\n",
              "      display: none;\n",
              "      fill: #1967D2;\n",
              "      height: 32px;\n",
              "      padding: 0 0 0 0;\n",
              "      width: 32px;\n",
              "    }\n",
              "\n",
              "    .colab-df-convert:hover {\n",
              "      background-color: #E2EBFA;\n",
              "      box-shadow: 0px 1px 2px rgba(60, 64, 67, 0.3), 0px 1px 3px 1px rgba(60, 64, 67, 0.15);\n",
              "      fill: #174EA6;\n",
              "    }\n",
              "\n",
              "    [theme=dark] .colab-df-convert {\n",
              "      background-color: #3B4455;\n",
              "      fill: #D2E3FC;\n",
              "    }\n",
              "\n",
              "    [theme=dark] .colab-df-convert:hover {\n",
              "      background-color: #434B5C;\n",
              "      box-shadow: 0px 1px 3px 1px rgba(0, 0, 0, 0.15);\n",
              "      filter: drop-shadow(0px 1px 2px rgba(0, 0, 0, 0.3));\n",
              "      fill: #FFFFFF;\n",
              "    }\n",
              "  </style>\n",
              "\n",
              "      <script>\n",
              "        const buttonEl =\n",
              "          document.querySelector('#df-c06a8419-3f69-4536-8d2e-96f210e24f08 button.colab-df-convert');\n",
              "        buttonEl.style.display =\n",
              "          google.colab.kernel.accessAllowed ? 'block' : 'none';\n",
              "\n",
              "        async function convertToInteractive(key) {\n",
              "          const element = document.querySelector('#df-c06a8419-3f69-4536-8d2e-96f210e24f08');\n",
              "          const dataTable =\n",
              "            await google.colab.kernel.invokeFunction('convertToInteractive',\n",
              "                                                     [key], {});\n",
              "          if (!dataTable) return;\n",
              "\n",
              "          const docLinkHtml = 'Like what you see? Visit the ' +\n",
              "            '<a target=\"_blank\" href=https://colab.research.google.com/notebooks/data_table.ipynb>data table notebook</a>'\n",
              "            + ' to learn more about interactive tables.';\n",
              "          element.innerHTML = '';\n",
              "          dataTable['output_type'] = 'display_data';\n",
              "          await google.colab.output.renderOutput(dataTable, element);\n",
              "          const docLink = document.createElement('div');\n",
              "          docLink.innerHTML = docLinkHtml;\n",
              "          element.appendChild(docLink);\n",
              "        }\n",
              "      </script>\n",
              "    </div>\n",
              "  </div>\n",
              "  "
            ]
          },
          "metadata": {},
          "execution_count": 8
        }
      ],
      "source": [
        "# Select Rows By Index, get DataFrame\n",
        "df.iloc[2:5] # Memanggil data 2 hingga sebelum 5, atau bisa menggunakan 2:3 untuk satu data (hanya data index 2) yang tampil"
      ]
    },
    {
      "cell_type": "markdown",
      "metadata": {
        "id": "7gVEA3FKFzWn"
      },
      "source": [
        "- Jika pemanggilan menggunakan urutan index, akan memberikan keluaran berupa Series"
      ]
    },
    {
      "cell_type": "code",
      "execution_count": null,
      "metadata": {
        "id": "YDgvIxn-FRzv",
        "colab": {
          "base_uri": "https://localhost:8080/"
        },
        "outputId": "47bad878-184d-4dd8-b4de-656eb5d9d093"
      },
      "outputs": [
        {
          "output_type": "execute_result",
          "data": {
            "text/plain": [
              "Student    Anna\n",
              "Class         B\n",
              "Age          16\n",
              "Score        95\n",
              "Name: 2, dtype: object"
            ]
          },
          "metadata": {},
          "execution_count": 9
        }
      ],
      "source": [
        "# Select Rows By Index, get Series\n",
        "df.iloc[2] # Memanggil hanya data index ke-2"
      ]
    },
    {
      "cell_type": "markdown",
      "metadata": {
        "id": "OEonYxRfF6lr"
      },
      "source": [
        "- DataFrame merupakan kumpulan dari banyak Series"
      ]
    },
    {
      "cell_type": "markdown",
      "metadata": {
        "id": "804yOd8XU0ee"
      },
      "source": [
        "### Grouping and Aggregation"
      ]
    },
    {
      "cell_type": "markdown",
      "metadata": {
        "id": "vYBcMOf8GDNC"
      },
      "source": [
        "- Grouping adalah teknik **mengelompokkan** data berdasarkan grup dari kolom tertentu, dengan **agregasi** data (seperti min, max, sum, count, dll.) dari kolom lainnya untuk setiap kelompoknya "
      ]
    },
    {
      "cell_type": "code",
      "execution_count": null,
      "metadata": {
        "id": "u-2QOxwNNXOV",
        "colab": {
          "base_uri": "https://localhost:8080/",
          "height": 175
        },
        "outputId": "78b230df-7ebf-48b4-956d-15eba2851169"
      },
      "outputs": [
        {
          "output_type": "execute_result",
          "data": {
            "text/plain": [
              "       Score        \n",
              "        mean min max\n",
              "Class               \n",
              "A      79.00  72  82\n",
              "B      86.25  67  98"
            ],
            "text/html": [
              "\n",
              "  <div id=\"df-2fb549d8-91a9-42af-b065-9cf75299a7c2\">\n",
              "    <div class=\"colab-df-container\">\n",
              "      <div>\n",
              "<style scoped>\n",
              "    .dataframe tbody tr th:only-of-type {\n",
              "        vertical-align: middle;\n",
              "    }\n",
              "\n",
              "    .dataframe tbody tr th {\n",
              "        vertical-align: top;\n",
              "    }\n",
              "\n",
              "    .dataframe thead tr th {\n",
              "        text-align: left;\n",
              "    }\n",
              "\n",
              "    .dataframe thead tr:last-of-type th {\n",
              "        text-align: right;\n",
              "    }\n",
              "</style>\n",
              "<table border=\"1\" class=\"dataframe\">\n",
              "  <thead>\n",
              "    <tr>\n",
              "      <th></th>\n",
              "      <th colspan=\"3\" halign=\"left\">Score</th>\n",
              "    </tr>\n",
              "    <tr>\n",
              "      <th></th>\n",
              "      <th>mean</th>\n",
              "      <th>min</th>\n",
              "      <th>max</th>\n",
              "    </tr>\n",
              "    <tr>\n",
              "      <th>Class</th>\n",
              "      <th></th>\n",
              "      <th></th>\n",
              "      <th></th>\n",
              "    </tr>\n",
              "  </thead>\n",
              "  <tbody>\n",
              "    <tr>\n",
              "      <th>A</th>\n",
              "      <td>79.00</td>\n",
              "      <td>72</td>\n",
              "      <td>82</td>\n",
              "    </tr>\n",
              "    <tr>\n",
              "      <th>B</th>\n",
              "      <td>86.25</td>\n",
              "      <td>67</td>\n",
              "      <td>98</td>\n",
              "    </tr>\n",
              "  </tbody>\n",
              "</table>\n",
              "</div>\n",
              "      <button class=\"colab-df-convert\" onclick=\"convertToInteractive('df-2fb549d8-91a9-42af-b065-9cf75299a7c2')\"\n",
              "              title=\"Convert this dataframe to an interactive table.\"\n",
              "              style=\"display:none;\">\n",
              "        \n",
              "  <svg xmlns=\"http://www.w3.org/2000/svg\" height=\"24px\"viewBox=\"0 0 24 24\"\n",
              "       width=\"24px\">\n",
              "    <path d=\"M0 0h24v24H0V0z\" fill=\"none\"/>\n",
              "    <path d=\"M18.56 5.44l.94 2.06.94-2.06 2.06-.94-2.06-.94-.94-2.06-.94 2.06-2.06.94zm-11 1L8.5 8.5l.94-2.06 2.06-.94-2.06-.94L8.5 2.5l-.94 2.06-2.06.94zm10 10l.94 2.06.94-2.06 2.06-.94-2.06-.94-.94-2.06-.94 2.06-2.06.94z\"/><path d=\"M17.41 7.96l-1.37-1.37c-.4-.4-.92-.59-1.43-.59-.52 0-1.04.2-1.43.59L10.3 9.45l-7.72 7.72c-.78.78-.78 2.05 0 2.83L4 21.41c.39.39.9.59 1.41.59.51 0 1.02-.2 1.41-.59l7.78-7.78 2.81-2.81c.8-.78.8-2.07 0-2.86zM5.41 20L4 18.59l7.72-7.72 1.47 1.35L5.41 20z\"/>\n",
              "  </svg>\n",
              "      </button>\n",
              "      \n",
              "  <style>\n",
              "    .colab-df-container {\n",
              "      display:flex;\n",
              "      flex-wrap:wrap;\n",
              "      gap: 12px;\n",
              "    }\n",
              "\n",
              "    .colab-df-convert {\n",
              "      background-color: #E8F0FE;\n",
              "      border: none;\n",
              "      border-radius: 50%;\n",
              "      cursor: pointer;\n",
              "      display: none;\n",
              "      fill: #1967D2;\n",
              "      height: 32px;\n",
              "      padding: 0 0 0 0;\n",
              "      width: 32px;\n",
              "    }\n",
              "\n",
              "    .colab-df-convert:hover {\n",
              "      background-color: #E2EBFA;\n",
              "      box-shadow: 0px 1px 2px rgba(60, 64, 67, 0.3), 0px 1px 3px 1px rgba(60, 64, 67, 0.15);\n",
              "      fill: #174EA6;\n",
              "    }\n",
              "\n",
              "    [theme=dark] .colab-df-convert {\n",
              "      background-color: #3B4455;\n",
              "      fill: #D2E3FC;\n",
              "    }\n",
              "\n",
              "    [theme=dark] .colab-df-convert:hover {\n",
              "      background-color: #434B5C;\n",
              "      box-shadow: 0px 1px 3px 1px rgba(0, 0, 0, 0.15);\n",
              "      filter: drop-shadow(0px 1px 2px rgba(0, 0, 0, 0.3));\n",
              "      fill: #FFFFFF;\n",
              "    }\n",
              "  </style>\n",
              "\n",
              "      <script>\n",
              "        const buttonEl =\n",
              "          document.querySelector('#df-2fb549d8-91a9-42af-b065-9cf75299a7c2 button.colab-df-convert');\n",
              "        buttonEl.style.display =\n",
              "          google.colab.kernel.accessAllowed ? 'block' : 'none';\n",
              "\n",
              "        async function convertToInteractive(key) {\n",
              "          const element = document.querySelector('#df-2fb549d8-91a9-42af-b065-9cf75299a7c2');\n",
              "          const dataTable =\n",
              "            await google.colab.kernel.invokeFunction('convertToInteractive',\n",
              "                                                     [key], {});\n",
              "          if (!dataTable) return;\n",
              "\n",
              "          const docLinkHtml = 'Like what you see? Visit the ' +\n",
              "            '<a target=\"_blank\" href=https://colab.research.google.com/notebooks/data_table.ipynb>data table notebook</a>'\n",
              "            + ' to learn more about interactive tables.';\n",
              "          element.innerHTML = '';\n",
              "          dataTable['output_type'] = 'display_data';\n",
              "          await google.colab.output.renderOutput(dataTable, element);\n",
              "          const docLink = document.createElement('div');\n",
              "          docLink.innerHTML = docLinkHtml;\n",
              "          element.appendChild(docLink);\n",
              "        }\n",
              "      </script>\n",
              "    </div>\n",
              "  </div>\n",
              "  "
            ]
          },
          "metadata": {},
          "execution_count": 10
        }
      ],
      "source": [
        "# Grouping and Aggregation\n",
        "class_score = df.groupby('Class').agg({'Score':['mean','min','max']})\n",
        "class_score"
      ]
    },
    {
      "cell_type": "markdown",
      "metadata": {
        "id": "8n9ezQkZHEUX"
      },
      "source": [
        "- Contoh diatas adalah pengelompokan kolom **Class** dengan agregasi **mean, min,** dan **max** dari kolom **Score** "
      ]
    },
    {
      "cell_type": "code",
      "execution_count": null,
      "metadata": {
        "id": "j3zMhNzoNMMw",
        "colab": {
          "base_uri": "https://localhost:8080/",
          "height": 300
        },
        "outputId": "05a7f92e-b3a3-424e-9a96-d20f1eb1cf77"
      },
      "outputs": [
        {
          "output_type": "execute_result",
          "data": {
            "text/plain": [
              "          Score              \n",
              "           mean min max count\n",
              "Class Age                    \n",
              "A     15   81.0  80  82     2\n",
              "      17   72.0  72  72     1\n",
              "      18   82.0  82  82     1\n",
              "B     15   67.0  67  67     1\n",
              "      16   90.0  85  95     2\n",
              "      18   98.0  98  98     1"
            ],
            "text/html": [
              "\n",
              "  <div id=\"df-f9926f92-8768-4210-b521-7d2bf6ffb3d4\">\n",
              "    <div class=\"colab-df-container\">\n",
              "      <div>\n",
              "<style scoped>\n",
              "    .dataframe tbody tr th:only-of-type {\n",
              "        vertical-align: middle;\n",
              "    }\n",
              "\n",
              "    .dataframe tbody tr th {\n",
              "        vertical-align: top;\n",
              "    }\n",
              "\n",
              "    .dataframe thead tr th {\n",
              "        text-align: left;\n",
              "    }\n",
              "\n",
              "    .dataframe thead tr:last-of-type th {\n",
              "        text-align: right;\n",
              "    }\n",
              "</style>\n",
              "<table border=\"1\" class=\"dataframe\">\n",
              "  <thead>\n",
              "    <tr>\n",
              "      <th></th>\n",
              "      <th></th>\n",
              "      <th colspan=\"4\" halign=\"left\">Score</th>\n",
              "    </tr>\n",
              "    <tr>\n",
              "      <th></th>\n",
              "      <th></th>\n",
              "      <th>mean</th>\n",
              "      <th>min</th>\n",
              "      <th>max</th>\n",
              "      <th>count</th>\n",
              "    </tr>\n",
              "    <tr>\n",
              "      <th>Class</th>\n",
              "      <th>Age</th>\n",
              "      <th></th>\n",
              "      <th></th>\n",
              "      <th></th>\n",
              "      <th></th>\n",
              "    </tr>\n",
              "  </thead>\n",
              "  <tbody>\n",
              "    <tr>\n",
              "      <th rowspan=\"3\" valign=\"top\">A</th>\n",
              "      <th>15</th>\n",
              "      <td>81.0</td>\n",
              "      <td>80</td>\n",
              "      <td>82</td>\n",
              "      <td>2</td>\n",
              "    </tr>\n",
              "    <tr>\n",
              "      <th>17</th>\n",
              "      <td>72.0</td>\n",
              "      <td>72</td>\n",
              "      <td>72</td>\n",
              "      <td>1</td>\n",
              "    </tr>\n",
              "    <tr>\n",
              "      <th>18</th>\n",
              "      <td>82.0</td>\n",
              "      <td>82</td>\n",
              "      <td>82</td>\n",
              "      <td>1</td>\n",
              "    </tr>\n",
              "    <tr>\n",
              "      <th rowspan=\"3\" valign=\"top\">B</th>\n",
              "      <th>15</th>\n",
              "      <td>67.0</td>\n",
              "      <td>67</td>\n",
              "      <td>67</td>\n",
              "      <td>1</td>\n",
              "    </tr>\n",
              "    <tr>\n",
              "      <th>16</th>\n",
              "      <td>90.0</td>\n",
              "      <td>85</td>\n",
              "      <td>95</td>\n",
              "      <td>2</td>\n",
              "    </tr>\n",
              "    <tr>\n",
              "      <th>18</th>\n",
              "      <td>98.0</td>\n",
              "      <td>98</td>\n",
              "      <td>98</td>\n",
              "      <td>1</td>\n",
              "    </tr>\n",
              "  </tbody>\n",
              "</table>\n",
              "</div>\n",
              "      <button class=\"colab-df-convert\" onclick=\"convertToInteractive('df-f9926f92-8768-4210-b521-7d2bf6ffb3d4')\"\n",
              "              title=\"Convert this dataframe to an interactive table.\"\n",
              "              style=\"display:none;\">\n",
              "        \n",
              "  <svg xmlns=\"http://www.w3.org/2000/svg\" height=\"24px\"viewBox=\"0 0 24 24\"\n",
              "       width=\"24px\">\n",
              "    <path d=\"M0 0h24v24H0V0z\" fill=\"none\"/>\n",
              "    <path d=\"M18.56 5.44l.94 2.06.94-2.06 2.06-.94-2.06-.94-.94-2.06-.94 2.06-2.06.94zm-11 1L8.5 8.5l.94-2.06 2.06-.94-2.06-.94L8.5 2.5l-.94 2.06-2.06.94zm10 10l.94 2.06.94-2.06 2.06-.94-2.06-.94-.94-2.06-.94 2.06-2.06.94z\"/><path d=\"M17.41 7.96l-1.37-1.37c-.4-.4-.92-.59-1.43-.59-.52 0-1.04.2-1.43.59L10.3 9.45l-7.72 7.72c-.78.78-.78 2.05 0 2.83L4 21.41c.39.39.9.59 1.41.59.51 0 1.02-.2 1.41-.59l7.78-7.78 2.81-2.81c.8-.78.8-2.07 0-2.86zM5.41 20L4 18.59l7.72-7.72 1.47 1.35L5.41 20z\"/>\n",
              "  </svg>\n",
              "      </button>\n",
              "      \n",
              "  <style>\n",
              "    .colab-df-container {\n",
              "      display:flex;\n",
              "      flex-wrap:wrap;\n",
              "      gap: 12px;\n",
              "    }\n",
              "\n",
              "    .colab-df-convert {\n",
              "      background-color: #E8F0FE;\n",
              "      border: none;\n",
              "      border-radius: 50%;\n",
              "      cursor: pointer;\n",
              "      display: none;\n",
              "      fill: #1967D2;\n",
              "      height: 32px;\n",
              "      padding: 0 0 0 0;\n",
              "      width: 32px;\n",
              "    }\n",
              "\n",
              "    .colab-df-convert:hover {\n",
              "      background-color: #E2EBFA;\n",
              "      box-shadow: 0px 1px 2px rgba(60, 64, 67, 0.3), 0px 1px 3px 1px rgba(60, 64, 67, 0.15);\n",
              "      fill: #174EA6;\n",
              "    }\n",
              "\n",
              "    [theme=dark] .colab-df-convert {\n",
              "      background-color: #3B4455;\n",
              "      fill: #D2E3FC;\n",
              "    }\n",
              "\n",
              "    [theme=dark] .colab-df-convert:hover {\n",
              "      background-color: #434B5C;\n",
              "      box-shadow: 0px 1px 3px 1px rgba(0, 0, 0, 0.15);\n",
              "      filter: drop-shadow(0px 1px 2px rgba(0, 0, 0, 0.3));\n",
              "      fill: #FFFFFF;\n",
              "    }\n",
              "  </style>\n",
              "\n",
              "      <script>\n",
              "        const buttonEl =\n",
              "          document.querySelector('#df-f9926f92-8768-4210-b521-7d2bf6ffb3d4 button.colab-df-convert');\n",
              "        buttonEl.style.display =\n",
              "          google.colab.kernel.accessAllowed ? 'block' : 'none';\n",
              "\n",
              "        async function convertToInteractive(key) {\n",
              "          const element = document.querySelector('#df-f9926f92-8768-4210-b521-7d2bf6ffb3d4');\n",
              "          const dataTable =\n",
              "            await google.colab.kernel.invokeFunction('convertToInteractive',\n",
              "                                                     [key], {});\n",
              "          if (!dataTable) return;\n",
              "\n",
              "          const docLinkHtml = 'Like what you see? Visit the ' +\n",
              "            '<a target=\"_blank\" href=https://colab.research.google.com/notebooks/data_table.ipynb>data table notebook</a>'\n",
              "            + ' to learn more about interactive tables.';\n",
              "          element.innerHTML = '';\n",
              "          dataTable['output_type'] = 'display_data';\n",
              "          await google.colab.output.renderOutput(dataTable, element);\n",
              "          const docLink = document.createElement('div');\n",
              "          docLink.innerHTML = docLinkHtml;\n",
              "          element.appendChild(docLink);\n",
              "        }\n",
              "      </script>\n",
              "    </div>\n",
              "  </div>\n",
              "  "
            ]
          },
          "metadata": {},
          "execution_count": 11
        }
      ],
      "source": [
        "# Grouping by Multiple Columns\n",
        "class_score = df.groupby(['Class','Age']).agg({'Score':['mean','min','max','count']})\n",
        "class_score"
      ]
    },
    {
      "cell_type": "markdown",
      "metadata": {
        "id": "jq9n1Q94Hi-h"
      },
      "source": [
        "- Contoh diatas adalah pengelompokan berdasarkan multi kolom **Class** dan **Age** secara terurut, dengan agregasi **mean, min, max,** dan **count** dari kolom **Score** "
      ]
    },
    {
      "cell_type": "markdown",
      "metadata": {
        "id": "sS8r0YYhVDLD"
      },
      "source": [
        "### Filtering / Select Rows (biasanya untuk dataset yang lebih besar)"
      ]
    },
    {
      "cell_type": "markdown",
      "metadata": {
        "id": "CWphaPMeMhpe"
      },
      "source": [
        "- Untuk dataset yang lebih besar, [Download Titanic Dataset](https://www.kaggle.com/c/titanic/data), kemudian drag and drop ke colab storage."
      ]
    },
    {
      "cell_type": "markdown",
      "metadata": {
        "id": "7NqhgwRVMYqW"
      },
      "source": [
        "- Pandas membaca data dengan format data seperti yang telah disebutkan sebelumnya (kasus disini adalah format data csv) untuk dimuat kedalam bentuk DataFrame "
      ]
    },
    {
      "cell_type": "code",
      "execution_count": null,
      "metadata": {
        "id": "CN2Fz0B_PMwl",
        "colab": {
          "base_uri": "https://localhost:8080/",
          "height": 572
        },
        "outputId": "6c1a026b-e8a9-46d1-efae-6d930c2d7843"
      },
      "outputs": [
        {
          "output_type": "execute_result",
          "data": {
            "text/plain": [
              "     PassengerId  Survived  Pclass  \\\n",
              "0              1         0       3   \n",
              "1              2         1       1   \n",
              "2              3         1       3   \n",
              "3              4         1       1   \n",
              "4              5         0       3   \n",
              "..           ...       ...     ...   \n",
              "886          887         0       2   \n",
              "887          888         1       1   \n",
              "888          889         0       3   \n",
              "889          890         1       1   \n",
              "890          891         0       3   \n",
              "\n",
              "                                                  Name     Sex   Age  SibSp  \\\n",
              "0                              Braund, Mr. Owen Harris    male  22.0      1   \n",
              "1    Cumings, Mrs. John Bradley (Florence Briggs Th...  female  38.0      1   \n",
              "2                               Heikkinen, Miss. Laina  female  26.0      0   \n",
              "3         Futrelle, Mrs. Jacques Heath (Lily May Peel)  female  35.0      1   \n",
              "4                             Allen, Mr. William Henry    male  35.0      0   \n",
              "..                                                 ...     ...   ...    ...   \n",
              "886                              Montvila, Rev. Juozas    male  27.0      0   \n",
              "887                       Graham, Miss. Margaret Edith  female  19.0      0   \n",
              "888           Johnston, Miss. Catherine Helen \"Carrie\"  female   NaN      1   \n",
              "889                              Behr, Mr. Karl Howell    male  26.0      0   \n",
              "890                                Dooley, Mr. Patrick    male  32.0      0   \n",
              "\n",
              "     Parch            Ticket     Fare Cabin Embarked  \n",
              "0        0         A/5 21171   7.2500   NaN        S  \n",
              "1        0          PC 17599  71.2833   C85        C  \n",
              "2        0  STON/O2. 3101282   7.9250   NaN        S  \n",
              "3        0            113803  53.1000  C123        S  \n",
              "4        0            373450   8.0500   NaN        S  \n",
              "..     ...               ...      ...   ...      ...  \n",
              "886      0            211536  13.0000   NaN        S  \n",
              "887      0            112053  30.0000   B42        S  \n",
              "888      2        W./C. 6607  23.4500   NaN        S  \n",
              "889      0            111369  30.0000  C148        C  \n",
              "890      0            370376   7.7500   NaN        Q  \n",
              "\n",
              "[891 rows x 12 columns]"
            ],
            "text/html": [
              "\n",
              "  <div id=\"df-e82154ef-10dd-42b8-9cd5-b7ac93a5fa38\">\n",
              "    <div class=\"colab-df-container\">\n",
              "      <div>\n",
              "<style scoped>\n",
              "    .dataframe tbody tr th:only-of-type {\n",
              "        vertical-align: middle;\n",
              "    }\n",
              "\n",
              "    .dataframe tbody tr th {\n",
              "        vertical-align: top;\n",
              "    }\n",
              "\n",
              "    .dataframe thead th {\n",
              "        text-align: right;\n",
              "    }\n",
              "</style>\n",
              "<table border=\"1\" class=\"dataframe\">\n",
              "  <thead>\n",
              "    <tr style=\"text-align: right;\">\n",
              "      <th></th>\n",
              "      <th>PassengerId</th>\n",
              "      <th>Survived</th>\n",
              "      <th>Pclass</th>\n",
              "      <th>Name</th>\n",
              "      <th>Sex</th>\n",
              "      <th>Age</th>\n",
              "      <th>SibSp</th>\n",
              "      <th>Parch</th>\n",
              "      <th>Ticket</th>\n",
              "      <th>Fare</th>\n",
              "      <th>Cabin</th>\n",
              "      <th>Embarked</th>\n",
              "    </tr>\n",
              "  </thead>\n",
              "  <tbody>\n",
              "    <tr>\n",
              "      <th>0</th>\n",
              "      <td>1</td>\n",
              "      <td>0</td>\n",
              "      <td>3</td>\n",
              "      <td>Braund, Mr. Owen Harris</td>\n",
              "      <td>male</td>\n",
              "      <td>22.0</td>\n",
              "      <td>1</td>\n",
              "      <td>0</td>\n",
              "      <td>A/5 21171</td>\n",
              "      <td>7.2500</td>\n",
              "      <td>NaN</td>\n",
              "      <td>S</td>\n",
              "    </tr>\n",
              "    <tr>\n",
              "      <th>1</th>\n",
              "      <td>2</td>\n",
              "      <td>1</td>\n",
              "      <td>1</td>\n",
              "      <td>Cumings, Mrs. John Bradley (Florence Briggs Th...</td>\n",
              "      <td>female</td>\n",
              "      <td>38.0</td>\n",
              "      <td>1</td>\n",
              "      <td>0</td>\n",
              "      <td>PC 17599</td>\n",
              "      <td>71.2833</td>\n",
              "      <td>C85</td>\n",
              "      <td>C</td>\n",
              "    </tr>\n",
              "    <tr>\n",
              "      <th>2</th>\n",
              "      <td>3</td>\n",
              "      <td>1</td>\n",
              "      <td>3</td>\n",
              "      <td>Heikkinen, Miss. Laina</td>\n",
              "      <td>female</td>\n",
              "      <td>26.0</td>\n",
              "      <td>0</td>\n",
              "      <td>0</td>\n",
              "      <td>STON/O2. 3101282</td>\n",
              "      <td>7.9250</td>\n",
              "      <td>NaN</td>\n",
              "      <td>S</td>\n",
              "    </tr>\n",
              "    <tr>\n",
              "      <th>3</th>\n",
              "      <td>4</td>\n",
              "      <td>1</td>\n",
              "      <td>1</td>\n",
              "      <td>Futrelle, Mrs. Jacques Heath (Lily May Peel)</td>\n",
              "      <td>female</td>\n",
              "      <td>35.0</td>\n",
              "      <td>1</td>\n",
              "      <td>0</td>\n",
              "      <td>113803</td>\n",
              "      <td>53.1000</td>\n",
              "      <td>C123</td>\n",
              "      <td>S</td>\n",
              "    </tr>\n",
              "    <tr>\n",
              "      <th>4</th>\n",
              "      <td>5</td>\n",
              "      <td>0</td>\n",
              "      <td>3</td>\n",
              "      <td>Allen, Mr. William Henry</td>\n",
              "      <td>male</td>\n",
              "      <td>35.0</td>\n",
              "      <td>0</td>\n",
              "      <td>0</td>\n",
              "      <td>373450</td>\n",
              "      <td>8.0500</td>\n",
              "      <td>NaN</td>\n",
              "      <td>S</td>\n",
              "    </tr>\n",
              "    <tr>\n",
              "      <th>...</th>\n",
              "      <td>...</td>\n",
              "      <td>...</td>\n",
              "      <td>...</td>\n",
              "      <td>...</td>\n",
              "      <td>...</td>\n",
              "      <td>...</td>\n",
              "      <td>...</td>\n",
              "      <td>...</td>\n",
              "      <td>...</td>\n",
              "      <td>...</td>\n",
              "      <td>...</td>\n",
              "      <td>...</td>\n",
              "    </tr>\n",
              "    <tr>\n",
              "      <th>886</th>\n",
              "      <td>887</td>\n",
              "      <td>0</td>\n",
              "      <td>2</td>\n",
              "      <td>Montvila, Rev. Juozas</td>\n",
              "      <td>male</td>\n",
              "      <td>27.0</td>\n",
              "      <td>0</td>\n",
              "      <td>0</td>\n",
              "      <td>211536</td>\n",
              "      <td>13.0000</td>\n",
              "      <td>NaN</td>\n",
              "      <td>S</td>\n",
              "    </tr>\n",
              "    <tr>\n",
              "      <th>887</th>\n",
              "      <td>888</td>\n",
              "      <td>1</td>\n",
              "      <td>1</td>\n",
              "      <td>Graham, Miss. Margaret Edith</td>\n",
              "      <td>female</td>\n",
              "      <td>19.0</td>\n",
              "      <td>0</td>\n",
              "      <td>0</td>\n",
              "      <td>112053</td>\n",
              "      <td>30.0000</td>\n",
              "      <td>B42</td>\n",
              "      <td>S</td>\n",
              "    </tr>\n",
              "    <tr>\n",
              "      <th>888</th>\n",
              "      <td>889</td>\n",
              "      <td>0</td>\n",
              "      <td>3</td>\n",
              "      <td>Johnston, Miss. Catherine Helen \"Carrie\"</td>\n",
              "      <td>female</td>\n",
              "      <td>NaN</td>\n",
              "      <td>1</td>\n",
              "      <td>2</td>\n",
              "      <td>W./C. 6607</td>\n",
              "      <td>23.4500</td>\n",
              "      <td>NaN</td>\n",
              "      <td>S</td>\n",
              "    </tr>\n",
              "    <tr>\n",
              "      <th>889</th>\n",
              "      <td>890</td>\n",
              "      <td>1</td>\n",
              "      <td>1</td>\n",
              "      <td>Behr, Mr. Karl Howell</td>\n",
              "      <td>male</td>\n",
              "      <td>26.0</td>\n",
              "      <td>0</td>\n",
              "      <td>0</td>\n",
              "      <td>111369</td>\n",
              "      <td>30.0000</td>\n",
              "      <td>C148</td>\n",
              "      <td>C</td>\n",
              "    </tr>\n",
              "    <tr>\n",
              "      <th>890</th>\n",
              "      <td>891</td>\n",
              "      <td>0</td>\n",
              "      <td>3</td>\n",
              "      <td>Dooley, Mr. Patrick</td>\n",
              "      <td>male</td>\n",
              "      <td>32.0</td>\n",
              "      <td>0</td>\n",
              "      <td>0</td>\n",
              "      <td>370376</td>\n",
              "      <td>7.7500</td>\n",
              "      <td>NaN</td>\n",
              "      <td>Q</td>\n",
              "    </tr>\n",
              "  </tbody>\n",
              "</table>\n",
              "<p>891 rows × 12 columns</p>\n",
              "</div>\n",
              "      <button class=\"colab-df-convert\" onclick=\"convertToInteractive('df-e82154ef-10dd-42b8-9cd5-b7ac93a5fa38')\"\n",
              "              title=\"Convert this dataframe to an interactive table.\"\n",
              "              style=\"display:none;\">\n",
              "        \n",
              "  <svg xmlns=\"http://www.w3.org/2000/svg\" height=\"24px\"viewBox=\"0 0 24 24\"\n",
              "       width=\"24px\">\n",
              "    <path d=\"M0 0h24v24H0V0z\" fill=\"none\"/>\n",
              "    <path d=\"M18.56 5.44l.94 2.06.94-2.06 2.06-.94-2.06-.94-.94-2.06-.94 2.06-2.06.94zm-11 1L8.5 8.5l.94-2.06 2.06-.94-2.06-.94L8.5 2.5l-.94 2.06-2.06.94zm10 10l.94 2.06.94-2.06 2.06-.94-2.06-.94-.94-2.06-.94 2.06-2.06.94z\"/><path d=\"M17.41 7.96l-1.37-1.37c-.4-.4-.92-.59-1.43-.59-.52 0-1.04.2-1.43.59L10.3 9.45l-7.72 7.72c-.78.78-.78 2.05 0 2.83L4 21.41c.39.39.9.59 1.41.59.51 0 1.02-.2 1.41-.59l7.78-7.78 2.81-2.81c.8-.78.8-2.07 0-2.86zM5.41 20L4 18.59l7.72-7.72 1.47 1.35L5.41 20z\"/>\n",
              "  </svg>\n",
              "      </button>\n",
              "      \n",
              "  <style>\n",
              "    .colab-df-container {\n",
              "      display:flex;\n",
              "      flex-wrap:wrap;\n",
              "      gap: 12px;\n",
              "    }\n",
              "\n",
              "    .colab-df-convert {\n",
              "      background-color: #E8F0FE;\n",
              "      border: none;\n",
              "      border-radius: 50%;\n",
              "      cursor: pointer;\n",
              "      display: none;\n",
              "      fill: #1967D2;\n",
              "      height: 32px;\n",
              "      padding: 0 0 0 0;\n",
              "      width: 32px;\n",
              "    }\n",
              "\n",
              "    .colab-df-convert:hover {\n",
              "      background-color: #E2EBFA;\n",
              "      box-shadow: 0px 1px 2px rgba(60, 64, 67, 0.3), 0px 1px 3px 1px rgba(60, 64, 67, 0.15);\n",
              "      fill: #174EA6;\n",
              "    }\n",
              "\n",
              "    [theme=dark] .colab-df-convert {\n",
              "      background-color: #3B4455;\n",
              "      fill: #D2E3FC;\n",
              "    }\n",
              "\n",
              "    [theme=dark] .colab-df-convert:hover {\n",
              "      background-color: #434B5C;\n",
              "      box-shadow: 0px 1px 3px 1px rgba(0, 0, 0, 0.15);\n",
              "      filter: drop-shadow(0px 1px 2px rgba(0, 0, 0, 0.3));\n",
              "      fill: #FFFFFF;\n",
              "    }\n",
              "  </style>\n",
              "\n",
              "      <script>\n",
              "        const buttonEl =\n",
              "          document.querySelector('#df-e82154ef-10dd-42b8-9cd5-b7ac93a5fa38 button.colab-df-convert');\n",
              "        buttonEl.style.display =\n",
              "          google.colab.kernel.accessAllowed ? 'block' : 'none';\n",
              "\n",
              "        async function convertToInteractive(key) {\n",
              "          const element = document.querySelector('#df-e82154ef-10dd-42b8-9cd5-b7ac93a5fa38');\n",
              "          const dataTable =\n",
              "            await google.colab.kernel.invokeFunction('convertToInteractive',\n",
              "                                                     [key], {});\n",
              "          if (!dataTable) return;\n",
              "\n",
              "          const docLinkHtml = 'Like what you see? Visit the ' +\n",
              "            '<a target=\"_blank\" href=https://colab.research.google.com/notebooks/data_table.ipynb>data table notebook</a>'\n",
              "            + ' to learn more about interactive tables.';\n",
              "          element.innerHTML = '';\n",
              "          dataTable['output_type'] = 'display_data';\n",
              "          await google.colab.output.renderOutput(dataTable, element);\n",
              "          const docLink = document.createElement('div');\n",
              "          docLink.innerHTML = docLinkHtml;\n",
              "          element.appendChild(docLink);\n",
              "        }\n",
              "      </script>\n",
              "    </div>\n",
              "  </div>\n",
              "  "
            ]
          },
          "metadata": {},
          "execution_count": 12
        }
      ],
      "source": [
        "# Read dataset - Titanic Dataset\n",
        "df = pd.read_csv('train.csv')\n",
        "df"
      ]
    },
    {
      "cell_type": "markdown",
      "metadata": {
        "id": "3oK46h9TIBZx"
      },
      "source": [
        "- Setiap pemanggilan DataFrame secara utuh, akan muncul keterangan dimensi data di bawahnya"
      ]
    },
    {
      "cell_type": "code",
      "execution_count": null,
      "metadata": {
        "id": "jH7LbBuEQBID",
        "colab": {
          "base_uri": "https://localhost:8080/",
          "height": 607
        },
        "outputId": "3b993761-f65f-41c9-de51-6f98500242c6"
      },
      "outputs": [
        {
          "output_type": "execute_result",
          "data": {
            "text/plain": [
              "     PassengerId  Survived  Pclass                                      Name  \\\n",
              "0              1         0       3                   Braund, Mr. Owen Harris   \n",
              "2              3         1       3                    Heikkinen, Miss. Laina   \n",
              "4              5         0       3                  Allen, Mr. William Henry   \n",
              "5              6         0       3                          Moran, Mr. James   \n",
              "7              8         0       3            Palsson, Master. Gosta Leonard   \n",
              "..           ...       ...     ...                                       ...   \n",
              "882          883         0       3              Dahlberg, Miss. Gerda Ulrika   \n",
              "884          885         0       3                    Sutehall, Mr. Henry Jr   \n",
              "885          886         0       3      Rice, Mrs. William (Margaret Norton)   \n",
              "888          889         0       3  Johnston, Miss. Catherine Helen \"Carrie\"   \n",
              "890          891         0       3                       Dooley, Mr. Patrick   \n",
              "\n",
              "        Sex   Age  SibSp  Parch            Ticket     Fare Cabin Embarked  \n",
              "0      male  22.0      1      0         A/5 21171   7.2500   NaN        S  \n",
              "2    female  26.0      0      0  STON/O2. 3101282   7.9250   NaN        S  \n",
              "4      male  35.0      0      0            373450   8.0500   NaN        S  \n",
              "5      male   NaN      0      0            330877   8.4583   NaN        Q  \n",
              "7      male   2.0      3      1            349909  21.0750   NaN        S  \n",
              "..      ...   ...    ...    ...               ...      ...   ...      ...  \n",
              "882  female  22.0      0      0              7552  10.5167   NaN        S  \n",
              "884    male  25.0      0      0   SOTON/OQ 392076   7.0500   NaN        S  \n",
              "885  female  39.0      0      5            382652  29.1250   NaN        Q  \n",
              "888  female   NaN      1      2        W./C. 6607  23.4500   NaN        S  \n",
              "890    male  32.0      0      0            370376   7.7500   NaN        Q  \n",
              "\n",
              "[491 rows x 12 columns]"
            ],
            "text/html": [
              "\n",
              "  <div id=\"df-0e7702f1-51bc-4cbe-862d-92777aa632bf\">\n",
              "    <div class=\"colab-df-container\">\n",
              "      <div>\n",
              "<style scoped>\n",
              "    .dataframe tbody tr th:only-of-type {\n",
              "        vertical-align: middle;\n",
              "    }\n",
              "\n",
              "    .dataframe tbody tr th {\n",
              "        vertical-align: top;\n",
              "    }\n",
              "\n",
              "    .dataframe thead th {\n",
              "        text-align: right;\n",
              "    }\n",
              "</style>\n",
              "<table border=\"1\" class=\"dataframe\">\n",
              "  <thead>\n",
              "    <tr style=\"text-align: right;\">\n",
              "      <th></th>\n",
              "      <th>PassengerId</th>\n",
              "      <th>Survived</th>\n",
              "      <th>Pclass</th>\n",
              "      <th>Name</th>\n",
              "      <th>Sex</th>\n",
              "      <th>Age</th>\n",
              "      <th>SibSp</th>\n",
              "      <th>Parch</th>\n",
              "      <th>Ticket</th>\n",
              "      <th>Fare</th>\n",
              "      <th>Cabin</th>\n",
              "      <th>Embarked</th>\n",
              "    </tr>\n",
              "  </thead>\n",
              "  <tbody>\n",
              "    <tr>\n",
              "      <th>0</th>\n",
              "      <td>1</td>\n",
              "      <td>0</td>\n",
              "      <td>3</td>\n",
              "      <td>Braund, Mr. Owen Harris</td>\n",
              "      <td>male</td>\n",
              "      <td>22.0</td>\n",
              "      <td>1</td>\n",
              "      <td>0</td>\n",
              "      <td>A/5 21171</td>\n",
              "      <td>7.2500</td>\n",
              "      <td>NaN</td>\n",
              "      <td>S</td>\n",
              "    </tr>\n",
              "    <tr>\n",
              "      <th>2</th>\n",
              "      <td>3</td>\n",
              "      <td>1</td>\n",
              "      <td>3</td>\n",
              "      <td>Heikkinen, Miss. Laina</td>\n",
              "      <td>female</td>\n",
              "      <td>26.0</td>\n",
              "      <td>0</td>\n",
              "      <td>0</td>\n",
              "      <td>STON/O2. 3101282</td>\n",
              "      <td>7.9250</td>\n",
              "      <td>NaN</td>\n",
              "      <td>S</td>\n",
              "    </tr>\n",
              "    <tr>\n",
              "      <th>4</th>\n",
              "      <td>5</td>\n",
              "      <td>0</td>\n",
              "      <td>3</td>\n",
              "      <td>Allen, Mr. William Henry</td>\n",
              "      <td>male</td>\n",
              "      <td>35.0</td>\n",
              "      <td>0</td>\n",
              "      <td>0</td>\n",
              "      <td>373450</td>\n",
              "      <td>8.0500</td>\n",
              "      <td>NaN</td>\n",
              "      <td>S</td>\n",
              "    </tr>\n",
              "    <tr>\n",
              "      <th>5</th>\n",
              "      <td>6</td>\n",
              "      <td>0</td>\n",
              "      <td>3</td>\n",
              "      <td>Moran, Mr. James</td>\n",
              "      <td>male</td>\n",
              "      <td>NaN</td>\n",
              "      <td>0</td>\n",
              "      <td>0</td>\n",
              "      <td>330877</td>\n",
              "      <td>8.4583</td>\n",
              "      <td>NaN</td>\n",
              "      <td>Q</td>\n",
              "    </tr>\n",
              "    <tr>\n",
              "      <th>7</th>\n",
              "      <td>8</td>\n",
              "      <td>0</td>\n",
              "      <td>3</td>\n",
              "      <td>Palsson, Master. Gosta Leonard</td>\n",
              "      <td>male</td>\n",
              "      <td>2.0</td>\n",
              "      <td>3</td>\n",
              "      <td>1</td>\n",
              "      <td>349909</td>\n",
              "      <td>21.0750</td>\n",
              "      <td>NaN</td>\n",
              "      <td>S</td>\n",
              "    </tr>\n",
              "    <tr>\n",
              "      <th>...</th>\n",
              "      <td>...</td>\n",
              "      <td>...</td>\n",
              "      <td>...</td>\n",
              "      <td>...</td>\n",
              "      <td>...</td>\n",
              "      <td>...</td>\n",
              "      <td>...</td>\n",
              "      <td>...</td>\n",
              "      <td>...</td>\n",
              "      <td>...</td>\n",
              "      <td>...</td>\n",
              "      <td>...</td>\n",
              "    </tr>\n",
              "    <tr>\n",
              "      <th>882</th>\n",
              "      <td>883</td>\n",
              "      <td>0</td>\n",
              "      <td>3</td>\n",
              "      <td>Dahlberg, Miss. Gerda Ulrika</td>\n",
              "      <td>female</td>\n",
              "      <td>22.0</td>\n",
              "      <td>0</td>\n",
              "      <td>0</td>\n",
              "      <td>7552</td>\n",
              "      <td>10.5167</td>\n",
              "      <td>NaN</td>\n",
              "      <td>S</td>\n",
              "    </tr>\n",
              "    <tr>\n",
              "      <th>884</th>\n",
              "      <td>885</td>\n",
              "      <td>0</td>\n",
              "      <td>3</td>\n",
              "      <td>Sutehall, Mr. Henry Jr</td>\n",
              "      <td>male</td>\n",
              "      <td>25.0</td>\n",
              "      <td>0</td>\n",
              "      <td>0</td>\n",
              "      <td>SOTON/OQ 392076</td>\n",
              "      <td>7.0500</td>\n",
              "      <td>NaN</td>\n",
              "      <td>S</td>\n",
              "    </tr>\n",
              "    <tr>\n",
              "      <th>885</th>\n",
              "      <td>886</td>\n",
              "      <td>0</td>\n",
              "      <td>3</td>\n",
              "      <td>Rice, Mrs. William (Margaret Norton)</td>\n",
              "      <td>female</td>\n",
              "      <td>39.0</td>\n",
              "      <td>0</td>\n",
              "      <td>5</td>\n",
              "      <td>382652</td>\n",
              "      <td>29.1250</td>\n",
              "      <td>NaN</td>\n",
              "      <td>Q</td>\n",
              "    </tr>\n",
              "    <tr>\n",
              "      <th>888</th>\n",
              "      <td>889</td>\n",
              "      <td>0</td>\n",
              "      <td>3</td>\n",
              "      <td>Johnston, Miss. Catherine Helen \"Carrie\"</td>\n",
              "      <td>female</td>\n",
              "      <td>NaN</td>\n",
              "      <td>1</td>\n",
              "      <td>2</td>\n",
              "      <td>W./C. 6607</td>\n",
              "      <td>23.4500</td>\n",
              "      <td>NaN</td>\n",
              "      <td>S</td>\n",
              "    </tr>\n",
              "    <tr>\n",
              "      <th>890</th>\n",
              "      <td>891</td>\n",
              "      <td>0</td>\n",
              "      <td>3</td>\n",
              "      <td>Dooley, Mr. Patrick</td>\n",
              "      <td>male</td>\n",
              "      <td>32.0</td>\n",
              "      <td>0</td>\n",
              "      <td>0</td>\n",
              "      <td>370376</td>\n",
              "      <td>7.7500</td>\n",
              "      <td>NaN</td>\n",
              "      <td>Q</td>\n",
              "    </tr>\n",
              "  </tbody>\n",
              "</table>\n",
              "<p>491 rows × 12 columns</p>\n",
              "</div>\n",
              "      <button class=\"colab-df-convert\" onclick=\"convertToInteractive('df-0e7702f1-51bc-4cbe-862d-92777aa632bf')\"\n",
              "              title=\"Convert this dataframe to an interactive table.\"\n",
              "              style=\"display:none;\">\n",
              "        \n",
              "  <svg xmlns=\"http://www.w3.org/2000/svg\" height=\"24px\"viewBox=\"0 0 24 24\"\n",
              "       width=\"24px\">\n",
              "    <path d=\"M0 0h24v24H0V0z\" fill=\"none\"/>\n",
              "    <path d=\"M18.56 5.44l.94 2.06.94-2.06 2.06-.94-2.06-.94-.94-2.06-.94 2.06-2.06.94zm-11 1L8.5 8.5l.94-2.06 2.06-.94-2.06-.94L8.5 2.5l-.94 2.06-2.06.94zm10 10l.94 2.06.94-2.06 2.06-.94-2.06-.94-.94-2.06-.94 2.06-2.06.94z\"/><path d=\"M17.41 7.96l-1.37-1.37c-.4-.4-.92-.59-1.43-.59-.52 0-1.04.2-1.43.59L10.3 9.45l-7.72 7.72c-.78.78-.78 2.05 0 2.83L4 21.41c.39.39.9.59 1.41.59.51 0 1.02-.2 1.41-.59l7.78-7.78 2.81-2.81c.8-.78.8-2.07 0-2.86zM5.41 20L4 18.59l7.72-7.72 1.47 1.35L5.41 20z\"/>\n",
              "  </svg>\n",
              "      </button>\n",
              "      \n",
              "  <style>\n",
              "    .colab-df-container {\n",
              "      display:flex;\n",
              "      flex-wrap:wrap;\n",
              "      gap: 12px;\n",
              "    }\n",
              "\n",
              "    .colab-df-convert {\n",
              "      background-color: #E8F0FE;\n",
              "      border: none;\n",
              "      border-radius: 50%;\n",
              "      cursor: pointer;\n",
              "      display: none;\n",
              "      fill: #1967D2;\n",
              "      height: 32px;\n",
              "      padding: 0 0 0 0;\n",
              "      width: 32px;\n",
              "    }\n",
              "\n",
              "    .colab-df-convert:hover {\n",
              "      background-color: #E2EBFA;\n",
              "      box-shadow: 0px 1px 2px rgba(60, 64, 67, 0.3), 0px 1px 3px 1px rgba(60, 64, 67, 0.15);\n",
              "      fill: #174EA6;\n",
              "    }\n",
              "\n",
              "    [theme=dark] .colab-df-convert {\n",
              "      background-color: #3B4455;\n",
              "      fill: #D2E3FC;\n",
              "    }\n",
              "\n",
              "    [theme=dark] .colab-df-convert:hover {\n",
              "      background-color: #434B5C;\n",
              "      box-shadow: 0px 1px 3px 1px rgba(0, 0, 0, 0.15);\n",
              "      filter: drop-shadow(0px 1px 2px rgba(0, 0, 0, 0.3));\n",
              "      fill: #FFFFFF;\n",
              "    }\n",
              "  </style>\n",
              "\n",
              "      <script>\n",
              "        const buttonEl =\n",
              "          document.querySelector('#df-0e7702f1-51bc-4cbe-862d-92777aa632bf button.colab-df-convert');\n",
              "        buttonEl.style.display =\n",
              "          google.colab.kernel.accessAllowed ? 'block' : 'none';\n",
              "\n",
              "        async function convertToInteractive(key) {\n",
              "          const element = document.querySelector('#df-0e7702f1-51bc-4cbe-862d-92777aa632bf');\n",
              "          const dataTable =\n",
              "            await google.colab.kernel.invokeFunction('convertToInteractive',\n",
              "                                                     [key], {});\n",
              "          if (!dataTable) return;\n",
              "\n",
              "          const docLinkHtml = 'Like what you see? Visit the ' +\n",
              "            '<a target=\"_blank\" href=https://colab.research.google.com/notebooks/data_table.ipynb>data table notebook</a>'\n",
              "            + ' to learn more about interactive tables.';\n",
              "          element.innerHTML = '';\n",
              "          dataTable['output_type'] = 'display_data';\n",
              "          await google.colab.output.renderOutput(dataTable, element);\n",
              "          const docLink = document.createElement('div');\n",
              "          docLink.innerHTML = docLinkHtml;\n",
              "          element.appendChild(docLink);\n",
              "        }\n",
              "      </script>\n",
              "    </div>\n",
              "  </div>\n",
              "  "
            ]
          },
          "metadata": {},
          "execution_count": 13
        }
      ],
      "source": [
        "# Select by one criteria\n",
        "Pclass_3 = df[ (df['Pclass'] == 3)]\n",
        "Pclass_3"
      ]
    },
    {
      "cell_type": "markdown",
      "metadata": {
        "id": "ZaP17IUPIT0M"
      },
      "source": [
        "- Memilih atau Filter data berdasarkan kolom Pclass = 3"
      ]
    },
    {
      "cell_type": "code",
      "execution_count": null,
      "metadata": {
        "id": "RmirF_lZSyM5"
      },
      "outputs": [],
      "source": [
        "# Filter null values\n",
        "df_not_null = df[ (df['Cabin'].notnull())]\n",
        "df_not_null"
      ]
    },
    {
      "cell_type": "markdown",
      "metadata": {
        "id": "3VWX4cDjIajf"
      },
      "source": [
        "- Memilih atau Filter data berdasarkan kolom Cabin yang tidak NaN atau kosong"
      ]
    },
    {
      "cell_type": "code",
      "execution_count": null,
      "metadata": {
        "id": "DJiCWyn_TRZl"
      },
      "outputs": [],
      "source": [
        "# Select by list of criteria \n",
        "Specific_Pclass= [2,3]\n",
        "selection = df[ (df['Pclass'].isin(Specific_Pclass))]\n",
        "selection"
      ]
    },
    {
      "cell_type": "markdown",
      "metadata": {
        "id": "Ho-6Puj9IjwJ"
      },
      "source": [
        "- Memilih atau Filter data berdasarkan kolom Pclass yang memiliki nilai sesuai dengan objek yang ada di dalam suatu list"
      ]
    },
    {
      "cell_type": "code",
      "execution_count": null,
      "metadata": {
        "id": "q-Oy0slSUCLc",
        "colab": {
          "base_uri": "https://localhost:8080/",
          "height": 218
        },
        "outputId": "2ee8ddda-beba-4419-c5d3-f5025664166c"
      },
      "outputs": [
        {
          "output_type": "error",
          "ename": "NameError",
          "evalue": "ignored",
          "traceback": [
            "\u001b[0;31m---------------------------------------------------------------------------\u001b[0m",
            "\u001b[0;31mNameError\u001b[0m                                 Traceback (most recent call last)",
            "\u001b[0;32m<ipython-input-2-8d126dbd6083>\u001b[0m in \u001b[0;36m<module>\u001b[0;34m\u001b[0m\n\u001b[1;32m      1\u001b[0m \u001b[0;31m# Negative symbol\u001b[0m\u001b[0;34m\u001b[0m\u001b[0;34m\u001b[0m\u001b[0m\n\u001b[1;32m      2\u001b[0m \u001b[0mSpecific_Pclass\u001b[0m\u001b[0;34m=\u001b[0m \u001b[0;34m[\u001b[0m\u001b[0;36m2\u001b[0m\u001b[0;34m,\u001b[0m\u001b[0;36m3\u001b[0m\u001b[0;34m]\u001b[0m\u001b[0;34m\u001b[0m\u001b[0;34m\u001b[0m\u001b[0m\n\u001b[0;32m----> 3\u001b[0;31m \u001b[0mselection\u001b[0m \u001b[0;34m=\u001b[0m \u001b[0mdf\u001b[0m\u001b[0;34m[\u001b[0m\u001b[0;34m~\u001b[0m\u001b[0;34m(\u001b[0m\u001b[0mdf\u001b[0m\u001b[0;34m[\u001b[0m\u001b[0;34m'Pclass'\u001b[0m\u001b[0;34m]\u001b[0m\u001b[0;34m.\u001b[0m\u001b[0misin\u001b[0m\u001b[0;34m(\u001b[0m\u001b[0mSpecific_Pclass\u001b[0m\u001b[0;34m)\u001b[0m\u001b[0;34m)\u001b[0m\u001b[0;34m]\u001b[0m\u001b[0;34m\u001b[0m\u001b[0;34m\u001b[0m\u001b[0m\n\u001b[0m\u001b[1;32m      4\u001b[0m \u001b[0mselection\u001b[0m\u001b[0;34m\u001b[0m\u001b[0;34m\u001b[0m\u001b[0m\n",
            "\u001b[0;31mNameError\u001b[0m: name 'df' is not defined"
          ]
        }
      ],
      "source": [
        "# Negative symbol\n",
        "Specific_Pclass= [2,3]\n",
        "selection = df[~(df['Pclass'].isin(Specific_Pclass))]\n",
        "selection"
      ]
    },
    {
      "cell_type": "markdown",
      "metadata": {
        "id": "R1SS40IPI0gt"
      },
      "source": [
        "- Memilih atau Filter data berdasarkan kolom Pclass dengan simbol \"~\" sebagai negasi dari kriteria yang telah diberikan"
      ]
    },
    {
      "cell_type": "code",
      "execution_count": null,
      "metadata": {
        "id": "8_BNofz-UKaH"
      },
      "outputs": [],
      "source": [
        "# Select by more than one criteria \n",
        "Specific_Pclass= [2,3]\n",
        "selection = df[ (df['Pclass'].isin(Specific_Pclass)) & (df['Sex'] != 'male')]\n",
        "selection"
      ]
    },
    {
      "cell_type": "markdown",
      "metadata": {
        "id": "JrI_VqKuJME8"
      },
      "source": [
        "- Dapat menggunakan operator boolean (\"&\" untuk dan, \"|\" untuk atau) untuk menentukan beberapa kriteria"
      ]
    },
    {
      "cell_type": "markdown",
      "metadata": {
        "id": "F3pABizWU4tS"
      },
      "source": [
        "### Joining"
      ]
    },
    {
      "cell_type": "markdown",
      "metadata": {
        "id": "Ob6_xg_3Jl_f"
      },
      "source": [
        "- Joining adalah teknik penggabungan data, baik penggabungan berdasarkan baris/row maupun kolom/column\n",
        "- Berikut adalah langkah-langkah menggabungkan dua DataFrame berdasarkan row dengan mengabaikan index"
      ]
    },
    {
      "cell_type": "code",
      "execution_count": null,
      "metadata": {
        "id": "BXQlGVwIUl2f",
        "colab": {
          "base_uri": "https://localhost:8080/",
          "height": 218
        },
        "outputId": "7054e936-106f-4327-bd25-49df74aebd48"
      },
      "outputs": [
        {
          "output_type": "error",
          "ename": "NameError",
          "evalue": "ignored",
          "traceback": [
            "\u001b[0;31m---------------------------------------------------------------------------\u001b[0m",
            "\u001b[0;31mNameError\u001b[0m                                 Traceback (most recent call last)",
            "\u001b[0;32m<ipython-input-1-dd384b923afd>\u001b[0m in \u001b[0;36m<module>\u001b[0;34m\u001b[0m\n\u001b[1;32m      5\u001b[0m \u001b[0mscore1\u001b[0m \u001b[0;34m=\u001b[0m \u001b[0;34m[\u001b[0m\u001b[0;36m80\u001b[0m\u001b[0;34m,\u001b[0m\u001b[0;36m82\u001b[0m\u001b[0;34m,\u001b[0m\u001b[0;36m95\u001b[0m\u001b[0;34m,\u001b[0m\u001b[0;36m72\u001b[0m\u001b[0;34m,\u001b[0m\u001b[0;36m67\u001b[0m\u001b[0;34m,\u001b[0m\u001b[0;36m98\u001b[0m\u001b[0;34m,\u001b[0m\u001b[0;36m85\u001b[0m\u001b[0;34m]\u001b[0m\u001b[0;34m\u001b[0m\u001b[0;34m\u001b[0m\u001b[0m\n\u001b[1;32m      6\u001b[0m \u001b[0mdata1\u001b[0m \u001b[0;34m=\u001b[0m \u001b[0;34m{\u001b[0m\u001b[0;34m\"Student\"\u001b[0m\u001b[0;34m:\u001b[0m\u001b[0mstudent1\u001b[0m\u001b[0;34m,\u001b[0m \u001b[0;34m\"Class\"\u001b[0m\u001b[0;34m:\u001b[0m\u001b[0mclassroom1\u001b[0m\u001b[0;34m,\u001b[0m \u001b[0;34m\"Age\"\u001b[0m\u001b[0;34m:\u001b[0m\u001b[0mage1\u001b[0m\u001b[0;34m,\u001b[0m \u001b[0;34m\"Score\"\u001b[0m\u001b[0;34m:\u001b[0m\u001b[0mscore1\u001b[0m\u001b[0;34m}\u001b[0m\u001b[0;34m\u001b[0m\u001b[0;34m\u001b[0m\u001b[0m\n\u001b[0;32m----> 7\u001b[0;31m \u001b[0mdf1\u001b[0m \u001b[0;34m=\u001b[0m \u001b[0mpd\u001b[0m\u001b[0;34m.\u001b[0m\u001b[0mDataFrame\u001b[0m\u001b[0;34m(\u001b[0m\u001b[0mdata1\u001b[0m\u001b[0;34m)\u001b[0m\u001b[0;34m\u001b[0m\u001b[0;34m\u001b[0m\u001b[0m\n\u001b[0m\u001b[1;32m      8\u001b[0m \u001b[0mdf1\u001b[0m\u001b[0;34m\u001b[0m\u001b[0;34m\u001b[0m\u001b[0m\n",
            "\u001b[0;31mNameError\u001b[0m: name 'pd' is not defined"
          ]
        }
      ],
      "source": [
        "# Creating two different sample dataset\n",
        "student1 = [\"Farid\", \"Rizky\", \"Anna\", \"Dani\", \"Juna\", \"Bayu\", \"Gilang\"]\n",
        "classroom1 = [\"A\",\"A\",\"B\",\"A\",\"B\",\"B\",\"B\"]\n",
        "age1 = [15,15,16,17,15,18,16]\n",
        "score1 = [80,82,95,72,67,98,85]\n",
        "data1 = {\"Student\":student1, \"Class\":classroom1, \"Age\":age1, \"Score\":score1}\n",
        "df1 = pd.DataFrame(data1)\n",
        "df1"
      ]
    },
    {
      "cell_type": "code",
      "execution_count": null,
      "metadata": {
        "id": "nDsO_v6RVZFi"
      },
      "outputs": [],
      "source": [
        "student2 = [\"Rani\", \"Huda\", \"Yayan\", \"Agus\", \"Hasan\"]\n",
        "classroom2 = [\"A\",\"B\",\"A\",\"B\",\"A\"]\n",
        "age2 = [18,17,17,15,16]\n",
        "score2 = [83,91,78,70,97]\n",
        "data2 = {\"Student\":student2, \"Class\":classroom2, \"Age\":age2, \"Score\":score2}\n",
        "df2 = pd.DataFrame(data2)\n",
        "df2"
      ]
    },
    {
      "cell_type": "code",
      "execution_count": null,
      "metadata": {
        "id": "2jGWBqsmV-y4"
      },
      "outputs": [],
      "source": [
        "# Concatenate By Row and Column\n",
        "df_row = pd.concat([df1,df2], ignore_index=True)\n",
        "df_row"
      ]
    },
    {
      "cell_type": "markdown",
      "metadata": {
        "id": "nBuvPoULKI7a"
      },
      "source": [
        "- Berikut adalah langkah-langkah menggabungkan dua DataFrame berdasarkan column sebagai kunci penggabungan, mirip dengan metode join pada SQL "
      ]
    },
    {
      "cell_type": "code",
      "execution_count": null,
      "metadata": {
        "id": "YVSEnZ-1WSIh"
      },
      "outputs": [],
      "source": [
        "# Merge on specific keys\n",
        "student3 = df_row.Student.tolist()\n",
        "id3 = [1,2,3,4,5,6,7,8,9,10,11,12]\n",
        "data3 = {\"Student\":student3, \"id\":id3}\n",
        "df3 = pd.DataFrame(data3)\n",
        "\n",
        "df_merge_col = pd.merge(df_row, df3, on=\"Student\")\n",
        "df_merge_col"
      ]
    },
    {
      "cell_type": "markdown",
      "metadata": {
        "id": "fP9lBNeVXO_6"
      },
      "source": [
        "### Pivoting\n",
        "\n",
        "Fungsi pivot_table Python Pandas membantu kita dengan peringkasan dan konversi dataframe dalam bentuk panjang menjadi dataframe dalam bentuk lebar, dalam berbagai skenario yang kompleks. Di Pandas, fungsi tabel pivot menggunakan bingkai data sederhana sebagai input, dan melakukan operasi yang dikelompokkan yang menyediakan ringkasan data multidimensi. [source](https://cmdlinetips.com/2018/12/pivot-table-in-python-pandas/)\n",
        "- Elemen standar pivoting:\n",
        " - **index** (baris pengelompokan berdasarkan nilai suatu kolom)\n",
        " - **columns** (kolom pengelompokan berdasarkan nilai suatu kolom)\n",
        " - **values** (ringkasan yang ditampilkan berdasarkan fungsi agregasi (aggfunc) untuk setiap pengelompokan berdasarkan index dan kolom)  "
      ]
    },
    {
      "cell_type": "code",
      "execution_count": null,
      "metadata": {
        "id": "BYc2PuLZXRkg"
      },
      "outputs": [],
      "source": [
        "# Create pivot table\n",
        "df_merge_col.pivot_table(index=\"Class\", columns=\"Age\", values=\"Score\", aggfunc=['mean','sum'])"
      ]
    },
    {
      "cell_type": "markdown",
      "metadata": {
        "id": "7UFCpyQjN3jb"
      },
      "source": [
        "## Data Cleaning"
      ]
    },
    {
      "cell_type": "markdown",
      "metadata": {
        "id": "Zerl6LcgN7n2"
      },
      "source": [
        "Data cleaning merupakan langkah awal yang penting dalam proses analisis data yang melibatkan persiapan dan validasi data, biasanya dilakukan sebelum analisis inti Anda. Pembersihan data bukan hanya kasus penghapusan data yang salah atau menghapus record yang terdapat sel yang hilang hilang, namun teknik imputasi banyak digunakan untuk mengatasi masalah tersebut daripada menghapusnya.  Langkah ini dapat dilakukan sebelum ataupun masuk ke dalam proses EDA jika diperlukan.[source](https://careerfoundry.com/en/blog/data-analytics/what-is-data-cleaning/)"
      ]
    },
    {
      "cell_type": "markdown",
      "metadata": {
        "id": "SWVnLecHYUbR"
      },
      "source": [
        "### Remove Missing Data"
      ]
    },
    {
      "cell_type": "markdown",
      "metadata": {
        "id": "msdcU9DhQnSg"
      },
      "source": [
        "- Menghapus baris yang mengandung missing data/ missing value , dengan menetapkan axis = 0"
      ]
    },
    {
      "cell_type": "code",
      "execution_count": null,
      "metadata": {
        "id": "N3Z66NXlYaLv"
      },
      "outputs": [],
      "source": [
        "# Read dataset - Titanic Dataset\n",
        "df = pd.read_csv('train.csv')\n",
        "\n",
        "# Drop row with missing value\n",
        "df = df.dropna(axis=0)\n",
        "df"
      ]
    },
    {
      "cell_type": "markdown",
      "metadata": {
        "id": "9ujuoHpUQ-JL"
      },
      "source": [
        "- Menghapus kolom yang mengandung missing data/ missing value , dengan menetapkan axis = 1"
      ]
    },
    {
      "cell_type": "code",
      "execution_count": null,
      "metadata": {
        "id": "cZQR3KmUY3cc"
      },
      "outputs": [],
      "source": [
        "# Read dataset - Titanic Dataset\n",
        "df = pd.read_csv('train.csv')\n",
        "\n",
        "# Drop column with missing value\n",
        "df = df.dropna(axis=1)\n",
        "df"
      ]
    },
    {
      "cell_type": "markdown",
      "metadata": {
        "id": "fu81xZHqRGif"
      },
      "source": [
        "### Imputation"
      ]
    },
    {
      "cell_type": "markdown",
      "metadata": {
        "id": "V-X13-XhRXkT"
      },
      "source": [
        "Imputasi dapat dianggap sebagai proses melihat deretan data yang hilang dan kemudian \"menyimpulkan\", atau membuat tebakan yang masuk akal, tentang nilai apa yang seharusnya ada pada tempatnya. Machine learning menyediakan metode yang lebih canggih untuk menangani data yang hilang dan tidak mencukupi dibandingkan dengan metode tradisional. [source](https://medium.com/utility-machine-learning/an-introduction-to-imputation-solving-problems-of-missing-and-insufficient-data-1814c90c3545)"
      ]
    },
    {
      "cell_type": "markdown",
      "metadata": {
        "id": "mUQvSIOKSNyV"
      },
      "source": [
        "- Disini kami akan memberikan contoh sederhana, yaitu dengan mengisikan missing value dengan angka 0 untuk kolom tertentu"
      ]
    },
    {
      "cell_type": "code",
      "execution_count": null,
      "metadata": {
        "id": "oHJPAG6BhoQ7"
      },
      "outputs": [],
      "source": [
        "# Read dataset - Titanic Dataset\n",
        "df = pd.read_csv('train.csv')\n",
        "\n",
        "# Imputation one columns, fill missing value with 0\n",
        "df['Age'] = df['Age'].fillna(0)\n",
        "df"
      ]
    },
    {
      "cell_type": "markdown",
      "metadata": {
        "id": "qzEhzhuETfAh"
      },
      "source": [
        "- Imputasi dengan median dari nilai-nilai kolom tertentu"
      ]
    },
    {
      "cell_type": "code",
      "execution_count": null,
      "metadata": {
        "id": "_sgHdMNGToWP"
      },
      "outputs": [],
      "source": [
        "# Read dataset - Titanic Dataset\n",
        "df = pd.read_csv('train.csv')\n",
        "\n",
        "# Imputation one columns, fill missing value with median of a column\n",
        "df['Age'] = df['Age'].fillna(value=df['Age'].median())\n",
        "df"
      ]
    },
    {
      "cell_type": "markdown",
      "metadata": {
        "id": "rZv46pGCSfwX"
      },
      "source": [
        "- Selanjutnya juga dapat mengisikan missing value dengan angka 0 untuk semua kolom"
      ]
    },
    {
      "cell_type": "code",
      "execution_count": null,
      "metadata": {
        "id": "nc8rdSScZRfW"
      },
      "outputs": [],
      "source": [
        "# Read dataset - Titanic Dataset\n",
        "df = pd.read_csv('train.csv')\n",
        "\n",
        "# Imputation all columns, fill missing value with 0\n",
        "df = df.fillna(0)\n",
        "df"
      ]
    },
    {
      "cell_type": "markdown",
      "metadata": {
        "id": "KAdnPkyuaHQq"
      },
      "source": [
        "- Metode Imputasi yang lain (termasuk metode machine learning) dapat menggunakan method Imputer pada library **sklearn** [source](https://sklearn.org/modules/generated/sklearn.preprocessing.Imputer.html)"
      ]
    },
    {
      "cell_type": "markdown",
      "metadata": {
        "id": "TlXDN0vFVNBJ"
      },
      "source": [
        "\n",
        "\n",
        "---\n",
        "\n",
        "---\n",
        "\n",
        "\n",
        "\n"
      ]
    },
    {
      "cell_type": "markdown",
      "metadata": {
        "id": "5pnlEh1lUTxc"
      },
      "source": [
        "**Setelah diberikan contoh sederhana manipulasi data dan pembersihan data, kami memulai analisis sederhana data Titanic dari proses EDA hingga Evaluasi, dengan asumsi data sudah dipersiapkan sebelumnya**"
      ]
    },
    {
      "cell_type": "markdown",
      "metadata": {
        "id": "IPhrXJSGVQZc"
      },
      "source": [
        "\n",
        "\n",
        "---\n",
        "\n",
        "---\n",
        "\n",
        "\n",
        "\n"
      ]
    },
    {
      "cell_type": "markdown",
      "metadata": {
        "id": "rhK8luONaOmX"
      },
      "source": [
        "## Exploratory Data Analysis (EDA)\n",
        "Exploratory Data Analysis mengacu pada proses kritis melakukan penyelidikan awal pada data untuk menemukan pola, untuk menemukan anomali, untuk menguji hipotesis (statistik inferentif) dan untuk memeriksa asumsi dengan bantuan statistik deskriptif dan representasi grafis. [source](https://towardsdatascience.com/exploratory-data-analysis-8fc1cb20fd15)\n",
        "- Matplotlib \n",
        "- Seaborn\n",
        "- Pandas\n",
        "- Other Plotting Library"
      ]
    },
    {
      "cell_type": "code",
      "execution_count": null,
      "metadata": {
        "id": "Um2MIXzpg9Dz"
      },
      "outputs": [],
      "source": [
        "# Import library\n",
        "import matplotlib.pyplot as plt\n",
        "import seaborn as sns\n",
        "import pandas as pd\n",
        "import numpy as np\n",
        "import scipy"
      ]
    },
    {
      "cell_type": "markdown",
      "metadata": {
        "id": "qBwLiUBwUFGE"
      },
      "source": [
        "### Exploring The Data"
      ]
    },
    {
      "cell_type": "code",
      "execution_count": null,
      "metadata": {
        "id": "Kbx_a64AVoIx"
      },
      "outputs": [],
      "source": [
        "# Read dataset - Titanic Dataset\n",
        "df = pd.read_csv('train.csv')"
      ]
    },
    {
      "cell_type": "code",
      "execution_count": null,
      "metadata": {
        "id": "3H7EYhRUqXZ2"
      },
      "outputs": [],
      "source": [
        "df = df[~df.duplicated()]"
      ]
    },
    {
      "cell_type": "code",
      "execution_count": null,
      "metadata": {
        "id": "q1KRF4ZYUJYO",
        "colab": {
          "base_uri": "https://localhost:8080/"
        },
        "outputId": "819194c5-8a9a-4e62-cdd1-55cb9e44c077"
      },
      "outputs": [
        {
          "output_type": "stream",
          "name": "stdout",
          "text": [
            "<class 'pandas.core.frame.DataFrame'>\n",
            "Int64Index: 891 entries, 0 to 890\n",
            "Data columns (total 12 columns):\n",
            " #   Column       Non-Null Count  Dtype  \n",
            "---  ------       --------------  -----  \n",
            " 0   PassengerId  891 non-null    int64  \n",
            " 1   Survived     891 non-null    int64  \n",
            " 2   Pclass       891 non-null    int64  \n",
            " 3   Name         891 non-null    object \n",
            " 4   Sex          891 non-null    object \n",
            " 5   Age          714 non-null    float64\n",
            " 6   SibSp        891 non-null    int64  \n",
            " 7   Parch        891 non-null    int64  \n",
            " 8   Ticket       891 non-null    object \n",
            " 9   Fare         891 non-null    float64\n",
            " 10  Cabin        204 non-null    object \n",
            " 11  Embarked     889 non-null    object \n",
            "dtypes: float64(2), int64(5), object(5)\n",
            "memory usage: 90.5+ KB\n"
          ]
        }
      ],
      "source": [
        "# Data Information\n",
        "df.info() "
      ]
    },
    {
      "cell_type": "code",
      "source": [
        "# Drop row with missing value\n",
        "df = df.dropna(axis=0)\n",
        "df"
      ],
      "metadata": {
        "colab": {
          "base_uri": "https://localhost:8080/",
          "height": 589
        },
        "id": "K2CCYNGrVlPh",
        "outputId": "35a7e004-e5a6-4cfc-b5d2-a5f245ab1c3d"
      },
      "execution_count": null,
      "outputs": [
        {
          "output_type": "execute_result",
          "data": {
            "text/plain": [
              "     PassengerId  Survived  Pclass  \\\n",
              "1              2         1       1   \n",
              "3              4         1       1   \n",
              "6              7         0       1   \n",
              "10            11         1       3   \n",
              "11            12         1       1   \n",
              "..           ...       ...     ...   \n",
              "871          872         1       1   \n",
              "872          873         0       1   \n",
              "879          880         1       1   \n",
              "887          888         1       1   \n",
              "889          890         1       1   \n",
              "\n",
              "                                                  Name     Sex   Age  SibSp  \\\n",
              "1    Cumings, Mrs. John Bradley (Florence Briggs Th...  female  38.0      1   \n",
              "3         Futrelle, Mrs. Jacques Heath (Lily May Peel)  female  35.0      1   \n",
              "6                              McCarthy, Mr. Timothy J    male  54.0      0   \n",
              "10                     Sandstrom, Miss. Marguerite Rut  female   4.0      1   \n",
              "11                            Bonnell, Miss. Elizabeth  female  58.0      0   \n",
              "..                                                 ...     ...   ...    ...   \n",
              "871   Beckwith, Mrs. Richard Leonard (Sallie Monypeny)  female  47.0      1   \n",
              "872                           Carlsson, Mr. Frans Olof    male  33.0      0   \n",
              "879      Potter, Mrs. Thomas Jr (Lily Alexenia Wilson)  female  56.0      0   \n",
              "887                       Graham, Miss. Margaret Edith  female  19.0      0   \n",
              "889                              Behr, Mr. Karl Howell    male  26.0      0   \n",
              "\n",
              "     Parch    Ticket     Fare        Cabin Embarked  \n",
              "1        0  PC 17599  71.2833          C85        C  \n",
              "3        0    113803  53.1000         C123        S  \n",
              "6        0     17463  51.8625          E46        S  \n",
              "10       1   PP 9549  16.7000           G6        S  \n",
              "11       0    113783  26.5500         C103        S  \n",
              "..     ...       ...      ...          ...      ...  \n",
              "871      1     11751  52.5542          D35        S  \n",
              "872      0       695   5.0000  B51 B53 B55        S  \n",
              "879      1     11767  83.1583          C50        C  \n",
              "887      0    112053  30.0000          B42        S  \n",
              "889      0    111369  30.0000         C148        C  \n",
              "\n",
              "[183 rows x 12 columns]"
            ],
            "text/html": [
              "\n",
              "  <div id=\"df-2194bee7-6161-47fa-9661-28e8aef930bf\">\n",
              "    <div class=\"colab-df-container\">\n",
              "      <div>\n",
              "<style scoped>\n",
              "    .dataframe tbody tr th:only-of-type {\n",
              "        vertical-align: middle;\n",
              "    }\n",
              "\n",
              "    .dataframe tbody tr th {\n",
              "        vertical-align: top;\n",
              "    }\n",
              "\n",
              "    .dataframe thead th {\n",
              "        text-align: right;\n",
              "    }\n",
              "</style>\n",
              "<table border=\"1\" class=\"dataframe\">\n",
              "  <thead>\n",
              "    <tr style=\"text-align: right;\">\n",
              "      <th></th>\n",
              "      <th>PassengerId</th>\n",
              "      <th>Survived</th>\n",
              "      <th>Pclass</th>\n",
              "      <th>Name</th>\n",
              "      <th>Sex</th>\n",
              "      <th>Age</th>\n",
              "      <th>SibSp</th>\n",
              "      <th>Parch</th>\n",
              "      <th>Ticket</th>\n",
              "      <th>Fare</th>\n",
              "      <th>Cabin</th>\n",
              "      <th>Embarked</th>\n",
              "    </tr>\n",
              "  </thead>\n",
              "  <tbody>\n",
              "    <tr>\n",
              "      <th>1</th>\n",
              "      <td>2</td>\n",
              "      <td>1</td>\n",
              "      <td>1</td>\n",
              "      <td>Cumings, Mrs. John Bradley (Florence Briggs Th...</td>\n",
              "      <td>female</td>\n",
              "      <td>38.0</td>\n",
              "      <td>1</td>\n",
              "      <td>0</td>\n",
              "      <td>PC 17599</td>\n",
              "      <td>71.2833</td>\n",
              "      <td>C85</td>\n",
              "      <td>C</td>\n",
              "    </tr>\n",
              "    <tr>\n",
              "      <th>3</th>\n",
              "      <td>4</td>\n",
              "      <td>1</td>\n",
              "      <td>1</td>\n",
              "      <td>Futrelle, Mrs. Jacques Heath (Lily May Peel)</td>\n",
              "      <td>female</td>\n",
              "      <td>35.0</td>\n",
              "      <td>1</td>\n",
              "      <td>0</td>\n",
              "      <td>113803</td>\n",
              "      <td>53.1000</td>\n",
              "      <td>C123</td>\n",
              "      <td>S</td>\n",
              "    </tr>\n",
              "    <tr>\n",
              "      <th>6</th>\n",
              "      <td>7</td>\n",
              "      <td>0</td>\n",
              "      <td>1</td>\n",
              "      <td>McCarthy, Mr. Timothy J</td>\n",
              "      <td>male</td>\n",
              "      <td>54.0</td>\n",
              "      <td>0</td>\n",
              "      <td>0</td>\n",
              "      <td>17463</td>\n",
              "      <td>51.8625</td>\n",
              "      <td>E46</td>\n",
              "      <td>S</td>\n",
              "    </tr>\n",
              "    <tr>\n",
              "      <th>10</th>\n",
              "      <td>11</td>\n",
              "      <td>1</td>\n",
              "      <td>3</td>\n",
              "      <td>Sandstrom, Miss. Marguerite Rut</td>\n",
              "      <td>female</td>\n",
              "      <td>4.0</td>\n",
              "      <td>1</td>\n",
              "      <td>1</td>\n",
              "      <td>PP 9549</td>\n",
              "      <td>16.7000</td>\n",
              "      <td>G6</td>\n",
              "      <td>S</td>\n",
              "    </tr>\n",
              "    <tr>\n",
              "      <th>11</th>\n",
              "      <td>12</td>\n",
              "      <td>1</td>\n",
              "      <td>1</td>\n",
              "      <td>Bonnell, Miss. Elizabeth</td>\n",
              "      <td>female</td>\n",
              "      <td>58.0</td>\n",
              "      <td>0</td>\n",
              "      <td>0</td>\n",
              "      <td>113783</td>\n",
              "      <td>26.5500</td>\n",
              "      <td>C103</td>\n",
              "      <td>S</td>\n",
              "    </tr>\n",
              "    <tr>\n",
              "      <th>...</th>\n",
              "      <td>...</td>\n",
              "      <td>...</td>\n",
              "      <td>...</td>\n",
              "      <td>...</td>\n",
              "      <td>...</td>\n",
              "      <td>...</td>\n",
              "      <td>...</td>\n",
              "      <td>...</td>\n",
              "      <td>...</td>\n",
              "      <td>...</td>\n",
              "      <td>...</td>\n",
              "      <td>...</td>\n",
              "    </tr>\n",
              "    <tr>\n",
              "      <th>871</th>\n",
              "      <td>872</td>\n",
              "      <td>1</td>\n",
              "      <td>1</td>\n",
              "      <td>Beckwith, Mrs. Richard Leonard (Sallie Monypeny)</td>\n",
              "      <td>female</td>\n",
              "      <td>47.0</td>\n",
              "      <td>1</td>\n",
              "      <td>1</td>\n",
              "      <td>11751</td>\n",
              "      <td>52.5542</td>\n",
              "      <td>D35</td>\n",
              "      <td>S</td>\n",
              "    </tr>\n",
              "    <tr>\n",
              "      <th>872</th>\n",
              "      <td>873</td>\n",
              "      <td>0</td>\n",
              "      <td>1</td>\n",
              "      <td>Carlsson, Mr. Frans Olof</td>\n",
              "      <td>male</td>\n",
              "      <td>33.0</td>\n",
              "      <td>0</td>\n",
              "      <td>0</td>\n",
              "      <td>695</td>\n",
              "      <td>5.0000</td>\n",
              "      <td>B51 B53 B55</td>\n",
              "      <td>S</td>\n",
              "    </tr>\n",
              "    <tr>\n",
              "      <th>879</th>\n",
              "      <td>880</td>\n",
              "      <td>1</td>\n",
              "      <td>1</td>\n",
              "      <td>Potter, Mrs. Thomas Jr (Lily Alexenia Wilson)</td>\n",
              "      <td>female</td>\n",
              "      <td>56.0</td>\n",
              "      <td>0</td>\n",
              "      <td>1</td>\n",
              "      <td>11767</td>\n",
              "      <td>83.1583</td>\n",
              "      <td>C50</td>\n",
              "      <td>C</td>\n",
              "    </tr>\n",
              "    <tr>\n",
              "      <th>887</th>\n",
              "      <td>888</td>\n",
              "      <td>1</td>\n",
              "      <td>1</td>\n",
              "      <td>Graham, Miss. Margaret Edith</td>\n",
              "      <td>female</td>\n",
              "      <td>19.0</td>\n",
              "      <td>0</td>\n",
              "      <td>0</td>\n",
              "      <td>112053</td>\n",
              "      <td>30.0000</td>\n",
              "      <td>B42</td>\n",
              "      <td>S</td>\n",
              "    </tr>\n",
              "    <tr>\n",
              "      <th>889</th>\n",
              "      <td>890</td>\n",
              "      <td>1</td>\n",
              "      <td>1</td>\n",
              "      <td>Behr, Mr. Karl Howell</td>\n",
              "      <td>male</td>\n",
              "      <td>26.0</td>\n",
              "      <td>0</td>\n",
              "      <td>0</td>\n",
              "      <td>111369</td>\n",
              "      <td>30.0000</td>\n",
              "      <td>C148</td>\n",
              "      <td>C</td>\n",
              "    </tr>\n",
              "  </tbody>\n",
              "</table>\n",
              "<p>183 rows × 12 columns</p>\n",
              "</div>\n",
              "      <button class=\"colab-df-convert\" onclick=\"convertToInteractive('df-2194bee7-6161-47fa-9661-28e8aef930bf')\"\n",
              "              title=\"Convert this dataframe to an interactive table.\"\n",
              "              style=\"display:none;\">\n",
              "        \n",
              "  <svg xmlns=\"http://www.w3.org/2000/svg\" height=\"24px\"viewBox=\"0 0 24 24\"\n",
              "       width=\"24px\">\n",
              "    <path d=\"M0 0h24v24H0V0z\" fill=\"none\"/>\n",
              "    <path d=\"M18.56 5.44l.94 2.06.94-2.06 2.06-.94-2.06-.94-.94-2.06-.94 2.06-2.06.94zm-11 1L8.5 8.5l.94-2.06 2.06-.94-2.06-.94L8.5 2.5l-.94 2.06-2.06.94zm10 10l.94 2.06.94-2.06 2.06-.94-2.06-.94-.94-2.06-.94 2.06-2.06.94z\"/><path d=\"M17.41 7.96l-1.37-1.37c-.4-.4-.92-.59-1.43-.59-.52 0-1.04.2-1.43.59L10.3 9.45l-7.72 7.72c-.78.78-.78 2.05 0 2.83L4 21.41c.39.39.9.59 1.41.59.51 0 1.02-.2 1.41-.59l7.78-7.78 2.81-2.81c.8-.78.8-2.07 0-2.86zM5.41 20L4 18.59l7.72-7.72 1.47 1.35L5.41 20z\"/>\n",
              "  </svg>\n",
              "      </button>\n",
              "      \n",
              "  <style>\n",
              "    .colab-df-container {\n",
              "      display:flex;\n",
              "      flex-wrap:wrap;\n",
              "      gap: 12px;\n",
              "    }\n",
              "\n",
              "    .colab-df-convert {\n",
              "      background-color: #E8F0FE;\n",
              "      border: none;\n",
              "      border-radius: 50%;\n",
              "      cursor: pointer;\n",
              "      display: none;\n",
              "      fill: #1967D2;\n",
              "      height: 32px;\n",
              "      padding: 0 0 0 0;\n",
              "      width: 32px;\n",
              "    }\n",
              "\n",
              "    .colab-df-convert:hover {\n",
              "      background-color: #E2EBFA;\n",
              "      box-shadow: 0px 1px 2px rgba(60, 64, 67, 0.3), 0px 1px 3px 1px rgba(60, 64, 67, 0.15);\n",
              "      fill: #174EA6;\n",
              "    }\n",
              "\n",
              "    [theme=dark] .colab-df-convert {\n",
              "      background-color: #3B4455;\n",
              "      fill: #D2E3FC;\n",
              "    }\n",
              "\n",
              "    [theme=dark] .colab-df-convert:hover {\n",
              "      background-color: #434B5C;\n",
              "      box-shadow: 0px 1px 3px 1px rgba(0, 0, 0, 0.15);\n",
              "      filter: drop-shadow(0px 1px 2px rgba(0, 0, 0, 0.3));\n",
              "      fill: #FFFFFF;\n",
              "    }\n",
              "  </style>\n",
              "\n",
              "      <script>\n",
              "        const buttonEl =\n",
              "          document.querySelector('#df-2194bee7-6161-47fa-9661-28e8aef930bf button.colab-df-convert');\n",
              "        buttonEl.style.display =\n",
              "          google.colab.kernel.accessAllowed ? 'block' : 'none';\n",
              "\n",
              "        async function convertToInteractive(key) {\n",
              "          const element = document.querySelector('#df-2194bee7-6161-47fa-9661-28e8aef930bf');\n",
              "          const dataTable =\n",
              "            await google.colab.kernel.invokeFunction('convertToInteractive',\n",
              "                                                     [key], {});\n",
              "          if (!dataTable) return;\n",
              "\n",
              "          const docLinkHtml = 'Like what you see? Visit the ' +\n",
              "            '<a target=\"_blank\" href=https://colab.research.google.com/notebooks/data_table.ipynb>data table notebook</a>'\n",
              "            + ' to learn more about interactive tables.';\n",
              "          element.innerHTML = '';\n",
              "          dataTable['output_type'] = 'display_data';\n",
              "          await google.colab.output.renderOutput(dataTable, element);\n",
              "          const docLink = document.createElement('div');\n",
              "          docLink.innerHTML = docLinkHtml;\n",
              "          element.appendChild(docLink);\n",
              "        }\n",
              "      </script>\n",
              "    </div>\n",
              "  </div>\n",
              "  "
            ]
          },
          "metadata": {},
          "execution_count": 18
        }
      ]
    },
    {
      "cell_type": "markdown",
      "metadata": {
        "id": "BHVSlhgNVwtv"
      },
      "source": [
        "- Data berjumlah 891\n",
        "- Terdapat missing value dan beberapa data kategorik yang harus diatasi "
      ]
    },
    {
      "cell_type": "code",
      "execution_count": null,
      "metadata": {
        "id": "NlYxMe5CXb1b",
        "colab": {
          "base_uri": "https://localhost:8080/",
          "height": 519
        },
        "outputId": "b41bc04d-e439-48d9-f39a-26c05dc0b4e5"
      },
      "outputs": [
        {
          "output_type": "execute_result",
          "data": {
            "text/plain": [
              "     PassengerId  Survived  Pclass  \\\n",
              "1              2         1       1   \n",
              "3              4         1       1   \n",
              "6              7         0       1   \n",
              "10            11         1       3   \n",
              "11            12         1       1   \n",
              "..           ...       ...     ...   \n",
              "871          872         1       1   \n",
              "872          873         0       1   \n",
              "879          880         1       1   \n",
              "887          888         1       1   \n",
              "889          890         1       1   \n",
              "\n",
              "                                                  Name     Sex   Age  SibSp  \\\n",
              "1    Cumings, Mrs. John Bradley (Florence Briggs Th...  female  38.0      1   \n",
              "3         Futrelle, Mrs. Jacques Heath (Lily May Peel)  female  35.0      1   \n",
              "6                              McCarthy, Mr. Timothy J    male  54.0      0   \n",
              "10                     Sandstrom, Miss. Marguerite Rut  female   4.0      1   \n",
              "11                            Bonnell, Miss. Elizabeth  female  58.0      0   \n",
              "..                                                 ...     ...   ...    ...   \n",
              "871   Beckwith, Mrs. Richard Leonard (Sallie Monypeny)  female  47.0      1   \n",
              "872                           Carlsson, Mr. Frans Olof    male  33.0      0   \n",
              "879      Potter, Mrs. Thomas Jr (Lily Alexenia Wilson)  female  56.0      0   \n",
              "887                       Graham, Miss. Margaret Edith  female  19.0      0   \n",
              "889                              Behr, Mr. Karl Howell    male  26.0      0   \n",
              "\n",
              "     Parch    Ticket     Fare        Cabin Embarked  \n",
              "1        0  PC 17599  71.2833          C85        C  \n",
              "3        0    113803  53.1000         C123        S  \n",
              "6        0     17463  51.8625          E46        S  \n",
              "10       1   PP 9549  16.7000           G6        S  \n",
              "11       0    113783  26.5500         C103        S  \n",
              "..     ...       ...      ...          ...      ...  \n",
              "871      1     11751  52.5542          D35        S  \n",
              "872      0       695   5.0000  B51 B53 B55        S  \n",
              "879      1     11767  83.1583          C50        C  \n",
              "887      0    112053  30.0000          B42        S  \n",
              "889      0    111369  30.0000         C148        C  \n",
              "\n",
              "[183 rows x 12 columns]"
            ],
            "text/html": [
              "\n",
              "  <div id=\"df-db846d96-5f53-4590-84ee-1b3b5ec6ef29\">\n",
              "    <div class=\"colab-df-container\">\n",
              "      <div>\n",
              "<style scoped>\n",
              "    .dataframe tbody tr th:only-of-type {\n",
              "        vertical-align: middle;\n",
              "    }\n",
              "\n",
              "    .dataframe tbody tr th {\n",
              "        vertical-align: top;\n",
              "    }\n",
              "\n",
              "    .dataframe thead th {\n",
              "        text-align: right;\n",
              "    }\n",
              "</style>\n",
              "<table border=\"1\" class=\"dataframe\">\n",
              "  <thead>\n",
              "    <tr style=\"text-align: right;\">\n",
              "      <th></th>\n",
              "      <th>PassengerId</th>\n",
              "      <th>Survived</th>\n",
              "      <th>Pclass</th>\n",
              "      <th>Name</th>\n",
              "      <th>Sex</th>\n",
              "      <th>Age</th>\n",
              "      <th>SibSp</th>\n",
              "      <th>Parch</th>\n",
              "      <th>Ticket</th>\n",
              "      <th>Fare</th>\n",
              "      <th>Cabin</th>\n",
              "      <th>Embarked</th>\n",
              "    </tr>\n",
              "  </thead>\n",
              "  <tbody>\n",
              "    <tr>\n",
              "      <th>1</th>\n",
              "      <td>2</td>\n",
              "      <td>1</td>\n",
              "      <td>1</td>\n",
              "      <td>Cumings, Mrs. John Bradley (Florence Briggs Th...</td>\n",
              "      <td>female</td>\n",
              "      <td>38.0</td>\n",
              "      <td>1</td>\n",
              "      <td>0</td>\n",
              "      <td>PC 17599</td>\n",
              "      <td>71.2833</td>\n",
              "      <td>C85</td>\n",
              "      <td>C</td>\n",
              "    </tr>\n",
              "    <tr>\n",
              "      <th>3</th>\n",
              "      <td>4</td>\n",
              "      <td>1</td>\n",
              "      <td>1</td>\n",
              "      <td>Futrelle, Mrs. Jacques Heath (Lily May Peel)</td>\n",
              "      <td>female</td>\n",
              "      <td>35.0</td>\n",
              "      <td>1</td>\n",
              "      <td>0</td>\n",
              "      <td>113803</td>\n",
              "      <td>53.1000</td>\n",
              "      <td>C123</td>\n",
              "      <td>S</td>\n",
              "    </tr>\n",
              "    <tr>\n",
              "      <th>6</th>\n",
              "      <td>7</td>\n",
              "      <td>0</td>\n",
              "      <td>1</td>\n",
              "      <td>McCarthy, Mr. Timothy J</td>\n",
              "      <td>male</td>\n",
              "      <td>54.0</td>\n",
              "      <td>0</td>\n",
              "      <td>0</td>\n",
              "      <td>17463</td>\n",
              "      <td>51.8625</td>\n",
              "      <td>E46</td>\n",
              "      <td>S</td>\n",
              "    </tr>\n",
              "    <tr>\n",
              "      <th>10</th>\n",
              "      <td>11</td>\n",
              "      <td>1</td>\n",
              "      <td>3</td>\n",
              "      <td>Sandstrom, Miss. Marguerite Rut</td>\n",
              "      <td>female</td>\n",
              "      <td>4.0</td>\n",
              "      <td>1</td>\n",
              "      <td>1</td>\n",
              "      <td>PP 9549</td>\n",
              "      <td>16.7000</td>\n",
              "      <td>G6</td>\n",
              "      <td>S</td>\n",
              "    </tr>\n",
              "    <tr>\n",
              "      <th>11</th>\n",
              "      <td>12</td>\n",
              "      <td>1</td>\n",
              "      <td>1</td>\n",
              "      <td>Bonnell, Miss. Elizabeth</td>\n",
              "      <td>female</td>\n",
              "      <td>58.0</td>\n",
              "      <td>0</td>\n",
              "      <td>0</td>\n",
              "      <td>113783</td>\n",
              "      <td>26.5500</td>\n",
              "      <td>C103</td>\n",
              "      <td>S</td>\n",
              "    </tr>\n",
              "    <tr>\n",
              "      <th>...</th>\n",
              "      <td>...</td>\n",
              "      <td>...</td>\n",
              "      <td>...</td>\n",
              "      <td>...</td>\n",
              "      <td>...</td>\n",
              "      <td>...</td>\n",
              "      <td>...</td>\n",
              "      <td>...</td>\n",
              "      <td>...</td>\n",
              "      <td>...</td>\n",
              "      <td>...</td>\n",
              "      <td>...</td>\n",
              "    </tr>\n",
              "    <tr>\n",
              "      <th>871</th>\n",
              "      <td>872</td>\n",
              "      <td>1</td>\n",
              "      <td>1</td>\n",
              "      <td>Beckwith, Mrs. Richard Leonard (Sallie Monypeny)</td>\n",
              "      <td>female</td>\n",
              "      <td>47.0</td>\n",
              "      <td>1</td>\n",
              "      <td>1</td>\n",
              "      <td>11751</td>\n",
              "      <td>52.5542</td>\n",
              "      <td>D35</td>\n",
              "      <td>S</td>\n",
              "    </tr>\n",
              "    <tr>\n",
              "      <th>872</th>\n",
              "      <td>873</td>\n",
              "      <td>0</td>\n",
              "      <td>1</td>\n",
              "      <td>Carlsson, Mr. Frans Olof</td>\n",
              "      <td>male</td>\n",
              "      <td>33.0</td>\n",
              "      <td>0</td>\n",
              "      <td>0</td>\n",
              "      <td>695</td>\n",
              "      <td>5.0000</td>\n",
              "      <td>B51 B53 B55</td>\n",
              "      <td>S</td>\n",
              "    </tr>\n",
              "    <tr>\n",
              "      <th>879</th>\n",
              "      <td>880</td>\n",
              "      <td>1</td>\n",
              "      <td>1</td>\n",
              "      <td>Potter, Mrs. Thomas Jr (Lily Alexenia Wilson)</td>\n",
              "      <td>female</td>\n",
              "      <td>56.0</td>\n",
              "      <td>0</td>\n",
              "      <td>1</td>\n",
              "      <td>11767</td>\n",
              "      <td>83.1583</td>\n",
              "      <td>C50</td>\n",
              "      <td>C</td>\n",
              "    </tr>\n",
              "    <tr>\n",
              "      <th>887</th>\n",
              "      <td>888</td>\n",
              "      <td>1</td>\n",
              "      <td>1</td>\n",
              "      <td>Graham, Miss. Margaret Edith</td>\n",
              "      <td>female</td>\n",
              "      <td>19.0</td>\n",
              "      <td>0</td>\n",
              "      <td>0</td>\n",
              "      <td>112053</td>\n",
              "      <td>30.0000</td>\n",
              "      <td>B42</td>\n",
              "      <td>S</td>\n",
              "    </tr>\n",
              "    <tr>\n",
              "      <th>889</th>\n",
              "      <td>890</td>\n",
              "      <td>1</td>\n",
              "      <td>1</td>\n",
              "      <td>Behr, Mr. Karl Howell</td>\n",
              "      <td>male</td>\n",
              "      <td>26.0</td>\n",
              "      <td>0</td>\n",
              "      <td>0</td>\n",
              "      <td>111369</td>\n",
              "      <td>30.0000</td>\n",
              "      <td>C148</td>\n",
              "      <td>C</td>\n",
              "    </tr>\n",
              "  </tbody>\n",
              "</table>\n",
              "<p>183 rows × 12 columns</p>\n",
              "</div>\n",
              "      <button class=\"colab-df-convert\" onclick=\"convertToInteractive('df-db846d96-5f53-4590-84ee-1b3b5ec6ef29')\"\n",
              "              title=\"Convert this dataframe to an interactive table.\"\n",
              "              style=\"display:none;\">\n",
              "        \n",
              "  <svg xmlns=\"http://www.w3.org/2000/svg\" height=\"24px\"viewBox=\"0 0 24 24\"\n",
              "       width=\"24px\">\n",
              "    <path d=\"M0 0h24v24H0V0z\" fill=\"none\"/>\n",
              "    <path d=\"M18.56 5.44l.94 2.06.94-2.06 2.06-.94-2.06-.94-.94-2.06-.94 2.06-2.06.94zm-11 1L8.5 8.5l.94-2.06 2.06-.94-2.06-.94L8.5 2.5l-.94 2.06-2.06.94zm10 10l.94 2.06.94-2.06 2.06-.94-2.06-.94-.94-2.06-.94 2.06-2.06.94z\"/><path d=\"M17.41 7.96l-1.37-1.37c-.4-.4-.92-.59-1.43-.59-.52 0-1.04.2-1.43.59L10.3 9.45l-7.72 7.72c-.78.78-.78 2.05 0 2.83L4 21.41c.39.39.9.59 1.41.59.51 0 1.02-.2 1.41-.59l7.78-7.78 2.81-2.81c.8-.78.8-2.07 0-2.86zM5.41 20L4 18.59l7.72-7.72 1.47 1.35L5.41 20z\"/>\n",
              "  </svg>\n",
              "      </button>\n",
              "      \n",
              "  <style>\n",
              "    .colab-df-container {\n",
              "      display:flex;\n",
              "      flex-wrap:wrap;\n",
              "      gap: 12px;\n",
              "    }\n",
              "\n",
              "    .colab-df-convert {\n",
              "      background-color: #E8F0FE;\n",
              "      border: none;\n",
              "      border-radius: 50%;\n",
              "      cursor: pointer;\n",
              "      display: none;\n",
              "      fill: #1967D2;\n",
              "      height: 32px;\n",
              "      padding: 0 0 0 0;\n",
              "      width: 32px;\n",
              "    }\n",
              "\n",
              "    .colab-df-convert:hover {\n",
              "      background-color: #E2EBFA;\n",
              "      box-shadow: 0px 1px 2px rgba(60, 64, 67, 0.3), 0px 1px 3px 1px rgba(60, 64, 67, 0.15);\n",
              "      fill: #174EA6;\n",
              "    }\n",
              "\n",
              "    [theme=dark] .colab-df-convert {\n",
              "      background-color: #3B4455;\n",
              "      fill: #D2E3FC;\n",
              "    }\n",
              "\n",
              "    [theme=dark] .colab-df-convert:hover {\n",
              "      background-color: #434B5C;\n",
              "      box-shadow: 0px 1px 3px 1px rgba(0, 0, 0, 0.15);\n",
              "      filter: drop-shadow(0px 1px 2px rgba(0, 0, 0, 0.3));\n",
              "      fill: #FFFFFF;\n",
              "    }\n",
              "  </style>\n",
              "\n",
              "      <script>\n",
              "        const buttonEl =\n",
              "          document.querySelector('#df-db846d96-5f53-4590-84ee-1b3b5ec6ef29 button.colab-df-convert');\n",
              "        buttonEl.style.display =\n",
              "          google.colab.kernel.accessAllowed ? 'block' : 'none';\n",
              "\n",
              "        async function convertToInteractive(key) {\n",
              "          const element = document.querySelector('#df-db846d96-5f53-4590-84ee-1b3b5ec6ef29');\n",
              "          const dataTable =\n",
              "            await google.colab.kernel.invokeFunction('convertToInteractive',\n",
              "                                                     [key], {});\n",
              "          if (!dataTable) return;\n",
              "\n",
              "          const docLinkHtml = 'Like what you see? Visit the ' +\n",
              "            '<a target=\"_blank\" href=https://colab.research.google.com/notebooks/data_table.ipynb>data table notebook</a>'\n",
              "            + ' to learn more about interactive tables.';\n",
              "          element.innerHTML = '';\n",
              "          dataTable['output_type'] = 'display_data';\n",
              "          await google.colab.output.renderOutput(dataTable, element);\n",
              "          const docLink = document.createElement('div');\n",
              "          docLink.innerHTML = docLinkHtml;\n",
              "          element.appendChild(docLink);\n",
              "        }\n",
              "      </script>\n",
              "    </div>\n",
              "  </div>\n",
              "  "
            ]
          },
          "metadata": {},
          "execution_count": 8
        }
      ],
      "source": [
        "# Handle missing value\n",
        "\n",
        "# Imputation one columns, fill missing value with median of a column\n",
        "df['Age'] = df['Age'].fillna(value=df['Age'].median())\n",
        "\n",
        "# Drop column with missing value\n",
        "df = df.dropna(axis=1)\n",
        "df"
      ]
    },
    {
      "cell_type": "markdown",
      "metadata": {
        "id": "DhGb-5dqXyFX"
      },
      "source": [
        "- Kami melakukan penanganan missing value sederhana dengan mengisi kolom **Age** dengan 0, dan menghapus kolom **Cabin**"
      ]
    },
    {
      "cell_type": "code",
      "execution_count": null,
      "metadata": {
        "id": "SYl-5zK9WMAG",
        "colab": {
          "base_uri": "https://localhost:8080/"
        },
        "outputId": "89fbf8a5-8441-456d-ed6d-1a7800530648"
      },
      "outputs": [
        {
          "output_type": "execute_result",
          "data": {
            "text/plain": [
              "PassengerId    183\n",
              "Survived         2\n",
              "Pclass           3\n",
              "Name           183\n",
              "Sex              2\n",
              "Age             63\n",
              "SibSp            4\n",
              "Parch            4\n",
              "Ticket         127\n",
              "Fare            93\n",
              "Cabin          133\n",
              "Embarked         3\n",
              "dtype: int64"
            ]
          },
          "metadata": {},
          "execution_count": 9
        }
      ],
      "source": [
        "# Number of Unqie Value in Every Columns \n",
        "df.nunique()"
      ]
    },
    {
      "cell_type": "markdown",
      "metadata": {
        "id": "dkCyKN41WaLP"
      },
      "source": [
        "- Kolom **Name** dan **PassengerId** tidak diperlukan karena nilainya selalu unik"
      ]
    },
    {
      "cell_type": "code",
      "execution_count": null,
      "metadata": {
        "id": "62-NzRhZWpEf"
      },
      "outputs": [],
      "source": [
        "# Drop Name and PassengerId \n",
        "df = df.drop(['Name','PassengerId'], axis=1)"
      ]
    },
    {
      "cell_type": "markdown",
      "metadata": {
        "id": "w4PJeJ1P9XDB"
      },
      "source": [
        "### Describe The Data"
      ]
    },
    {
      "cell_type": "code",
      "execution_count": null,
      "metadata": {
        "id": "oiRntMEL9nx3",
        "colab": {
          "base_uri": "https://localhost:8080/",
          "height": 300
        },
        "outputId": "61eafed6-4ece-4758-d096-b6fc798d0375"
      },
      "outputs": [
        {
          "output_type": "execute_result",
          "data": {
            "text/plain": [
              "         Survived      Pclass         Age       SibSp       Parch        Fare\n",
              "count  183.000000  183.000000  183.000000  183.000000  183.000000  183.000000\n",
              "mean     0.672131    1.191257   35.674426    0.464481    0.475410   78.682469\n",
              "std      0.470725    0.515187   15.643866    0.644159    0.754617   76.347843\n",
              "min      0.000000    1.000000    0.920000    0.000000    0.000000    0.000000\n",
              "25%      0.000000    1.000000   24.000000    0.000000    0.000000   29.700000\n",
              "50%      1.000000    1.000000   36.000000    0.000000    0.000000   57.000000\n",
              "75%      1.000000    1.000000   47.500000    1.000000    1.000000   90.000000\n",
              "max      1.000000    3.000000   80.000000    3.000000    4.000000  512.329200"
            ],
            "text/html": [
              "\n",
              "  <div id=\"df-5bfb89ea-a537-4b04-9a2e-d8c70636dcdb\">\n",
              "    <div class=\"colab-df-container\">\n",
              "      <div>\n",
              "<style scoped>\n",
              "    .dataframe tbody tr th:only-of-type {\n",
              "        vertical-align: middle;\n",
              "    }\n",
              "\n",
              "    .dataframe tbody tr th {\n",
              "        vertical-align: top;\n",
              "    }\n",
              "\n",
              "    .dataframe thead th {\n",
              "        text-align: right;\n",
              "    }\n",
              "</style>\n",
              "<table border=\"1\" class=\"dataframe\">\n",
              "  <thead>\n",
              "    <tr style=\"text-align: right;\">\n",
              "      <th></th>\n",
              "      <th>Survived</th>\n",
              "      <th>Pclass</th>\n",
              "      <th>Age</th>\n",
              "      <th>SibSp</th>\n",
              "      <th>Parch</th>\n",
              "      <th>Fare</th>\n",
              "    </tr>\n",
              "  </thead>\n",
              "  <tbody>\n",
              "    <tr>\n",
              "      <th>count</th>\n",
              "      <td>183.000000</td>\n",
              "      <td>183.000000</td>\n",
              "      <td>183.000000</td>\n",
              "      <td>183.000000</td>\n",
              "      <td>183.000000</td>\n",
              "      <td>183.000000</td>\n",
              "    </tr>\n",
              "    <tr>\n",
              "      <th>mean</th>\n",
              "      <td>0.672131</td>\n",
              "      <td>1.191257</td>\n",
              "      <td>35.674426</td>\n",
              "      <td>0.464481</td>\n",
              "      <td>0.475410</td>\n",
              "      <td>78.682469</td>\n",
              "    </tr>\n",
              "    <tr>\n",
              "      <th>std</th>\n",
              "      <td>0.470725</td>\n",
              "      <td>0.515187</td>\n",
              "      <td>15.643866</td>\n",
              "      <td>0.644159</td>\n",
              "      <td>0.754617</td>\n",
              "      <td>76.347843</td>\n",
              "    </tr>\n",
              "    <tr>\n",
              "      <th>min</th>\n",
              "      <td>0.000000</td>\n",
              "      <td>1.000000</td>\n",
              "      <td>0.920000</td>\n",
              "      <td>0.000000</td>\n",
              "      <td>0.000000</td>\n",
              "      <td>0.000000</td>\n",
              "    </tr>\n",
              "    <tr>\n",
              "      <th>25%</th>\n",
              "      <td>0.000000</td>\n",
              "      <td>1.000000</td>\n",
              "      <td>24.000000</td>\n",
              "      <td>0.000000</td>\n",
              "      <td>0.000000</td>\n",
              "      <td>29.700000</td>\n",
              "    </tr>\n",
              "    <tr>\n",
              "      <th>50%</th>\n",
              "      <td>1.000000</td>\n",
              "      <td>1.000000</td>\n",
              "      <td>36.000000</td>\n",
              "      <td>0.000000</td>\n",
              "      <td>0.000000</td>\n",
              "      <td>57.000000</td>\n",
              "    </tr>\n",
              "    <tr>\n",
              "      <th>75%</th>\n",
              "      <td>1.000000</td>\n",
              "      <td>1.000000</td>\n",
              "      <td>47.500000</td>\n",
              "      <td>1.000000</td>\n",
              "      <td>1.000000</td>\n",
              "      <td>90.000000</td>\n",
              "    </tr>\n",
              "    <tr>\n",
              "      <th>max</th>\n",
              "      <td>1.000000</td>\n",
              "      <td>3.000000</td>\n",
              "      <td>80.000000</td>\n",
              "      <td>3.000000</td>\n",
              "      <td>4.000000</td>\n",
              "      <td>512.329200</td>\n",
              "    </tr>\n",
              "  </tbody>\n",
              "</table>\n",
              "</div>\n",
              "      <button class=\"colab-df-convert\" onclick=\"convertToInteractive('df-5bfb89ea-a537-4b04-9a2e-d8c70636dcdb')\"\n",
              "              title=\"Convert this dataframe to an interactive table.\"\n",
              "              style=\"display:none;\">\n",
              "        \n",
              "  <svg xmlns=\"http://www.w3.org/2000/svg\" height=\"24px\"viewBox=\"0 0 24 24\"\n",
              "       width=\"24px\">\n",
              "    <path d=\"M0 0h24v24H0V0z\" fill=\"none\"/>\n",
              "    <path d=\"M18.56 5.44l.94 2.06.94-2.06 2.06-.94-2.06-.94-.94-2.06-.94 2.06-2.06.94zm-11 1L8.5 8.5l.94-2.06 2.06-.94-2.06-.94L8.5 2.5l-.94 2.06-2.06.94zm10 10l.94 2.06.94-2.06 2.06-.94-2.06-.94-.94-2.06-.94 2.06-2.06.94z\"/><path d=\"M17.41 7.96l-1.37-1.37c-.4-.4-.92-.59-1.43-.59-.52 0-1.04.2-1.43.59L10.3 9.45l-7.72 7.72c-.78.78-.78 2.05 0 2.83L4 21.41c.39.39.9.59 1.41.59.51 0 1.02-.2 1.41-.59l7.78-7.78 2.81-2.81c.8-.78.8-2.07 0-2.86zM5.41 20L4 18.59l7.72-7.72 1.47 1.35L5.41 20z\"/>\n",
              "  </svg>\n",
              "      </button>\n",
              "      \n",
              "  <style>\n",
              "    .colab-df-container {\n",
              "      display:flex;\n",
              "      flex-wrap:wrap;\n",
              "      gap: 12px;\n",
              "    }\n",
              "\n",
              "    .colab-df-convert {\n",
              "      background-color: #E8F0FE;\n",
              "      border: none;\n",
              "      border-radius: 50%;\n",
              "      cursor: pointer;\n",
              "      display: none;\n",
              "      fill: #1967D2;\n",
              "      height: 32px;\n",
              "      padding: 0 0 0 0;\n",
              "      width: 32px;\n",
              "    }\n",
              "\n",
              "    .colab-df-convert:hover {\n",
              "      background-color: #E2EBFA;\n",
              "      box-shadow: 0px 1px 2px rgba(60, 64, 67, 0.3), 0px 1px 3px 1px rgba(60, 64, 67, 0.15);\n",
              "      fill: #174EA6;\n",
              "    }\n",
              "\n",
              "    [theme=dark] .colab-df-convert {\n",
              "      background-color: #3B4455;\n",
              "      fill: #D2E3FC;\n",
              "    }\n",
              "\n",
              "    [theme=dark] .colab-df-convert:hover {\n",
              "      background-color: #434B5C;\n",
              "      box-shadow: 0px 1px 3px 1px rgba(0, 0, 0, 0.15);\n",
              "      filter: drop-shadow(0px 1px 2px rgba(0, 0, 0, 0.3));\n",
              "      fill: #FFFFFF;\n",
              "    }\n",
              "  </style>\n",
              "\n",
              "      <script>\n",
              "        const buttonEl =\n",
              "          document.querySelector('#df-5bfb89ea-a537-4b04-9a2e-d8c70636dcdb button.colab-df-convert');\n",
              "        buttonEl.style.display =\n",
              "          google.colab.kernel.accessAllowed ? 'block' : 'none';\n",
              "\n",
              "        async function convertToInteractive(key) {\n",
              "          const element = document.querySelector('#df-5bfb89ea-a537-4b04-9a2e-d8c70636dcdb');\n",
              "          const dataTable =\n",
              "            await google.colab.kernel.invokeFunction('convertToInteractive',\n",
              "                                                     [key], {});\n",
              "          if (!dataTable) return;\n",
              "\n",
              "          const docLinkHtml = 'Like what you see? Visit the ' +\n",
              "            '<a target=\"_blank\" href=https://colab.research.google.com/notebooks/data_table.ipynb>data table notebook</a>'\n",
              "            + ' to learn more about interactive tables.';\n",
              "          element.innerHTML = '';\n",
              "          dataTable['output_type'] = 'display_data';\n",
              "          await google.colab.output.renderOutput(dataTable, element);\n",
              "          const docLink = document.createElement('div');\n",
              "          docLink.innerHTML = docLinkHtml;\n",
              "          element.appendChild(docLink);\n",
              "        }\n",
              "      </script>\n",
              "    </div>\n",
              "  </div>\n",
              "  "
            ]
          },
          "metadata": {},
          "execution_count": 12
        }
      ],
      "source": [
        "df.describe() # Hanya menjalankan kolom dengan data numerik"
      ]
    },
    {
      "cell_type": "markdown",
      "metadata": {
        "id": "Ilk0YXPTXHFf"
      },
      "source": [
        "- Kita dapat melakukan analisis statistik deskriptif dengan satu method untuk setiap kolom numerik"
      ]
    },
    {
      "cell_type": "markdown",
      "metadata": {
        "id": "8oDhEbq5QoVA"
      },
      "source": [
        "### Pie Diagram"
      ]
    },
    {
      "cell_type": "code",
      "execution_count": null,
      "metadata": {
        "id": "uiuOAoyvXDqs",
        "colab": {
          "base_uri": "https://localhost:8080/",
          "height": 466
        },
        "outputId": "813c7bb1-aab3-41c6-8318-81791b19877a"
      },
      "outputs": [
        {
          "output_type": "display_data",
          "data": {
            "text/plain": [
              "<Figure size 720x576 with 1 Axes>"
            ],
            "image/png": "[encoded data removed]"
          },
          "metadata": {}
        }
      ],
      "source": [
        "# Pandas plotting with matplotlib\n",
        "df['Survived'].value_counts().plot.pie(explode=[0.1,0.1],autopct='%1.1f%%',shadow=True,figsize=(10,8))\n",
        "plt.show()"
      ]
    },
    {
      "cell_type": "markdown",
      "metadata": {
        "id": "zHyQOeFkXN06"
      },
      "source": [
        "1. `Menampilkan prosentase nilai pada kolom target \"Survived\" menggunakan pie diagram, yang menunjukkan bahwa label 0 lebih banyak dari label 1, namun tidak terlalu imbalanced.`\n",
        "2. `Note: jika data imbalanced dapat menyebabkan model cenderung memprediksi kelas mayoritas, hal ini ditangani dengan beberapa metode sampling/augmentasi data, seperti oversampling dan undersampling, serta dapat menggunakan model dengan pembobotan kelas dan dengan metrik AUC.` "
      ]
    },
    {
      "cell_type": "markdown",
      "metadata": {
        "id": "ZsT8IhGZRix2"
      },
      "source": [
        "### Boxplot\n",
        "[Deskripsi Boxplot](https://towardsdatascience.com/understanding-boxplots-5e2df7bcbd51)\n",
        "\n",
        "![image.png](https://miro.medium.com/max/656/1*2c21SkzJMf3frPXPAR_gZA.png)\n"
      ]
    },
    {
      "cell_type": "code",
      "execution_count": null,
      "metadata": {
        "id": "QwMQbM5XhEe2",
        "colab": {
          "base_uri": "https://localhost:8080/",
          "height": 442
        },
        "outputId": "26b89f07-eca1-47c0-91f9-2b720a1e5b69"
      },
      "outputs": [
        {
          "output_type": "display_data",
          "data": {
            "text/plain": [
              "<Figure size 720x504 with 1 Axes>"
            ],
            "image/png": "[encoded data removed]"
          },
          "metadata": {
            "needs_background": "light"
          }
        }
      ],
      "source": [
        "# Seaborn with Matplotlib\n",
        "fig=plt.gcf()\n",
        "fig.set_size_inches(10,7)\n",
        "fig=sns.boxplot(x='Survived', y='Age', data=df, order=[0,1], linewidth=2.5)"
      ]
    },
    {
      "cell_type": "markdown",
      "metadata": {
        "id": "2vZdHdCM17IY"
      },
      "source": [
        "1. `Menampilkan boxplot nilai \"Age\" untuk masing-masing label target, terlihat bahwa sebaran dalam IQR \"Age\" untuk masing-masing label hampir mirip`\n",
        "2. `Terdapat beberapa data yang keluar dari sebaran (outlier)`"
      ]
    },
    {
      "cell_type": "markdown",
      "metadata": {
        "id": "4neHfh0k0JQL"
      },
      "source": [
        "### Countplot and Barplot (with subplot)\n",
        "\n",
        "`Countplot digunakan untuk menghitung jumlah sample, sedangkan Barplot salah satunya digunakan untuk menghitung rate/prosentase dari sample.`"
      ]
    },
    {
      "cell_type": "code",
      "execution_count": null,
      "metadata": {
        "id": "3Cla7pZM0GK5",
        "colab": {
          "base_uri": "https://localhost:8080/",
          "height": 405
        },
        "outputId": "eb51f1a1-9b58-4175-ac3e-d2246b8a2348"
      },
      "outputs": [
        {
          "output_type": "stream",
          "name": "stderr",
          "text": [
            "/usr/local/lib/python3.9/dist-packages/seaborn/_decorators.py:36: FutureWarning: Pass the following variable as a keyword arg: x. From version 0.12, the only valid positional argument will be `data`, and passing other arguments without an explicit keyword will result in an error or misinterpretation.\n",
            "  warnings.warn(\n"
          ]
        },
        {
          "output_type": "display_data",
          "data": {
            "text/plain": [
              "<Figure size 720x360 with 2 Axes>"
            ],
            "image/png": "[encoded data removed]"
          },
          "metadata": {
            "needs_background": "light"
          }
        }
      ],
      "source": [
        "fig, axarr = plt.subplots(1, 2, figsize=(10,5))\n",
        "a = sns.countplot(df['Sex'], ax=axarr[0], palette=('#003f7f','#ff007f')).set_title('Passengers count by sex')\n",
        "axarr[1].set_title('Survival rate by sex')\n",
        "b = sns.barplot(x='Sex', y='Survived', data=df, palette=('#003f7f','#ff007f'), ci=None, ax=axarr[1]).set_ylabel('Survival rate')"
      ]
    },
    {
      "cell_type": "markdown",
      "metadata": {
        "id": "HkcQC7-f1AdQ"
      },
      "source": [
        "1. `Terlihat sekitar 65% penumpang adalah laki-laki sedangkan 35% sisanya adalah perempuan.`\n",
        "2. `Hal penting yang perlu diperhatikan di sini adalah bahwa tingkat kelangsungan hidup perempuan empat kali lipat tingkat kelangsungan hidup laki-laki dan ini menjadikan kolom Sex salah satu fitur yang paling informatif.`"
      ]
    },
    {
      "cell_type": "code",
      "execution_count": null,
      "metadata": {
        "id": "RtigNV4C4H21",
        "colab": {
          "base_uri": "https://localhost:8080/",
          "height": 404
        },
        "outputId": "c62c9939-1297-4232-b370-2597b411533b"
      },
      "outputs": [
        {
          "output_type": "display_data",
          "data": {
            "text/plain": [
              "<Figure size 864x432 with 2 Axes>"
            ],
            "image/png": "[encoded data removed]"
          },
          "metadata": {
            "needs_background": "light"
          }
        }
      ],
      "source": [
        "fig, axarr = plt.subplots(1,2,figsize=(12,6))\n",
        "a = sns.countplot(x='Pclass', hue='Survived', data=df, palette=('#C52219', '#23C552'), ax=axarr[0]).set_title('Survivors and deads count by class')\n",
        "ax=axarr[1].set_title('Survival rate by class')\n",
        "b = sns.barplot(x='Pclass', y='Survived', data=df, palette=\"Greens\", ci=None, ax=axarr[1]).set_ylabel('Survival rate')"
      ]
    },
    {
      "cell_type": "markdown",
      "metadata": {
        "id": "s5_3I6794uZk"
      },
      "source": [
        "1. `Ada tiga kelas (Pclass) di kapal dan dari plot tersebut terlihat bahwa jumlah penumpang di kelas tiga lebih banyak daripada jumlah penumpang gabungan kelas satu dan dua.`\n",
        "2. `Namun, tingkat kelangsungan hidup berdasarkan kelas tidak sama, lebih dari 60% penumpang kelas satu dan sekitar setengah dari penumpang kelas dua berhasil diselamatkan, sedangkan 75% penumpang kelas tiga tidak dapat selamat dari bencana.`"
      ]
    },
    {
      "cell_type": "markdown",
      "metadata": {
        "id": "qZ1xwXuwYUO8"
      },
      "source": [
        "Secara sederhana telah diberikan contoh EDA, dan data tersebut akan dilanjutkan ke encoding."
      ]
    },
    {
      "cell_type": "markdown",
      "metadata": {
        "id": "aTdcGYtAXgCc"
      },
      "source": [
        "## Methods for Encoding [1](https://towardsdatascience.com/how-to-encode-categorical-data-d44dde313131) & [2](https://towardsdatascience.com/5-categorical-encoding-tricks-you-need-to-know-today-as-a-data-scientist-73cf75595298) Before Modeling\n"
      ]
    },
    {
      "cell_type": "markdown",
      "metadata": {
        "id": "0ddXfp5aaaI9"
      },
      "source": [
        "- **Label Encoding** adalah pengubahan label menjadi bentuk numerik untuk mengubahnya menjadi bentuk yang dapat dibaca mesin. Algoritma pembelajaran mesin kemudian dapat memutuskan dengan cara yang lebih baik tentang bagaimana label tersebut harus dioperasikan. \n",
        "- **One Hot Encoding** adalah proses yang dikenal sebagai pengkodean variabel kategori menjadi variabel dummy. Metode pengolahan data ini mengubah kolom kategorikal biner (yes / no, male / female,…) menjadi vektor biner 0/1 dimana 0 menunjukkan tidak adanya baris yang termasuk dalam kategori tersebut. Metode ini bisa rumit jika digunakan untuk variabel multidimensi non-biner yang akan menghasilkan penambahan kolom yang tidak berguna. Misalnya, jika kita memiliki kolom yang mewakili x warna, satu pengkodean panas akan menghasilkan x kolom tambahan (warna_hijau, warna_biru,…). \n",
        "- dll"
      ]
    },
    {
      "cell_type": "code",
      "execution_count": null,
      "metadata": {
        "id": "NYfl51xPh7-p",
        "colab": {
          "base_uri": "https://localhost:8080/",
          "height": 206
        },
        "outputId": "a92ec18e-58c3-451a-f690-63e12113703e"
      },
      "outputs": [
        {
          "output_type": "execute_result",
          "data": {
            "text/plain": [
              "    Survived  Pclass     Sex   Age  SibSp  Parch    Ticket     Fare Cabin  \\\n",
              "1          1       1  female  38.0      1      0  PC 17599  71.2833   C85   \n",
              "3          1       1  female  35.0      1      0    113803  53.1000  C123   \n",
              "6          0       1    male  54.0      0      0     17463  51.8625   E46   \n",
              "10         1       3  female   4.0      1      1   PP 9549  16.7000    G6   \n",
              "11         1       1  female  58.0      0      0    113783  26.5500  C103   \n",
              "\n",
              "   Embarked  \n",
              "1         C  \n",
              "3         S  \n",
              "6         S  \n",
              "10        S  \n",
              "11        S  "
            ],
            "text/html": [
              "\n",
              "  <div id=\"df-262c394f-5a61-4b68-94de-f19e89161ff1\">\n",
              "    <div class=\"colab-df-container\">\n",
              "      <div>\n",
              "<style scoped>\n",
              "    .dataframe tbody tr th:only-of-type {\n",
              "        vertical-align: middle;\n",
              "    }\n",
              "\n",
              "    .dataframe tbody tr th {\n",
              "        vertical-align: top;\n",
              "    }\n",
              "\n",
              "    .dataframe thead th {\n",
              "        text-align: right;\n",
              "    }\n",
              "</style>\n",
              "<table border=\"1\" class=\"dataframe\">\n",
              "  <thead>\n",
              "    <tr style=\"text-align: right;\">\n",
              "      <th></th>\n",
              "      <th>Survived</th>\n",
              "      <th>Pclass</th>\n",
              "      <th>Sex</th>\n",
              "      <th>Age</th>\n",
              "      <th>SibSp</th>\n",
              "      <th>Parch</th>\n",
              "      <th>Ticket</th>\n",
              "      <th>Fare</th>\n",
              "      <th>Cabin</th>\n",
              "      <th>Embarked</th>\n",
              "    </tr>\n",
              "  </thead>\n",
              "  <tbody>\n",
              "    <tr>\n",
              "      <th>1</th>\n",
              "      <td>1</td>\n",
              "      <td>1</td>\n",
              "      <td>female</td>\n",
              "      <td>38.0</td>\n",
              "      <td>1</td>\n",
              "      <td>0</td>\n",
              "      <td>PC 17599</td>\n",
              "      <td>71.2833</td>\n",
              "      <td>C85</td>\n",
              "      <td>C</td>\n",
              "    </tr>\n",
              "    <tr>\n",
              "      <th>3</th>\n",
              "      <td>1</td>\n",
              "      <td>1</td>\n",
              "      <td>female</td>\n",
              "      <td>35.0</td>\n",
              "      <td>1</td>\n",
              "      <td>0</td>\n",
              "      <td>113803</td>\n",
              "      <td>53.1000</td>\n",
              "      <td>C123</td>\n",
              "      <td>S</td>\n",
              "    </tr>\n",
              "    <tr>\n",
              "      <th>6</th>\n",
              "      <td>0</td>\n",
              "      <td>1</td>\n",
              "      <td>male</td>\n",
              "      <td>54.0</td>\n",
              "      <td>0</td>\n",
              "      <td>0</td>\n",
              "      <td>17463</td>\n",
              "      <td>51.8625</td>\n",
              "      <td>E46</td>\n",
              "      <td>S</td>\n",
              "    </tr>\n",
              "    <tr>\n",
              "      <th>10</th>\n",
              "      <td>1</td>\n",
              "      <td>3</td>\n",
              "      <td>female</td>\n",
              "      <td>4.0</td>\n",
              "      <td>1</td>\n",
              "      <td>1</td>\n",
              "      <td>PP 9549</td>\n",
              "      <td>16.7000</td>\n",
              "      <td>G6</td>\n",
              "      <td>S</td>\n",
              "    </tr>\n",
              "    <tr>\n",
              "      <th>11</th>\n",
              "      <td>1</td>\n",
              "      <td>1</td>\n",
              "      <td>female</td>\n",
              "      <td>58.0</td>\n",
              "      <td>0</td>\n",
              "      <td>0</td>\n",
              "      <td>113783</td>\n",
              "      <td>26.5500</td>\n",
              "      <td>C103</td>\n",
              "      <td>S</td>\n",
              "    </tr>\n",
              "  </tbody>\n",
              "</table>\n",
              "</div>\n",
              "      <button class=\"colab-df-convert\" onclick=\"convertToInteractive('df-262c394f-5a61-4b68-94de-f19e89161ff1')\"\n",
              "              title=\"Convert this dataframe to an interactive table.\"\n",
              "              style=\"display:none;\">\n",
              "        \n",
              "  <svg xmlns=\"http://www.w3.org/2000/svg\" height=\"24px\"viewBox=\"0 0 24 24\"\n",
              "       width=\"24px\">\n",
              "    <path d=\"M0 0h24v24H0V0z\" fill=\"none\"/>\n",
              "    <path d=\"M18.56 5.44l.94 2.06.94-2.06 2.06-.94-2.06-.94-.94-2.06-.94 2.06-2.06.94zm-11 1L8.5 8.5l.94-2.06 2.06-.94-2.06-.94L8.5 2.5l-.94 2.06-2.06.94zm10 10l.94 2.06.94-2.06 2.06-.94-2.06-.94-.94-2.06-.94 2.06-2.06.94z\"/><path d=\"M17.41 7.96l-1.37-1.37c-.4-.4-.92-.59-1.43-.59-.52 0-1.04.2-1.43.59L10.3 9.45l-7.72 7.72c-.78.78-.78 2.05 0 2.83L4 21.41c.39.39.9.59 1.41.59.51 0 1.02-.2 1.41-.59l7.78-7.78 2.81-2.81c.8-.78.8-2.07 0-2.86zM5.41 20L4 18.59l7.72-7.72 1.47 1.35L5.41 20z\"/>\n",
              "  </svg>\n",
              "      </button>\n",
              "      \n",
              "  <style>\n",
              "    .colab-df-container {\n",
              "      display:flex;\n",
              "      flex-wrap:wrap;\n",
              "      gap: 12px;\n",
              "    }\n",
              "\n",
              "    .colab-df-convert {\n",
              "      background-color: #E8F0FE;\n",
              "      border: none;\n",
              "      border-radius: 50%;\n",
              "      cursor: pointer;\n",
              "      display: none;\n",
              "      fill: #1967D2;\n",
              "      height: 32px;\n",
              "      padding: 0 0 0 0;\n",
              "      width: 32px;\n",
              "    }\n",
              "\n",
              "    .colab-df-convert:hover {\n",
              "      background-color: #E2EBFA;\n",
              "      box-shadow: 0px 1px 2px rgba(60, 64, 67, 0.3), 0px 1px 3px 1px rgba(60, 64, 67, 0.15);\n",
              "      fill: #174EA6;\n",
              "    }\n",
              "\n",
              "    [theme=dark] .colab-df-convert {\n",
              "      background-color: #3B4455;\n",
              "      fill: #D2E3FC;\n",
              "    }\n",
              "\n",
              "    [theme=dark] .colab-df-convert:hover {\n",
              "      background-color: #434B5C;\n",
              "      box-shadow: 0px 1px 3px 1px rgba(0, 0, 0, 0.15);\n",
              "      filter: drop-shadow(0px 1px 2px rgba(0, 0, 0, 0.3));\n",
              "      fill: #FFFFFF;\n",
              "    }\n",
              "  </style>\n",
              "\n",
              "      <script>\n",
              "        const buttonEl =\n",
              "          document.querySelector('#df-262c394f-5a61-4b68-94de-f19e89161ff1 button.colab-df-convert');\n",
              "        buttonEl.style.display =\n",
              "          google.colab.kernel.accessAllowed ? 'block' : 'none';\n",
              "\n",
              "        async function convertToInteractive(key) {\n",
              "          const element = document.querySelector('#df-262c394f-5a61-4b68-94de-f19e89161ff1');\n",
              "          const dataTable =\n",
              "            await google.colab.kernel.invokeFunction('convertToInteractive',\n",
              "                                                     [key], {});\n",
              "          if (!dataTable) return;\n",
              "\n",
              "          const docLinkHtml = 'Like what you see? Visit the ' +\n",
              "            '<a target=\"_blank\" href=https://colab.research.google.com/notebooks/data_table.ipynb>data table notebook</a>'\n",
              "            + ' to learn more about interactive tables.';\n",
              "          element.innerHTML = '';\n",
              "          dataTable['output_type'] = 'display_data';\n",
              "          await google.colab.output.renderOutput(dataTable, element);\n",
              "          const docLink = document.createElement('div');\n",
              "          docLink.innerHTML = docLinkHtml;\n",
              "          element.appendChild(docLink);\n",
              "        }\n",
              "      </script>\n",
              "    </div>\n",
              "  </div>\n",
              "  "
            ]
          },
          "metadata": {},
          "execution_count": 17
        }
      ],
      "source": [
        "dataset = df.copy()\n",
        "dataset.head()"
      ]
    },
    {
      "cell_type": "code",
      "execution_count": null,
      "metadata": {
        "id": "E0s4vtxFXgby",
        "colab": {
          "base_uri": "https://localhost:8080/",
          "height": 206
        },
        "outputId": "8f070af8-55c2-4840-fe0e-fc72b5ebbb9d"
      },
      "outputs": [
        {
          "output_type": "execute_result",
          "data": {
            "text/plain": [
              "    Survived  Pclass  Sex   Age  SibSp  Parch  Ticket     Fare  Cabin  \\\n",
              "1          1       1    0  38.0      1      0     109  71.2833     72   \n",
              "3          1       1    0  35.0      1      0      31  53.1000     48   \n",
              "6          0       1    1  54.0      0      0      55  51.8625    117   \n",
              "10         1       3    0   4.0      1      1     120  16.7000    131   \n",
              "11         1       1    0  58.0      0      0      26  26.5500     43   \n",
              "\n",
              "    Embarked  \n",
              "1          0  \n",
              "3          2  \n",
              "6          2  \n",
              "10         2  \n",
              "11         2  "
            ],
            "text/html": [
              "\n",
              "  <div id=\"df-a1dd4a43-0297-42ac-b8fa-bec1cb3512f0\">\n",
              "    <div class=\"colab-df-container\">\n",
              "      <div>\n",
              "<style scoped>\n",
              "    .dataframe tbody tr th:only-of-type {\n",
              "        vertical-align: middle;\n",
              "    }\n",
              "\n",
              "    .dataframe tbody tr th {\n",
              "        vertical-align: top;\n",
              "    }\n",
              "\n",
              "    .dataframe thead th {\n",
              "        text-align: right;\n",
              "    }\n",
              "</style>\n",
              "<table border=\"1\" class=\"dataframe\">\n",
              "  <thead>\n",
              "    <tr style=\"text-align: right;\">\n",
              "      <th></th>\n",
              "      <th>Survived</th>\n",
              "      <th>Pclass</th>\n",
              "      <th>Sex</th>\n",
              "      <th>Age</th>\n",
              "      <th>SibSp</th>\n",
              "      <th>Parch</th>\n",
              "      <th>Ticket</th>\n",
              "      <th>Fare</th>\n",
              "      <th>Cabin</th>\n",
              "      <th>Embarked</th>\n",
              "    </tr>\n",
              "  </thead>\n",
              "  <tbody>\n",
              "    <tr>\n",
              "      <th>1</th>\n",
              "      <td>1</td>\n",
              "      <td>1</td>\n",
              "      <td>0</td>\n",
              "      <td>38.0</td>\n",
              "      <td>1</td>\n",
              "      <td>0</td>\n",
              "      <td>109</td>\n",
              "      <td>71.2833</td>\n",
              "      <td>72</td>\n",
              "      <td>0</td>\n",
              "    </tr>\n",
              "    <tr>\n",
              "      <th>3</th>\n",
              "      <td>1</td>\n",
              "      <td>1</td>\n",
              "      <td>0</td>\n",
              "      <td>35.0</td>\n",
              "      <td>1</td>\n",
              "      <td>0</td>\n",
              "      <td>31</td>\n",
              "      <td>53.1000</td>\n",
              "      <td>48</td>\n",
              "      <td>2</td>\n",
              "    </tr>\n",
              "    <tr>\n",
              "      <th>6</th>\n",
              "      <td>0</td>\n",
              "      <td>1</td>\n",
              "      <td>1</td>\n",
              "      <td>54.0</td>\n",
              "      <td>0</td>\n",
              "      <td>0</td>\n",
              "      <td>55</td>\n",
              "      <td>51.8625</td>\n",
              "      <td>117</td>\n",
              "      <td>2</td>\n",
              "    </tr>\n",
              "    <tr>\n",
              "      <th>10</th>\n",
              "      <td>1</td>\n",
              "      <td>3</td>\n",
              "      <td>0</td>\n",
              "      <td>4.0</td>\n",
              "      <td>1</td>\n",
              "      <td>1</td>\n",
              "      <td>120</td>\n",
              "      <td>16.7000</td>\n",
              "      <td>131</td>\n",
              "      <td>2</td>\n",
              "    </tr>\n",
              "    <tr>\n",
              "      <th>11</th>\n",
              "      <td>1</td>\n",
              "      <td>1</td>\n",
              "      <td>0</td>\n",
              "      <td>58.0</td>\n",
              "      <td>0</td>\n",
              "      <td>0</td>\n",
              "      <td>26</td>\n",
              "      <td>26.5500</td>\n",
              "      <td>43</td>\n",
              "      <td>2</td>\n",
              "    </tr>\n",
              "  </tbody>\n",
              "</table>\n",
              "</div>\n",
              "      <button class=\"colab-df-convert\" onclick=\"convertToInteractive('df-a1dd4a43-0297-42ac-b8fa-bec1cb3512f0')\"\n",
              "              title=\"Convert this dataframe to an interactive table.\"\n",
              "              style=\"display:none;\">\n",
              "        \n",
              "  <svg xmlns=\"http://www.w3.org/2000/svg\" height=\"24px\"viewBox=\"0 0 24 24\"\n",
              "       width=\"24px\">\n",
              "    <path d=\"M0 0h24v24H0V0z\" fill=\"none\"/>\n",
              "    <path d=\"M18.56 5.44l.94 2.06.94-2.06 2.06-.94-2.06-.94-.94-2.06-.94 2.06-2.06.94zm-11 1L8.5 8.5l.94-2.06 2.06-.94-2.06-.94L8.5 2.5l-.94 2.06-2.06.94zm10 10l.94 2.06.94-2.06 2.06-.94-2.06-.94-.94-2.06-.94 2.06-2.06.94z\"/><path d=\"M17.41 7.96l-1.37-1.37c-.4-.4-.92-.59-1.43-.59-.52 0-1.04.2-1.43.59L10.3 9.45l-7.72 7.72c-.78.78-.78 2.05 0 2.83L4 21.41c.39.39.9.59 1.41.59.51 0 1.02-.2 1.41-.59l7.78-7.78 2.81-2.81c.8-.78.8-2.07 0-2.86zM5.41 20L4 18.59l7.72-7.72 1.47 1.35L5.41 20z\"/>\n",
              "  </svg>\n",
              "      </button>\n",
              "      \n",
              "  <style>\n",
              "    .colab-df-container {\n",
              "      display:flex;\n",
              "      flex-wrap:wrap;\n",
              "      gap: 12px;\n",
              "    }\n",
              "\n",
              "    .colab-df-convert {\n",
              "      background-color: #E8F0FE;\n",
              "      border: none;\n",
              "      border-radius: 50%;\n",
              "      cursor: pointer;\n",
              "      display: none;\n",
              "      fill: #1967D2;\n",
              "      height: 32px;\n",
              "      padding: 0 0 0 0;\n",
              "      width: 32px;\n",
              "    }\n",
              "\n",
              "    .colab-df-convert:hover {\n",
              "      background-color: #E2EBFA;\n",
              "      box-shadow: 0px 1px 2px rgba(60, 64, 67, 0.3), 0px 1px 3px 1px rgba(60, 64, 67, 0.15);\n",
              "      fill: #174EA6;\n",
              "    }\n",
              "\n",
              "    [theme=dark] .colab-df-convert {\n",
              "      background-color: #3B4455;\n",
              "      fill: #D2E3FC;\n",
              "    }\n",
              "\n",
              "    [theme=dark] .colab-df-convert:hover {\n",
              "      background-color: #434B5C;\n",
              "      box-shadow: 0px 1px 3px 1px rgba(0, 0, 0, 0.15);\n",
              "      filter: drop-shadow(0px 1px 2px rgba(0, 0, 0, 0.3));\n",
              "      fill: #FFFFFF;\n",
              "    }\n",
              "  </style>\n",
              "\n",
              "      <script>\n",
              "        const buttonEl =\n",
              "          document.querySelector('#df-a1dd4a43-0297-42ac-b8fa-bec1cb3512f0 button.colab-df-convert');\n",
              "        buttonEl.style.display =\n",
              "          google.colab.kernel.accessAllowed ? 'block' : 'none';\n",
              "\n",
              "        async function convertToInteractive(key) {\n",
              "          const element = document.querySelector('#df-a1dd4a43-0297-42ac-b8fa-bec1cb3512f0');\n",
              "          const dataTable =\n",
              "            await google.colab.kernel.invokeFunction('convertToInteractive',\n",
              "                                                     [key], {});\n",
              "          if (!dataTable) return;\n",
              "\n",
              "          const docLinkHtml = 'Like what you see? Visit the ' +\n",
              "            '<a target=\"_blank\" href=https://colab.research.google.com/notebooks/data_table.ipynb>data table notebook</a>'\n",
              "            + ' to learn more about interactive tables.';\n",
              "          element.innerHTML = '';\n",
              "          dataTable['output_type'] = 'display_data';\n",
              "          await google.colab.output.renderOutput(dataTable, element);\n",
              "          const docLink = document.createElement('div');\n",
              "          docLink.innerHTML = docLinkHtml;\n",
              "          element.appendChild(docLink);\n",
              "        }\n",
              "      </script>\n",
              "    </div>\n",
              "  </div>\n",
              "  "
            ]
          },
          "metadata": {},
          "execution_count": 18
        }
      ],
      "source": [
        "from sklearn.preprocessing import LabelEncoder\n",
        "\n",
        "# Label Encoding\n",
        "encoder = LabelEncoder() # method initialization\n",
        "\n",
        "# Looping for columns except Survived\n",
        "for c in dataset.columns[1:]:  \n",
        "    if(dataset[c].dtype=='object'): # if column type = object (like \"Tiket\" and \"Sex\")\n",
        "        dataset[c] = encoder.fit_transform(dataset[c])\n",
        "    else: # else get the self column value without encode\n",
        "        dataset[c] = dataset[c]\n",
        "\n",
        "dataset.head()    "
      ]
    },
    {
      "cell_type": "markdown",
      "metadata": {
        "id": "PQVOCcZ4du7r"
      },
      "source": [
        "- Kami menggunakan Label Encoding untuk mengubah tipe data kategorikal pada kolom Tiket dan Sex menjadi numerikal dengan angka acak 0-(jumlah_data_unik-1) "
      ]
    },
    {
      "cell_type": "code",
      "execution_count": null,
      "metadata": {
        "id": "S6GtYDzJbbZp"
      },
      "outputs": [],
      "source": [
        "from sklearn.preprocessing import OneHotEncoder\n",
        "\n",
        "# OneHot Encoding\n",
        "encoder = OneHotEncoder() # method initialization\n",
        "# Get all binary expanded columns from column Pclass\n",
        "train_X_encoded = encoder.fit_transform(dataset[['Pclass']])\n",
        "\n",
        "# Get all name expanded columns from column Pclass\n",
        "column_name = encoder.get_feature_names(['Pclass'])\n",
        "\n",
        "# Store to DataFrame\n",
        "one_hot_encoded_frame =  pd.DataFrame(train_X_encoded.todense(), columns=column_name).astype(int) # Keep it on integer dtype\n",
        "\n",
        "# Create the columns name on dataset, and drop the original Pclass column\n",
        "dataset[column_name] = one_hot_encoded_frame\n",
        "dataset = dataset.drop('Pclass', axis=1)\n",
        "\n",
        "dataset.head() "
      ]
    },
    {
      "cell_type": "markdown",
      "metadata": {
        "id": "4P7yiOeneDIE"
      },
      "source": [
        "- Lalu kami memecah kolom Pclass menjadi kolom dengan data biner untuk setiap nilai yang ada di kolo Pclass menggunakan OneHot Encoder"
      ]
    },
    {
      "cell_type": "markdown",
      "metadata": {
        "id": "gBS0ybHVXbyA"
      },
      "source": [
        "# Introduction to Random Forest Algorithm with Python"
      ]
    },
    {
      "cell_type": "markdown",
      "metadata": {
        "id": "cmAEBZEyX0jz"
      },
      "source": [
        "Algoritma Random Forest adalah algoritma yang paling umum untuk digunakan dalam kompetisi ML seperti kompetisi Kaggle, Jika Anda pernah mencari algoritma ML yang mudah digunakan dan akurat, Anda kadang akan mendapatkan Random Forest di hasil teratas.\n",
        "Untuk memahami algoritma Random forest, Anda harus terbiasa dengan Decision tree terlebih dahulu."
      ]
    },
    {
      "cell_type": "markdown",
      "metadata": {
        "id": "Ecxpu093YGFz"
      },
      "source": [
        "## Apa itu  Decision Tree?\n",
        "*  Decision Tree adalah model prediksi yang menggunakan sekumpulan aturan biner untuk menghitung nilai target.\n",
        "* Ada dua jenis pohon keputusan yaitu pohon klasifikasi dan regresi\n",
        "pohon.\n",
        "*  Decision Tree Classifier digunakan untuk membuat output berupa data kategorikal seperti keputusan ya dan tidak.\n",
        "*  Decision Tree Regression digunakan untuk membuat output berupa data kontinu seperti nilai prosentase.\n",
        "* Setiap Tree adalah model yang cukup sederhana yang memiliki branches, nodes and leaves.\n",
        "* Node berisi atribut yang bergantung pada fungsi tujuan."
      ]
    },
    {
      "cell_type": "markdown",
      "metadata": {
        "id": "2ZnpzjGDYTn0"
      },
      "source": [
        "Sekarang setelah Anda terbiasa dengan Decision Tree, Anda siap untuk memahami Random Forest.\n",
        "\n",
        "## Apa itu Random Forest?\n",
        "Leo Breiman mendefinisikan itu pada [penelitiannya](https://medium.com/r/?url=https%3A%2F%2Fwww.stat.berkeley.edu%2F~breiman%2Frandomforest2001.pdf), “ Random forests adalah kombinasi prediktor pohon sehingga setiap pohon bergantung pada nilai vektor acak yang diambil sampelnya secara independen dan dengan distribusi yang sama untuk semua pohon di hutan ” \n",
        "\n",
        "Definisi lain “Random Forest adalah pengklasifikasi yang terdiri dari kumpulan pengklasifikasi pohon terstruktur {h(x,Θk ), k=1, ...} di mana {Θk} adalah vektor acak yang terdistribusi secara independen dan identik dan setiap pohon membentuk sebuah unit pilih kelas paling populer di input x ”\n",
        "Singkatnya, Random forest membangun beberapa pohon keputusan dan menggabungkannya untuk mendapatkan prediksi yang lebih akurat dan stabil. "
      ]
    },
    {
      "cell_type": "markdown",
      "metadata": {
        "id": "v92kOY_pf7UJ"
      },
      "source": [
        "## Keuntungan dari Random Forests \n",
        "* Dapat digunakan untuk masalah klasifikasi dan regresi\n",
        "* Pengurangan overfitting: dengan rata-rata beberapa pohon, risiko overfitting jauh lebih rendah.\n",
        "* Hutan acak membuat prediksi yang salah hanya jika lebih dari setengah pengklasifikasi dasar salah\n",
        "* Sangat mudah untuk mengukur kepentingan relatif setiap fitur pada prediksi. Sklearn menyediakan pustaka untuk ini\n",
        "\n",
        "Karena itu, ini lebih akurat daripada kebanyakan algoritma lainnya.\n",
        "\n",
        "## Kerugian dari Random Forests\n",
        "* Hutan acak telah diamati untuk menyesuaikan secara berlebihan beberapa set data dengan tugas klasifikasi / regresi yang berisik.\n",
        "* Ini lebih kompleks dan mahal secara komputasi daripada algoritma pohon keputusan."
      ]
    },
    {
      "cell_type": "markdown",
      "metadata": {
        "id": "srTTMZkAgNlf"
      },
      "source": [
        "## Terminologi penting tentang Decision Trees dan Random Forest [[1]](https://www.analyticsvidhya.com/blog/2016/04/complete-tutorial-tree-based-modeling-scratch-in-python/)\n",
        "Mari kita lihat terminologi dasar yang digunakan dengan decision trees dan random forests :\n",
        "1. Root Node: Ini mewakili seluruh populasi atau sampel dan ini selanjutnya dibagi menjadi dua atau lebih set homogen.\n",
        "2. Splitting: Ini adalah proses membagi node menjadi dua atau lebih sub-node.\n",
        "3. Decision Node: Ketika sebuah sub-node terpecah menjadi beberapa sub-node, maka itu disebut node keputusan.\n",
        "4. Leaf/ Terminal Node: Node yang tidak terpecah disebut node Leaf atau Terminal.\n",
        "5. Pruning: Saat kita menghapus sub-node dari simpul keputusan, proses ini disebut pemangkasan. Anda dapat mengatakan proses pemisahan yang berlawanan.\n",
        "6. Branch / Sub-Tree: Sebuah sub-bagian dari seluruh pohon disebut cabang atau sub-tree.\n",
        "7. Parent and Child Node: Node yang dibagi menjadi beberapa sub-node disebut node parent dari sub-node dimana sub-node adalah child dari node parent. "
      ]
    },
    {
      "cell_type": "markdown",
      "metadata": {
        "id": "svIZEMP-XbFB"
      },
      "source": [
        "Setelah kita mengetahui beberapa hal penting tentang random forest, mari kita gunakan algoritma ini di beberapa dataset, Dalam kasus kita, kita akan menggunakan   [Kaggle's titanic survivors dataset](https://www.kaggle.com/c/titanic/data).\n",
        "\n",
        "Dan kemudian kami akan menggunakan neural network serta beberapa model lain untuk membandingkan hasilnya. "
      ]
    },
    {
      "cell_type": "markdown",
      "metadata": {
        "id": "e4syv3jgZYSm"
      },
      "source": [
        "## Import needed dependencies for modeling:"
      ]
    },
    {
      "cell_type": "code",
      "execution_count": null,
      "metadata": {
        "id": "Syg4fgOvQALJ"
      },
      "outputs": [],
      "source": [
        "from time import time\n",
        "from sklearn.model_selection import train_test_split\n",
        "from keras.models import Sequential\n",
        "from keras.layers import Dense, Activation, Flatten\n",
        "from sklearn.ensemble import RandomForestClassifier\n",
        "from sklearn.metrics import f1_score\n",
        "from sklearn.metrics import accuracy_score\n",
        "from keras.callbacks import ModelCheckpoint"
      ]
    },
    {
      "cell_type": "code",
      "execution_count": null,
      "metadata": {
        "id": "1hkXCEM5XPv7"
      },
      "outputs": [],
      "source": [
        "y = dataset['Survived']\n",
        "X = dataset.drop(['Survived'], axis = 1)\n",
        "\n",
        "# Split the dataset to trainand test data\n",
        "train_X, test_X, train_y, test_y = train_test_split(X, y, test_size=0.25, random_state=0)"
      ]
    },
    {
      "cell_type": "markdown",
      "metadata": {
        "id": "zmbd2WT-eSZf"
      },
      "source": [
        "- Split data dengan porsi data test 25%"
      ]
    },
    {
      "cell_type": "markdown",
      "metadata": {
        "id": "ea71LIIVZmTt"
      },
      "source": [
        "## Set the parameters for the random forest model :"
      ]
    },
    {
      "cell_type": "code",
      "execution_count": null,
      "metadata": {
        "id": "OZWbSS6fJdAa"
      },
      "outputs": [],
      "source": [
        "parameters = {'bootstrap': True,\n",
        "              'min_samples_leaf': 3,\n",
        "              'n_estimators': 50, \n",
        "              'min_samples_split': 10,\n",
        "              'max_features': 'sqrt',\n",
        "              'max_depth': 6,\n",
        "              'max_leaf_nodes': None}"
      ]
    },
    {
      "cell_type": "markdown",
      "metadata": {
        "id": "Rshkfa_hO90w"
      },
      "source": [
        "## Hyperparameters of Sklearn Random forest classifier[[2]](http://scikit-learn.org/stable/modules/generated/sklearn.ensemble.RandomForestClassifier.html) :\n",
        "\n",
        "*\t**bootstrap** : boolean, optional (default=True)\n",
        "\n",
        "> Whether bootstrap samples are used when building trees.\n",
        "\n",
        "*\t**min_samples_leaf** : int, float, optional (default=1)\n",
        "\n",
        "> The minimum number of samples required to be at a leaf node:\n",
        "\n",
        "> - If int, then consider min_samples_leaf as the minimum number.\n",
        "\n",
        "> - If float, then min_samples_leaf is a percentage and ceil(min_samples_leaf * n_samples) are the minimum number of samples for each node.\n",
        "\n",
        "* **n_estimators** : integer, optional (default=10)\n",
        "> The number of trees in the forest.\n",
        "\n",
        "* \t**min_samples_split** :  int, float, optional (default=2)\n",
        "> The minimum number of samples required to split an internal node:\n",
        "\n",
        "> - If int, then consider min_samples_split as the minimum number.\n",
        "> -\tIf float, then min_samples_split is a percentage and ceil(min_samples_split * n_samples) are the minimum number of samples for each split.\n",
        "\n",
        "*\t**max_features** : int, float, string or None, optional (default=”auto”)\n",
        "> The number of features to consider when looking for the best split:\n",
        "\n",
        "> -\tIf int, then consider max_features features at each split.\n",
        "> -If float, then max_features is a percentage and int(max_features * n_features) features are considered at each split.\n",
        "> -\tIf “auto”, then max_features=sqrt(n_features).\n",
        "> -\tIf “sqrt”, then max_features=sqrt(n_features) (same as “auto”).\n",
        "> -\tIf “log2”, then max_features=log2(n_features).\n",
        "> -\tIf None, then max_features=n_features.\n",
        "\n",
        "\n",
        "*\t**max_depth** :  integer or None, optional (default=None)\n",
        "> The maximum depth of the tree. If None, then nodes are expanded until all leaves are pure or until all leaves contain less than min_samples_split samples.\n",
        "\n",
        "\n",
        "*\t**max_leaf_nodes** : int or None, optional (default=None)\n",
        "> Grow trees with max_leaf_nodes in best-first fashion. Best nodes are defined as relative reduction in impurity. If None then unlimited number of leaf nodes.\n",
        "\n",
        "\n",
        "If you want to learn more about the rest of hyperparameters , check out  [sklearn.ensemble.RandomForestClassifier](http://scikit-learn.org/stable/modules/generated/sklearn.ensemble.RandomForestClassifier.html)"
      ]
    },
    {
      "cell_type": "markdown",
      "metadata": {
        "id": "op9F-SETZyfP"
      },
      "source": [
        "## Define the model :"
      ]
    },
    {
      "cell_type": "code",
      "execution_count": null,
      "metadata": {
        "id": "nrlHxayCZxqf"
      },
      "outputs": [],
      "source": [
        "RF_model = RandomForestClassifier(**parameters)"
      ]
    },
    {
      "cell_type": "markdown",
      "metadata": {
        "id": "Vz6LYxmnZ60C"
      },
      "source": [
        "## Train the model :"
      ]
    },
    {
      "cell_type": "code",
      "execution_count": null,
      "metadata": {
        "colab": {
          "base_uri": "https://localhost:8080/",
          "height": 92
        },
        "id": "gWiTrBJmaEn8",
        "outputId": "3eaa07d7-d447-4801-810b-ff0b55a13c5e"
      },
      "outputs": [
        {
          "output_type": "execute_result",
          "data": {
            "text/plain": [
              "RandomForestClassifier(max_depth=6, min_samples_leaf=3, min_samples_split=10,\n",
              "                       n_estimators=50)"
            ],
            "text/html": [
              "<style>#sk-container-id-1 {color: black;background-color: white;}#sk-container-id-1 pre{padding: 0;}#sk-container-id-1 div.sk-toggleable {background-color: white;}#sk-container-id-1 label.sk-toggleable__label {cursor: pointer;display: block;width: 100%;margin-bottom: 0;padding: 0.3em;box-sizing: border-box;text-align: center;}#sk-container-id-1 label.sk-toggleable__label-arrow:before {content: \"▸\";float: left;margin-right: 0.25em;color: #696969;}#sk-container-id-1 label.sk-toggleable__label-arrow:hover:before {color: black;}#sk-container-id-1 div.sk-estimator:hover label.sk-toggleable__label-arrow:before {color: black;}#sk-container-id-1 div.sk-toggleable__content {max-height: 0;max-width: 0;overflow: hidden;text-align: left;background-color: #f0f8ff;}#sk-container-id-1 div.sk-toggleable__content pre {margin: 0.2em;color: black;border-radius: 0.25em;background-color: #f0f8ff;}#sk-container-id-1 input.sk-toggleable__control:checked~div.sk-toggleable__content {max-height: 200px;max-width: 100%;overflow: auto;}#sk-container-id-1 input.sk-toggleable__control:checked~label.sk-toggleable__label-arrow:before {content: \"▾\";}#sk-container-id-1 div.sk-estimator input.sk-toggleable__control:checked~label.sk-toggleable__label {background-color: #d4ebff;}#sk-container-id-1 div.sk-label input.sk-toggleable__control:checked~label.sk-toggleable__label {background-color: #d4ebff;}#sk-container-id-1 input.sk-hidden--visually {border: 0;clip: rect(1px 1px 1px 1px);clip: rect(1px, 1px, 1px, 1px);height: 1px;margin: -1px;overflow: hidden;padding: 0;position: absolute;width: 1px;}#sk-container-id-1 div.sk-estimator {font-family: monospace;background-color: #f0f8ff;border: 1px dotted black;border-radius: 0.25em;box-sizing: border-box;margin-bottom: 0.5em;}#sk-container-id-1 div.sk-estimator:hover {background-color: #d4ebff;}#sk-container-id-1 div.sk-parallel-item::after {content: \"\";width: 100%;border-bottom: 1px solid gray;flex-grow: 1;}#sk-container-id-1 div.sk-label:hover label.sk-toggleable__label {background-color: #d4ebff;}#sk-container-id-1 div.sk-serial::before {content: \"\";position: absolute;border-left: 1px solid gray;box-sizing: border-box;top: 0;bottom: 0;left: 50%;z-index: 0;}#sk-container-id-1 div.sk-serial {display: flex;flex-direction: column;align-items: center;background-color: white;padding-right: 0.2em;padding-left: 0.2em;position: relative;}#sk-container-id-1 div.sk-item {position: relative;z-index: 1;}#sk-container-id-1 div.sk-parallel {display: flex;align-items: stretch;justify-content: center;background-color: white;position: relative;}#sk-container-id-1 div.sk-item::before, #sk-container-id-1 div.sk-parallel-item::before {content: \"\";position: absolute;border-left: 1px solid gray;box-sizing: border-box;top: 0;bottom: 0;left: 50%;z-index: -1;}#sk-container-id-1 div.sk-parallel-item {display: flex;flex-direction: column;z-index: 1;position: relative;background-color: white;}#sk-container-id-1 div.sk-parallel-item:first-child::after {align-self: flex-end;width: 50%;}#sk-container-id-1 div.sk-parallel-item:last-child::after {align-self: flex-start;width: 50%;}#sk-container-id-1 div.sk-parallel-item:only-child::after {width: 0;}#sk-container-id-1 div.sk-dashed-wrapped {border: 1px dashed gray;margin: 0 0.4em 0.5em 0.4em;box-sizing: border-box;padding-bottom: 0.4em;background-color: white;}#sk-container-id-1 div.sk-label label {font-family: monospace;font-weight: bold;display: inline-block;line-height: 1.2em;}#sk-container-id-1 div.sk-label-container {text-align: center;}#sk-container-id-1 div.sk-container {/* jupyter's `normalize.less` sets `[hidden] { display: none; }` but bootstrap.min.css set `[hidden] { display: none !important; }` so we also need the `!important` here to be able to override the default hidden behavior on the sphinx rendered scikit-learn.org. See: https://github.com/scikit-learn/scikit-learn/issues/21755 */display: inline-block !important;position: relative;}#sk-container-id-1 div.sk-text-repr-fallback {display: none;}</style><div id=\"sk-container-id-1\" class=\"sk-top-container\"><div class=\"sk-text-repr-fallback\"><pre>RandomForestClassifier(max_depth=6, min_samples_leaf=3, min_samples_split=10,\n",
              "                       n_estimators=50)</pre><b>In a Jupyter environment, please rerun this cell to show the HTML representation or trust the notebook. <br />On GitHub, the HTML representation is unable to render, please try loading this page with nbviewer.org.</b></div><div class=\"sk-container\" hidden><div class=\"sk-item\"><div class=\"sk-estimator sk-toggleable\"><input class=\"sk-toggleable__control sk-hidden--visually\" id=\"sk-estimator-id-1\" type=\"checkbox\" checked><label for=\"sk-estimator-id-1\" class=\"sk-toggleable__label sk-toggleable__label-arrow\">RandomForestClassifier</label><div class=\"sk-toggleable__content\"><pre>RandomForestClassifier(max_depth=6, min_samples_leaf=3, min_samples_split=10,\n",
              "                       n_estimators=50)</pre></div></div></div></div></div>"
            ]
          },
          "metadata": {},
          "execution_count": 24
        }
      ],
      "source": [
        "RF_model.fit(train_X, train_y)"
      ]
    },
    {
      "cell_type": "markdown",
      "metadata": {
        "id": "XC4sNiZJaf0U"
      },
      "source": [
        "## Test the trained model on test data :"
      ]
    },
    {
      "cell_type": "code",
      "execution_count": null,
      "metadata": {
        "id": "TpQcS6O1J-Hm"
      },
      "outputs": [],
      "source": [
        "RF_predictions = RF_model.predict(test_X)"
      ]
    },
    {
      "cell_type": "code",
      "execution_count": null,
      "metadata": {
        "colab": {
          "base_uri": "https://localhost:8080/"
        },
        "id": "dd8y9SjiKONS",
        "outputId": "b05d8e35-5bc9-483f-c7d5-0a64e9e0ebe5"
      },
      "outputs": [
        {
          "output_type": "stream",
          "name": "stdout",
          "text": [
            "Accuracy Random Forest Model: 0.9130434782608695\n"
          ]
        }
      ],
      "source": [
        "score = accuracy_score(test_y ,RF_predictions)\n",
        "print('Accuracy Random Forest Model:',score)"
      ]
    },
    {
      "cell_type": "markdown",
      "metadata": {
        "id": "oCM3DYk0NO1z"
      },
      "source": [
        "## Using Neural Networks:\n"
      ]
    },
    {
      "cell_type": "markdown",
      "metadata": {
        "id": "HmoxQ0K7dYU_"
      },
      "source": [
        "## Define the model :"
      ]
    },
    {
      "cell_type": "code",
      "execution_count": null,
      "metadata": {
        "id": "JjHxqy9o29IR"
      },
      "outputs": [],
      "source": [
        "# Build a neural network :\n",
        "NN_model = Sequential()\n",
        "\n",
        "NN_model.add(Dense(256, input_dim = X.shape[1], activation='relu'))\n",
        "NN_model.add(Dense(256, activation='relu'))\n",
        "NN_model.add(Dense(256, activation='relu'))\n",
        "NN_model.add(Dense(1, activation='sigmoid'))\n",
        "NN_model.compile(loss='binary_crossentropy', optimizer='adam', metrics=['accuracy'])\n"
      ]
    },
    {
      "cell_type": "markdown",
      "metadata": {
        "id": "dHFsE2AIPw_h"
      },
      "source": [
        "Define a checkpoint callback :"
      ]
    },
    {
      "cell_type": "code",
      "execution_count": null,
      "metadata": {
        "id": "UEw-m-utHEC6"
      },
      "outputs": [],
      "source": [
        "checkpoint_name = 'BestWeights.hdf5' \n",
        "checkpoint = ModelCheckpoint(checkpoint_name, monitor='val_accuracy', verbose = 1, save_best_only = True, mode ='max')\n",
        "callbacks_list = [checkpoint]"
      ]
    },
    {
      "cell_type": "markdown",
      "metadata": {
        "id": "PapFqg3bdYVD"
      },
      "source": [
        "## Train the model :"
      ]
    },
    {
      "cell_type": "code",
      "execution_count": null,
      "metadata": {
        "id": "-GkUvBi-EETO",
        "colab": {
          "base_uri": "https://localhost:8080/"
        },
        "outputId": "031932e4-d9b8-4b8d-8135-c356abd283c3"
      },
      "outputs": [
        {
          "output_type": "stream",
          "name": "stdout",
          "text": [
            "Epoch 1/50\n",
            "1/2 [==============>...............] - ETA: 5s - loss: 1.5360 - accuracy: 0.5625\n",
            "Epoch 1: val_accuracy improved from -inf to 0.67857, saving model to BestWeights.hdf5\n",
            "2/2 [==============================] - 6s 251ms/step - loss: 3.0944 - accuracy: 0.4587 - val_loss: 1.5885 - val_accuracy: 0.6786\n",
            "Epoch 2/50\n",
            "1/2 [==============>...............] - ETA: 0s - loss: 1.7857 - accuracy: 0.6562\n",
            "Epoch 2: val_accuracy did not improve from 0.67857\n",
            "2/2 [==============================] - 0s 36ms/step - loss: 2.8579 - accuracy: 0.6147 - val_loss: 2.2763 - val_accuracy: 0.6786\n",
            "Epoch 3/50\n",
            "1/2 [==============>...............] - ETA: 0s - loss: 3.0088 - accuracy: 0.5781\n",
            "Epoch 3: val_accuracy did not improve from 0.67857\n",
            "2/2 [==============================] - 0s 42ms/step - loss: 2.3130 - accuracy: 0.6514 - val_loss: 1.2387 - val_accuracy: 0.5000\n",
            "Epoch 4/50\n",
            "1/2 [==============>...............] - ETA: 0s - loss: 0.8950 - accuracy: 0.5625\n",
            "Epoch 4: val_accuracy did not improve from 0.67857\n",
            "2/2 [==============================] - 0s 37ms/step - loss: 1.1324 - accuracy: 0.5229 - val_loss: 1.9993 - val_accuracy: 0.3214\n",
            "Epoch 5/50\n",
            "1/2 [==============>...............] - ETA: 0s - loss: 1.3019 - accuracy: 0.4688\n",
            "Epoch 5: val_accuracy did not improve from 0.67857\n",
            "2/2 [==============================] - 0s 34ms/step - loss: 1.1522 - accuracy: 0.5229 - val_loss: 0.8592 - val_accuracy: 0.6429\n",
            "Epoch 6/50\n",
            "1/2 [==============>...............] - ETA: 0s - loss: 0.6832 - accuracy: 0.6875\n",
            "Epoch 6: val_accuracy did not improve from 0.67857\n",
            "2/2 [==============================] - 0s 32ms/step - loss: 0.9898 - accuracy: 0.6514 - val_loss: 1.1441 - val_accuracy: 0.6429\n",
            "Epoch 7/50\n",
            "1/2 [==============>...............] - ETA: 0s - loss: 1.1151 - accuracy: 0.6250\n",
            "Epoch 7: val_accuracy did not improve from 0.67857\n",
            "2/2 [==============================] - 0s 34ms/step - loss: 1.0157 - accuracy: 0.6606 - val_loss: 0.7745 - val_accuracy: 0.6786\n",
            "Epoch 8/50\n",
            "1/2 [==============>...............] - ETA: 0s - loss: 0.6500 - accuracy: 0.7031\n",
            "Epoch 8: val_accuracy did not improve from 0.67857\n",
            "2/2 [==============================] - 0s 33ms/step - loss: 0.7154 - accuracy: 0.6147 - val_loss: 1.0643 - val_accuracy: 0.4286\n",
            "Epoch 9/50\n",
            "1/2 [==============>...............] - ETA: 0s - loss: 0.8869 - accuracy: 0.5156\n",
            "Epoch 9: val_accuracy did not improve from 0.67857\n",
            "2/2 [==============================] - 0s 34ms/step - loss: 0.7529 - accuracy: 0.5872 - val_loss: 0.8585 - val_accuracy: 0.5714\n",
            "Epoch 10/50\n",
            "1/2 [==============>...............] - ETA: 0s - loss: 0.5451 - accuracy: 0.7656\n",
            "Epoch 10: val_accuracy did not improve from 0.67857\n",
            "2/2 [==============================] - 0s 34ms/step - loss: 0.6017 - accuracy: 0.7523 - val_loss: 0.8716 - val_accuracy: 0.6786\n",
            "Epoch 11/50\n",
            "1/2 [==============>...............] - ETA: 0s - loss: 0.7483 - accuracy: 0.7031\n",
            "Epoch 11: val_accuracy did not improve from 0.67857\n",
            "2/2 [==============================] - 0s 31ms/step - loss: 0.7120 - accuracy: 0.7248 - val_loss: 0.7896 - val_accuracy: 0.6786\n",
            "Epoch 12/50\n",
            "1/2 [==============>...............] - ETA: 0s - loss: 0.6016 - accuracy: 0.7344\n",
            "Epoch 12: val_accuracy did not improve from 0.67857\n",
            "2/2 [==============================] - 0s 33ms/step - loss: 0.5718 - accuracy: 0.7431 - val_loss: 0.7682 - val_accuracy: 0.5357\n",
            "Epoch 13/50\n",
            "1/2 [==============>...............] - ETA: 0s - loss: 0.4670 - accuracy: 0.7812\n",
            "Epoch 13: val_accuracy did not improve from 0.67857\n",
            "2/2 [==============================] - 0s 33ms/step - loss: 0.5314 - accuracy: 0.7339 - val_loss: 0.7280 - val_accuracy: 0.5357\n",
            "Epoch 14/50\n",
            "1/2 [==============>...............] - ETA: 0s - loss: 0.5724 - accuracy: 0.6562\n",
            "Epoch 14: val_accuracy did not improve from 0.67857\n",
            "2/2 [==============================] - 0s 31ms/step - loss: 0.5348 - accuracy: 0.7156 - val_loss: 0.6832 - val_accuracy: 0.6429\n",
            "Epoch 15/50\n",
            "1/2 [==============>...............] - ETA: 0s - loss: 0.6184 - accuracy: 0.7031\n",
            "Epoch 15: val_accuracy did not improve from 0.67857\n",
            "2/2 [==============================] - 0s 32ms/step - loss: 0.5386 - accuracy: 0.7339 - val_loss: 0.7026 - val_accuracy: 0.6429\n",
            "Epoch 16/50\n",
            "1/2 [==============>...............] - ETA: 0s - loss: 0.5285 - accuracy: 0.7344\n",
            "Epoch 16: val_accuracy did not improve from 0.67857\n",
            "2/2 [==============================] - 0s 34ms/step - loss: 0.5337 - accuracy: 0.7339 - val_loss: 0.7579 - val_accuracy: 0.5714\n",
            "Epoch 17/50\n",
            "1/2 [==============>...............] - ETA: 0s - loss: 0.4300 - accuracy: 0.8438\n",
            "Epoch 17: val_accuracy did not improve from 0.67857\n",
            "2/2 [==============================] - 0s 35ms/step - loss: 0.4860 - accuracy: 0.7615 - val_loss: 0.8119 - val_accuracy: 0.5357\n",
            "Epoch 18/50\n",
            "1/2 [==============>...............] - ETA: 0s - loss: 0.5282 - accuracy: 0.7188\n",
            "Epoch 18: val_accuracy did not improve from 0.67857\n",
            "2/2 [==============================] - 0s 32ms/step - loss: 0.4784 - accuracy: 0.7706 - val_loss: 0.6799 - val_accuracy: 0.6071\n",
            "Epoch 19/50\n",
            "1/2 [==============>...............] - ETA: 0s - loss: 0.4543 - accuracy: 0.8125\n",
            "Epoch 19: val_accuracy did not improve from 0.67857\n",
            "2/2 [==============================] - 0s 32ms/step - loss: 0.4646 - accuracy: 0.7706 - val_loss: 0.6701 - val_accuracy: 0.6429\n",
            "Epoch 20/50\n",
            "1/2 [==============>...............] - ETA: 0s - loss: 0.4502 - accuracy: 0.7656\n",
            "Epoch 20: val_accuracy did not improve from 0.67857\n",
            "2/2 [==============================] - 0s 33ms/step - loss: 0.4535 - accuracy: 0.7890 - val_loss: 0.7158 - val_accuracy: 0.6071\n",
            "Epoch 21/50\n",
            "1/2 [==============>...............] - ETA: 0s - loss: 0.4210 - accuracy: 0.8594\n",
            "Epoch 21: val_accuracy did not improve from 0.67857\n",
            "2/2 [==============================] - 0s 32ms/step - loss: 0.4342 - accuracy: 0.8349 - val_loss: 0.8298 - val_accuracy: 0.5357\n",
            "Epoch 22/50\n",
            "1/2 [==============>...............] - ETA: 0s - loss: 0.4671 - accuracy: 0.7969\n",
            "Epoch 22: val_accuracy did not improve from 0.67857\n",
            "2/2 [==============================] - 0s 33ms/step - loss: 0.4396 - accuracy: 0.8165 - val_loss: 0.8163 - val_accuracy: 0.5714\n",
            "Epoch 23/50\n",
            "1/2 [==============>...............] - ETA: 0s - loss: 0.4248 - accuracy: 0.7812\n",
            "Epoch 23: val_accuracy did not improve from 0.67857\n",
            "2/2 [==============================] - 0s 38ms/step - loss: 0.4352 - accuracy: 0.7982 - val_loss: 0.8176 - val_accuracy: 0.6071\n",
            "Epoch 24/50\n",
            "1/2 [==============>...............] - ETA: 0s - loss: 0.3517 - accuracy: 0.8906\n",
            "Epoch 24: val_accuracy did not improve from 0.67857\n",
            "2/2 [==============================] - 0s 69ms/step - loss: 0.4338 - accuracy: 0.8165 - val_loss: 0.8017 - val_accuracy: 0.5357\n",
            "Epoch 25/50\n",
            "1/2 [==============>...............] - ETA: 0s - loss: 0.3846 - accuracy: 0.7812\n",
            "Epoch 25: val_accuracy did not improve from 0.67857\n",
            "2/2 [==============================] - 0s 52ms/step - loss: 0.4117 - accuracy: 0.8073 - val_loss: 0.8529 - val_accuracy: 0.5357\n",
            "Epoch 26/50\n",
            "1/2 [==============>...............] - ETA: 0s - loss: 0.3932 - accuracy: 0.8438\n",
            "Epoch 26: val_accuracy did not improve from 0.67857\n",
            "2/2 [==============================] - 0s 34ms/step - loss: 0.4098 - accuracy: 0.8257 - val_loss: 0.8185 - val_accuracy: 0.5714\n",
            "Epoch 27/50\n",
            "1/2 [==============>...............] - ETA: 0s - loss: 0.4404 - accuracy: 0.7656\n",
            "Epoch 27: val_accuracy did not improve from 0.67857\n",
            "2/2 [==============================] - 0s 34ms/step - loss: 0.3985 - accuracy: 0.8165 - val_loss: 0.8184 - val_accuracy: 0.5714\n",
            "Epoch 28/50\n",
            "1/2 [==============>...............] - ETA: 0s - loss: 0.3823 - accuracy: 0.8438\n",
            "Epoch 28: val_accuracy did not improve from 0.67857\n",
            "2/2 [==============================] - 0s 47ms/step - loss: 0.3992 - accuracy: 0.8349 - val_loss: 0.8519 - val_accuracy: 0.5000\n",
            "Epoch 29/50\n",
            "1/2 [==============>...............] - ETA: 0s - loss: 0.3679 - accuracy: 0.8594\n",
            "Epoch 29: val_accuracy did not improve from 0.67857\n",
            "2/2 [==============================] - 0s 33ms/step - loss: 0.3840 - accuracy: 0.8440 - val_loss: 0.9170 - val_accuracy: 0.4643\n",
            "Epoch 30/50\n",
            "1/2 [==============>...............] - ETA: 0s - loss: 0.4229 - accuracy: 0.8281\n",
            "Epoch 30: val_accuracy did not improve from 0.67857\n",
            "2/2 [==============================] - 0s 33ms/step - loss: 0.3917 - accuracy: 0.8349 - val_loss: 0.8657 - val_accuracy: 0.5357\n",
            "Epoch 31/50\n",
            "1/2 [==============>...............] - ETA: 0s - loss: 0.3818 - accuracy: 0.8906\n",
            "Epoch 31: val_accuracy did not improve from 0.67857\n",
            "2/2 [==============================] - 0s 32ms/step - loss: 0.3737 - accuracy: 0.8716 - val_loss: 0.8616 - val_accuracy: 0.5714\n",
            "Epoch 32/50\n",
            "1/2 [==============>...............] - ETA: 0s - loss: 0.3956 - accuracy: 0.8125\n",
            "Epoch 32: val_accuracy did not improve from 0.67857\n",
            "2/2 [==============================] - 0s 33ms/step - loss: 0.3694 - accuracy: 0.8440 - val_loss: 0.9266 - val_accuracy: 0.5000\n",
            "Epoch 33/50\n",
            "1/2 [==============>...............] - ETA: 0s - loss: 0.3687 - accuracy: 0.8438\n",
            "Epoch 33: val_accuracy did not improve from 0.67857\n",
            "2/2 [==============================] - 0s 35ms/step - loss: 0.3541 - accuracy: 0.8807 - val_loss: 0.9526 - val_accuracy: 0.5714\n",
            "Epoch 34/50\n",
            "1/2 [==============>...............] - ETA: 0s - loss: 0.3679 - accuracy: 0.8594\n",
            "Epoch 34: val_accuracy did not improve from 0.67857\n",
            "2/2 [==============================] - 0s 34ms/step - loss: 0.3529 - accuracy: 0.8716 - val_loss: 0.9676 - val_accuracy: 0.5714\n",
            "Epoch 35/50\n",
            "1/2 [==============>...............] - ETA: 0s - loss: 0.3287 - accuracy: 0.8594\n",
            "Epoch 35: val_accuracy did not improve from 0.67857\n",
            "2/2 [==============================] - 0s 32ms/step - loss: 0.3434 - accuracy: 0.8624 - val_loss: 0.9705 - val_accuracy: 0.5000\n",
            "Epoch 36/50\n",
            "1/2 [==============>...............] - ETA: 0s - loss: 0.3448 - accuracy: 0.8281\n",
            "Epoch 36: val_accuracy did not improve from 0.67857\n",
            "2/2 [==============================] - 0s 35ms/step - loss: 0.3334 - accuracy: 0.8716 - val_loss: 0.9800 - val_accuracy: 0.5000\n",
            "Epoch 37/50\n",
            "1/2 [==============>...............] - ETA: 0s - loss: 0.2804 - accuracy: 0.8906\n",
            "Epoch 37: val_accuracy did not improve from 0.67857\n",
            "2/2 [==============================] - 0s 34ms/step - loss: 0.3341 - accuracy: 0.8716 - val_loss: 1.0056 - val_accuracy: 0.5000\n",
            "Epoch 38/50\n",
            "1/2 [==============>...............] - ETA: 0s - loss: 0.3077 - accuracy: 0.9219\n",
            "Epoch 38: val_accuracy did not improve from 0.67857\n",
            "2/2 [==============================] - 0s 33ms/step - loss: 0.3263 - accuracy: 0.8807 - val_loss: 1.0162 - val_accuracy: 0.5000\n",
            "Epoch 39/50\n",
            "1/2 [==============>...............] - ETA: 0s - loss: 0.2863 - accuracy: 0.9062\n",
            "Epoch 39: val_accuracy did not improve from 0.67857\n",
            "2/2 [==============================] - 0s 33ms/step - loss: 0.3235 - accuracy: 0.8807 - val_loss: 1.0239 - val_accuracy: 0.5000\n",
            "Epoch 40/50\n",
            "1/2 [==============>...............] - ETA: 0s - loss: 0.2968 - accuracy: 0.8906\n",
            "Epoch 40: val_accuracy did not improve from 0.67857\n",
            "2/2 [==============================] - 0s 33ms/step - loss: 0.3110 - accuracy: 0.8899 - val_loss: 0.9820 - val_accuracy: 0.5000\n",
            "Epoch 41/50\n",
            "1/2 [==============>...............] - ETA: 0s - loss: 0.3137 - accuracy: 0.8594\n",
            "Epoch 41: val_accuracy did not improve from 0.67857\n",
            "2/2 [==============================] - 0s 52ms/step - loss: 0.3152 - accuracy: 0.8716 - val_loss: 1.0012 - val_accuracy: 0.5357\n",
            "Epoch 42/50\n",
            "1/2 [==============>...............] - ETA: 0s - loss: 0.2652 - accuracy: 0.9062\n",
            "Epoch 42: val_accuracy did not improve from 0.67857\n",
            "2/2 [==============================] - 0s 36ms/step - loss: 0.3010 - accuracy: 0.8899 - val_loss: 1.1064 - val_accuracy: 0.5357\n",
            "Epoch 43/50\n",
            "1/2 [==============>...............] - ETA: 0s - loss: 0.2895 - accuracy: 0.9062\n",
            "Epoch 43: val_accuracy did not improve from 0.67857\n",
            "2/2 [==============================] - 0s 31ms/step - loss: 0.3123 - accuracy: 0.8899 - val_loss: 1.1529 - val_accuracy: 0.5000\n",
            "Epoch 44/50\n",
            "1/2 [==============>...............] - ETA: 0s - loss: 0.3088 - accuracy: 0.8750\n",
            "Epoch 44: val_accuracy did not improve from 0.67857\n",
            "2/2 [==============================] - 0s 38ms/step - loss: 0.2975 - accuracy: 0.8807 - val_loss: 1.0627 - val_accuracy: 0.4643\n",
            "Epoch 45/50\n",
            "1/2 [==============>...............] - ETA: 0s - loss: 0.3056 - accuracy: 0.8750\n",
            "Epoch 45: val_accuracy did not improve from 0.67857\n",
            "2/2 [==============================] - 0s 32ms/step - loss: 0.3020 - accuracy: 0.8807 - val_loss: 1.0623 - val_accuracy: 0.4643\n",
            "Epoch 46/50\n",
            "1/2 [==============>...............] - ETA: 0s - loss: 0.3273 - accuracy: 0.8281\n",
            "Epoch 46: val_accuracy did not improve from 0.67857\n",
            "2/2 [==============================] - 0s 45ms/step - loss: 0.2884 - accuracy: 0.8624 - val_loss: 1.1531 - val_accuracy: 0.5357\n",
            "Epoch 47/50\n",
            "1/2 [==============>...............] - ETA: 0s - loss: 0.3503 - accuracy: 0.8594\n",
            "Epoch 47: val_accuracy did not improve from 0.67857\n",
            "2/2 [==============================] - 0s 33ms/step - loss: 0.2998 - accuracy: 0.8991 - val_loss: 1.1829 - val_accuracy: 0.5000\n",
            "Epoch 48/50\n",
            "1/2 [==============>...............] - ETA: 0s - loss: 0.2526 - accuracy: 0.9062\n",
            "Epoch 48: val_accuracy did not improve from 0.67857\n",
            "2/2 [==============================] - 0s 34ms/step - loss: 0.2827 - accuracy: 0.8991 - val_loss: 1.1058 - val_accuracy: 0.5357\n",
            "Epoch 49/50\n",
            "1/2 [==============>...............] - ETA: 0s - loss: 0.2288 - accuracy: 0.9375\n",
            "Epoch 49: val_accuracy did not improve from 0.67857\n",
            "2/2 [==============================] - 0s 34ms/step - loss: 0.2791 - accuracy: 0.9083 - val_loss: 1.1148 - val_accuracy: 0.5357\n",
            "Epoch 50/50\n",
            "1/2 [==============>...............] - ETA: 0s - loss: 0.2406 - accuracy: 0.9375\n",
            "Epoch 50: val_accuracy did not improve from 0.67857\n",
            "2/2 [==============================] - 0s 35ms/step - loss: 0.2688 - accuracy: 0.8991 - val_loss: 1.1640 - val_accuracy: 0.5357\n"
          ]
        }
      ],
      "source": [
        "t0_nn = time()\n",
        "NN_model.fit(train_X, train_y, epochs=50, batch_size=64, validation_split = 0.2, callbacks=callbacks_list)\n",
        "train_test_time = time() - t0_nn"
      ]
    },
    {
      "cell_type": "code",
      "execution_count": null,
      "metadata": {
        "id": "ZTePkjbGNb97"
      },
      "outputs": [],
      "source": [
        "# Load wights file of the best model :\n",
        "wights_file = './BestWeights.hdf5' # choose the best checkpoint \n",
        "NN_model.load_weights(wights_file) # load weights\n",
        "NN_model.compile(loss='binary_crossentropy', optimizer='adam', metrics=['accuracy'])"
      ]
    },
    {
      "cell_type": "markdown",
      "metadata": {
        "id": "Re0I_erHdYVF"
      },
      "source": [
        "## Test the trained model on test data :"
      ]
    },
    {
      "cell_type": "code",
      "execution_count": null,
      "metadata": {
        "id": "82WVFZQEH_bW",
        "colab": {
          "base_uri": "https://localhost:8080/"
        },
        "outputId": "7acaf3b2-7825-44d1-d160-3bf39bf1f823"
      },
      "outputs": [
        {
          "output_type": "stream",
          "name": "stdout",
          "text": [
            "2/2 [==============================] - 0s 5ms/step\n"
          ]
        }
      ],
      "source": [
        "predictions = NN_model.predict(test_X)"
      ]
    },
    {
      "cell_type": "code",
      "execution_count": null,
      "metadata": {
        "id": "80CG8FxGIHM_"
      },
      "outputs": [],
      "source": [
        "# round predictions\n",
        "rounded = [round(x[0]) for x in predictions]\n",
        "predictions = rounded"
      ]
    },
    {
      "cell_type": "code",
      "execution_count": null,
      "metadata": {
        "id": "iAqyEdrZJFcx",
        "colab": {
          "base_uri": "https://localhost:8080/"
        },
        "outputId": "2c109bef-04a8-4da9-dd7a-d13c1f49fa43"
      },
      "outputs": [
        {
          "output_type": "stream",
          "name": "stdout",
          "text": [
            "Test Accuracy: 0.8043478260869565\n"
          ]
        }
      ],
      "source": [
        "score = accuracy_score(test_y ,predictions)\n",
        "print('Test Accuracy:',score)"
      ]
    },
    {
      "cell_type": "markdown",
      "metadata": {
        "id": "eF81luRn4OEU"
      },
      "source": [
        "## Comparision with other models"
      ]
    },
    {
      "cell_type": "code",
      "execution_count": null,
      "metadata": {
        "id": "2nunEePJ65Tq"
      },
      "outputs": [],
      "source": [
        "from sklearn.pipeline import Pipeline\n",
        "from sklearn.metrics import accuracy_score\n",
        "\n",
        "# models\n",
        "#from xgboost import XGBClassifier\n",
        "from sklearn.linear_model import LogisticRegression\n",
        "from sklearn.svm import SVC\n",
        "from sklearn.ensemble import RandomForestClassifier, GradientBoostingClassifier, ExtraTreesClassifier \n",
        "from sklearn.ensemble import BaggingClassifier, AdaBoostClassifier\n",
        "from sklearn.naive_bayes import GaussianNB\n",
        "from sklearn.neighbors import KNeighborsClassifier\n",
        "from sklearn.neural_network import MLPClassifier\n",
        "from sklearn.tree import DecisionTreeClassifier\n",
        "from xgboost import XGBClassifier\n",
        "from lightgbm import LGBMClassifier"
      ]
    },
    {
      "cell_type": "code",
      "execution_count": null,
      "metadata": {
        "id": "4T7hIEcT4Msq"
      },
      "outputs": [],
      "source": [
        "names = [ 'Gradient Boosting Classifier',\n",
        "          'Extra Trees Classifier',\n",
        "          'Bagging Classifier',\n",
        "          'AdaBoost Classifier',\n",
        "          'Gaussian NB',\n",
        "          'XGB Classifier',\n",
        "          'LGBM Classisfier',\n",
        "          \"Random Forest Classifier\",\n",
        "         ]\n",
        "classifiers = [\n",
        "    GradientBoostingClassifier(),\n",
        "    ExtraTreesClassifier(),\n",
        "    BaggingClassifier(),\n",
        "    AdaBoostClassifier(),\n",
        "    GaussianNB(),\n",
        "    XGBClassifier(),\n",
        "    LGBMClassifier(),\n",
        "    RandomForestClassifier(),\n",
        "        ]\n",
        "\n",
        "# Zipped all architecture\n",
        "zipped_clf = zip(names,classifiers)"
      ]
    },
    {
      "cell_type": "code",
      "execution_count": null,
      "metadata": {
        "id": "ad3U3lVr61Vj"
      },
      "outputs": [],
      "source": [
        "import warnings\n",
        "# untuk menghapus warning\n",
        "warnings.filterwarnings('ignore')\n",
        "\n",
        "# fungsi accuracy testing \n",
        "def acc_summary(model, train_X, train_y, val_X, val_y):\n",
        "    t0 = time()\n",
        "    model.fit(train_X, train_y)\n",
        "    pred_y = model.predict(val_X)\n",
        "    train_test_time = time() - t0\n",
        "    accuracy = accuracy_score(val_y, pred_y)*100\n",
        "    print(\"accuracy : {0:.2f}%\".format(accuracy))\n",
        "    print(\"train and test time: {0:.2f}s\".format(train_test_time))\n",
        "    print(\"-\"*80)\n",
        "    return accuracy, train_test_time\n",
        "\n",
        "# fungsi komparator\n",
        "def classifier_comparator(train_X,train_y,val_X,val_y,classifier=zipped_clf):\n",
        "    result = []\n",
        "    for n,c in classifier:\n",
        "      if n=='Neural Network': # for only neural network\n",
        "        predictions = NN_model.predict(test_X)\n",
        "        # round predictions\n",
        "        rounded = [round(x[0]) for x in predictions]\n",
        "        predictions = rounded\n",
        "        score = accuracy_score(val_y, predictions)*100\n",
        "        print(\"Test result for {}\".format(n))\n",
        "        print(\"train and test time: {0:.2f}s\".format(train_test_time))\n",
        "        print(\"accuracy : {0:.2f}%\".format(score))\n",
        "        print(\"-\"*80)\n",
        "        result.append((c,n,score,train_test_time))\n",
        "      else:\n",
        "        checker_pipeline = Pipeline([\n",
        "            ('classifier', c)\n",
        "        ])\n",
        "        print(\"Validation result for {}\".format(n))\n",
        "        #print(c)\n",
        "        clf_acc,tt_time = acc_summary(checker_pipeline,train_X, train_y, val_X, val_y)\n",
        "        result.append((c,n,clf_acc,tt_time))\n",
        "    return result"
      ]
    },
    {
      "cell_type": "code",
      "execution_count": null,
      "metadata": {
        "id": "DZw1LGOy64XI",
        "colab": {
          "base_uri": "https://localhost:8080/"
        },
        "outputId": "77147f51-530f-4719-b561-c6380d168f14"
      },
      "outputs": [
        {
          "output_type": "stream",
          "name": "stdout",
          "text": [
            "Validation result for Gradient Boosting Classifier\n",
            "accuracy : 80.43%\n",
            "train and test time: 0.09s\n",
            "--------------------------------------------------------------------------------\n",
            "Validation result for Extra Trees Classifier\n",
            "accuracy : 80.43%\n",
            "train and test time: 0.13s\n",
            "--------------------------------------------------------------------------------\n",
            "Validation result for Bagging Classifier\n",
            "accuracy : 78.26%\n",
            "train and test time: 0.02s\n",
            "--------------------------------------------------------------------------------\n",
            "Validation result for AdaBoost Classifier\n",
            "accuracy : 80.43%\n",
            "train and test time: 0.09s\n",
            "--------------------------------------------------------------------------------\n",
            "Validation result for Gaussian NB\n",
            "accuracy : 78.26%\n",
            "train and test time: 0.01s\n",
            "--------------------------------------------------------------------------------\n",
            "Validation result for XGB Classifier\n",
            "accuracy : 84.78%\n",
            "train and test time: 0.04s\n",
            "--------------------------------------------------------------------------------\n",
            "Validation result for LGBM Classisfier\n",
            "accuracy : 84.78%\n",
            "train and test time: 0.03s\n",
            "--------------------------------------------------------------------------------\n",
            "Validation result for Random Forest Classifier\n",
            "accuracy : 89.13%\n",
            "train and test time: 0.15s\n",
            "--------------------------------------------------------------------------------\n"
          ]
        }
      ],
      "source": [
        "result = classifier_comparator(train_X, train_y, test_X, test_y)"
      ]
    },
    {
      "cell_type": "markdown",
      "metadata": {
        "id": "x8x91J1Hn0ed"
      },
      "source": [
        "### Plotting"
      ]
    },
    {
      "cell_type": "code",
      "execution_count": null,
      "metadata": {
        "id": "c162ngPOpepI"
      },
      "outputs": [],
      "source": [
        "# Plotting models\n",
        "import matplotlib.pyplot as plt\n",
        "import seaborn as sns"
      ]
    },
    {
      "cell_type": "code",
      "execution_count": null,
      "metadata": {
        "id": "kJtR806ep4nS"
      },
      "outputs": [],
      "source": [
        "# get name and score models\n",
        "n = [v[1] for v in result]\n",
        "s = [v[2] for v in result]"
      ]
    },
    {
      "cell_type": "code",
      "execution_count": null,
      "metadata": {
        "id": "axBlDuBDpZlE",
        "colab": {
          "base_uri": "https://localhost:8080/",
          "height": 391
        },
        "outputId": "42f89843-21e4-4cd6-c6ca-e48139be82e2"
      },
      "outputs": [
        {
          "output_type": "display_data",
          "data": {
            "text/plain": [
              "<Figure size 432x288 with 1 Axes>"
            ],
            "image/png": "[encoded data removed]"
          },
          "metadata": {
            "needs_background": "light"
          }
        }
      ],
      "source": [
        "# Visualisasi model\n",
        "plt.figure()\n",
        "sns.barplot(x = n, y = s)\n",
        "\n",
        "plt.title(\"Plotting Test Result\")\n",
        "plt.xlabel('Model Name')\n",
        "\n",
        "plt.xticks(rotation=45, ha='right', size=10)\n",
        "plt.yticks(size=10)\n",
        "plt.ylabel('Accuracy Score')\n",
        "\n",
        "plt.show()"
      ]
    },
    {
      "cell_type": "markdown",
      "metadata": {
        "id": "RUvVOfMQah9x"
      },
      "source": [
        "### Feature Importance"
      ]
    },
    {
      "cell_type": "code",
      "execution_count": null,
      "metadata": {
        "id": "gPMtqed2ccWW"
      },
      "outputs": [],
      "source": [
        "# get best models [-1] is random forest and next [0] is index to model to get feature importance, and zipped with X column  \n",
        "importances = sorted([(a,b) for a,b in zip(result[-1][0].feature_importances_, X.columns)],reverse=True)\n",
        "n = [ni for si,ni in importances]\n",
        "s = [si for si,ni in importances]"
      ]
    },
    {
      "cell_type": "markdown",
      "metadata": {
        "id": "jevRXXNKhJQL"
      },
      "source": [
        "- Mengambil nilai fitur penting\n",
        "- Pilih model:\n",
        "  - result[-1][0] : random forest\n",
        "  - result[-4][0] : lgb\n",
        "  - result[-5][0] : xgb"
      ]
    },
    {
      "cell_type": "code",
      "execution_count": null,
      "metadata": {
        "id": "bHGfciWea-h0",
        "colab": {
          "base_uri": "https://localhost:8080/",
          "height": 314
        },
        "outputId": "ea040720-4e80-4d24-d229-705f007e0e82"
      },
      "outputs": [
        {
          "output_type": "display_data",
          "data": {
            "text/plain": [
              "<Figure size 432x288 with 1 Axes>"
            ],
            "image/png": "[encoded data removed]"
          },
          "metadata": {
            "needs_background": "light"
          }
        }
      ],
      "source": [
        "# Plot the feature importances of the forest\n",
        "plt.figure()\n",
        "plt.title(\"Feature importances\")\n",
        "plt.bar(n,s)\n",
        "plt.xticks(rotation=45, ha='right', size=10)\n",
        "plt.yticks(size=10)\n",
        "plt.show()"
      ]
    },
    {
      "cell_type": "markdown",
      "metadata": {
        "id": "8PeYxR4voOFb"
      },
      "source": [
        "### Ensemble Learning"
      ]
    },
    {
      "cell_type": "code",
      "execution_count": null,
      "metadata": {
        "id": "Gs1soVsooOFb",
        "colab": {
          "base_uri": "https://localhost:8080/"
        },
        "outputId": "494e0b1f-b86c-4be3-ebc2-136650b5e1bb"
      },
      "outputs": [
        {
          "output_type": "stream",
          "name": "stdout",
          "text": [
            "Looking in indexes: https://pypi.org/simple, https://us-python.pkg.dev/colab-wheels/public/simple/\n",
            "Collecting vecstack\n",
            "  Downloading vecstack-0.4.0.tar.gz (18 kB)\n",
            "  Preparing metadata (setup.py) ... \u001b[?25l\u001b[?25hdone\n",
            "Requirement already satisfied: numpy in /usr/local/lib/python3.9/dist-packages (from vecstack) (1.22.4)\n",
            "Requirement already satisfied: scipy in /usr/local/lib/python3.9/dist-packages (from vecstack) (1.10.1)\n",
            "Requirement already satisfied: scikit-learn>=0.18 in /usr/local/lib/python3.9/dist-packages (from vecstack) (1.2.2)\n",
            "Requirement already satisfied: joblib>=1.1.1 in /usr/local/lib/python3.9/dist-packages (from scikit-learn>=0.18->vecstack) (1.1.1)\n",
            "Requirement already satisfied: threadpoolctl>=2.0.0 in /usr/local/lib/python3.9/dist-packages (from scikit-learn>=0.18->vecstack) (3.1.0)\n",
            "Building wheels for collected packages: vecstack\n",
            "  Building wheel for vecstack (setup.py) ... \u001b[?25l\u001b[?25hdone\n",
            "  Created wheel for vecstack: filename=vecstack-0.4.0-py3-none-any.whl size=19879 sha256=f4a5a135ce3f89b0b53b75527541c5a6724dbdad75e34750fa08622d5343f4c9\n",
            "  Stored in directory: /root/.cache/pip/wheels/7e/ee/d6/47cb94a403bc544de1433986e5530d6b0498021098fbe43aa1\n",
            "Successfully built vecstack\n",
            "Installing collected packages: vecstack\n",
            "Successfully installed vecstack-0.4.0\n"
          ]
        }
      ],
      "source": [
        "# Install and Import Dependencies\n",
        "!pip install vecstack\n",
        "from vecstack import stacking "
      ]
    },
    {
      "cell_type": "code",
      "execution_count": null,
      "metadata": {
        "id": "E9js15IgoOFc",
        "colab": {
          "base_uri": "https://localhost:8080/"
        },
        "outputId": "016d33aa-4402-4bae-a7dd-e5fe6bdc072c"
      },
      "outputs": [
        {
          "output_type": "stream",
          "name": "stdout",
          "text": [
            "Number of model: 7\n",
            "task:         [regression]\n",
            "metric:       [accuracy_score]\n",
            "mode:         [oof_pred_bag]\n",
            "n_models:     [7]\n",
            "\n",
            "model  0:     [ExtraTreesClassifier]\n",
            "    ----\n",
            "    MEAN:     [0.70112721] + [0.04238257]\n",
            "    FULL:     [0.70072993]\n",
            "\n",
            "model  1:     [BaggingClassifier]\n",
            "    ----\n",
            "    MEAN:     [0.67165862] + [0.02928013]\n",
            "    FULL:     [0.67153285]\n",
            "\n",
            "model  2:     [AdaBoostClassifier]\n",
            "    ----\n",
            "    MEAN:     [0.69388084] + [0.04450450]\n",
            "    FULL:     [0.69343066]\n",
            "\n",
            "model  3:     [GaussianNB]\n",
            "    ----\n",
            "    MEAN:     [0.71561997] + [0.02823872]\n",
            "    FULL:     [0.71532847]\n",
            "\n",
            "model  4:     [XGBClassifier]\n",
            "    ----\n",
            "    MEAN:     [0.69355878] + [0.01525802]\n",
            "    FULL:     [0.69343066]\n",
            "\n",
            "model  5:     [LGBMClassifier]\n",
            "    ----\n",
            "    MEAN:     [0.69371981] + [0.04522008]\n",
            "    FULL:     [0.69343066]\n",
            "\n",
            "model  6:     [RandomForestClassifier]\n",
            "    ----\n",
            "    MEAN:     [0.69371981] + [0.03316136]\n",
            "    FULL:     [0.69343066]\n",
            "\n"
          ]
        }
      ],
      "source": [
        "# get all models, 1-st level.\n",
        "models = [v[0] for v in result[1:]] # tanpa neural network\n",
        "print('Number of model:',len(models))\n",
        "\n",
        "t0 = time()\n",
        "\n",
        "# Compute stacking features\n",
        "S_train, S_test = stacking(models, train_X, train_y, test_X, n_folds = 3, metric=accuracy_score,\n",
        "                           shuffle = True, random_state = 7, verbose = 1)\n",
        "\n",
        "# Initialize 2-nd level model\n",
        "model = models[-1]\n",
        "\n",
        "# Fit 2-nd level model\n",
        "model = model.fit(S_train, train_y)\n",
        "\n",
        "# Predict\n",
        "y_test_pred = model.predict(S_test)\n",
        "\n",
        "train_test_time = time() - t0"
      ]
    },
    {
      "cell_type": "code",
      "execution_count": null,
      "metadata": {
        "id": "Sc5nTkyJoOFc",
        "colab": {
          "base_uri": "https://localhost:8080/"
        },
        "outputId": "4abb7702-82d7-4daa-e1c1-379241491496"
      },
      "outputs": [
        {
          "output_type": "stream",
          "name": "stdout",
          "text": [
            "Stacking accuracy : 76.09%\n",
            "train and test time: 1.58s\n"
          ]
        }
      ],
      "source": [
        "## Print vecstack result \n",
        "accuracy = accuracy_score(test_y, y_test_pred)*100\n",
        "print(\"Stacking accuracy : {0:.2f}%\".format(accuracy))\n",
        "print(\"train and test time: {0:.2f}s\".format(train_test_time))"
      ]
    },
    {
      "cell_type": "markdown",
      "metadata": {
        "id": "ZQ0epaXIMv7s"
      },
      "source": [
        "## References :\n",
        "* [The Random Forest Algorithm](https://towardsdatascience.com/the-random-forest-algorithm-d457d499ffcd)\n",
        "*\t[What are some advantages of using a random forest over a decision tree given that a decision tree is simpler?](https://www.quora.com/What-are-some-advantages-of-using-a-random-forest-over-a-decision-tree-given-that-a-decision-tree-is-simpler)\n",
        "*\t[A Complete Tutorial on Tree Based Modeling from Scratch](https://www.analyticsvidhya.com/blog/2016/04/complete-tutorial-tree-based-modeling-scratch-in-python/)\n",
        "*\t[Sklearn documents of random forest](http://scikit-learn.org/stable/modules/generated/sklearn.ensemble.RandomForestClassifier.html)\n",
        "* [ImageSource](https://cdn5.vectorstock.com/i/1000x1000/88/99/city-and-forest-vector-1078899.jpg)\n",
        "* [Kaggle - All Classification Models](https://www.kaggle.com/backagain/all-classification-models-eda-pandas-profiling)\n",
        "\n"
      ]
    }
  ],
  "metadata": {
    "accelerator": "GPU",
    "colab": {
      "provenance": [],
      "include_colab_link": true
    },
    "kernelspec": {
      "display_name": "Python 3 (ipykernel)",
      "language": "python",
      "name": "python3"
    },
    "language_info": {
      "codemirror_mode": {
        "name": "ipython",
        "version": 3
      },
      "file_extension": ".py",
      "mimetype": "text/x-python",
      "name": "python",
      "nbconvert_exporter": "python",
      "pygments_lexer": "ipython3",
      "version": "3.9.13"
    }
  },
  "nbformat": 4,
  "nbformat_minor": 0
}
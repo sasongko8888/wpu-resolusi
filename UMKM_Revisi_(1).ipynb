{
  "cells": [
    {
      "cell_type": "markdown",
      "metadata": {
        "id": "view-in-github",
        "colab_type": "text"
      },
      "source": [
        "<a href=\"https://colab.research.google.com/github/sasongko8888/wpu-resolusi/blob/main/UMKM_Revisi_(1).ipynb\" target=\"_parent\"><img src=\"https://colab.research.google.com/assets/colab-badge.svg\" alt=\"Open In Colab\"/></a>"
      ]
    },
    {
      "cell_type": "markdown",
      "metadata": {
        "id": "HkDLUW-nOImv"
      },
      "source": [
        "## Install Dependencies"
      ]
    },
    {
      "cell_type": "code",
      "execution_count": 1,
      "metadata": {
        "colab": {
          "base_uri": "https://localhost:8080/"
        },
        "id": "3wlUd_EtFp7k",
        "outputId": "ca6074d3-253a-458a-e11a-9d61e978d100"
      },
      "outputs": [
        {
          "output_type": "stream",
          "name": "stdout",
          "text": [
            "Looking in indexes: https://pypi.org/simple, https://us-python.pkg.dev/colab-wheels/public/simple/\n",
            "Collecting pycaret\n",
            "  Downloading pycaret-3.0.0-py3-none-any.whl (481 kB)\n",
            "\u001b[2K     \u001b[90m━━━━━━━━━━━━━━━━━━━━━━━━━━━━━━━━━━━━━━━\u001b[0m \u001b[32m481.8/481.8 KB\u001b[0m \u001b[31m6.2 MB/s\u001b[0m eta \u001b[36m0:00:00\u001b[0m\n",
            "\u001b[?25hCollecting shap\n",
            "  Downloading shap-0.41.0-cp39-cp39-manylinux_2_12_x86_64.manylinux2010_x86_64.whl (572 kB)\n",
            "\u001b[2K     \u001b[90m━━━━━━━━━━━━━━━━━━━━━━━━━━━━━━━━━━━━━━\u001b[0m \u001b[32m572.4/572.4 KB\u001b[0m \u001b[31m21.5 MB/s\u001b[0m eta \u001b[36m0:00:00\u001b[0m\n",
            "\u001b[?25hRequirement already satisfied: ipython>=5.5.0 in /usr/local/lib/python3.9/dist-packages (from pycaret) (7.9.0)\n",
            "Collecting category-encoders>=2.4.0\n",
            "  Downloading category_encoders-2.6.0-py2.py3-none-any.whl (81 kB)\n",
            "\u001b[2K     \u001b[90m━━━━━━━━━━━━━━━━━━━━━━━━━━━━━━━━━━━━━━━━\u001b[0m \u001b[32m81.2/81.2 KB\u001b[0m \u001b[31m5.7 MB/s\u001b[0m eta \u001b[36m0:00:00\u001b[0m\n",
            "\u001b[?25hCollecting pmdarima!=1.8.1,<3.0.0,>=1.8.0\n",
            "  Downloading pmdarima-2.0.3-cp39-cp39-manylinux_2_17_x86_64.manylinux2014_x86_64.manylinux_2_28_x86_64.whl (1.9 MB)\n",
            "\u001b[2K     \u001b[90m━━━━━━━━━━━━━━━━━━━━━━━━━━━━━━━━━━━━━━━━\u001b[0m \u001b[32m1.9/1.9 MB\u001b[0m \u001b[31m44.5 MB/s\u001b[0m eta \u001b[36m0:00:00\u001b[0m\n",
            "\u001b[?25hCollecting sktime>=0.16.1\n",
            "  Downloading sktime-0.16.1-py3-none-any.whl (16.0 MB)\n",
            "\u001b[2K     \u001b[90m━━━━━━━━━━━━━━━━━━━━━━━━━━━━━━━━━━━━━━━━\u001b[0m \u001b[32m16.0/16.0 MB\u001b[0m \u001b[31m39.2 MB/s\u001b[0m eta \u001b[36m0:00:00\u001b[0m\n",
            "\u001b[?25hRequirement already satisfied: ipywidgets>=7.6.5 in /usr/local/lib/python3.9/dist-packages (from pycaret) (7.7.1)\n",
            "Requirement already satisfied: imbalanced-learn>=0.8.1 in /usr/local/lib/python3.9/dist-packages (from pycaret) (0.10.1)\n",
            "Requirement already satisfied: plotly>=5.0.0 in /usr/local/lib/python3.9/dist-packages (from pycaret) (5.13.1)\n",
            "Collecting joblib>=1.2.0\n",
            "  Downloading joblib-1.2.0-py3-none-any.whl (297 kB)\n",
            "\u001b[2K     \u001b[90m━━━━━━━━━━━━━━━━━━━━━━━━━━━━━━━━━━━━━━\u001b[0m \u001b[32m298.0/298.0 KB\u001b[0m \u001b[31m24.6 MB/s\u001b[0m eta \u001b[36m0:00:00\u001b[0m\n",
            "\u001b[?25hRequirement already satisfied: scikit-learn>=1.0 in /usr/local/lib/python3.9/dist-packages (from pycaret) (1.2.2)\n",
            "Requirement already satisfied: nbformat>=4.2.0 in /usr/local/lib/python3.9/dist-packages (from pycaret) (5.8.0)\n",
            "Collecting xxhash\n",
            "  Downloading xxhash-3.2.0-cp39-cp39-manylinux_2_17_x86_64.manylinux2014_x86_64.whl (212 kB)\n",
            "\u001b[2K     \u001b[90m━━━━━━━━━━━━━━━━━━━━━━━━━━━━━━━━━━━━━━\u001b[0m \u001b[32m212.2/212.2 KB\u001b[0m \u001b[31m18.9 MB/s\u001b[0m eta \u001b[36m0:00:00\u001b[0m\n",
            "\u001b[?25hCollecting plotly-resampler>=0.8.3.1\n",
            "  Downloading plotly_resampler-0.8.3.2.tar.gz (46 kB)\n",
            "\u001b[2K     \u001b[90m━━━━━━━━━━━━━━━━━━━━━━━━━━━━━━━━━━━━━━━━\u001b[0m \u001b[32m46.4/46.4 KB\u001b[0m \u001b[31m4.2 MB/s\u001b[0m eta \u001b[36m0:00:00\u001b[0m\n",
            "\u001b[?25h  Installing build dependencies ... \u001b[?25l\u001b[?25hdone\n",
            "  Getting requirements to build wheel ... \u001b[?25l\u001b[?25hdone\n",
            "  Preparing metadata (pyproject.toml) ... \u001b[?25l\u001b[?25hdone\n",
            "Collecting tbats>=1.1.0\n",
            "  Downloading tbats-1.1.2-py3-none-any.whl (43 kB)\n",
            "\u001b[2K     \u001b[90m━━━━━━━━━━━━━━━━━━━━━━━━━━━━━━━━━━━━━━━━\u001b[0m \u001b[32m43.8/43.8 KB\u001b[0m \u001b[31m4.3 MB/s\u001b[0m eta \u001b[36m0:00:00\u001b[0m\n",
            "\u001b[?25hCollecting schemdraw>=0.14\n",
            "  Downloading schemdraw-0.16-py3-none-any.whl (105 kB)\n",
            "\u001b[2K     \u001b[90m━━━━━━━━━━━━━━━━━━━━━━━━━━━━━━━━━━━━━━━\u001b[0m \u001b[32m105.8/105.8 KB\u001b[0m \u001b[31m7.4 MB/s\u001b[0m eta \u001b[36m0:00:00\u001b[0m\n",
            "\u001b[?25hRequirement already satisfied: lightgbm>=3.0.0 in /usr/local/lib/python3.9/dist-packages (from pycaret) (3.3.5)\n",
            "Requirement already satisfied: pandas<1.6.0,>=1.3.0 in /usr/local/lib/python3.9/dist-packages (from pycaret) (1.4.4)\n",
            "Requirement already satisfied: importlib-metadata>=4.12.0 in /usr/local/lib/python3.9/dist-packages (from pycaret) (6.1.0)\n",
            "Collecting scikit-plot>=0.3.7\n",
            "  Downloading scikit_plot-0.3.7-py3-none-any.whl (33 kB)\n",
            "Requirement already satisfied: scipy<2.0.0 in /usr/local/lib/python3.9/dist-packages (from pycaret) (1.10.1)\n",
            "Requirement already satisfied: numpy<1.25,>=1.21 in /usr/local/lib/python3.9/dist-packages (from pycaret) (1.22.4)\n",
            "Requirement already satisfied: cloudpickle in /usr/local/lib/python3.9/dist-packages (from pycaret) (2.2.1)\n",
            "Requirement already satisfied: psutil>=5.9.0 in /usr/local/lib/python3.9/dist-packages (from pycaret) (5.9.4)\n",
            "Collecting kaleido>=0.2.1\n",
            "  Downloading kaleido-0.2.1-py2.py3-none-manylinux1_x86_64.whl (79.9 MB)\n",
            "\u001b[2K     \u001b[90m━━━━━━━━━━━━━━━━━━━━━━━━━━━━━━━━━━━━━━━━\u001b[0m \u001b[32m79.9/79.9 MB\u001b[0m \u001b[31m10.1 MB/s\u001b[0m eta \u001b[36m0:00:00\u001b[0m\n",
            "\u001b[?25hRequirement already satisfied: tqdm>=4.62.0 in /usr/local/lib/python3.9/dist-packages (from pycaret) (4.65.0)\n",
            "Requirement already satisfied: yellowbrick>=1.4 in /usr/local/lib/python3.9/dist-packages (from pycaret) (1.5)\n",
            "Collecting deprecation>=2.1.0\n",
            "  Downloading deprecation-2.1.0-py2.py3-none-any.whl (11 kB)\n",
            "Collecting wurlitzer; platform_system != \"Windows\"\n",
            "  Downloading wurlitzer-3.0.3-py3-none-any.whl (7.3 kB)\n",
            "Requirement already satisfied: matplotlib>=3.3.0 in /usr/local/lib/python3.9/dist-packages (from pycaret) (3.7.1)\n",
            "Requirement already satisfied: numba>=0.55.0 in /usr/local/lib/python3.9/dist-packages (from pycaret) (0.56.4)\n",
            "Requirement already satisfied: markupsafe>=2.0.1 in /usr/local/lib/python3.9/dist-packages (from pycaret) (2.1.2)\n",
            "Requirement already satisfied: jinja2>=1.2 in /usr/local/lib/python3.9/dist-packages (from pycaret) (3.1.2)\n",
            "Requirement already satisfied: statsmodels>=0.12.1 in /usr/local/lib/python3.9/dist-packages (from pycaret) (0.13.5)\n",
            "Requirement already satisfied: requests>=2.27.1 in /usr/local/lib/python3.9/dist-packages (from pycaret) (2.27.1)\n",
            "Collecting pyod>=1.0.8\n",
            "  Downloading pyod-1.0.9.tar.gz (149 kB)\n",
            "\u001b[2K     \u001b[90m━━━━━━━━━━━━━━━━━━━━━━━━━━━━━━━━━━━━━━\u001b[0m \u001b[32m150.0/150.0 KB\u001b[0m \u001b[31m14.3 MB/s\u001b[0m eta \u001b[36m0:00:00\u001b[0m\n",
            "\u001b[?25h  Preparing metadata (setup.py) ... \u001b[?25l\u001b[?25hdone\n",
            "Collecting slicer==0.0.7\n",
            "  Downloading slicer-0.0.7-py3-none-any.whl (14 kB)\n",
            "Requirement already satisfied: packaging>20.9 in /usr/local/lib/python3.9/dist-packages (from shap) (23.0)\n",
            "Requirement already satisfied: pygments in /usr/local/lib/python3.9/dist-packages (from ipython>=5.5.0->pycaret) (2.14.0)\n",
            "Requirement already satisfied: prompt-toolkit<2.1.0,>=2.0.0 in /usr/local/lib/python3.9/dist-packages (from ipython>=5.5.0->pycaret) (2.0.10)\n",
            "Requirement already satisfied: backcall in /usr/local/lib/python3.9/dist-packages (from ipython>=5.5.0->pycaret) (0.2.0)\n",
            "Requirement already satisfied: setuptools>=18.5 in /usr/local/lib/python3.9/dist-packages (from ipython>=5.5.0->pycaret) (67.6.0)\n",
            "Requirement already satisfied: decorator in /usr/local/lib/python3.9/dist-packages (from ipython>=5.5.0->pycaret) (4.4.2)\n",
            "Requirement already satisfied: traitlets>=4.2 in /usr/local/lib/python3.9/dist-packages (from ipython>=5.5.0->pycaret) (5.7.1)\n",
            "Requirement already satisfied: pickleshare in /usr/local/lib/python3.9/dist-packages (from ipython>=5.5.0->pycaret) (0.7.5)\n",
            "Collecting jedi>=0.10\n",
            "  Downloading jedi-0.18.2-py2.py3-none-any.whl (1.6 MB)\n",
            "\u001b[2K     \u001b[90m━━━━━━━━━━━━━━━━━━━━━━━━━━━━━━━━━━━━━━━━\u001b[0m \u001b[32m1.6/1.6 MB\u001b[0m \u001b[31m68.3 MB/s\u001b[0m eta \u001b[36m0:00:00\u001b[0m\n",
            "\u001b[?25hRequirement already satisfied: pexpect; sys_platform != \"win32\" in /usr/local/lib/python3.9/dist-packages (from ipython>=5.5.0->pycaret) (4.8.0)\n",
            "Requirement already satisfied: patsy>=0.5.1 in /usr/local/lib/python3.9/dist-packages (from category-encoders>=2.4.0->pycaret) (0.5.3)\n",
            "Requirement already satisfied: Cython!=0.29.18,!=0.29.31,>=0.29 in /usr/local/lib/python3.9/dist-packages (from pmdarima!=1.8.1,<3.0.0,>=1.8.0->pycaret) (0.29.33)\n",
            "Requirement already satisfied: urllib3 in /usr/local/lib/python3.9/dist-packages (from pmdarima!=1.8.1,<3.0.0,>=1.8.0->pycaret) (1.26.15)\n",
            "Collecting deprecated>=1.2.13\n",
            "  Downloading Deprecated-1.2.13-py2.py3-none-any.whl (9.6 kB)\n",
            "Requirement already satisfied: ipykernel>=4.5.1 in /usr/local/lib/python3.9/dist-packages (from ipywidgets>=7.6.5->pycaret) (5.3.4)\n",
            "Requirement already satisfied: jupyterlab-widgets>=1.0.0; python_version >= \"3.6\" in /usr/local/lib/python3.9/dist-packages (from ipywidgets>=7.6.5->pycaret) (3.0.6)\n",
            "Requirement already satisfied: ipython-genutils~=0.2.0 in /usr/local/lib/python3.9/dist-packages (from ipywidgets>=7.6.5->pycaret) (0.2.0)\n",
            "Requirement already satisfied: widgetsnbextension~=3.6.0 in /usr/local/lib/python3.9/dist-packages (from ipywidgets>=7.6.5->pycaret) (3.6.3)\n",
            "Requirement already satisfied: threadpoolctl>=2.0.0 in /usr/local/lib/python3.9/dist-packages (from imbalanced-learn>=0.8.1->pycaret) (3.1.0)\n",
            "Requirement already satisfied: tenacity>=6.2.0 in /usr/local/lib/python3.9/dist-packages (from plotly>=5.0.0->pycaret) (8.2.2)\n",
            "Requirement already satisfied: jupyter-core in /usr/local/lib/python3.9/dist-packages (from nbformat>=4.2.0->pycaret) (5.3.0)\n",
            "Requirement already satisfied: fastjsonschema in /usr/local/lib/python3.9/dist-packages (from nbformat>=4.2.0->pycaret) (2.16.3)\n",
            "Requirement already satisfied: jsonschema>=2.6 in /usr/local/lib/python3.9/dist-packages (from nbformat>=4.2.0->pycaret) (4.3.3)\n",
            "Collecting jupyter-dash>=0.4.2\n",
            "  Downloading jupyter_dash-0.4.2-py3-none-any.whl (23 kB)\n",
            "Collecting trace-updater>=0.0.8\n",
            "  Downloading trace_updater-0.0.9-py3-none-any.whl (185 kB)\n",
            "\u001b[2K     \u001b[90m━━━━━━━━━━━━━━━━━━━━━━━━━━━━━━━━━━━━━━\u001b[0m \u001b[32m185.1/185.1 KB\u001b[0m \u001b[31m18.6 MB/s\u001b[0m eta \u001b[36m0:00:00\u001b[0m\n",
            "\u001b[?25hCollecting orjson<4.0.0,>=3.8.0\n",
            "  Downloading orjson-3.8.8-cp39-cp39-manylinux_2_28_x86_64.whl (143 kB)\n",
            "\u001b[2K     \u001b[90m━━━━━━━━━━━━━━━━━━━━━━━━━━━━━━━━━━━━━━\u001b[0m \u001b[32m143.5/143.5 KB\u001b[0m \u001b[31m13.0 MB/s\u001b[0m eta \u001b[36m0:00:00\u001b[0m\n",
            "\u001b[?25hCollecting dash<3.0.0,>=2.2.0\n",
            "  Downloading dash-2.9.1-py3-none-any.whl (10.2 MB)\n",
            "\u001b[2K     \u001b[90m━━━━━━━━━━━━━━━━━━━━━━━━━━━━━━━━━━━━━━━━\u001b[0m \u001b[32m10.2/10.2 MB\u001b[0m \u001b[31m90.9 MB/s\u001b[0m eta \u001b[36m0:00:00\u001b[0m\n",
            "\u001b[?25hRequirement already satisfied: wheel in /usr/local/lib/python3.9/dist-packages (from lightgbm>=3.0.0->pycaret) (0.40.0)\n",
            "Requirement already satisfied: pytz>=2020.1 in /usr/local/lib/python3.9/dist-packages (from pandas<1.6.0,>=1.3.0->pycaret) (2022.7.1)\n",
            "Requirement already satisfied: python-dateutil>=2.8.1 in /usr/local/lib/python3.9/dist-packages (from pandas<1.6.0,>=1.3.0->pycaret) (2.8.2)\n",
            "Requirement already satisfied: zipp>=0.5 in /usr/local/lib/python3.9/dist-packages (from importlib-metadata>=4.12.0->pycaret) (3.15.0)\n",
            "Requirement already satisfied: cycler>=0.10.0 in /usr/local/lib/python3.9/dist-packages (from yellowbrick>=1.4->pycaret) (0.11.0)\n",
            "Requirement already satisfied: contourpy>=1.0.1 in /usr/local/lib/python3.9/dist-packages (from matplotlib>=3.3.0->pycaret) (1.0.7)\n",
            "Requirement already satisfied: kiwisolver>=1.0.1 in /usr/local/lib/python3.9/dist-packages (from matplotlib>=3.3.0->pycaret) (1.4.4)\n",
            "Requirement already satisfied: fonttools>=4.22.0 in /usr/local/lib/python3.9/dist-packages (from matplotlib>=3.3.0->pycaret) (4.39.2)\n",
            "Requirement already satisfied: pyparsing>=2.3.1 in /usr/local/lib/python3.9/dist-packages (from matplotlib>=3.3.0->pycaret) (3.0.9)\n",
            "Requirement already satisfied: pillow>=6.2.0 in /usr/local/lib/python3.9/dist-packages (from matplotlib>=3.3.0->pycaret) (8.4.0)\n",
            "Requirement already satisfied: importlib-resources>=3.2.0; python_version < \"3.10\" in /usr/local/lib/python3.9/dist-packages (from matplotlib>=3.3.0->pycaret) (5.12.0)\n",
            "Requirement already satisfied: llvmlite<0.40,>=0.39.0dev0 in /usr/local/lib/python3.9/dist-packages (from numba>=0.55.0->pycaret) (0.39.1)\n",
            "Requirement already satisfied: idna<4,>=2.5; python_version >= \"3\" in /usr/local/lib/python3.9/dist-packages (from requests>=2.27.1->pycaret) (3.4)\n",
            "Requirement already satisfied: charset-normalizer~=2.0.0; python_version >= \"3\" in /usr/local/lib/python3.9/dist-packages (from requests>=2.27.1->pycaret) (2.0.12)\n",
            "Requirement already satisfied: certifi>=2017.4.17 in /usr/local/lib/python3.9/dist-packages (from requests>=2.27.1->pycaret) (2022.12.7)\n",
            "Requirement already satisfied: six in /usr/local/lib/python3.9/dist-packages (from pyod>=1.0.8->pycaret) (1.16.0)\n",
            "Requirement already satisfied: wcwidth in /usr/local/lib/python3.9/dist-packages (from prompt-toolkit<2.1.0,>=2.0.0->ipython>=5.5.0->pycaret) (0.2.6)\n",
            "Requirement already satisfied: parso<0.9.0,>=0.8.0 in /usr/local/lib/python3.9/dist-packages (from jedi>=0.10->ipython>=5.5.0->pycaret) (0.8.3)\n",
            "Requirement already satisfied: ptyprocess>=0.5 in /usr/local/lib/python3.9/dist-packages (from pexpect; sys_platform != \"win32\"->ipython>=5.5.0->pycaret) (0.7.0)\n",
            "Requirement already satisfied: wrapt<2,>=1.10 in /usr/local/lib/python3.9/dist-packages (from deprecated>=1.2.13->sktime>=0.16.1->pycaret) (1.15.0)\n",
            "Requirement already satisfied: tornado>=4.2 in /usr/local/lib/python3.9/dist-packages (from ipykernel>=4.5.1->ipywidgets>=7.6.5->pycaret) (6.2)\n",
            "Requirement already satisfied: jupyter-client in /usr/local/lib/python3.9/dist-packages (from ipykernel>=4.5.1->ipywidgets>=7.6.5->pycaret) (6.1.12)\n",
            "Requirement already satisfied: notebook>=4.4.1 in /usr/local/lib/python3.9/dist-packages (from widgetsnbextension~=3.6.0->ipywidgets>=7.6.5->pycaret) (6.3.0)\n",
            "Requirement already satisfied: platformdirs>=2.5 in /usr/local/lib/python3.9/dist-packages (from jupyter-core->nbformat>=4.2.0->pycaret) (3.1.1)\n",
            "Requirement already satisfied: pyrsistent!=0.17.0,!=0.17.1,!=0.17.2,>=0.14.0 in /usr/local/lib/python3.9/dist-packages (from jsonschema>=2.6->nbformat>=4.2.0->pycaret) (0.19.3)\n",
            "Requirement already satisfied: attrs>=17.4.0 in /usr/local/lib/python3.9/dist-packages (from jsonschema>=2.6->nbformat>=4.2.0->pycaret) (22.2.0)\n",
            "Requirement already satisfied: nest-asyncio in /usr/local/lib/python3.9/dist-packages (from jupyter-dash>=0.4.2->plotly-resampler>=0.8.3.1->pycaret) (1.5.6)\n",
            "Collecting retrying\n",
            "  Downloading retrying-1.3.4-py3-none-any.whl (11 kB)\n",
            "Collecting ansi2html\n",
            "  Downloading ansi2html-1.8.0-py3-none-any.whl (16 kB)\n",
            "Requirement already satisfied: flask in /usr/local/lib/python3.9/dist-packages (from jupyter-dash>=0.4.2->plotly-resampler>=0.8.3.1->pycaret) (2.2.3)\n",
            "Collecting dash-core-components==2.0.0\n",
            "  Downloading dash_core_components-2.0.0-py3-none-any.whl (3.8 kB)\n",
            "Collecting dash-table==5.0.0\n",
            "  Downloading dash_table-5.0.0-py3-none-any.whl (3.9 kB)\n",
            "Collecting dash-html-components==2.0.0\n",
            "  Downloading dash_html_components-2.0.0-py3-none-any.whl (4.1 kB)\n",
            "Requirement already satisfied: pyzmq>=13 in /usr/local/lib/python3.9/dist-packages (from jupyter-client->ipykernel>=4.5.1->ipywidgets>=7.6.5->pycaret) (23.2.1)\n",
            "Requirement already satisfied: argon2-cffi in /usr/local/lib/python3.9/dist-packages (from notebook>=4.4.1->widgetsnbextension~=3.6.0->ipywidgets>=7.6.5->pycaret) (21.3.0)\n",
            "Requirement already satisfied: Send2Trash>=1.5.0 in /usr/local/lib/python3.9/dist-packages (from notebook>=4.4.1->widgetsnbextension~=3.6.0->ipywidgets>=7.6.5->pycaret) (1.8.0)\n",
            "Requirement already satisfied: nbconvert in /usr/local/lib/python3.9/dist-packages (from notebook>=4.4.1->widgetsnbextension~=3.6.0->ipywidgets>=7.6.5->pycaret) (6.5.4)\n",
            "Requirement already satisfied: terminado>=0.8.3 in /usr/local/lib/python3.9/dist-packages (from notebook>=4.4.1->widgetsnbextension~=3.6.0->ipywidgets>=7.6.5->pycaret) (0.17.1)\n",
            "Requirement already satisfied: prometheus-client in /usr/local/lib/python3.9/dist-packages (from notebook>=4.4.1->widgetsnbextension~=3.6.0->ipywidgets>=7.6.5->pycaret) (0.16.0)\n",
            "Requirement already satisfied: click>=8.0 in /usr/local/lib/python3.9/dist-packages (from flask->jupyter-dash>=0.4.2->plotly-resampler>=0.8.3.1->pycaret) (8.1.3)\n",
            "Requirement already satisfied: Werkzeug>=2.2.2 in /usr/local/lib/python3.9/dist-packages (from flask->jupyter-dash>=0.4.2->plotly-resampler>=0.8.3.1->pycaret) (2.2.3)\n",
            "Requirement already satisfied: itsdangerous>=2.0 in /usr/local/lib/python3.9/dist-packages (from flask->jupyter-dash>=0.4.2->plotly-resampler>=0.8.3.1->pycaret) (2.1.2)\n",
            "Requirement already satisfied: argon2-cffi-bindings in /usr/local/lib/python3.9/dist-packages (from argon2-cffi->notebook>=4.4.1->widgetsnbextension~=3.6.0->ipywidgets>=7.6.5->pycaret) (21.2.0)\n",
            "Requirement already satisfied: entrypoints>=0.2.2 in /usr/local/lib/python3.9/dist-packages (from nbconvert->notebook>=4.4.1->widgetsnbextension~=3.6.0->ipywidgets>=7.6.5->pycaret) (0.4)\n",
            "Requirement already satisfied: pandocfilters>=1.4.1 in /usr/local/lib/python3.9/dist-packages (from nbconvert->notebook>=4.4.1->widgetsnbextension~=3.6.0->ipywidgets>=7.6.5->pycaret) (1.5.0)\n",
            "Requirement already satisfied: defusedxml in /usr/local/lib/python3.9/dist-packages (from nbconvert->notebook>=4.4.1->widgetsnbextension~=3.6.0->ipywidgets>=7.6.5->pycaret) (0.7.1)\n",
            "Requirement already satisfied: lxml in /usr/local/lib/python3.9/dist-packages (from nbconvert->notebook>=4.4.1->widgetsnbextension~=3.6.0->ipywidgets>=7.6.5->pycaret) (4.9.2)\n",
            "Requirement already satisfied: mistune<2,>=0.8.1 in /usr/local/lib/python3.9/dist-packages (from nbconvert->notebook>=4.4.1->widgetsnbextension~=3.6.0->ipywidgets>=7.6.5->pycaret) (0.8.4)\n",
            "Requirement already satisfied: beautifulsoup4 in /usr/local/lib/python3.9/dist-packages (from nbconvert->notebook>=4.4.1->widgetsnbextension~=3.6.0->ipywidgets>=7.6.5->pycaret) (4.11.2)\n",
            "Requirement already satisfied: jupyterlab-pygments in /usr/local/lib/python3.9/dist-packages (from nbconvert->notebook>=4.4.1->widgetsnbextension~=3.6.0->ipywidgets>=7.6.5->pycaret) (0.2.2)\n",
            "Requirement already satisfied: tinycss2 in /usr/local/lib/python3.9/dist-packages (from nbconvert->notebook>=4.4.1->widgetsnbextension~=3.6.0->ipywidgets>=7.6.5->pycaret) (1.2.1)\n",
            "Requirement already satisfied: nbclient>=0.5.0 in /usr/local/lib/python3.9/dist-packages (from nbconvert->notebook>=4.4.1->widgetsnbextension~=3.6.0->ipywidgets>=7.6.5->pycaret) (0.7.2)\n",
            "Requirement already satisfied: bleach in /usr/local/lib/python3.9/dist-packages (from nbconvert->notebook>=4.4.1->widgetsnbextension~=3.6.0->ipywidgets>=7.6.5->pycaret) (6.0.0)\n",
            "Requirement already satisfied: cffi>=1.0.1 in /usr/local/lib/python3.9/dist-packages (from argon2-cffi-bindings->argon2-cffi->notebook>=4.4.1->widgetsnbextension~=3.6.0->ipywidgets>=7.6.5->pycaret) (1.15.1)\n",
            "Requirement already satisfied: soupsieve>1.2 in /usr/local/lib/python3.9/dist-packages (from beautifulsoup4->nbconvert->notebook>=4.4.1->widgetsnbextension~=3.6.0->ipywidgets>=7.6.5->pycaret) (2.4)\n",
            "Requirement already satisfied: webencodings>=0.4 in /usr/local/lib/python3.9/dist-packages (from tinycss2->nbconvert->notebook>=4.4.1->widgetsnbextension~=3.6.0->ipywidgets>=7.6.5->pycaret) (0.5.1)\n",
            "Requirement already satisfied: pycparser in /usr/local/lib/python3.9/dist-packages (from cffi>=1.0.1->argon2-cffi-bindings->argon2-cffi->notebook>=4.4.1->widgetsnbextension~=3.6.0->ipywidgets>=7.6.5->pycaret) (2.21)\n",
            "Building wheels for collected packages: plotly-resampler, pyod\n",
            "  Building wheel for plotly-resampler (pyproject.toml) ... \u001b[?25l\u001b[?25hdone\n",
            "  Created wheel for plotly-resampler: filename=plotly_resampler-0.8.3.2-cp39-cp39-manylinux_2_31_x86_64.whl size=75024 sha256=19c426e62eeeb5a4fe5f374df43a2ba3b8d61cd124a4ab6b2029ed680d60466e\n",
            "  Stored in directory: /root/.cache/pip/wheels/9e/36/06/4c11e300918011376af149098621ec7ebe06d8256566d43d51\n",
            "  Building wheel for pyod (setup.py) ... \u001b[?25l\u001b[?25hdone\n",
            "  Created wheel for pyod: filename=pyod-1.0.9-py3-none-any.whl size=184112 sha256=60d5811a284a9ef4d8840214c2e92fc463c7fbd541641163e60c045834fe34c7\n",
            "  Stored in directory: /root/.cache/pip/wheels/1b/9c/b8/9759d7cc64a1e01bb9872ade80cb7db445ccf506e083325106\n",
            "Successfully built plotly-resampler pyod\n",
            "Installing collected packages: category-encoders, joblib, pmdarima, deprecated, sktime, xxhash, retrying, ansi2html, dash-core-components, dash-table, dash-html-components, dash, jupyter-dash, trace-updater, orjson, plotly-resampler, tbats, schemdraw, scikit-plot, kaleido, deprecation, wurlitzer, pyod, pycaret, slicer, shap, jedi\n",
            "  Attempting uninstall: joblib\n",
            "    Found existing installation: joblib 1.1.1\n",
            "    Uninstalling joblib-1.1.1:\n",
            "      Successfully uninstalled joblib-1.1.1\n",
            "\u001b[31mERROR: pip's legacy dependency resolver does not consider dependency conflicts when selecting packages. This behaviour is the source of the following dependency conflicts.\n",
            "pandas-profiling 3.2.0 requires joblib~=1.1.0, but you'll have joblib 1.2.0 which is incompatible.\u001b[0m\u001b[31m\n",
            "\u001b[0mSuccessfully installed ansi2html-1.8.0 category-encoders-2.6.0 dash-2.9.1 dash-core-components-2.0.0 dash-html-components-2.0.0 dash-table-5.0.0 deprecated-1.2.13 deprecation-2.1.0 jedi-0.18.2 joblib-1.2.0 jupyter-dash-0.4.2 kaleido-0.2.1 orjson-3.8.8 plotly-resampler-0.8.3.2 pmdarima-2.0.3 pycaret-3.0.0 pyod-1.0.9 retrying-1.3.4 schemdraw-0.16 scikit-plot-0.3.7 shap-0.41.0 sktime-0.16.1 slicer-0.0.7 tbats-1.1.2 trace-updater-0.0.9 wurlitzer-3.0.3 xxhash-3.2.0\n"
          ]
        }
      ],
      "source": [
        "!pip install pycaret shap --use-deprecated=legacy-resolver"
      ]
    },
    {
      "cell_type": "markdown",
      "metadata": {
        "id": "9mgr3UYDOQY3"
      },
      "source": [
        "## Import Library"
      ]
    },
    {
      "cell_type": "code",
      "execution_count": 2,
      "metadata": {
        "id": "neKNQzWD-vWH"
      },
      "outputs": [],
      "source": [
        "# Meng-import Library yang akan digunakan\n",
        "\n",
        "import pandas as pd\n",
        "import numpy as np\n",
        "\n",
        "import seaborn as sns\n",
        "import matplotlib.pyplot as plt\n",
        "import matplotlib\n",
        "import plotly.express as px\n",
        "import plotly.graph_objects as go\n",
        "from pycaret.classification import *\n",
        "from scipy.stats import zscore\n",
        "from scipy.linalg import pinv, inv\n",
        "\n",
        "matplotlib.style.use('ggplot')\n",
        "%matplotlib inline"
      ]
    },
    {
      "cell_type": "markdown",
      "metadata": {
        "id": "t7KVTFfjOS_J"
      },
      "source": [
        "## Exploratory Data Analysis"
      ]
    },
    {
      "cell_type": "code",
      "execution_count": 3,
      "metadata": {
        "colab": {
          "base_uri": "https://localhost:8080/",
          "height": 613
        },
        "id": "3pR_3nmlwKVx",
        "outputId": "5f663b32-8f76-450a-e6fb-4d45e3c6d97a"
      },
      "outputs": [
        {
          "output_type": "execute_result",
          "data": {
            "text/plain": [
              "     Unnamed: 0 state_code   latitude   longitude zip_code       id  \\\n",
              "643         110         NH  42.737022  -71.487298     3062  c:14028   \n",
              "455        1133         CA  37.762185 -122.467269    94104    c:921   \n",
              "578          44         CA  37.486571 -122.229161    94063   c:1148   \n",
              "635         684         CA  37.779281 -122.419236    94133  c:39399   \n",
              "570         441         MA  42.398866  -71.253781     2451  c:25743   \n",
              "846         519         WA  47.602416 -122.332614    98104   c:2955   \n",
              "355        1063         CA  37.764169 -122.402021    94110    c:767   \n",
              "916         284         NY  40.742953  -73.984461    10018  c:17758   \n",
              "425         300         CA  37.561111 -122.270487    94404  c:18080   \n",
              "270         802         MA  42.504817  -71.195611     1803  c:45792   \n",
              "\n",
              "              city              Unnamed: 6            name  labels  ...  \\\n",
              "643         Nashua                     NaN        AutoVirt       0  ...   \n",
              "455  San Francisco                     NaN  Consorte Media       1  ...   \n",
              "578   Redwood City                     NaN      Predictify       0  ...   \n",
              "635  San Francisco  San Francisco CA 94133        Sweepery       0  ...   \n",
              "570        Waltham                     NaN          Aveksa       1  ...   \n",
              "846        Seattle                     NaN  PI Corporation       1  ...   \n",
              "355  San Francisco                     NaN          TripIt       1  ...   \n",
              "916       New York                     NaN         TRAFFIQ       1  ...   \n",
              "425    Foster City                     NaN         Etology       0  ...   \n",
              "270     Burlington      Burlington MA 1803        Intrusic       0  ...   \n",
              "\n",
              "    object_id has_VC has_angel has_roundA  has_roundB  has_roundC  has_roundD  \\\n",
              "643   c:14028      1         1          1           1           0           0   \n",
              "455     c:921      0         0          0           1           0           0   \n",
              "578    c:1148      0         0          1           0           0           0   \n",
              "635   c:39399      0         0          0           0           0           0   \n",
              "570   c:25743      0         0          1           1           1           0   \n",
              "846    c:2955      0         0          0           1           0           0   \n",
              "355     c:767      0         1          0           1           1           0   \n",
              "916   c:17758      1         0          1           1           0           0   \n",
              "425   c:18080      0         0          1           0           0           0   \n",
              "270   c:45792      0         0          1           1           0           0   \n",
              "\n",
              "     avg_participants  is_top500    status  \n",
              "643            2.0000          1    closed  \n",
              "455            2.0000          1  acquired  \n",
              "578            2.0000          1    closed  \n",
              "635            1.0000          1    closed  \n",
              "570            2.6667          1  acquired  \n",
              "846            1.0000          1  acquired  \n",
              "355            1.6667          1  acquired  \n",
              "916            2.3333          1  acquired  \n",
              "425            3.0000          0    closed  \n",
              "270            3.0000          1    closed  \n",
              "\n",
              "[10 rows x 49 columns]"
            ],
            "text/html": [
              "\n",
              "  <div id=\"df-baab7bef-a564-4e47-a90d-5cc465915dd0\">\n",
              "    <div class=\"colab-df-container\">\n",
              "      <div>\n",
              "<style scoped>\n",
              "    .dataframe tbody tr th:only-of-type {\n",
              "        vertical-align: middle;\n",
              "    }\n",
              "\n",
              "    .dataframe tbody tr th {\n",
              "        vertical-align: top;\n",
              "    }\n",
              "\n",
              "    .dataframe thead th {\n",
              "        text-align: right;\n",
              "    }\n",
              "</style>\n",
              "<table border=\"1\" class=\"dataframe\">\n",
              "  <thead>\n",
              "    <tr style=\"text-align: right;\">\n",
              "      <th></th>\n",
              "      <th>Unnamed: 0</th>\n",
              "      <th>state_code</th>\n",
              "      <th>latitude</th>\n",
              "      <th>longitude</th>\n",
              "      <th>zip_code</th>\n",
              "      <th>id</th>\n",
              "      <th>city</th>\n",
              "      <th>Unnamed: 6</th>\n",
              "      <th>name</th>\n",
              "      <th>labels</th>\n",
              "      <th>...</th>\n",
              "      <th>object_id</th>\n",
              "      <th>has_VC</th>\n",
              "      <th>has_angel</th>\n",
              "      <th>has_roundA</th>\n",
              "      <th>has_roundB</th>\n",
              "      <th>has_roundC</th>\n",
              "      <th>has_roundD</th>\n",
              "      <th>avg_participants</th>\n",
              "      <th>is_top500</th>\n",
              "      <th>status</th>\n",
              "    </tr>\n",
              "  </thead>\n",
              "  <tbody>\n",
              "    <tr>\n",
              "      <th>643</th>\n",
              "      <td>110</td>\n",
              "      <td>NH</td>\n",
              "      <td>42.737022</td>\n",
              "      <td>-71.487298</td>\n",
              "      <td>3062</td>\n",
              "      <td>c:14028</td>\n",
              "      <td>Nashua</td>\n",
              "      <td>NaN</td>\n",
              "      <td>AutoVirt</td>\n",
              "      <td>0</td>\n",
              "      <td>...</td>\n",
              "      <td>c:14028</td>\n",
              "      <td>1</td>\n",
              "      <td>1</td>\n",
              "      <td>1</td>\n",
              "      <td>1</td>\n",
              "      <td>0</td>\n",
              "      <td>0</td>\n",
              "      <td>2.0000</td>\n",
              "      <td>1</td>\n",
              "      <td>closed</td>\n",
              "    </tr>\n",
              "    <tr>\n",
              "      <th>455</th>\n",
              "      <td>1133</td>\n",
              "      <td>CA</td>\n",
              "      <td>37.762185</td>\n",
              "      <td>-122.467269</td>\n",
              "      <td>94104</td>\n",
              "      <td>c:921</td>\n",
              "      <td>San Francisco</td>\n",
              "      <td>NaN</td>\n",
              "      <td>Consorte Media</td>\n",
              "      <td>1</td>\n",
              "      <td>...</td>\n",
              "      <td>c:921</td>\n",
              "      <td>0</td>\n",
              "      <td>0</td>\n",
              "      <td>0</td>\n",
              "      <td>1</td>\n",
              "      <td>0</td>\n",
              "      <td>0</td>\n",
              "      <td>2.0000</td>\n",
              "      <td>1</td>\n",
              "      <td>acquired</td>\n",
              "    </tr>\n",
              "    <tr>\n",
              "      <th>578</th>\n",
              "      <td>44</td>\n",
              "      <td>CA</td>\n",
              "      <td>37.486571</td>\n",
              "      <td>-122.229161</td>\n",
              "      <td>94063</td>\n",
              "      <td>c:1148</td>\n",
              "      <td>Redwood City</td>\n",
              "      <td>NaN</td>\n",
              "      <td>Predictify</td>\n",
              "      <td>0</td>\n",
              "      <td>...</td>\n",
              "      <td>c:1148</td>\n",
              "      <td>0</td>\n",
              "      <td>0</td>\n",
              "      <td>1</td>\n",
              "      <td>0</td>\n",
              "      <td>0</td>\n",
              "      <td>0</td>\n",
              "      <td>2.0000</td>\n",
              "      <td>1</td>\n",
              "      <td>closed</td>\n",
              "    </tr>\n",
              "    <tr>\n",
              "      <th>635</th>\n",
              "      <td>684</td>\n",
              "      <td>CA</td>\n",
              "      <td>37.779281</td>\n",
              "      <td>-122.419236</td>\n",
              "      <td>94133</td>\n",
              "      <td>c:39399</td>\n",
              "      <td>San Francisco</td>\n",
              "      <td>San Francisco CA 94133</td>\n",
              "      <td>Sweepery</td>\n",
              "      <td>0</td>\n",
              "      <td>...</td>\n",
              "      <td>c:39399</td>\n",
              "      <td>0</td>\n",
              "      <td>0</td>\n",
              "      <td>0</td>\n",
              "      <td>0</td>\n",
              "      <td>0</td>\n",
              "      <td>0</td>\n",
              "      <td>1.0000</td>\n",
              "      <td>1</td>\n",
              "      <td>closed</td>\n",
              "    </tr>\n",
              "    <tr>\n",
              "      <th>570</th>\n",
              "      <td>441</td>\n",
              "      <td>MA</td>\n",
              "      <td>42.398866</td>\n",
              "      <td>-71.253781</td>\n",
              "      <td>2451</td>\n",
              "      <td>c:25743</td>\n",
              "      <td>Waltham</td>\n",
              "      <td>NaN</td>\n",
              "      <td>Aveksa</td>\n",
              "      <td>1</td>\n",
              "      <td>...</td>\n",
              "      <td>c:25743</td>\n",
              "      <td>0</td>\n",
              "      <td>0</td>\n",
              "      <td>1</td>\n",
              "      <td>1</td>\n",
              "      <td>1</td>\n",
              "      <td>0</td>\n",
              "      <td>2.6667</td>\n",
              "      <td>1</td>\n",
              "      <td>acquired</td>\n",
              "    </tr>\n",
              "    <tr>\n",
              "      <th>846</th>\n",
              "      <td>519</td>\n",
              "      <td>WA</td>\n",
              "      <td>47.602416</td>\n",
              "      <td>-122.332614</td>\n",
              "      <td>98104</td>\n",
              "      <td>c:2955</td>\n",
              "      <td>Seattle</td>\n",
              "      <td>NaN</td>\n",
              "      <td>PI Corporation</td>\n",
              "      <td>1</td>\n",
              "      <td>...</td>\n",
              "      <td>c:2955</td>\n",
              "      <td>0</td>\n",
              "      <td>0</td>\n",
              "      <td>0</td>\n",
              "      <td>1</td>\n",
              "      <td>0</td>\n",
              "      <td>0</td>\n",
              "      <td>1.0000</td>\n",
              "      <td>1</td>\n",
              "      <td>acquired</td>\n",
              "    </tr>\n",
              "    <tr>\n",
              "      <th>355</th>\n",
              "      <td>1063</td>\n",
              "      <td>CA</td>\n",
              "      <td>37.764169</td>\n",
              "      <td>-122.402021</td>\n",
              "      <td>94110</td>\n",
              "      <td>c:767</td>\n",
              "      <td>San Francisco</td>\n",
              "      <td>NaN</td>\n",
              "      <td>TripIt</td>\n",
              "      <td>1</td>\n",
              "      <td>...</td>\n",
              "      <td>c:767</td>\n",
              "      <td>0</td>\n",
              "      <td>1</td>\n",
              "      <td>0</td>\n",
              "      <td>1</td>\n",
              "      <td>1</td>\n",
              "      <td>0</td>\n",
              "      <td>1.6667</td>\n",
              "      <td>1</td>\n",
              "      <td>acquired</td>\n",
              "    </tr>\n",
              "    <tr>\n",
              "      <th>916</th>\n",
              "      <td>284</td>\n",
              "      <td>NY</td>\n",
              "      <td>40.742953</td>\n",
              "      <td>-73.984461</td>\n",
              "      <td>10018</td>\n",
              "      <td>c:17758</td>\n",
              "      <td>New York</td>\n",
              "      <td>NaN</td>\n",
              "      <td>TRAFFIQ</td>\n",
              "      <td>1</td>\n",
              "      <td>...</td>\n",
              "      <td>c:17758</td>\n",
              "      <td>1</td>\n",
              "      <td>0</td>\n",
              "      <td>1</td>\n",
              "      <td>1</td>\n",
              "      <td>0</td>\n",
              "      <td>0</td>\n",
              "      <td>2.3333</td>\n",
              "      <td>1</td>\n",
              "      <td>acquired</td>\n",
              "    </tr>\n",
              "    <tr>\n",
              "      <th>425</th>\n",
              "      <td>300</td>\n",
              "      <td>CA</td>\n",
              "      <td>37.561111</td>\n",
              "      <td>-122.270487</td>\n",
              "      <td>94404</td>\n",
              "      <td>c:18080</td>\n",
              "      <td>Foster City</td>\n",
              "      <td>NaN</td>\n",
              "      <td>Etology</td>\n",
              "      <td>0</td>\n",
              "      <td>...</td>\n",
              "      <td>c:18080</td>\n",
              "      <td>0</td>\n",
              "      <td>0</td>\n",
              "      <td>1</td>\n",
              "      <td>0</td>\n",
              "      <td>0</td>\n",
              "      <td>0</td>\n",
              "      <td>3.0000</td>\n",
              "      <td>0</td>\n",
              "      <td>closed</td>\n",
              "    </tr>\n",
              "    <tr>\n",
              "      <th>270</th>\n",
              "      <td>802</td>\n",
              "      <td>MA</td>\n",
              "      <td>42.504817</td>\n",
              "      <td>-71.195611</td>\n",
              "      <td>1803</td>\n",
              "      <td>c:45792</td>\n",
              "      <td>Burlington</td>\n",
              "      <td>Burlington MA 1803</td>\n",
              "      <td>Intrusic</td>\n",
              "      <td>0</td>\n",
              "      <td>...</td>\n",
              "      <td>c:45792</td>\n",
              "      <td>0</td>\n",
              "      <td>0</td>\n",
              "      <td>1</td>\n",
              "      <td>1</td>\n",
              "      <td>0</td>\n",
              "      <td>0</td>\n",
              "      <td>3.0000</td>\n",
              "      <td>1</td>\n",
              "      <td>closed</td>\n",
              "    </tr>\n",
              "  </tbody>\n",
              "</table>\n",
              "<p>10 rows × 49 columns</p>\n",
              "</div>\n",
              "      <button class=\"colab-df-convert\" onclick=\"convertToInteractive('df-baab7bef-a564-4e47-a90d-5cc465915dd0')\"\n",
              "              title=\"Convert this dataframe to an interactive table.\"\n",
              "              style=\"display:none;\">\n",
              "        \n",
              "  <svg xmlns=\"http://www.w3.org/2000/svg\" height=\"24px\"viewBox=\"0 0 24 24\"\n",
              "       width=\"24px\">\n",
              "    <path d=\"M0 0h24v24H0V0z\" fill=\"none\"/>\n",
              "    <path d=\"M18.56 5.44l.94 2.06.94-2.06 2.06-.94-2.06-.94-.94-2.06-.94 2.06-2.06.94zm-11 1L8.5 8.5l.94-2.06 2.06-.94-2.06-.94L8.5 2.5l-.94 2.06-2.06.94zm10 10l.94 2.06.94-2.06 2.06-.94-2.06-.94-.94-2.06-.94 2.06-2.06.94z\"/><path d=\"M17.41 7.96l-1.37-1.37c-.4-.4-.92-.59-1.43-.59-.52 0-1.04.2-1.43.59L10.3 9.45l-7.72 7.72c-.78.78-.78 2.05 0 2.83L4 21.41c.39.39.9.59 1.41.59.51 0 1.02-.2 1.41-.59l7.78-7.78 2.81-2.81c.8-.78.8-2.07 0-2.86zM5.41 20L4 18.59l7.72-7.72 1.47 1.35L5.41 20z\"/>\n",
              "  </svg>\n",
              "      </button>\n",
              "      \n",
              "  <style>\n",
              "    .colab-df-container {\n",
              "      display:flex;\n",
              "      flex-wrap:wrap;\n",
              "      gap: 12px;\n",
              "    }\n",
              "\n",
              "    .colab-df-convert {\n",
              "      background-color: #E8F0FE;\n",
              "      border: none;\n",
              "      border-radius: 50%;\n",
              "      cursor: pointer;\n",
              "      display: none;\n",
              "      fill: #1967D2;\n",
              "      height: 32px;\n",
              "      padding: 0 0 0 0;\n",
              "      width: 32px;\n",
              "    }\n",
              "\n",
              "    .colab-df-convert:hover {\n",
              "      background-color: #E2EBFA;\n",
              "      box-shadow: 0px 1px 2px rgba(60, 64, 67, 0.3), 0px 1px 3px 1px rgba(60, 64, 67, 0.15);\n",
              "      fill: #174EA6;\n",
              "    }\n",
              "\n",
              "    [theme=dark] .colab-df-convert {\n",
              "      background-color: #3B4455;\n",
              "      fill: #D2E3FC;\n",
              "    }\n",
              "\n",
              "    [theme=dark] .colab-df-convert:hover {\n",
              "      background-color: #434B5C;\n",
              "      box-shadow: 0px 1px 3px 1px rgba(0, 0, 0, 0.15);\n",
              "      filter: drop-shadow(0px 1px 2px rgba(0, 0, 0, 0.3));\n",
              "      fill: #FFFFFF;\n",
              "    }\n",
              "  </style>\n",
              "\n",
              "      <script>\n",
              "        const buttonEl =\n",
              "          document.querySelector('#df-baab7bef-a564-4e47-a90d-5cc465915dd0 button.colab-df-convert');\n",
              "        buttonEl.style.display =\n",
              "          google.colab.kernel.accessAllowed ? 'block' : 'none';\n",
              "\n",
              "        async function convertToInteractive(key) {\n",
              "          const element = document.querySelector('#df-baab7bef-a564-4e47-a90d-5cc465915dd0');\n",
              "          const dataTable =\n",
              "            await google.colab.kernel.invokeFunction('convertToInteractive',\n",
              "                                                     [key], {});\n",
              "          if (!dataTable) return;\n",
              "\n",
              "          const docLinkHtml = 'Like what you see? Visit the ' +\n",
              "            '<a target=\"_blank\" href=https://colab.research.google.com/notebooks/data_table.ipynb>data table notebook</a>'\n",
              "            + ' to learn more about interactive tables.';\n",
              "          element.innerHTML = '';\n",
              "          dataTable['output_type'] = 'display_data';\n",
              "          await google.colab.output.renderOutput(dataTable, element);\n",
              "          const docLink = document.createElement('div');\n",
              "          docLink.innerHTML = docLinkHtml;\n",
              "          element.appendChild(docLink);\n",
              "        }\n",
              "      </script>\n",
              "    </div>\n",
              "  </div>\n",
              "  "
            ]
          },
          "metadata": {},
          "execution_count": 3
        }
      ],
      "source": [
        "# Membaca  file CSV\n",
        "df = pd.read_csv(\"/content/startup data.csv\")\n",
        "\n",
        "# Melihat 10 sample data pada datasets\n",
        "df.sample(10)"
      ]
    },
    {
      "cell_type": "code",
      "execution_count": 4,
      "metadata": {
        "colab": {
          "base_uri": "https://localhost:8080/"
        },
        "id": "TGIC7YX-1S_6",
        "outputId": "cc08189c-a279-4ede-d81d-6a50031037da"
      },
      "outputs": [
        {
          "output_type": "stream",
          "name": "stdout",
          "text": [
            "Dataset ini memiliki 923 baris dan 49 kolom\n"
          ]
        }
      ],
      "source": [
        "# Melihat berapa banyak row dan columns pada data\n",
        "\n",
        "print(f'Dataset ini memiliki {df.shape[0]} baris dan {df.shape[1]} kolom')"
      ]
    },
    {
      "cell_type": "code",
      "execution_count": 5,
      "metadata": {
        "colab": {
          "base_uri": "https://localhost:8080/"
        },
        "id": "lTTuZZLNC2QP",
        "outputId": "570cba00-d159-4352-c630-62429bafe6e4"
      },
      "outputs": [
        {
          "output_type": "stream",
          "name": "stdout",
          "text": [
            "Ada 0 value yang redundant\n"
          ]
        }
      ],
      "source": [
        "# Mengecek apakah ada value yang redundant\n",
        "\n",
        "print(f'Ada {df.duplicated().sum()} value yang redundant')"
      ]
    },
    {
      "cell_type": "code",
      "execution_count": 6,
      "metadata": {
        "colab": {
          "base_uri": "https://localhost:8080/"
        },
        "id": "CbjgmaiSwLq-",
        "outputId": "2fd746d4-1632-45fc-fe0d-fca07f0d7244"
      },
      "outputs": [
        {
          "output_type": "execute_result",
          "data": {
            "text/plain": [
              "Index(['Unnamed: 0', 'state_code', 'latitude', 'longitude', 'zip_code', 'id',\n",
              "       'city', 'Unnamed: 6', 'name', 'labels', 'founded_at', 'closed_at',\n",
              "       'first_funding_at', 'last_funding_at', 'age_first_funding_year',\n",
              "       'age_last_funding_year', 'age_first_milestone_year',\n",
              "       'age_last_milestone_year', 'relationships', 'funding_rounds',\n",
              "       'funding_total_usd', 'milestones', 'state_code.1', 'is_CA', 'is_NY',\n",
              "       'is_MA', 'is_TX', 'is_otherstate', 'category_code', 'is_software',\n",
              "       'is_web', 'is_mobile', 'is_enterprise', 'is_advertising',\n",
              "       'is_gamesvideo', 'is_ecommerce', 'is_biotech', 'is_consulting',\n",
              "       'is_othercategory', 'object_id', 'has_VC', 'has_angel', 'has_roundA',\n",
              "       'has_roundB', 'has_roundC', 'has_roundD', 'avg_participants',\n",
              "       'is_top500', 'status'],\n",
              "      dtype='object')"
            ]
          },
          "metadata": {},
          "execution_count": 6
        }
      ],
      "source": [
        "# Melihat kolom-kolom yang ada pada data\n",
        "\n",
        "df.columns"
      ]
    },
    {
      "cell_type": "code",
      "execution_count": 7,
      "metadata": {
        "colab": {
          "base_uri": "https://localhost:8080/",
          "height": 394
        },
        "id": "0G9GVXndxvDr",
        "outputId": "34124802-f610-4bbc-aa0c-e3cf9c050481"
      },
      "outputs": [
        {
          "output_type": "execute_result",
          "data": {
            "text/plain": [
              "        Unnamed: 0    latitude   longitude      labels  \\\n",
              "count   923.000000  923.000000  923.000000  923.000000   \n",
              "mean    572.297941   38.517442 -103.539212    0.646804   \n",
              "std     333.585431    3.741497   22.394167    0.478222   \n",
              "min       1.000000   25.752358 -122.756956    0.000000   \n",
              "25%     283.500000   37.388869 -122.198732    0.000000   \n",
              "50%     577.000000   37.779281 -118.374037    1.000000   \n",
              "75%     866.500000   40.730646  -77.214731    1.000000   \n",
              "max    1153.000000   59.335232   18.057121    1.000000   \n",
              "\n",
              "       age_first_funding_year  age_last_funding_year  \\\n",
              "count              923.000000             923.000000   \n",
              "mean                 2.235630               3.931456   \n",
              "std                  2.510449               2.967910   \n",
              "min                 -9.046600              -9.046600   \n",
              "25%                  0.576700               1.669850   \n",
              "50%                  1.446600               3.528800   \n",
              "75%                  3.575350               5.560250   \n",
              "max                 21.895900              21.895900   \n",
              "\n",
              "       age_first_milestone_year  age_last_milestone_year  relationships  \\\n",
              "count                771.000000               771.000000     923.000000   \n",
              "mean                   3.055353                 4.754423       7.710726   \n",
              "std                    2.977057                 3.212107       7.265776   \n",
              "min                  -14.169900                -7.005500       0.000000   \n",
              "25%                    1.000000                 2.411000       3.000000   \n",
              "50%                    2.520500                 4.476700       5.000000   \n",
              "75%                    4.686300                 6.753400      10.000000   \n",
              "max                   24.684900                24.684900      63.000000   \n",
              "\n",
              "       funding_rounds  ...  is_consulting  is_othercategory      has_VC  \\\n",
              "count      923.000000  ...     923.000000        923.000000  923.000000   \n",
              "mean         2.310943  ...       0.003250          0.322860    0.326111   \n",
              "std          1.390922  ...       0.056949          0.467823    0.469042   \n",
              "min          1.000000  ...       0.000000          0.000000    0.000000   \n",
              "25%          1.000000  ...       0.000000          0.000000    0.000000   \n",
              "50%          2.000000  ...       0.000000          0.000000    0.000000   \n",
              "75%          3.000000  ...       0.000000          1.000000    1.000000   \n",
              "max         10.000000  ...       1.000000          1.000000    1.000000   \n",
              "\n",
              "        has_angel  has_roundA  has_roundB  has_roundC  has_roundD  \\\n",
              "count  923.000000  923.000000  923.000000  923.000000  923.000000   \n",
              "mean     0.254605    0.508126    0.392199    0.232936    0.099675   \n",
              "std      0.435875    0.500205    0.488505    0.422931    0.299729   \n",
              "min      0.000000    0.000000    0.000000    0.000000    0.000000   \n",
              "25%      0.000000    0.000000    0.000000    0.000000    0.000000   \n",
              "50%      0.000000    1.000000    0.000000    0.000000    0.000000   \n",
              "75%      1.000000    1.000000    1.000000    0.000000    0.000000   \n",
              "max      1.000000    1.000000    1.000000    1.000000    1.000000   \n",
              "\n",
              "       avg_participants   is_top500  \n",
              "count        923.000000  923.000000  \n",
              "mean           2.838586    0.809317  \n",
              "std            1.874601    0.393052  \n",
              "min            1.000000    0.000000  \n",
              "25%            1.500000    1.000000  \n",
              "50%            2.500000    1.000000  \n",
              "75%            3.800000    1.000000  \n",
              "max           16.000000    1.000000  \n",
              "\n",
              "[8 rows x 35 columns]"
            ],
            "text/html": [
              "\n",
              "  <div id=\"df-99dbfdbd-6da4-4fc2-a802-d89d334ac7b4\">\n",
              "    <div class=\"colab-df-container\">\n",
              "      <div>\n",
              "<style scoped>\n",
              "    .dataframe tbody tr th:only-of-type {\n",
              "        vertical-align: middle;\n",
              "    }\n",
              "\n",
              "    .dataframe tbody tr th {\n",
              "        vertical-align: top;\n",
              "    }\n",
              "\n",
              "    .dataframe thead th {\n",
              "        text-align: right;\n",
              "    }\n",
              "</style>\n",
              "<table border=\"1\" class=\"dataframe\">\n",
              "  <thead>\n",
              "    <tr style=\"text-align: right;\">\n",
              "      <th></th>\n",
              "      <th>Unnamed: 0</th>\n",
              "      <th>latitude</th>\n",
              "      <th>longitude</th>\n",
              "      <th>labels</th>\n",
              "      <th>age_first_funding_year</th>\n",
              "      <th>age_last_funding_year</th>\n",
              "      <th>age_first_milestone_year</th>\n",
              "      <th>age_last_milestone_year</th>\n",
              "      <th>relationships</th>\n",
              "      <th>funding_rounds</th>\n",
              "      <th>...</th>\n",
              "      <th>is_consulting</th>\n",
              "      <th>is_othercategory</th>\n",
              "      <th>has_VC</th>\n",
              "      <th>has_angel</th>\n",
              "      <th>has_roundA</th>\n",
              "      <th>has_roundB</th>\n",
              "      <th>has_roundC</th>\n",
              "      <th>has_roundD</th>\n",
              "      <th>avg_participants</th>\n",
              "      <th>is_top500</th>\n",
              "    </tr>\n",
              "  </thead>\n",
              "  <tbody>\n",
              "    <tr>\n",
              "      <th>count</th>\n",
              "      <td>923.000000</td>\n",
              "      <td>923.000000</td>\n",
              "      <td>923.000000</td>\n",
              "      <td>923.000000</td>\n",
              "      <td>923.000000</td>\n",
              "      <td>923.000000</td>\n",
              "      <td>771.000000</td>\n",
              "      <td>771.000000</td>\n",
              "      <td>923.000000</td>\n",
              "      <td>923.000000</td>\n",
              "      <td>...</td>\n",
              "      <td>923.000000</td>\n",
              "      <td>923.000000</td>\n",
              "      <td>923.000000</td>\n",
              "      <td>923.000000</td>\n",
              "      <td>923.000000</td>\n",
              "      <td>923.000000</td>\n",
              "      <td>923.000000</td>\n",
              "      <td>923.000000</td>\n",
              "      <td>923.000000</td>\n",
              "      <td>923.000000</td>\n",
              "    </tr>\n",
              "    <tr>\n",
              "      <th>mean</th>\n",
              "      <td>572.297941</td>\n",
              "      <td>38.517442</td>\n",
              "      <td>-103.539212</td>\n",
              "      <td>0.646804</td>\n",
              "      <td>2.235630</td>\n",
              "      <td>3.931456</td>\n",
              "      <td>3.055353</td>\n",
              "      <td>4.754423</td>\n",
              "      <td>7.710726</td>\n",
              "      <td>2.310943</td>\n",
              "      <td>...</td>\n",
              "      <td>0.003250</td>\n",
              "      <td>0.322860</td>\n",
              "      <td>0.326111</td>\n",
              "      <td>0.254605</td>\n",
              "      <td>0.508126</td>\n",
              "      <td>0.392199</td>\n",
              "      <td>0.232936</td>\n",
              "      <td>0.099675</td>\n",
              "      <td>2.838586</td>\n",
              "      <td>0.809317</td>\n",
              "    </tr>\n",
              "    <tr>\n",
              "      <th>std</th>\n",
              "      <td>333.585431</td>\n",
              "      <td>3.741497</td>\n",
              "      <td>22.394167</td>\n",
              "      <td>0.478222</td>\n",
              "      <td>2.510449</td>\n",
              "      <td>2.967910</td>\n",
              "      <td>2.977057</td>\n",
              "      <td>3.212107</td>\n",
              "      <td>7.265776</td>\n",
              "      <td>1.390922</td>\n",
              "      <td>...</td>\n",
              "      <td>0.056949</td>\n",
              "      <td>0.467823</td>\n",
              "      <td>0.469042</td>\n",
              "      <td>0.435875</td>\n",
              "      <td>0.500205</td>\n",
              "      <td>0.488505</td>\n",
              "      <td>0.422931</td>\n",
              "      <td>0.299729</td>\n",
              "      <td>1.874601</td>\n",
              "      <td>0.393052</td>\n",
              "    </tr>\n",
              "    <tr>\n",
              "      <th>min</th>\n",
              "      <td>1.000000</td>\n",
              "      <td>25.752358</td>\n",
              "      <td>-122.756956</td>\n",
              "      <td>0.000000</td>\n",
              "      <td>-9.046600</td>\n",
              "      <td>-9.046600</td>\n",
              "      <td>-14.169900</td>\n",
              "      <td>-7.005500</td>\n",
              "      <td>0.000000</td>\n",
              "      <td>1.000000</td>\n",
              "      <td>...</td>\n",
              "      <td>0.000000</td>\n",
              "      <td>0.000000</td>\n",
              "      <td>0.000000</td>\n",
              "      <td>0.000000</td>\n",
              "      <td>0.000000</td>\n",
              "      <td>0.000000</td>\n",
              "      <td>0.000000</td>\n",
              "      <td>0.000000</td>\n",
              "      <td>1.000000</td>\n",
              "      <td>0.000000</td>\n",
              "    </tr>\n",
              "    <tr>\n",
              "      <th>25%</th>\n",
              "      <td>283.500000</td>\n",
              "      <td>37.388869</td>\n",
              "      <td>-122.198732</td>\n",
              "      <td>0.000000</td>\n",
              "      <td>0.576700</td>\n",
              "      <td>1.669850</td>\n",
              "      <td>1.000000</td>\n",
              "      <td>2.411000</td>\n",
              "      <td>3.000000</td>\n",
              "      <td>1.000000</td>\n",
              "      <td>...</td>\n",
              "      <td>0.000000</td>\n",
              "      <td>0.000000</td>\n",
              "      <td>0.000000</td>\n",
              "      <td>0.000000</td>\n",
              "      <td>0.000000</td>\n",
              "      <td>0.000000</td>\n",
              "      <td>0.000000</td>\n",
              "      <td>0.000000</td>\n",
              "      <td>1.500000</td>\n",
              "      <td>1.000000</td>\n",
              "    </tr>\n",
              "    <tr>\n",
              "      <th>50%</th>\n",
              "      <td>577.000000</td>\n",
              "      <td>37.779281</td>\n",
              "      <td>-118.374037</td>\n",
              "      <td>1.000000</td>\n",
              "      <td>1.446600</td>\n",
              "      <td>3.528800</td>\n",
              "      <td>2.520500</td>\n",
              "      <td>4.476700</td>\n",
              "      <td>5.000000</td>\n",
              "      <td>2.000000</td>\n",
              "      <td>...</td>\n",
              "      <td>0.000000</td>\n",
              "      <td>0.000000</td>\n",
              "      <td>0.000000</td>\n",
              "      <td>0.000000</td>\n",
              "      <td>1.000000</td>\n",
              "      <td>0.000000</td>\n",
              "      <td>0.000000</td>\n",
              "      <td>0.000000</td>\n",
              "      <td>2.500000</td>\n",
              "      <td>1.000000</td>\n",
              "    </tr>\n",
              "    <tr>\n",
              "      <th>75%</th>\n",
              "      <td>866.500000</td>\n",
              "      <td>40.730646</td>\n",
              "      <td>-77.214731</td>\n",
              "      <td>1.000000</td>\n",
              "      <td>3.575350</td>\n",
              "      <td>5.560250</td>\n",
              "      <td>4.686300</td>\n",
              "      <td>6.753400</td>\n",
              "      <td>10.000000</td>\n",
              "      <td>3.000000</td>\n",
              "      <td>...</td>\n",
              "      <td>0.000000</td>\n",
              "      <td>1.000000</td>\n",
              "      <td>1.000000</td>\n",
              "      <td>1.000000</td>\n",
              "      <td>1.000000</td>\n",
              "      <td>1.000000</td>\n",
              "      <td>0.000000</td>\n",
              "      <td>0.000000</td>\n",
              "      <td>3.800000</td>\n",
              "      <td>1.000000</td>\n",
              "    </tr>\n",
              "    <tr>\n",
              "      <th>max</th>\n",
              "      <td>1153.000000</td>\n",
              "      <td>59.335232</td>\n",
              "      <td>18.057121</td>\n",
              "      <td>1.000000</td>\n",
              "      <td>21.895900</td>\n",
              "      <td>21.895900</td>\n",
              "      <td>24.684900</td>\n",
              "      <td>24.684900</td>\n",
              "      <td>63.000000</td>\n",
              "      <td>10.000000</td>\n",
              "      <td>...</td>\n",
              "      <td>1.000000</td>\n",
              "      <td>1.000000</td>\n",
              "      <td>1.000000</td>\n",
              "      <td>1.000000</td>\n",
              "      <td>1.000000</td>\n",
              "      <td>1.000000</td>\n",
              "      <td>1.000000</td>\n",
              "      <td>1.000000</td>\n",
              "      <td>16.000000</td>\n",
              "      <td>1.000000</td>\n",
              "    </tr>\n",
              "  </tbody>\n",
              "</table>\n",
              "<p>8 rows × 35 columns</p>\n",
              "</div>\n",
              "      <button class=\"colab-df-convert\" onclick=\"convertToInteractive('df-99dbfdbd-6da4-4fc2-a802-d89d334ac7b4')\"\n",
              "              title=\"Convert this dataframe to an interactive table.\"\n",
              "              style=\"display:none;\">\n",
              "        \n",
              "  <svg xmlns=\"http://www.w3.org/2000/svg\" height=\"24px\"viewBox=\"0 0 24 24\"\n",
              "       width=\"24px\">\n",
              "    <path d=\"M0 0h24v24H0V0z\" fill=\"none\"/>\n",
              "    <path d=\"M18.56 5.44l.94 2.06.94-2.06 2.06-.94-2.06-.94-.94-2.06-.94 2.06-2.06.94zm-11 1L8.5 8.5l.94-2.06 2.06-.94-2.06-.94L8.5 2.5l-.94 2.06-2.06.94zm10 10l.94 2.06.94-2.06 2.06-.94-2.06-.94-.94-2.06-.94 2.06-2.06.94z\"/><path d=\"M17.41 7.96l-1.37-1.37c-.4-.4-.92-.59-1.43-.59-.52 0-1.04.2-1.43.59L10.3 9.45l-7.72 7.72c-.78.78-.78 2.05 0 2.83L4 21.41c.39.39.9.59 1.41.59.51 0 1.02-.2 1.41-.59l7.78-7.78 2.81-2.81c.8-.78.8-2.07 0-2.86zM5.41 20L4 18.59l7.72-7.72 1.47 1.35L5.41 20z\"/>\n",
              "  </svg>\n",
              "      </button>\n",
              "      \n",
              "  <style>\n",
              "    .colab-df-container {\n",
              "      display:flex;\n",
              "      flex-wrap:wrap;\n",
              "      gap: 12px;\n",
              "    }\n",
              "\n",
              "    .colab-df-convert {\n",
              "      background-color: #E8F0FE;\n",
              "      border: none;\n",
              "      border-radius: 50%;\n",
              "      cursor: pointer;\n",
              "      display: none;\n",
              "      fill: #1967D2;\n",
              "      height: 32px;\n",
              "      padding: 0 0 0 0;\n",
              "      width: 32px;\n",
              "    }\n",
              "\n",
              "    .colab-df-convert:hover {\n",
              "      background-color: #E2EBFA;\n",
              "      box-shadow: 0px 1px 2px rgba(60, 64, 67, 0.3), 0px 1px 3px 1px rgba(60, 64, 67, 0.15);\n",
              "      fill: #174EA6;\n",
              "    }\n",
              "\n",
              "    [theme=dark] .colab-df-convert {\n",
              "      background-color: #3B4455;\n",
              "      fill: #D2E3FC;\n",
              "    }\n",
              "\n",
              "    [theme=dark] .colab-df-convert:hover {\n",
              "      background-color: #434B5C;\n",
              "      box-shadow: 0px 1px 3px 1px rgba(0, 0, 0, 0.15);\n",
              "      filter: drop-shadow(0px 1px 2px rgba(0, 0, 0, 0.3));\n",
              "      fill: #FFFFFF;\n",
              "    }\n",
              "  </style>\n",
              "\n",
              "      <script>\n",
              "        const buttonEl =\n",
              "          document.querySelector('#df-99dbfdbd-6da4-4fc2-a802-d89d334ac7b4 button.colab-df-convert');\n",
              "        buttonEl.style.display =\n",
              "          google.colab.kernel.accessAllowed ? 'block' : 'none';\n",
              "\n",
              "        async function convertToInteractive(key) {\n",
              "          const element = document.querySelector('#df-99dbfdbd-6da4-4fc2-a802-d89d334ac7b4');\n",
              "          const dataTable =\n",
              "            await google.colab.kernel.invokeFunction('convertToInteractive',\n",
              "                                                     [key], {});\n",
              "          if (!dataTable) return;\n",
              "\n",
              "          const docLinkHtml = 'Like what you see? Visit the ' +\n",
              "            '<a target=\"_blank\" href=https://colab.research.google.com/notebooks/data_table.ipynb>data table notebook</a>'\n",
              "            + ' to learn more about interactive tables.';\n",
              "          element.innerHTML = '';\n",
              "          dataTable['output_type'] = 'display_data';\n",
              "          await google.colab.output.renderOutput(dataTable, element);\n",
              "          const docLink = document.createElement('div');\n",
              "          docLink.innerHTML = docLinkHtml;\n",
              "          element.appendChild(docLink);\n",
              "        }\n",
              "      </script>\n",
              "    </div>\n",
              "  </div>\n",
              "  "
            ]
          },
          "metadata": {},
          "execution_count": 7
        }
      ],
      "source": [
        "# Melihat deskripsi statistik \n",
        "\n",
        "df.describe()"
      ]
    },
    {
      "cell_type": "code",
      "execution_count": 8,
      "metadata": {
        "colab": {
          "base_uri": "https://localhost:8080/"
        },
        "id": "zJvY-eg2xyh3",
        "outputId": "0d1d6022-f982-4df3-c9d5-0ddc46d9840c"
      },
      "outputs": [
        {
          "output_type": "stream",
          "name": "stdout",
          "text": [
            "<class 'pandas.core.frame.DataFrame'>\n",
            "RangeIndex: 923 entries, 0 to 922\n",
            "Data columns (total 49 columns):\n",
            " #   Column                    Non-Null Count  Dtype  \n",
            "---  ------                    --------------  -----  \n",
            " 0   Unnamed: 0                923 non-null    int64  \n",
            " 1   state_code                923 non-null    object \n",
            " 2   latitude                  923 non-null    float64\n",
            " 3   longitude                 923 non-null    float64\n",
            " 4   zip_code                  923 non-null    object \n",
            " 5   id                        923 non-null    object \n",
            " 6   city                      923 non-null    object \n",
            " 7   Unnamed: 6                430 non-null    object \n",
            " 8   name                      923 non-null    object \n",
            " 9   labels                    923 non-null    int64  \n",
            " 10  founded_at                923 non-null    object \n",
            " 11  closed_at                 335 non-null    object \n",
            " 12  first_funding_at          923 non-null    object \n",
            " 13  last_funding_at           923 non-null    object \n",
            " 14  age_first_funding_year    923 non-null    float64\n",
            " 15  age_last_funding_year     923 non-null    float64\n",
            " 16  age_first_milestone_year  771 non-null    float64\n",
            " 17  age_last_milestone_year   771 non-null    float64\n",
            " 18  relationships             923 non-null    int64  \n",
            " 19  funding_rounds            923 non-null    int64  \n",
            " 20  funding_total_usd         923 non-null    int64  \n",
            " 21  milestones                923 non-null    int64  \n",
            " 22  state_code.1              922 non-null    object \n",
            " 23  is_CA                     923 non-null    int64  \n",
            " 24  is_NY                     923 non-null    int64  \n",
            " 25  is_MA                     923 non-null    int64  \n",
            " 26  is_TX                     923 non-null    int64  \n",
            " 27  is_otherstate             923 non-null    int64  \n",
            " 28  category_code             923 non-null    object \n",
            " 29  is_software               923 non-null    int64  \n",
            " 30  is_web                    923 non-null    int64  \n",
            " 31  is_mobile                 923 non-null    int64  \n",
            " 32  is_enterprise             923 non-null    int64  \n",
            " 33  is_advertising            923 non-null    int64  \n",
            " 34  is_gamesvideo             923 non-null    int64  \n",
            " 35  is_ecommerce              923 non-null    int64  \n",
            " 36  is_biotech                923 non-null    int64  \n",
            " 37  is_consulting             923 non-null    int64  \n",
            " 38  is_othercategory          923 non-null    int64  \n",
            " 39  object_id                 923 non-null    object \n",
            " 40  has_VC                    923 non-null    int64  \n",
            " 41  has_angel                 923 non-null    int64  \n",
            " 42  has_roundA                923 non-null    int64  \n",
            " 43  has_roundB                923 non-null    int64  \n",
            " 44  has_roundC                923 non-null    int64  \n",
            " 45  has_roundD                923 non-null    int64  \n",
            " 46  avg_participants          923 non-null    float64\n",
            " 47  is_top500                 923 non-null    int64  \n",
            " 48  status                    923 non-null    object \n",
            "dtypes: float64(7), int64(28), object(14)\n",
            "memory usage: 353.5+ KB\n"
          ]
        }
      ],
      "source": [
        "# Melihat informasi jumlah value dan tipe data dari setiap columns pada dataframe\n",
        "\n",
        "df.info()"
      ]
    },
    {
      "cell_type": "code",
      "execution_count": 9,
      "metadata": {
        "colab": {
          "base_uri": "https://localhost:8080/",
          "height": 579
        },
        "id": "5Re4FTNky_2U",
        "outputId": "7ca5b629-5071-4bb5-c248-31c75b3bd0e4"
      },
      "outputs": [
        {
          "output_type": "execute_result",
          "data": {
            "text/plain": [
              "<matplotlib.legend.Legend at 0x7f359449f940>"
            ]
          },
          "metadata": {},
          "execution_count": 9
        },
        {
          "output_type": "display_data",
          "data": {
            "text/plain": [
              "<Figure size 1080x576 with 1 Axes>"
            ],
            "image/png": "[encoded data removed]"
          },
          "metadata": {
            "needs_background": "light"
          }
        }
      ],
      "source": [
        "# Melihat distribusi kolom \"status\"\n",
        "\n",
        "fig, ax = plt.subplots(figsize=(15,8))\n",
        "dist_industri = sns.countplot(x=\"category_code\", hue=\"status\", data= df, \n",
        "              order = df.category_code.value_counts().index,  palette='YlOrBr')\n",
        "dist_industri = ax.set_xticklabels(ax.get_xticklabels(), rotation=90)\n",
        "dist_industri = ax.set(xlabel=\"Industri\", ylabel=\"Jumlah Startup\")\n",
        "plt.legend(['Startup yang berhasil', 'Startup yang tutup'], bbox_to_anchor=(0.9, 0.9), fontsize=15 )"
      ]
    },
    {
      "cell_type": "markdown",
      "metadata": {
        "id": "P_fqMELg-jFn"
      },
      "source": [
        "Dari grafik ini kita bisa tahu bahwa Startup dengan kategori \"software\" memiliki jumlah kesuksesan terbanyak disusul dengan startup kategori \"web\" dengan jumlah kesuksesan paling kecil yaitu kategori \"sport\""
      ]
    },
    {
      "cell_type": "code",
      "execution_count": 10,
      "metadata": {
        "colab": {
          "base_uri": "https://localhost:8080/",
          "height": 617
        },
        "id": "wjzjGHfWzri-",
        "outputId": "d3c7520d-73a2-48a7-d42c-54bc59f6547d"
      },
      "outputs": [
        {
          "output_type": "display_data",
          "data": {
            "text/html": [
              "<html>\n",
              "<head><meta charset=\"utf-8\" /></head>\n",
              "<body>\n",
              "    <div>            <script src=\"https://cdnjs.cloudflare.com/ajax/libs/mathjax/2.7.5/MathJax.js?config=TeX-AMS-MML_SVG\"></script><script type=\"text/javascript\">if (window.MathJax && window.MathJax.Hub && window.MathJax.Hub.Config) {window.MathJax.Hub.Config({SVG: {font: \"STIX-Web\"}});}</script>                <script type=\"text/javascript\">window.PlotlyConfig = {MathJaxConfig: 'local'};</script>\n",
              "        <script src=\"https://cdn.plot.ly/plotly-2.18.2.min.js\"></script>                <div id=\"9d204343-1376-43ac-acf8-e83a90174f2b\" class=\"plotly-graph-div\" style=\"height:600px; width:100%;\"></div>            <script type=\"text/javascript\">                                    window.PLOTLYENV=window.PLOTLYENV || {};                                    if (document.getElementById(\"9d204343-1376-43ac-acf8-e83a90174f2b\")) {                    Plotly.newPlot(                        \"9d204343-1376-43ac-acf8-e83a90174f2b\",                        [{\"domain\":{\"x\":[0.0,1.0],\"y\":[0.0,1.0]},\"hovertemplate\":\"label=%{label}<br>value=%{value}<extra></extra>\",\"labels\":[\"Software\",\"Web\",\"Mobile\",\"Enterprise\",\"Advertising\",\"Gamesvideo\",\"Ecommerce\",\"Biotech\",\"Consulting\",\"Othercategory\"],\"legendgroup\":\"\",\"name\":\"\",\"showlegend\":true,\"values\":[298,153,144,79,73,62,52,34,25,3],\"type\":\"pie\",\"textfont\":{\"size\":13},\"marker\":{\"line\":{\"color\":\"#000000\",\"width\":1}},\"textinfo\":\"percent+label\",\"textposition\":\"outside\"}],                        {\"template\":{\"data\":{\"histogram2dcontour\":[{\"type\":\"histogram2dcontour\",\"colorbar\":{\"outlinewidth\":0,\"ticks\":\"\"},\"colorscale\":[[0.0,\"#0d0887\"],[0.1111111111111111,\"#46039f\"],[0.2222222222222222,\"#7201a8\"],[0.3333333333333333,\"#9c179e\"],[0.4444444444444444,\"#bd3786\"],[0.5555555555555556,\"#d8576b\"],[0.6666666666666666,\"#ed7953\"],[0.7777777777777778,\"#fb9f3a\"],[0.8888888888888888,\"#fdca26\"],[1.0,\"#f0f921\"]]}],\"choropleth\":[{\"type\":\"choropleth\",\"colorbar\":{\"outlinewidth\":0,\"ticks\":\"\"}}],\"histogram2d\":[{\"type\":\"histogram2d\",\"colorbar\":{\"outlinewidth\":0,\"ticks\":\"\"},\"colorscale\":[[0.0,\"#0d0887\"],[0.1111111111111111,\"#46039f\"],[0.2222222222222222,\"#7201a8\"],[0.3333333333333333,\"#9c179e\"],[0.4444444444444444,\"#bd3786\"],[0.5555555555555556,\"#d8576b\"],[0.6666666666666666,\"#ed7953\"],[0.7777777777777778,\"#fb9f3a\"],[0.8888888888888888,\"#fdca26\"],[1.0,\"#f0f921\"]]}],\"heatmap\":[{\"type\":\"heatmap\",\"colorbar\":{\"outlinewidth\":0,\"ticks\":\"\"},\"colorscale\":[[0.0,\"#0d0887\"],[0.1111111111111111,\"#46039f\"],[0.2222222222222222,\"#7201a8\"],[0.3333333333333333,\"#9c179e\"],[0.4444444444444444,\"#bd3786\"],[0.5555555555555556,\"#d8576b\"],[0.6666666666666666,\"#ed7953\"],[0.7777777777777778,\"#fb9f3a\"],[0.8888888888888888,\"#fdca26\"],[1.0,\"#f0f921\"]]}],\"heatmapgl\":[{\"type\":\"heatmapgl\",\"colorbar\":{\"outlinewidth\":0,\"ticks\":\"\"},\"colorscale\":[[0.0,\"#0d0887\"],[0.1111111111111111,\"#46039f\"],[0.2222222222222222,\"#7201a8\"],[0.3333333333333333,\"#9c179e\"],[0.4444444444444444,\"#bd3786\"],[0.5555555555555556,\"#d8576b\"],[0.6666666666666666,\"#ed7953\"],[0.7777777777777778,\"#fb9f3a\"],[0.8888888888888888,\"#fdca26\"],[1.0,\"#f0f921\"]]}],\"contourcarpet\":[{\"type\":\"contourcarpet\",\"colorbar\":{\"outlinewidth\":0,\"ticks\":\"\"}}],\"contour\":[{\"type\":\"contour\",\"colorbar\":{\"outlinewidth\":0,\"ticks\":\"\"},\"colorscale\":[[0.0,\"#0d0887\"],[0.1111111111111111,\"#46039f\"],[0.2222222222222222,\"#7201a8\"],[0.3333333333333333,\"#9c179e\"],[0.4444444444444444,\"#bd3786\"],[0.5555555555555556,\"#d8576b\"],[0.6666666666666666,\"#ed7953\"],[0.7777777777777778,\"#fb9f3a\"],[0.8888888888888888,\"#fdca26\"],[1.0,\"#f0f921\"]]}],\"surface\":[{\"type\":\"surface\",\"colorbar\":{\"outlinewidth\":0,\"ticks\":\"\"},\"colorscale\":[[0.0,\"#0d0887\"],[0.1111111111111111,\"#46039f\"],[0.2222222222222222,\"#7201a8\"],[0.3333333333333333,\"#9c179e\"],[0.4444444444444444,\"#bd3786\"],[0.5555555555555556,\"#d8576b\"],[0.6666666666666666,\"#ed7953\"],[0.7777777777777778,\"#fb9f3a\"],[0.8888888888888888,\"#fdca26\"],[1.0,\"#f0f921\"]]}],\"mesh3d\":[{\"type\":\"mesh3d\",\"colorbar\":{\"outlinewidth\":0,\"ticks\":\"\"}}],\"scatter\":[{\"fillpattern\":{\"fillmode\":\"overlay\",\"size\":10,\"solidity\":0.2},\"type\":\"scatter\"}],\"parcoords\":[{\"type\":\"parcoords\",\"line\":{\"colorbar\":{\"outlinewidth\":0,\"ticks\":\"\"}}}],\"scatterpolargl\":[{\"type\":\"scatterpolargl\",\"marker\":{\"colorbar\":{\"outlinewidth\":0,\"ticks\":\"\"}}}],\"bar\":[{\"error_x\":{\"color\":\"#2a3f5f\"},\"error_y\":{\"color\":\"#2a3f5f\"},\"marker\":{\"line\":{\"color\":\"#E5ECF6\",\"width\":0.5},\"pattern\":{\"fillmode\":\"overlay\",\"size\":10,\"solidity\":0.2}},\"type\":\"bar\"}],\"scattergeo\":[{\"type\":\"scattergeo\",\"marker\":{\"colorbar\":{\"outlinewidth\":0,\"ticks\":\"\"}}}],\"scatterpolar\":[{\"type\":\"scatterpolar\",\"marker\":{\"colorbar\":{\"outlinewidth\":0,\"ticks\":\"\"}}}],\"histogram\":[{\"marker\":{\"pattern\":{\"fillmode\":\"overlay\",\"size\":10,\"solidity\":0.2}},\"type\":\"histogram\"}],\"scattergl\":[{\"type\":\"scattergl\",\"marker\":{\"colorbar\":{\"outlinewidth\":0,\"ticks\":\"\"}}}],\"scatter3d\":[{\"type\":\"scatter3d\",\"line\":{\"colorbar\":{\"outlinewidth\":0,\"ticks\":\"\"}},\"marker\":{\"colorbar\":{\"outlinewidth\":0,\"ticks\":\"\"}}}],\"scattermapbox\":[{\"type\":\"scattermapbox\",\"marker\":{\"colorbar\":{\"outlinewidth\":0,\"ticks\":\"\"}}}],\"scatterternary\":[{\"type\":\"scatterternary\",\"marker\":{\"colorbar\":{\"outlinewidth\":0,\"ticks\":\"\"}}}],\"scattercarpet\":[{\"type\":\"scattercarpet\",\"marker\":{\"colorbar\":{\"outlinewidth\":0,\"ticks\":\"\"}}}],\"carpet\":[{\"aaxis\":{\"endlinecolor\":\"#2a3f5f\",\"gridcolor\":\"white\",\"linecolor\":\"white\",\"minorgridcolor\":\"white\",\"startlinecolor\":\"#2a3f5f\"},\"baxis\":{\"endlinecolor\":\"#2a3f5f\",\"gridcolor\":\"white\",\"linecolor\":\"white\",\"minorgridcolor\":\"white\",\"startlinecolor\":\"#2a3f5f\"},\"type\":\"carpet\"}],\"table\":[{\"cells\":{\"fill\":{\"color\":\"#EBF0F8\"},\"line\":{\"color\":\"white\"}},\"header\":{\"fill\":{\"color\":\"#C8D4E3\"},\"line\":{\"color\":\"white\"}},\"type\":\"table\"}],\"barpolar\":[{\"marker\":{\"line\":{\"color\":\"#E5ECF6\",\"width\":0.5},\"pattern\":{\"fillmode\":\"overlay\",\"size\":10,\"solidity\":0.2}},\"type\":\"barpolar\"}],\"pie\":[{\"automargin\":true,\"type\":\"pie\"}]},\"layout\":{\"autotypenumbers\":\"strict\",\"colorway\":[\"#636efa\",\"#EF553B\",\"#00cc96\",\"#ab63fa\",\"#FFA15A\",\"#19d3f3\",\"#FF6692\",\"#B6E880\",\"#FF97FF\",\"#FECB52\"],\"font\":{\"color\":\"#2a3f5f\"},\"hovermode\":\"closest\",\"hoverlabel\":{\"align\":\"left\"},\"paper_bgcolor\":\"white\",\"plot_bgcolor\":\"#E5ECF6\",\"polar\":{\"bgcolor\":\"#E5ECF6\",\"angularaxis\":{\"gridcolor\":\"white\",\"linecolor\":\"white\",\"ticks\":\"\"},\"radialaxis\":{\"gridcolor\":\"white\",\"linecolor\":\"white\",\"ticks\":\"\"}},\"ternary\":{\"bgcolor\":\"#E5ECF6\",\"aaxis\":{\"gridcolor\":\"white\",\"linecolor\":\"white\",\"ticks\":\"\"},\"baxis\":{\"gridcolor\":\"white\",\"linecolor\":\"white\",\"ticks\":\"\"},\"caxis\":{\"gridcolor\":\"white\",\"linecolor\":\"white\",\"ticks\":\"\"}},\"coloraxis\":{\"colorbar\":{\"outlinewidth\":0,\"ticks\":\"\"}},\"colorscale\":{\"sequential\":[[0.0,\"#0d0887\"],[0.1111111111111111,\"#46039f\"],[0.2222222222222222,\"#7201a8\"],[0.3333333333333333,\"#9c179e\"],[0.4444444444444444,\"#bd3786\"],[0.5555555555555556,\"#d8576b\"],[0.6666666666666666,\"#ed7953\"],[0.7777777777777778,\"#fb9f3a\"],[0.8888888888888888,\"#fdca26\"],[1.0,\"#f0f921\"]],\"sequentialminus\":[[0.0,\"#0d0887\"],[0.1111111111111111,\"#46039f\"],[0.2222222222222222,\"#7201a8\"],[0.3333333333333333,\"#9c179e\"],[0.4444444444444444,\"#bd3786\"],[0.5555555555555556,\"#d8576b\"],[0.6666666666666666,\"#ed7953\"],[0.7777777777777778,\"#fb9f3a\"],[0.8888888888888888,\"#fdca26\"],[1.0,\"#f0f921\"]],\"diverging\":[[0,\"#8e0152\"],[0.1,\"#c51b7d\"],[0.2,\"#de77ae\"],[0.3,\"#f1b6da\"],[0.4,\"#fde0ef\"],[0.5,\"#f7f7f7\"],[0.6,\"#e6f5d0\"],[0.7,\"#b8e186\"],[0.8,\"#7fbc41\"],[0.9,\"#4d9221\"],[1,\"#276419\"]]},\"xaxis\":{\"gridcolor\":\"white\",\"linecolor\":\"white\",\"ticks\":\"\",\"title\":{\"standoff\":15},\"zerolinecolor\":\"white\",\"automargin\":true,\"zerolinewidth\":2},\"yaxis\":{\"gridcolor\":\"white\",\"linecolor\":\"white\",\"ticks\":\"\",\"title\":{\"standoff\":15},\"zerolinecolor\":\"white\",\"automargin\":true,\"zerolinewidth\":2},\"scene\":{\"xaxis\":{\"backgroundcolor\":\"#E5ECF6\",\"gridcolor\":\"white\",\"linecolor\":\"white\",\"showbackground\":true,\"ticks\":\"\",\"zerolinecolor\":\"white\",\"gridwidth\":2},\"yaxis\":{\"backgroundcolor\":\"#E5ECF6\",\"gridcolor\":\"white\",\"linecolor\":\"white\",\"showbackground\":true,\"ticks\":\"\",\"zerolinecolor\":\"white\",\"gridwidth\":2},\"zaxis\":{\"backgroundcolor\":\"#E5ECF6\",\"gridcolor\":\"white\",\"linecolor\":\"white\",\"showbackground\":true,\"ticks\":\"\",\"zerolinecolor\":\"white\",\"gridwidth\":2}},\"shapedefaults\":{\"line\":{\"color\":\"#2a3f5f\"}},\"annotationdefaults\":{\"arrowcolor\":\"#2a3f5f\",\"arrowhead\":0,\"arrowwidth\":1},\"geo\":{\"bgcolor\":\"white\",\"landcolor\":\"#E5ECF6\",\"subunitcolor\":\"white\",\"showland\":true,\"showlakes\":true,\"lakecolor\":\"white\"},\"title\":{\"x\":0.05},\"mapbox\":{\"style\":\"light\"}}},\"legend\":{\"tracegroupgap\":0},\"margin\":{\"t\":60},\"piecolorway\":[\"rgb(255,255,229)\",\"rgb(255,247,188)\",\"rgb(254,227,145)\",\"rgb(254,196,79)\",\"rgb(254,153,41)\",\"rgb(236,112,20)\",\"rgb(204,76,2)\",\"rgb(153,52,4)\",\"rgb(102,37,6)\"],\"height\":600,\"title\":{\"font\":{\"size\":20,\"family\":\"Verdana\",\"color\":\"black\"},\"text\":\"Jumlah Kategori Industri\"}},                        {\"responsive\": true}                    ).then(function(){\n",
              "                            \n",
              "var gd = document.getElementById('9d204343-1376-43ac-acf8-e83a90174f2b');\n",
              "var x = new MutationObserver(function (mutations, observer) {{\n",
              "        var display = window.getComputedStyle(gd).display;\n",
              "        if (!display || display === 'none') {{\n",
              "            console.log([gd, 'removed!']);\n",
              "            Plotly.purge(gd);\n",
              "            observer.disconnect();\n",
              "        }}\n",
              "}});\n",
              "\n",
              "// Listen for the removal of the full notebook cells\n",
              "var notebookContainer = gd.closest('#notebook-container');\n",
              "if (notebookContainer) {{\n",
              "    x.observe(notebookContainer, {childList: true});\n",
              "}}\n",
              "\n",
              "// Listen for the clearing of the current output cell\n",
              "var outputEl = gd.closest('.output');\n",
              "if (outputEl) {{\n",
              "    x.observe(outputEl, {childList: true});\n",
              "}}\n",
              "\n",
              "                        })                };                            </script>        </div>\n",
              "</body>\n",
              "</html>"
            ]
          },
          "metadata": {}
        }
      ],
      "source": [
        "#Menampilkan data kategori industri pada pie chart\n",
        "\n",
        "industri = 'is_software is_web is_mobile is_enterprise is_advertising is_gamesvideo is_ecommerce is_biotech is_consulting is_othercategory'.split()\n",
        "\n",
        "label = [i[3:].title() for i in industri]\n",
        "fig = px.pie(names=label, values=df[industri].value_counts(), height=600, color_discrete_sequence=px.colors.sequential.YlOrBr)\n",
        "fig.update_traces(textposition='outside', textinfo='percent+label', textfont_size=13, marker=dict(line=dict(color='#000000', width=1)))\n",
        "fig.update_layout(title_text = 'Jumlah Kategori Industri', \n",
        "                  title_font = dict(size=20, family='Verdana', color='black'))\n",
        "fig.show()"
      ]
    },
    {
      "cell_type": "markdown",
      "metadata": {
        "id": "_OQBnJxK6Nqj"
      },
      "source": [
        "Dari chart diatas kita bisa mengetahui bahwa startup dengan kategori \"Software\" memiliki jumlah terbanyak yaitu sekitar 32.3 %, dan \"Other Category\" memiliki persentasi terkecil yaitu 0.325%. "
      ]
    },
    {
      "cell_type": "code",
      "execution_count": 11,
      "metadata": {
        "colab": {
          "base_uri": "https://localhost:8080/",
          "height": 518
        },
        "id": "B1VPQNmN1aNA",
        "outputId": "ca6fdc22-8a47-4f64-802f-3c3f8c88d6f3"
      },
      "outputs": [
        {
          "output_type": "display_data",
          "data": {
            "text/plain": [
              "<Figure size 1080x504 with 1 Axes>"
            ],
            "image/png": "[encoded data removed]"
          },
          "metadata": {
            "needs_background": "light"
          }
        }
      ],
      "source": [
        "kategori_pendanaan = pd.pivot_table(df,\n",
        "              index=['category_code'],\n",
        "              values=['funding_total_usd'],\n",
        "              aggfunc=['sum']\n",
        "              ).reset_index()\n",
        "kategori_pendanaan.columns = ['category_code', 'funding_total_usd']\n",
        "kategori_pendanaan = kategori_pendanaan.sort_values(['funding_total_usd'], ascending = False)\n",
        "kategori_pendanaan.head(10)\n",
        "fig, ax = plt.subplots(figsize=(15,7))\n",
        "rate_pendanaan = sns.barplot(x=\"category_code\", y=\"funding_total_usd\", data=kategori_pendanaan, ax=ax, palette='viridis')\n",
        "rate_pendanaan = ax.set_xticklabels(ax.get_xticklabels(), rotation=90)\n",
        "rate_pendanaan = ax.set(xlabel=\"Kategori\", ylabel=\"Pendanaan, $ Milion USD\")"
      ]
    },
    {
      "cell_type": "markdown",
      "metadata": {
        "id": "hC-1JPOh-_Wk"
      },
      "source": [
        "Melalui bar graph diatas bisa diketahui bahwa pendanaan startup terbanyak jatuh kepada startup \"Mobile\" dengan angka 7 juta USD\n"
      ]
    },
    {
      "cell_type": "code",
      "execution_count": 12,
      "metadata": {
        "colab": {
          "base_uri": "https://localhost:8080/",
          "height": 991
        },
        "id": "Yl66NYVH2_9m",
        "outputId": "b57113fd-1a00-492d-80df-6be8001703d0"
      },
      "outputs": [
        {
          "output_type": "display_data",
          "data": {
            "text/plain": [
              "<Figure size 1296x1296 with 2 Axes>"
            ],
            "image/png": "[encoded data removed]"
          },
          "metadata": {
            "needs_background": "light"
          }
        }
      ],
      "source": [
        "def heatmap(dataset):\n",
        "    f, ax = plt.subplots(figsize = (18, 18))\n",
        "    corrMatt = df.corr(method='spearman')\n",
        "    sns.heatmap(corrMatt, annot = True, linewidth = 0.5, fmt = '.1f', ax = ax)\n",
        "    plt.show()\n",
        "    \n",
        "num_cols = ['int16', 'int32', 'int64', 'float16', 'float32', 'float64']\n",
        "num_cols_names = df.select_dtypes(num_cols).columns \n",
        "num_startup_data = df.select_dtypes(num_cols)\n",
        "\n",
        "heatmap(num_cols_names)"
      ]
    },
    {
      "cell_type": "markdown",
      "metadata": {
        "id": "v_GLUSCYW0pH"
      },
      "source": [
        "Pada correlation matrix diatas bisa diketahui bahwa \"age_first_funding_year, age_last_funding_year, age_first_milestone_year, age_last_milestone_year\" memiliki korelasi yang kuat di ambang batas sebesar 0.7 maka dari itu bisa disimpulkan bahwa ke empat feature ini merupakan feature importance pada proses training nanti."
      ]
    },
    {
      "cell_type": "code",
      "execution_count": 13,
      "metadata": {
        "colab": {
          "base_uri": "https://localhost:8080/",
          "height": 357
        },
        "id": "B7eRdV5e7Euy",
        "outputId": "ed3361db-77cc-4b7f-d744-cc742c981347"
      },
      "outputs": [
        {
          "output_type": "display_data",
          "data": {
            "text/plain": [
              "<Figure size 720x360 with 1 Axes>"
            ],
            "image/png": "[encoded data removed]"
          },
          "metadata": {
            "needs_background": "light"
          }
        }
      ],
      "source": [
        "classes = df['labels'].value_counts()\n",
        "\n",
        "plt.figure(figsize=(10, 5))\n",
        "sns.histplot(df, x=df['status'], binwidth=0.1, hue=df[\"labels\"], palette=\"Paired\", alpha=1 )\n",
        "plt.legend(['Acquired', 'Closed'], fontsize=15)\n",
        "plt.ylabel('Jumlah Startup',fontsize=15)\n",
        "plt.xlabel('Sukses',fontsize=15)\n",
        "plt.title('Distribusi Target',fontsize=18)\n",
        "plt.show()"
      ]
    },
    {
      "cell_type": "markdown",
      "metadata": {
        "id": "bOnI9I-LAZAT"
      },
      "source": [
        "Terdapat imbalance dataset pada kolom \"status\" dimana jumlah \"acquired\" lebih banyak dibandingkan \"closed\""
      ]
    },
    {
      "cell_type": "code",
      "execution_count": 14,
      "metadata": {
        "colab": {
          "base_uri": "https://localhost:8080/",
          "height": 454
        },
        "id": "H3gM41Ql9oAn",
        "outputId": "31c510cd-4787-44e2-e778-e719264cfed3"
      },
      "outputs": [
        {
          "output_type": "display_data",
          "data": {
            "text/plain": [
              "<Figure size 1080x504 with 4 Axes>"
            ],
            "image/png": "[encoded data removed]"
          },
          "metadata": {
            "needs_background": "light"
          }
        }
      ],
      "source": [
        "numAtr = ['age_first_funding_year',\n",
        "               'age_last_funding_year',\n",
        "               'age_first_milestone_year',\n",
        "               'age_last_milestone_year']\n",
        "plt.figure(figsize=(15, 7))\n",
        "for i in range(0, len(numAtr)):\n",
        "    plt.subplot(1, len(numAtr), i+1)\n",
        "    sns.boxplot(y=df[numAtr[i]], hue=df['relationships'], color='goldenrod', saturation=0.8, orient='v')\n",
        "    plt.tight_layout()"
      ]
    },
    {
      "cell_type": "markdown",
      "metadata": {
        "id": "f8G0QNCuXzXl"
      },
      "source": [
        "Beberapa outliers masih dapat ditemukan pada feature-feature diatas. Untuk itu kita perlu mengatasi outlier tersebut pada tahap pre-processing nanti. "
      ]
    },
    {
      "cell_type": "markdown",
      "metadata": {
        "id": "FrFG7AAnOaZP"
      },
      "source": [
        "## Data Preprocessing"
      ]
    },
    {
      "cell_type": "code",
      "execution_count": 15,
      "metadata": {
        "colab": {
          "base_uri": "https://localhost:8080/"
        },
        "id": "DHvhe4D10_US",
        "outputId": "a264819a-ef12-40d3-fb1a-9d741f5fc6a0"
      },
      "outputs": [
        {
          "output_type": "execute_result",
          "data": {
            "text/plain": [
              "closed_at                   588\n",
              "Unnamed: 6                  493\n",
              "age_last_milestone_year     152\n",
              "age_first_milestone_year    152\n",
              "state_code.1                  1\n",
              "Unnamed: 0                    0\n",
              "is_biotech                    0\n",
              "is_software                   0\n",
              "is_web                        0\n",
              "is_mobile                     0\n",
              "is_enterprise                 0\n",
              "is_advertising                0\n",
              "is_gamesvideo                 0\n",
              "is_ecommerce                  0\n",
              "is_othercategory              0\n",
              "is_consulting                 0\n",
              "is_otherstate                 0\n",
              "object_id                     0\n",
              "has_VC                        0\n",
              "has_angel                     0\n",
              "has_roundA                    0\n",
              "has_roundB                    0\n",
              "has_roundC                    0\n",
              "has_roundD                    0\n",
              "avg_participants              0\n",
              "is_top500                     0\n",
              "category_code                 0\n",
              "is_NY                         0\n",
              "is_TX                         0\n",
              "first_funding_at              0\n",
              "latitude                      0\n",
              "longitude                     0\n",
              "zip_code                      0\n",
              "id                            0\n",
              "city                          0\n",
              "name                          0\n",
              "labels                        0\n",
              "founded_at                    0\n",
              "last_funding_at               0\n",
              "is_MA                         0\n",
              "age_first_funding_year        0\n",
              "age_last_funding_year         0\n",
              "relationships                 0\n",
              "funding_rounds                0\n",
              "funding_total_usd             0\n",
              "milestones                    0\n",
              "is_CA                         0\n",
              "state_code                    0\n",
              "status                        0\n",
              "dtype: int64"
            ]
          },
          "metadata": {},
          "execution_count": 15
        }
      ],
      "source": [
        "# melihat berapa banyak missing value yang ada pada data\n",
        "\n",
        "df.isnull().sum().sort_values(ascending=False)"
      ]
    },
    {
      "cell_type": "code",
      "execution_count": 16,
      "metadata": {
        "colab": {
          "base_uri": "https://localhost:8080/"
        },
        "id": "d5lqJPvLwHiq",
        "outputId": "e2794f0e-a773-4af2-98c6-6894ed844e7d"
      },
      "outputs": [
        {
          "output_type": "stream",
          "name": "stdout",
          "text": [
            "Persentasi missing value pada kolom 'closed_at': % 63.71\n",
            "Persentasi missing value pada kolom 'Unnamed: 6': % 53.41\n",
            "Persentasi missing value pada kolom 'age_last_milestone_year': % 16.47\n",
            "Persentasi missing value pada kolom 'age_first_milestone_year': % 16.47\n"
          ]
        }
      ],
      "source": [
        "# Melihat persentase jumlah missing value pada kolom\n",
        "\n",
        "print(\"Persentasi missing value pada kolom 'closed_at': % {:.2f}\". format((df.closed_at.isnull().sum())/len(df)*100))\n",
        "print(\"Persentasi missing value pada kolom 'Unnamed: 6': % {:.2f}\". format((df[\"Unnamed: 6\"].isnull().sum())/len(df)*100))\n",
        "print(\"Persentasi missing value pada kolom 'age_last_milestone_year': % {:.2f}\". format((df.age_last_milestone_year.isnull().sum())/len(df)*100))\n",
        "print(\"Persentasi missing value pada kolom 'age_first_milestone_year': % {:.2f}\". format((df.age_first_milestone_year.isnull().sum())/len(df)*100))"
      ]
    },
    {
      "cell_type": "code",
      "execution_count": 17,
      "metadata": {
        "colab": {
          "base_uri": "https://localhost:8080/"
        },
        "id": "n8ovSNrGIVbu",
        "outputId": "b1e59139-847a-4ab8-9938-474b1b29cd12"
      },
      "outputs": [
        {
          "output_type": "stream",
          "name": "stdout",
          "text": [
            "Total missing values pada kolom sebesar \"closed_at\":  0\n"
          ]
        }
      ],
      "source": [
        "# Mengisi missing value pada kolom closed_at menggunakan 1 dan 0\n",
        "\n",
        "df['closed_at'] = df['closed_at'].fillna(value=\"x\")\n",
        "df['closed_at'] = df.closed_at.apply(lambda x: 1 if x =='x' else 0)\n",
        "\n",
        "totalNull = df['closed_at'].isnull().sum()\n",
        "print('Total missing values pada kolom sebesar \"closed_at\": ', totalNull)"
      ]
    },
    {
      "cell_type": "code",
      "execution_count": 18,
      "metadata": {
        "id": "Z-uFD09bIs6r"
      },
      "outputs": [],
      "source": [
        "# Menghapus value pada kolom yang memiliki nilai negatif\n",
        "\n",
        "df= df.drop(df[df.age_first_funding_year < 0].index)\n",
        "df = df.drop(df[df.age_last_funding_year < 0].index)\n",
        "df = df.drop(df[df.age_first_milestone_year < 0].index)\n",
        "df = df.drop(df[df.age_last_milestone_year < 0].index)"
      ]
    },
    {
      "cell_type": "code",
      "execution_count": 19,
      "metadata": {
        "id": "RGwZcAfZJCMB"
      },
      "outputs": [],
      "source": [
        "# Konversi tipe data int ke float dan mengisi missing value dengan 0\n",
        "\n",
        "df['age_first_milestone_year'] = df['age_first_milestone_year'].fillna(value=\"0\")\n",
        "df['age_last_milestone_year'] = df['age_last_milestone_year'].fillna(value=\"0\")\n",
        "df['age_first_milestone_year'] = df.age_first_milestone_year.astype(float)\n",
        "df['age_last_milestone_year'] = df.age_last_milestone_year.astype(float)"
      ]
    },
    {
      "cell_type": "code",
      "execution_count": 20,
      "metadata": {
        "id": "Fr_yXM4FJOQm"
      },
      "outputs": [],
      "source": [
        "df[\"age_first_funding_year\"] = np.log1p(df[\"age_first_funding_year\"])\n",
        "df[\"age_last_funding_year\"] = np.log1p(df[\"age_last_funding_year\"])\n",
        "df[\"age_first_milestone_year\"] = np.log1p(df[\"age_first_milestone_year\"])\n",
        "df[\"age_last_milestone_year\"] = np.log1p(df[\"age_last_milestone_year\"])\n",
        "df[\"funding_total_usd\"] = np.log1p(df[\"funding_total_usd\"])"
      ]
    },
    {
      "cell_type": "code",
      "execution_count": 21,
      "metadata": {
        "colab": {
          "base_uri": "https://localhost:8080/",
          "height": 369
        },
        "id": "kChVun9BJdzS",
        "outputId": "06318249-ff23-4af6-af14-08d6abafd478"
      },
      "outputs": [
        {
          "output_type": "display_data",
          "data": {
            "text/plain": [
              "<Figure size 648x360 with 4 Axes>"
            ],
            "image/png": "[encoded data removed]"
          },
          "metadata": {
            "needs_background": "light"
          }
        }
      ],
      "source": [
        "# Menampilkan boxplot untuk mendeteksi outliers\n",
        "\n",
        "featuresNumfinal = ['age_first_funding_year',\n",
        "                    'age_last_funding_year',\n",
        "                    'age_first_milestone_year',\n",
        "                    'age_last_milestone_year']\n",
        "\n",
        "plt.figure(figsize=(9, 5))\n",
        "for i in range(0, len(featuresNumfinal)):\n",
        "    plt.subplot(1, len(featuresNumfinal), i+1)\n",
        "    sns.boxplot(y=df[\n",
        "        featuresNumfinal[i]], \n",
        "        hue=df['relationships'], \n",
        "        color='goldenrod', \n",
        "        saturation=0.8, )\n",
        "    plt.tight_layout()"
      ]
    },
    {
      "cell_type": "code",
      "execution_count": 22,
      "metadata": {
        "colab": {
          "base_uri": "https://localhost:8080/"
        },
        "id": "ziH0OaGv_LJy",
        "outputId": "17ccee64-f82a-4fb8-dd99-9e1a7ebe6019"
      },
      "outputs": [
        {
          "output_type": "execute_result",
          "data": {
            "text/plain": [
              "Unnamed: 0                    0\n",
              "state_code                    0\n",
              "latitude                      0\n",
              "longitude                     0\n",
              "zip_code                      0\n",
              "id                            0\n",
              "city                          0\n",
              "Unnamed: 6                  449\n",
              "name                          0\n",
              "labels                        0\n",
              "founded_at                    0\n",
              "closed_at                     0\n",
              "first_funding_at              0\n",
              "last_funding_at               0\n",
              "age_first_funding_year        0\n",
              "age_last_funding_year         0\n",
              "age_first_milestone_year      0\n",
              "age_last_milestone_year       0\n",
              "relationships                 0\n",
              "funding_rounds                0\n",
              "funding_total_usd             0\n",
              "milestones                    0\n",
              "state_code.1                  1\n",
              "is_CA                         0\n",
              "is_NY                         0\n",
              "is_MA                         0\n",
              "is_TX                         0\n",
              "is_otherstate                 0\n",
              "category_code                 0\n",
              "is_software                   0\n",
              "is_web                        0\n",
              "is_mobile                     0\n",
              "is_enterprise                 0\n",
              "is_advertising                0\n",
              "is_gamesvideo                 0\n",
              "is_ecommerce                  0\n",
              "is_biotech                    0\n",
              "is_consulting                 0\n",
              "is_othercategory              0\n",
              "object_id                     0\n",
              "has_VC                        0\n",
              "has_angel                     0\n",
              "has_roundA                    0\n",
              "has_roundB                    0\n",
              "has_roundC                    0\n",
              "has_roundD                    0\n",
              "avg_participants              0\n",
              "is_top500                     0\n",
              "status                        0\n",
              "dtype: int64"
            ]
          },
          "metadata": {},
          "execution_count": 22
        }
      ],
      "source": [
        "# Mengecek jumlah missing value\n",
        "\n",
        "df.isnull().sum()"
      ]
    },
    {
      "cell_type": "code",
      "execution_count": 23,
      "metadata": {
        "id": "DKRfIY7j_jfz"
      },
      "outputs": [],
      "source": [
        "# Mengubah data \"target\" ke 1 dan 0\n",
        "\n",
        "df[\"status\"] = np.where(df[\"status\"]== 'closed', 0, 1)"
      ]
    },
    {
      "cell_type": "code",
      "execution_count": 24,
      "metadata": {
        "colab": {
          "base_uri": "https://localhost:8080/"
        },
        "id": "7asAlg6tCVGA",
        "outputId": "520c9dd5-a144-4356-b172-fb5128584e08"
      },
      "outputs": [
        {
          "output_type": "stream",
          "name": "stdout",
          "text": [
            "Duplicate Rows : 0\n"
          ]
        }
      ],
      "source": [
        "# Mengecek banyaknya value yang terduplikat\n",
        "\n",
        "duplicate = df.duplicated().sum() \n",
        "  \n",
        "print(\"Duplicate Rows :\", duplicate)"
      ]
    },
    {
      "cell_type": "code",
      "execution_count": 25,
      "metadata": {
        "id": "yr5fosFP3kZP"
      },
      "outputs": [],
      "source": [
        "# Menghapus kolom-kolom yang tidak penting untuk proses training\n",
        "\n",
        "train = df.drop([\"Unnamed: 0\", \"Unnamed: 6\", \"labels\",\n",
        "                    \"id\", \"latitude\", \"longitude\", \n",
        "                    \"zip_code\", \"state_code.1\",\n",
        "                    \"object_id\", \"name\", \"labels\"], axis=1)"
      ]
    },
    {
      "cell_type": "code",
      "execution_count": 26,
      "metadata": {
        "id": "052BG-sZJGbT"
      },
      "outputs": [],
      "source": [
        "# Memasukan atribut-atribut kategori pada variable\n",
        "\n",
        "cat_features = ['funding_rounds', 'milestones', 'category_code', 'has_VC', 'has_angel', 'has_roundA',\n",
        "                'has_roundB', 'has_roundC', 'has_roundD',\"city\", 'is_CA', 'is_NY', 'is_MA', \n",
        "                'is_TX', 'is_otherstate','is_software', 'is_web', 'is_mobile', 'is_enterprise', \n",
        "                'is_advertising', 'is_gamesvideo', 'is_ecommerce', 'is_biotech', 'is_consulting',\n",
        "                'is_othercategory','is_top500']"
      ]
    },
    {
      "cell_type": "markdown",
      "metadata": {
        "id": "s7PHrAipOxkr"
      },
      "source": [
        "## Model Training"
      ]
    },
    {
      "cell_type": "code",
      "execution_count": 27,
      "metadata": {
        "colab": {
          "base_uri": "https://localhost:8080/",
          "height": 346
        },
        "id": "Onm1rgJyFmC1",
        "outputId": "6f9ec7a5-3523-4153-9828-f38eac2fcc20"
      },
      "outputs": [
        {
          "output_type": "error",
          "ename": "ValueError",
          "evalue": "ignored",
          "traceback": [
            "\u001b[0;31m---------------------------------------------------------------------------\u001b[0m",
            "\u001b[0;31mValueError\u001b[0m                                Traceback (most recent call last)",
            "\u001b[0;32m<ipython-input-27-cbbec2d796a0>\u001b[0m in \u001b[0;36m<module>\u001b[0;34m\u001b[0m\n\u001b[1;32m      1\u001b[0m \u001b[0;31m# Men-training model\u001b[0m\u001b[0;34m\u001b[0m\u001b[0;34m\u001b[0m\u001b[0m\n\u001b[1;32m      2\u001b[0m \u001b[0;34m\u001b[0m\u001b[0m\n\u001b[0;32m----> 3\u001b[0;31m \u001b[0mexperiment\u001b[0m \u001b[0;34m=\u001b[0m \u001b[0msetup\u001b[0m\u001b[0;34m(\u001b[0m\u001b[0mtrain\u001b[0m\u001b[0;34m,\u001b[0m \u001b[0mtarget\u001b[0m\u001b[0;34m=\u001b[0m\u001b[0;34m'status'\u001b[0m\u001b[0;34m,\u001b[0m \u001b[0mcategorical_features\u001b[0m\u001b[0;34m=\u001b[0m\u001b[0mcat_features\u001b[0m\u001b[0;34m,\u001b[0m \u001b[0mnormalize\u001b[0m\u001b[0;34m=\u001b[0m\u001b[0;32mTrue\u001b[0m\u001b[0;34m,\u001b[0m \u001b[0mtransformation\u001b[0m\u001b[0;34m=\u001b[0m\u001b[0;32mTrue\u001b[0m\u001b[0;34m)\u001b[0m\u001b[0;34m\u001b[0m\u001b[0;34m\u001b[0m\u001b[0m\n\u001b[0m",
            "\u001b[0;32m/usr/local/lib/python3.9/dist-packages/pycaret/classification/functional.py\u001b[0m in \u001b[0;36msetup\u001b[0;34m(data, data_func, target, index, train_size, test_data, ordinal_features, numeric_features, categorical_features, date_features, text_features, ignore_features, keep_features, preprocess, create_date_columns, imputation_type, numeric_imputation, categorical_imputation, iterative_imputation_iters, numeric_iterative_imputer, categorical_iterative_imputer, text_features_method, max_encoding_ohe, encoding_method, rare_to_value, rare_value, polynomial_features, polynomial_degree, low_variance_threshold, group_features, group_names, drop_groups, remove_multicollinearity, multicollinearity_threshold, bin_numeric_features, remove_outliers, outliers_method, outliers_threshold, fix_imbalance, fix_imbalance_method, transformation, transformation_method, normalize, normalize_method, pca, pca_method, pca_components, feature_selection, feature_selection_method, feature_selection_estimator, n_features_to_select, custom_pipeline, custom_pipeline_position, data_split_shuffle, data_split_stratify, fold_strategy, fold, fold_shuffle, fold_groups, n_jobs, use_gpu, html, session_id, system_log, log_experiment, experiment_name, experiment_custom_tags, log_plots, log_profile, log_data, verbose, memory, profile, profile_kwargs)\u001b[0m\n\u001b[1;32m    601\u001b[0m     \u001b[0mexp\u001b[0m \u001b[0;34m=\u001b[0m \u001b[0m_EXPERIMENT_CLASS\u001b[0m\u001b[0;34m(\u001b[0m\u001b[0;34m)\u001b[0m\u001b[0;34m\u001b[0m\u001b[0;34m\u001b[0m\u001b[0m\n\u001b[1;32m    602\u001b[0m     \u001b[0mset_current_experiment\u001b[0m\u001b[0;34m(\u001b[0m\u001b[0mexp\u001b[0m\u001b[0;34m)\u001b[0m\u001b[0;34m\u001b[0m\u001b[0;34m\u001b[0m\u001b[0m\n\u001b[0;32m--> 603\u001b[0;31m     return exp.setup(\n\u001b[0m\u001b[1;32m    604\u001b[0m         \u001b[0mdata\u001b[0m\u001b[0;34m=\u001b[0m\u001b[0mdata\u001b[0m\u001b[0;34m,\u001b[0m\u001b[0;34m\u001b[0m\u001b[0;34m\u001b[0m\u001b[0m\n\u001b[1;32m    605\u001b[0m         \u001b[0mdata_func\u001b[0m\u001b[0;34m=\u001b[0m\u001b[0mdata_func\u001b[0m\u001b[0;34m,\u001b[0m\u001b[0;34m\u001b[0m\u001b[0;34m\u001b[0m\u001b[0m\n",
            "\u001b[0;32m/usr/local/lib/python3.9/dist-packages/pycaret/classification/oop.py\u001b[0m in \u001b[0;36msetup\u001b[0;34m(self, data, data_func, target, index, train_size, test_data, ordinal_features, numeric_features, categorical_features, date_features, text_features, ignore_features, keep_features, preprocess, create_date_columns, imputation_type, numeric_imputation, categorical_imputation, iterative_imputation_iters, numeric_iterative_imputer, categorical_iterative_imputer, text_features_method, max_encoding_ohe, encoding_method, rare_to_value, rare_value, polynomial_features, polynomial_degree, low_variance_threshold, group_features, group_names, drop_groups, remove_multicollinearity, multicollinearity_threshold, bin_numeric_features, remove_outliers, outliers_method, outliers_threshold, fix_imbalance, fix_imbalance_method, transformation, transformation_method, normalize, normalize_method, pca, pca_method, pca_components, feature_selection, feature_selection_method, feature_selection_estimator, n_features_to_select, custom_pipeline, custom_pipeline_position, data_split_shuffle, data_split_stratify, fold_strategy, fold, fold_shuffle, fold_groups, n_jobs, use_gpu, html, session_id, system_log, log_experiment, experiment_name, experiment_custom_tags, log_plots, log_profile, log_data, engine, verbose, memory, profile, profile_kwargs)\u001b[0m\n\u001b[1;32m    899\u001b[0m             \u001b[0mself\u001b[0m\u001b[0;34m.\u001b[0m\u001b[0mpipeline\u001b[0m\u001b[0;34m.\u001b[0m\u001b[0msteps\u001b[0m\u001b[0;34m.\u001b[0m\u001b[0mremove\u001b[0m\u001b[0;34m(\u001b[0m\u001b[0;34m(\u001b[0m\u001b[0;34m\"placeholder\"\u001b[0m\u001b[0;34m,\u001b[0m \u001b[0;32mNone\u001b[0m\u001b[0;34m)\u001b[0m\u001b[0;34m)\u001b[0m\u001b[0;34m\u001b[0m\u001b[0;34m\u001b[0m\u001b[0m\n\u001b[1;32m    900\u001b[0m \u001b[0;34m\u001b[0m\u001b[0m\n\u001b[0;32m--> 901\u001b[0;31m         \u001b[0mself\u001b[0m\u001b[0;34m.\u001b[0m\u001b[0mpipeline\u001b[0m\u001b[0;34m.\u001b[0m\u001b[0mfit\u001b[0m\u001b[0;34m(\u001b[0m\u001b[0mself\u001b[0m\u001b[0;34m.\u001b[0m\u001b[0mX_train\u001b[0m\u001b[0;34m,\u001b[0m \u001b[0mself\u001b[0m\u001b[0;34m.\u001b[0m\u001b[0my_train\u001b[0m\u001b[0;34m)\u001b[0m\u001b[0;34m\u001b[0m\u001b[0;34m\u001b[0m\u001b[0m\n\u001b[0m\u001b[1;32m    902\u001b[0m \u001b[0;34m\u001b[0m\u001b[0m\n\u001b[1;32m    903\u001b[0m         \u001b[0mself\u001b[0m\u001b[0;34m.\u001b[0m\u001b[0mlogger\u001b[0m\u001b[0;34m.\u001b[0m\u001b[0minfo\u001b[0m\u001b[0;34m(\u001b[0m\u001b[0;34m\"Finished creating preprocessing pipeline.\"\u001b[0m\u001b[0;34m)\u001b[0m\u001b[0;34m\u001b[0m\u001b[0;34m\u001b[0m\u001b[0m\n",
            "\u001b[0;32m/usr/local/lib/python3.9/dist-packages/pycaret/internal/pipeline.py\u001b[0m in \u001b[0;36mfit\u001b[0;34m(self, X, y, **fit_params)\u001b[0m\n\u001b[1;32m    253\u001b[0m     \u001b[0;32mdef\u001b[0m \u001b[0mfit\u001b[0m\u001b[0;34m(\u001b[0m\u001b[0mself\u001b[0m\u001b[0;34m,\u001b[0m \u001b[0mX\u001b[0m\u001b[0;34m=\u001b[0m\u001b[0;32mNone\u001b[0m\u001b[0;34m,\u001b[0m \u001b[0my\u001b[0m\u001b[0;34m=\u001b[0m\u001b[0;32mNone\u001b[0m\u001b[0;34m,\u001b[0m \u001b[0;34m**\u001b[0m\u001b[0mfit_params\u001b[0m\u001b[0;34m)\u001b[0m\u001b[0;34m:\u001b[0m\u001b[0;34m\u001b[0m\u001b[0;34m\u001b[0m\u001b[0m\n\u001b[1;32m    254\u001b[0m         \u001b[0mfit_params_steps\u001b[0m \u001b[0;34m=\u001b[0m \u001b[0mself\u001b[0m\u001b[0;34m.\u001b[0m\u001b[0m_check_fit_params\u001b[0m\u001b[0;34m(\u001b[0m\u001b[0;34m**\u001b[0m\u001b[0mfit_params\u001b[0m\u001b[0;34m)\u001b[0m\u001b[0;34m\u001b[0m\u001b[0;34m\u001b[0m\u001b[0m\n\u001b[0;32m--> 255\u001b[0;31m         \u001b[0mX\u001b[0m\u001b[0;34m,\u001b[0m \u001b[0my\u001b[0m\u001b[0;34m,\u001b[0m \u001b[0m_\u001b[0m \u001b[0;34m=\u001b[0m \u001b[0mself\u001b[0m\u001b[0;34m.\u001b[0m\u001b[0m_fit\u001b[0m\u001b[0;34m(\u001b[0m\u001b[0mX\u001b[0m\u001b[0;34m,\u001b[0m \u001b[0my\u001b[0m\u001b[0;34m,\u001b[0m \u001b[0;34m**\u001b[0m\u001b[0mfit_params_steps\u001b[0m\u001b[0;34m)\u001b[0m\u001b[0;34m\u001b[0m\u001b[0;34m\u001b[0m\u001b[0m\n\u001b[0m\u001b[1;32m    256\u001b[0m \u001b[0;34m\u001b[0m\u001b[0m\n\u001b[1;32m    257\u001b[0m         \u001b[0;32mwith\u001b[0m \u001b[0m_print_elapsed_time\u001b[0m\u001b[0;34m(\u001b[0m\u001b[0;34m\"Pipeline\"\u001b[0m\u001b[0;34m,\u001b[0m \u001b[0mself\u001b[0m\u001b[0;34m.\u001b[0m\u001b[0m_log_message\u001b[0m\u001b[0;34m(\u001b[0m\u001b[0mlen\u001b[0m\u001b[0;34m(\u001b[0m\u001b[0mself\u001b[0m\u001b[0;34m.\u001b[0m\u001b[0msteps\u001b[0m\u001b[0;34m)\u001b[0m \u001b[0;34m-\u001b[0m \u001b[0;36m1\u001b[0m\u001b[0;34m)\u001b[0m\u001b[0;34m)\u001b[0m\u001b[0;34m:\u001b[0m\u001b[0;34m\u001b[0m\u001b[0;34m\u001b[0m\u001b[0m\n",
            "\u001b[0;32m/usr/local/lib/python3.9/dist-packages/pycaret/internal/pipeline.py\u001b[0m in \u001b[0;36m_fit\u001b[0;34m(self, X, y, **fit_params_steps)\u001b[0m\n\u001b[1;32m    229\u001b[0m \u001b[0;34m\u001b[0m\u001b[0m\n\u001b[1;32m    230\u001b[0m                 \u001b[0;31m# Fit or load the current transformer from cache\u001b[0m\u001b[0;34m\u001b[0m\u001b[0;34m\u001b[0m\u001b[0m\n\u001b[0;32m--> 231\u001b[0;31m                 fitted_transformer = self._memory_fit(\n\u001b[0m\u001b[1;32m    232\u001b[0m                     \u001b[0mtransformer\u001b[0m\u001b[0;34m=\u001b[0m\u001b[0mcloned\u001b[0m\u001b[0;34m,\u001b[0m\u001b[0;34m\u001b[0m\u001b[0;34m\u001b[0m\u001b[0m\n\u001b[1;32m    233\u001b[0m                     \u001b[0mX\u001b[0m\u001b[0;34m=\u001b[0m\u001b[0mX\u001b[0m\u001b[0;34m,\u001b[0m\u001b[0;34m\u001b[0m\u001b[0;34m\u001b[0m\u001b[0m\n",
            "\u001b[0;32m/usr/local/lib/python3.9/dist-packages/joblib/memory.py\u001b[0m in \u001b[0;36m__call__\u001b[0;34m(self, *args, **kwargs)\u001b[0m\n\u001b[1;32m    592\u001b[0m \u001b[0;34m\u001b[0m\u001b[0m\n\u001b[1;32m    593\u001b[0m     \u001b[0;32mdef\u001b[0m \u001b[0m__call__\u001b[0m\u001b[0;34m(\u001b[0m\u001b[0mself\u001b[0m\u001b[0;34m,\u001b[0m \u001b[0;34m*\u001b[0m\u001b[0margs\u001b[0m\u001b[0;34m,\u001b[0m \u001b[0;34m**\u001b[0m\u001b[0mkwargs\u001b[0m\u001b[0;34m)\u001b[0m\u001b[0;34m:\u001b[0m\u001b[0;34m\u001b[0m\u001b[0;34m\u001b[0m\u001b[0m\n\u001b[0;32m--> 594\u001b[0;31m         \u001b[0;32mreturn\u001b[0m \u001b[0mself\u001b[0m\u001b[0;34m.\u001b[0m\u001b[0m_cached_call\u001b[0m\u001b[0;34m(\u001b[0m\u001b[0margs\u001b[0m\u001b[0;34m,\u001b[0m \u001b[0mkwargs\u001b[0m\u001b[0;34m)\u001b[0m\u001b[0;34m[\u001b[0m\u001b[0;36m0\u001b[0m\u001b[0;34m]\u001b[0m\u001b[0;34m\u001b[0m\u001b[0;34m\u001b[0m\u001b[0m\n\u001b[0m\u001b[1;32m    595\u001b[0m \u001b[0;34m\u001b[0m\u001b[0m\n\u001b[1;32m    596\u001b[0m     \u001b[0;32mdef\u001b[0m \u001b[0m__getstate__\u001b[0m\u001b[0;34m(\u001b[0m\u001b[0mself\u001b[0m\u001b[0;34m)\u001b[0m\u001b[0;34m:\u001b[0m\u001b[0;34m\u001b[0m\u001b[0;34m\u001b[0m\u001b[0m\n",
            "\u001b[0;32m/usr/local/lib/python3.9/dist-packages/pycaret/internal/memory.py\u001b[0m in \u001b[0;36m_cached_call\u001b[0;34m(self, args, kwargs, shelving)\u001b[0m\n\u001b[1;32m    396\u001b[0m             \u001b[0;31m# PYCARET CHANGES\u001b[0m\u001b[0;34m\u001b[0m\u001b[0;34m\u001b[0m\u001b[0m\n\u001b[1;32m    397\u001b[0m             \u001b[0mself\u001b[0m\u001b[0;34m.\u001b[0m\u001b[0m_cached_output_identifiers\u001b[0m \u001b[0;34m=\u001b[0m \u001b[0mfunc_id\u001b[0m\u001b[0;34m,\u001b[0m \u001b[0margs_id\u001b[0m\u001b[0;34m\u001b[0m\u001b[0;34m\u001b[0m\u001b[0m\n\u001b[0;32m--> 398\u001b[0;31m             \u001b[0mout\u001b[0m\u001b[0;34m,\u001b[0m \u001b[0mmetadata\u001b[0m \u001b[0;34m=\u001b[0m \u001b[0mself\u001b[0m\u001b[0;34m.\u001b[0m\u001b[0mcall\u001b[0m\u001b[0;34m(\u001b[0m\u001b[0;34m*\u001b[0m\u001b[0margs\u001b[0m\u001b[0;34m,\u001b[0m \u001b[0;34m**\u001b[0m\u001b[0mkwargs\u001b[0m\u001b[0;34m)\u001b[0m\u001b[0;34m\u001b[0m\u001b[0;34m\u001b[0m\u001b[0m\n\u001b[0m\u001b[1;32m    399\u001b[0m             \u001b[0;32mif\u001b[0m \u001b[0mself\u001b[0m\u001b[0;34m.\u001b[0m\u001b[0mmmap_mode\u001b[0m \u001b[0;32mis\u001b[0m \u001b[0;32mnot\u001b[0m \u001b[0;32mNone\u001b[0m \u001b[0;32mand\u001b[0m \u001b[0mmetadata\u001b[0m \u001b[0;32mis\u001b[0m \u001b[0;32mnot\u001b[0m \u001b[0;32mNone\u001b[0m\u001b[0;34m:\u001b[0m\u001b[0;34m\u001b[0m\u001b[0;34m\u001b[0m\u001b[0m\n\u001b[1;32m    400\u001b[0m                 \u001b[0;31m# PYCARET CHANGES END\u001b[0m\u001b[0;34m\u001b[0m\u001b[0;34m\u001b[0m\u001b[0m\n",
            "\u001b[0;32m/usr/local/lib/python3.9/dist-packages/pycaret/internal/memory.py\u001b[0m in \u001b[0;36mcall\u001b[0;34m(self, *args, **kwargs)\u001b[0m\n\u001b[1;32m    307\u001b[0m         \u001b[0;31m# PYCARET CHANGES\u001b[0m\u001b[0;34m\u001b[0m\u001b[0;34m\u001b[0m\u001b[0m\n\u001b[1;32m    308\u001b[0m         \u001b[0mfunc_start_time\u001b[0m \u001b[0;34m=\u001b[0m \u001b[0mtime\u001b[0m\u001b[0;34m.\u001b[0m\u001b[0mmonotonic\u001b[0m\u001b[0;34m(\u001b[0m\u001b[0;34m)\u001b[0m\u001b[0;34m\u001b[0m\u001b[0;34m\u001b[0m\u001b[0m\n\u001b[0;32m--> 309\u001b[0;31m         \u001b[0moutput\u001b[0m \u001b[0;34m=\u001b[0m \u001b[0mself\u001b[0m\u001b[0;34m.\u001b[0m\u001b[0mfunc\u001b[0m\u001b[0;34m(\u001b[0m\u001b[0;34m*\u001b[0m\u001b[0margs\u001b[0m\u001b[0;34m,\u001b[0m \u001b[0;34m**\u001b[0m\u001b[0mkwargs\u001b[0m\u001b[0;34m)\u001b[0m\u001b[0;34m\u001b[0m\u001b[0;34m\u001b[0m\u001b[0m\n\u001b[0m\u001b[1;32m    310\u001b[0m         \u001b[0mfunc_duration\u001b[0m \u001b[0;34m=\u001b[0m \u001b[0mtime\u001b[0m\u001b[0;34m.\u001b[0m\u001b[0mmonotonic\u001b[0m\u001b[0;34m(\u001b[0m\u001b[0;34m)\u001b[0m \u001b[0;34m-\u001b[0m \u001b[0mfunc_start_time\u001b[0m\u001b[0;34m\u001b[0m\u001b[0;34m\u001b[0m\u001b[0m\n\u001b[1;32m    311\u001b[0m         \u001b[0;32mif\u001b[0m \u001b[0mfunc_duration\u001b[0m \u001b[0;34m>=\u001b[0m \u001b[0mself\u001b[0m\u001b[0;34m.\u001b[0m\u001b[0mmin_time_to_cache\u001b[0m\u001b[0;34m:\u001b[0m\u001b[0;34m\u001b[0m\u001b[0;34m\u001b[0m\u001b[0m\n",
            "\u001b[0;32m/usr/local/lib/python3.9/dist-packages/pycaret/internal/pipeline.py\u001b[0m in \u001b[0;36m_fit_one\u001b[0;34m(transformer, X, y, message, **fit_params)\u001b[0m\n\u001b[1;32m     64\u001b[0m             \u001b[0;32mif\u001b[0m \u001b[0;34m\"y\"\u001b[0m \u001b[0;32min\u001b[0m \u001b[0msignature\u001b[0m\u001b[0;34m(\u001b[0m\u001b[0mtransformer\u001b[0m\u001b[0;34m.\u001b[0m\u001b[0mfit\u001b[0m\u001b[0;34m)\u001b[0m\u001b[0;34m.\u001b[0m\u001b[0mparameters\u001b[0m\u001b[0;34m:\u001b[0m\u001b[0;34m\u001b[0m\u001b[0;34m\u001b[0m\u001b[0m\n\u001b[1;32m     65\u001b[0m                 \u001b[0margs\u001b[0m\u001b[0;34m.\u001b[0m\u001b[0mappend\u001b[0m\u001b[0;34m(\u001b[0m\u001b[0my\u001b[0m\u001b[0;34m)\u001b[0m\u001b[0;34m\u001b[0m\u001b[0;34m\u001b[0m\u001b[0m\n\u001b[0;32m---> 66\u001b[0;31m             \u001b[0mtransformer\u001b[0m\u001b[0;34m.\u001b[0m\u001b[0mfit\u001b[0m\u001b[0;34m(\u001b[0m\u001b[0;34m*\u001b[0m\u001b[0margs\u001b[0m\u001b[0;34m,\u001b[0m \u001b[0;34m**\u001b[0m\u001b[0mfit_params\u001b[0m\u001b[0;34m)\u001b[0m\u001b[0;34m\u001b[0m\u001b[0;34m\u001b[0m\u001b[0m\n\u001b[0m\u001b[1;32m     67\u001b[0m     \u001b[0;32mreturn\u001b[0m \u001b[0mtransformer\u001b[0m\u001b[0;34m\u001b[0m\u001b[0;34m\u001b[0m\u001b[0m\n\u001b[1;32m     68\u001b[0m \u001b[0;34m\u001b[0m\u001b[0m\n",
            "\u001b[0;32m/usr/local/lib/python3.9/dist-packages/pycaret/internal/preprocess/transformers.py\u001b[0m in \u001b[0;36mfit\u001b[0;34m(self, X, y, **fit_params)\u001b[0m\n\u001b[1;32m    217\u001b[0m             \u001b[0margs\u001b[0m\u001b[0;34m.\u001b[0m\u001b[0mappend\u001b[0m\u001b[0;34m(\u001b[0m\u001b[0my\u001b[0m\u001b[0;34m)\u001b[0m\u001b[0;34m\u001b[0m\u001b[0;34m\u001b[0m\u001b[0m\n\u001b[1;32m    218\u001b[0m \u001b[0;34m\u001b[0m\u001b[0m\n\u001b[0;32m--> 219\u001b[0;31m         \u001b[0mself\u001b[0m\u001b[0;34m.\u001b[0m\u001b[0mtransformer\u001b[0m\u001b[0;34m.\u001b[0m\u001b[0mfit\u001b[0m\u001b[0;34m(\u001b[0m\u001b[0;34m*\u001b[0m\u001b[0margs\u001b[0m\u001b[0;34m,\u001b[0m \u001b[0;34m**\u001b[0m\u001b[0mfit_params\u001b[0m\u001b[0;34m)\u001b[0m\u001b[0;34m\u001b[0m\u001b[0;34m\u001b[0m\u001b[0m\n\u001b[0m\u001b[1;32m    220\u001b[0m         \u001b[0;32mreturn\u001b[0m \u001b[0mself\u001b[0m\u001b[0;34m\u001b[0m\u001b[0;34m\u001b[0m\u001b[0m\n\u001b[1;32m    221\u001b[0m \u001b[0;34m\u001b[0m\u001b[0m\n",
            "\u001b[0;32m/usr/local/lib/python3.9/dist-packages/sklearn/preprocessing/_data.py\u001b[0m in \u001b[0;36mfit\u001b[0;34m(self, X, y)\u001b[0m\n\u001b[1;32m   3080\u001b[0m         \"\"\"\n\u001b[1;32m   3081\u001b[0m         \u001b[0mself\u001b[0m\u001b[0;34m.\u001b[0m\u001b[0m_validate_params\u001b[0m\u001b[0;34m(\u001b[0m\u001b[0;34m)\u001b[0m\u001b[0;34m\u001b[0m\u001b[0;34m\u001b[0m\u001b[0m\n\u001b[0;32m-> 3082\u001b[0;31m         \u001b[0mself\u001b[0m\u001b[0;34m.\u001b[0m\u001b[0m_fit\u001b[0m\u001b[0;34m(\u001b[0m\u001b[0mX\u001b[0m\u001b[0;34m,\u001b[0m \u001b[0my\u001b[0m\u001b[0;34m=\u001b[0m\u001b[0my\u001b[0m\u001b[0;34m,\u001b[0m \u001b[0mforce_transform\u001b[0m\u001b[0;34m=\u001b[0m\u001b[0;32mFalse\u001b[0m\u001b[0;34m)\u001b[0m\u001b[0;34m\u001b[0m\u001b[0;34m\u001b[0m\u001b[0m\n\u001b[0m\u001b[1;32m   3083\u001b[0m         \u001b[0;32mreturn\u001b[0m \u001b[0mself\u001b[0m\u001b[0;34m\u001b[0m\u001b[0;34m\u001b[0m\u001b[0m\n\u001b[1;32m   3084\u001b[0m \u001b[0;34m\u001b[0m\u001b[0m\n",
            "\u001b[0;32m/usr/local/lib/python3.9/dist-packages/sklearn/preprocessing/_data.py\u001b[0m in \u001b[0;36m_fit\u001b[0;34m(self, X, y, force_transform)\u001b[0m\n\u001b[1;32m   3104\u001b[0m \u001b[0;34m\u001b[0m\u001b[0m\n\u001b[1;32m   3105\u001b[0m     \u001b[0;32mdef\u001b[0m \u001b[0m_fit\u001b[0m\u001b[0;34m(\u001b[0m\u001b[0mself\u001b[0m\u001b[0;34m,\u001b[0m \u001b[0mX\u001b[0m\u001b[0;34m,\u001b[0m \u001b[0my\u001b[0m\u001b[0;34m=\u001b[0m\u001b[0;32mNone\u001b[0m\u001b[0;34m,\u001b[0m \u001b[0mforce_transform\u001b[0m\u001b[0;34m=\u001b[0m\u001b[0;32mFalse\u001b[0m\u001b[0;34m)\u001b[0m\u001b[0;34m:\u001b[0m\u001b[0;34m\u001b[0m\u001b[0;34m\u001b[0m\u001b[0m\n\u001b[0;32m-> 3106\u001b[0;31m         \u001b[0mX\u001b[0m \u001b[0;34m=\u001b[0m \u001b[0mself\u001b[0m\u001b[0;34m.\u001b[0m\u001b[0m_check_input\u001b[0m\u001b[0;34m(\u001b[0m\u001b[0mX\u001b[0m\u001b[0;34m,\u001b[0m \u001b[0min_fit\u001b[0m\u001b[0;34m=\u001b[0m\u001b[0;32mTrue\u001b[0m\u001b[0;34m,\u001b[0m \u001b[0mcheck_positive\u001b[0m\u001b[0;34m=\u001b[0m\u001b[0;32mTrue\u001b[0m\u001b[0;34m)\u001b[0m\u001b[0;34m\u001b[0m\u001b[0;34m\u001b[0m\u001b[0m\n\u001b[0m\u001b[1;32m   3107\u001b[0m \u001b[0;34m\u001b[0m\u001b[0m\n\u001b[1;32m   3108\u001b[0m         \u001b[0;32mif\u001b[0m \u001b[0;32mnot\u001b[0m \u001b[0mself\u001b[0m\u001b[0;34m.\u001b[0m\u001b[0mcopy\u001b[0m \u001b[0;32mand\u001b[0m \u001b[0;32mnot\u001b[0m \u001b[0mforce_transform\u001b[0m\u001b[0;34m:\u001b[0m  \u001b[0;31m# if call from fit()\u001b[0m\u001b[0;34m\u001b[0m\u001b[0;34m\u001b[0m\u001b[0m\n",
            "\u001b[0;32m/usr/local/lib/python3.9/dist-packages/sklearn/preprocessing/_data.py\u001b[0m in \u001b[0;36m_check_input\u001b[0;34m(self, X, in_fit, check_positive, check_shape)\u001b[0m\n\u001b[1;32m   3325\u001b[0m             \u001b[0mIf\u001b[0m \u001b[0;32mTrue\u001b[0m\u001b[0;34m,\u001b[0m \u001b[0mcheck\u001b[0m \u001b[0mthat\u001b[0m \u001b[0mn_features\u001b[0m \u001b[0mmatches\u001b[0m \u001b[0mthe\u001b[0m \u001b[0mlength\u001b[0m \u001b[0mof\u001b[0m \u001b[0mself\u001b[0m\u001b[0;34m.\u001b[0m\u001b[0mlambdas_\u001b[0m\u001b[0;34m\u001b[0m\u001b[0;34m\u001b[0m\u001b[0m\n\u001b[1;32m   3326\u001b[0m         \"\"\"\n\u001b[0;32m-> 3327\u001b[0;31m         X = self._validate_data(\n\u001b[0m\u001b[1;32m   3328\u001b[0m             \u001b[0mX\u001b[0m\u001b[0;34m,\u001b[0m\u001b[0;34m\u001b[0m\u001b[0;34m\u001b[0m\u001b[0m\n\u001b[1;32m   3329\u001b[0m             \u001b[0mensure_2d\u001b[0m\u001b[0;34m=\u001b[0m\u001b[0;32mTrue\u001b[0m\u001b[0;34m,\u001b[0m\u001b[0;34m\u001b[0m\u001b[0;34m\u001b[0m\u001b[0m\n",
            "\u001b[0;32m/usr/local/lib/python3.9/dist-packages/sklearn/base.py\u001b[0m in \u001b[0;36m_validate_data\u001b[0;34m(self, X, y, reset, validate_separately, **check_params)\u001b[0m\n\u001b[1;32m    563\u001b[0m             \u001b[0;32mraise\u001b[0m \u001b[0mValueError\u001b[0m\u001b[0;34m(\u001b[0m\u001b[0;34m\"Validation should be done on X, y or both.\"\u001b[0m\u001b[0;34m)\u001b[0m\u001b[0;34m\u001b[0m\u001b[0;34m\u001b[0m\u001b[0m\n\u001b[1;32m    564\u001b[0m         \u001b[0;32melif\u001b[0m \u001b[0;32mnot\u001b[0m \u001b[0mno_val_X\u001b[0m \u001b[0;32mand\u001b[0m \u001b[0mno_val_y\u001b[0m\u001b[0;34m:\u001b[0m\u001b[0;34m\u001b[0m\u001b[0;34m\u001b[0m\u001b[0m\n\u001b[0;32m--> 565\u001b[0;31m             \u001b[0mX\u001b[0m \u001b[0;34m=\u001b[0m \u001b[0mcheck_array\u001b[0m\u001b[0;34m(\u001b[0m\u001b[0mX\u001b[0m\u001b[0;34m,\u001b[0m \u001b[0minput_name\u001b[0m\u001b[0;34m=\u001b[0m\u001b[0;34m\"X\"\u001b[0m\u001b[0;34m,\u001b[0m \u001b[0;34m**\u001b[0m\u001b[0mcheck_params\u001b[0m\u001b[0;34m)\u001b[0m\u001b[0;34m\u001b[0m\u001b[0;34m\u001b[0m\u001b[0m\n\u001b[0m\u001b[1;32m    566\u001b[0m             \u001b[0mout\u001b[0m \u001b[0;34m=\u001b[0m \u001b[0mX\u001b[0m\u001b[0;34m\u001b[0m\u001b[0;34m\u001b[0m\u001b[0m\n\u001b[1;32m    567\u001b[0m         \u001b[0;32melif\u001b[0m \u001b[0mno_val_X\u001b[0m \u001b[0;32mand\u001b[0m \u001b[0;32mnot\u001b[0m \u001b[0mno_val_y\u001b[0m\u001b[0;34m:\u001b[0m\u001b[0;34m\u001b[0m\u001b[0;34m\u001b[0m\u001b[0m\n",
            "\u001b[0;32m/usr/local/lib/python3.9/dist-packages/sklearn/utils/validation.py\u001b[0m in \u001b[0;36mcheck_array\u001b[0;34m(array, accept_sparse, accept_large_sparse, dtype, order, copy, force_all_finite, ensure_2d, allow_nd, ensure_min_samples, ensure_min_features, estimator, input_name)\u001b[0m\n\u001b[1;32m    877\u001b[0m                     \u001b[0marray\u001b[0m \u001b[0;34m=\u001b[0m \u001b[0mxp\u001b[0m\u001b[0;34m.\u001b[0m\u001b[0mastype\u001b[0m\u001b[0;34m(\u001b[0m\u001b[0marray\u001b[0m\u001b[0;34m,\u001b[0m \u001b[0mdtype\u001b[0m\u001b[0;34m,\u001b[0m \u001b[0mcopy\u001b[0m\u001b[0;34m=\u001b[0m\u001b[0;32mFalse\u001b[0m\u001b[0;34m)\u001b[0m\u001b[0;34m\u001b[0m\u001b[0;34m\u001b[0m\u001b[0m\n\u001b[1;32m    878\u001b[0m                 \u001b[0;32melse\u001b[0m\u001b[0;34m:\u001b[0m\u001b[0;34m\u001b[0m\u001b[0;34m\u001b[0m\u001b[0m\n\u001b[0;32m--> 879\u001b[0;31m                     \u001b[0marray\u001b[0m \u001b[0;34m=\u001b[0m \u001b[0m_asarray_with_order\u001b[0m\u001b[0;34m(\u001b[0m\u001b[0marray\u001b[0m\u001b[0;34m,\u001b[0m \u001b[0morder\u001b[0m\u001b[0;34m=\u001b[0m\u001b[0morder\u001b[0m\u001b[0;34m,\u001b[0m \u001b[0mdtype\u001b[0m\u001b[0;34m=\u001b[0m\u001b[0mdtype\u001b[0m\u001b[0;34m,\u001b[0m \u001b[0mxp\u001b[0m\u001b[0;34m=\u001b[0m\u001b[0mxp\u001b[0m\u001b[0;34m)\u001b[0m\u001b[0;34m\u001b[0m\u001b[0;34m\u001b[0m\u001b[0m\n\u001b[0m\u001b[1;32m    880\u001b[0m             \u001b[0;32mexcept\u001b[0m \u001b[0mComplexWarning\u001b[0m \u001b[0;32mas\u001b[0m \u001b[0mcomplex_warning\u001b[0m\u001b[0;34m:\u001b[0m\u001b[0;34m\u001b[0m\u001b[0;34m\u001b[0m\u001b[0m\n\u001b[1;32m    881\u001b[0m                 raise ValueError(\n",
            "\u001b[0;32m/usr/local/lib/python3.9/dist-packages/sklearn/utils/_array_api.py\u001b[0m in \u001b[0;36m_asarray_with_order\u001b[0;34m(array, dtype, order, copy, xp)\u001b[0m\n\u001b[1;32m    183\u001b[0m     \u001b[0;32mif\u001b[0m \u001b[0mxp\u001b[0m\u001b[0;34m.\u001b[0m\u001b[0m__name__\u001b[0m \u001b[0;32min\u001b[0m \u001b[0;34m{\u001b[0m\u001b[0;34m\"numpy\"\u001b[0m\u001b[0;34m,\u001b[0m \u001b[0;34m\"numpy.array_api\"\u001b[0m\u001b[0;34m}\u001b[0m\u001b[0;34m:\u001b[0m\u001b[0;34m\u001b[0m\u001b[0;34m\u001b[0m\u001b[0m\n\u001b[1;32m    184\u001b[0m         \u001b[0;31m# Use NumPy API to support order\u001b[0m\u001b[0;34m\u001b[0m\u001b[0;34m\u001b[0m\u001b[0m\n\u001b[0;32m--> 185\u001b[0;31m         \u001b[0marray\u001b[0m \u001b[0;34m=\u001b[0m \u001b[0mnumpy\u001b[0m\u001b[0;34m.\u001b[0m\u001b[0masarray\u001b[0m\u001b[0;34m(\u001b[0m\u001b[0marray\u001b[0m\u001b[0;34m,\u001b[0m \u001b[0morder\u001b[0m\u001b[0;34m=\u001b[0m\u001b[0morder\u001b[0m\u001b[0;34m,\u001b[0m \u001b[0mdtype\u001b[0m\u001b[0;34m=\u001b[0m\u001b[0mdtype\u001b[0m\u001b[0;34m)\u001b[0m\u001b[0;34m\u001b[0m\u001b[0;34m\u001b[0m\u001b[0m\n\u001b[0m\u001b[1;32m    186\u001b[0m         \u001b[0;32mreturn\u001b[0m \u001b[0mxp\u001b[0m\u001b[0;34m.\u001b[0m\u001b[0masarray\u001b[0m\u001b[0;34m(\u001b[0m\u001b[0marray\u001b[0m\u001b[0;34m,\u001b[0m \u001b[0mcopy\u001b[0m\u001b[0;34m=\u001b[0m\u001b[0mcopy\u001b[0m\u001b[0;34m)\u001b[0m\u001b[0;34m\u001b[0m\u001b[0;34m\u001b[0m\u001b[0m\n\u001b[1;32m    187\u001b[0m     \u001b[0;32melse\u001b[0m\u001b[0;34m:\u001b[0m\u001b[0;34m\u001b[0m\u001b[0;34m\u001b[0m\u001b[0m\n",
            "\u001b[0;32m/usr/local/lib/python3.9/dist-packages/pandas/core/generic.py\u001b[0m in \u001b[0;36m__array__\u001b[0;34m(self, dtype)\u001b[0m\n\u001b[1;32m   2062\u001b[0m \u001b[0;34m\u001b[0m\u001b[0m\n\u001b[1;32m   2063\u001b[0m     \u001b[0;32mdef\u001b[0m \u001b[0m__array__\u001b[0m\u001b[0;34m(\u001b[0m\u001b[0mself\u001b[0m\u001b[0;34m,\u001b[0m \u001b[0mdtype\u001b[0m\u001b[0;34m:\u001b[0m \u001b[0mnpt\u001b[0m\u001b[0;34m.\u001b[0m\u001b[0mDTypeLike\u001b[0m \u001b[0;34m|\u001b[0m \u001b[0;32mNone\u001b[0m \u001b[0;34m=\u001b[0m \u001b[0;32mNone\u001b[0m\u001b[0;34m)\u001b[0m \u001b[0;34m->\u001b[0m \u001b[0mnp\u001b[0m\u001b[0;34m.\u001b[0m\u001b[0mndarray\u001b[0m\u001b[0;34m:\u001b[0m\u001b[0;34m\u001b[0m\u001b[0;34m\u001b[0m\u001b[0m\n\u001b[0;32m-> 2064\u001b[0;31m         \u001b[0;32mreturn\u001b[0m \u001b[0mnp\u001b[0m\u001b[0;34m.\u001b[0m\u001b[0masarray\u001b[0m\u001b[0;34m(\u001b[0m\u001b[0mself\u001b[0m\u001b[0;34m.\u001b[0m\u001b[0m_values\u001b[0m\u001b[0;34m,\u001b[0m \u001b[0mdtype\u001b[0m\u001b[0;34m=\u001b[0m\u001b[0mdtype\u001b[0m\u001b[0;34m)\u001b[0m\u001b[0;34m\u001b[0m\u001b[0;34m\u001b[0m\u001b[0m\n\u001b[0m\u001b[1;32m   2065\u001b[0m \u001b[0;34m\u001b[0m\u001b[0m\n\u001b[1;32m   2066\u001b[0m     def __array_wrap__(\n",
            "\u001b[0;31mValueError\u001b[0m: could not convert string to float: 'CA'"
          ]
        }
      ],
      "source": [
        "# Men-training model\n",
        "\n",
        "experiment = setup(train, target='status', categorical_features=cat_features, normalize=True, transformation=True)"
      ]
    },
    {
      "cell_type": "markdown",
      "metadata": {
        "id": "69Q5AdJUO0uZ"
      },
      "source": [
        "## Evaluate the Models"
      ]
    },
    {
      "cell_type": "code",
      "execution_count": 28,
      "metadata": {
        "colab": {
          "base_uri": "https://localhost:8080/",
          "height": 364
        },
        "id": "OZJvsjn0Iz_p",
        "outputId": "6dbd65de-a8a9-4259-c396-6e3a8aff8e26"
      },
      "outputs": [
        {
          "output_type": "error",
          "ename": "RuntimeError",
          "evalue": "ignored",
          "traceback": [
            "\u001b[0;31m---------------------------------------------------------------------------\u001b[0m",
            "\u001b[0;31mRuntimeError\u001b[0m                              Traceback (most recent call last)",
            "\u001b[0;32m<ipython-input-28-aa09fb5baed4>\u001b[0m in \u001b[0;36m<module>\u001b[0;34m\u001b[0m\n\u001b[1;32m      1\u001b[0m \u001b[0;31m# Komparasi model dengan akurasi terbaik\u001b[0m\u001b[0;34m\u001b[0m\u001b[0;34m\u001b[0m\u001b[0m\n\u001b[1;32m      2\u001b[0m \u001b[0;34m\u001b[0m\u001b[0m\n\u001b[0;32m----> 3\u001b[0;31m \u001b[0mcompare_models\u001b[0m\u001b[0;34m(\u001b[0m\u001b[0mcross_validation\u001b[0m\u001b[0;34m=\u001b[0m\u001b[0;32mTrue\u001b[0m\u001b[0;34m,\u001b[0m \u001b[0msort\u001b[0m\u001b[0;34m=\u001b[0m\u001b[0;34m\"Accuracy\"\u001b[0m\u001b[0;34m)\u001b[0m\u001b[0;34m\u001b[0m\u001b[0;34m\u001b[0m\u001b[0m\n\u001b[0m",
            "\u001b[0;32m/usr/local/lib/python3.9/dist-packages/pycaret/utils/generic.py\u001b[0m in \u001b[0;36mwrapper\u001b[0;34m(*args, **kwargs)\u001b[0m\n\u001b[1;32m    963\u001b[0m                 \u001b[0;32mif\u001b[0m \u001b[0mglobals_d\u001b[0m\u001b[0;34m[\u001b[0m\u001b[0mname\u001b[0m\u001b[0;34m]\u001b[0m \u001b[0;32mis\u001b[0m \u001b[0;32mNone\u001b[0m\u001b[0;34m:\u001b[0m\u001b[0;34m\u001b[0m\u001b[0;34m\u001b[0m\u001b[0m\n\u001b[1;32m    964\u001b[0m                     \u001b[0;32mraise\u001b[0m \u001b[0mValueError\u001b[0m\u001b[0;34m(\u001b[0m\u001b[0mmessage\u001b[0m\u001b[0;34m)\u001b[0m\u001b[0;34m\u001b[0m\u001b[0;34m\u001b[0m\u001b[0m\n\u001b[0;32m--> 965\u001b[0;31m             \u001b[0;32mreturn\u001b[0m \u001b[0mfunc\u001b[0m\u001b[0;34m(\u001b[0m\u001b[0;34m*\u001b[0m\u001b[0margs\u001b[0m\u001b[0;34m,\u001b[0m \u001b[0;34m**\u001b[0m\u001b[0mkwargs\u001b[0m\u001b[0;34m)\u001b[0m\u001b[0;34m\u001b[0m\u001b[0;34m\u001b[0m\u001b[0m\n\u001b[0m\u001b[1;32m    966\u001b[0m \u001b[0;34m\u001b[0m\u001b[0m\n\u001b[1;32m    967\u001b[0m         \u001b[0;32mreturn\u001b[0m \u001b[0mwrapper\u001b[0m\u001b[0;34m\u001b[0m\u001b[0;34m\u001b[0m\u001b[0m\n",
            "\u001b[0;32m/usr/local/lib/python3.9/dist-packages/pycaret/classification/functional.py\u001b[0m in \u001b[0;36mcompare_models\u001b[0;34m(include, exclude, fold, round, cross_validation, sort, n_select, budget_time, turbo, errors, fit_kwargs, groups, experiment_custom_tags, probability_threshold, engine, verbose, parallel)\u001b[0m\n\u001b[1;32m    822\u001b[0m     \"\"\"\n\u001b[1;32m    823\u001b[0m \u001b[0;34m\u001b[0m\u001b[0m\n\u001b[0;32m--> 824\u001b[0;31m     return _CURRENT_EXPERIMENT.compare_models(\n\u001b[0m\u001b[1;32m    825\u001b[0m         \u001b[0minclude\u001b[0m\u001b[0;34m=\u001b[0m\u001b[0minclude\u001b[0m\u001b[0;34m,\u001b[0m\u001b[0;34m\u001b[0m\u001b[0;34m\u001b[0m\u001b[0m\n\u001b[1;32m    826\u001b[0m         \u001b[0mexclude\u001b[0m\u001b[0;34m=\u001b[0m\u001b[0mexclude\u001b[0m\u001b[0;34m,\u001b[0m\u001b[0;34m\u001b[0m\u001b[0;34m\u001b[0m\u001b[0m\n",
            "\u001b[0;32m/usr/local/lib/python3.9/dist-packages/pycaret/classification/oop.py\u001b[0m in \u001b[0;36mcompare_models\u001b[0;34m(self, include, exclude, fold, round, cross_validation, sort, n_select, budget_time, turbo, errors, fit_kwargs, groups, experiment_custom_tags, probability_threshold, engine, verbose, parallel)\u001b[0m\n\u001b[1;32m   1190\u001b[0m \u001b[0;34m\u001b[0m\u001b[0m\n\u001b[1;32m   1191\u001b[0m         \u001b[0;32mtry\u001b[0m\u001b[0;34m:\u001b[0m\u001b[0;34m\u001b[0m\u001b[0;34m\u001b[0m\u001b[0m\n\u001b[0;32m-> 1192\u001b[0;31m             return_values = super().compare_models(\n\u001b[0m\u001b[1;32m   1193\u001b[0m                 \u001b[0minclude\u001b[0m\u001b[0;34m=\u001b[0m\u001b[0minclude\u001b[0m\u001b[0;34m,\u001b[0m\u001b[0;34m\u001b[0m\u001b[0;34m\u001b[0m\u001b[0m\n\u001b[1;32m   1194\u001b[0m                 \u001b[0mexclude\u001b[0m\u001b[0;34m=\u001b[0m\u001b[0mexclude\u001b[0m\u001b[0;34m,\u001b[0m\u001b[0;34m\u001b[0m\u001b[0;34m\u001b[0m\u001b[0m\n",
            "\u001b[0;32m/usr/local/lib/python3.9/dist-packages/pycaret/internal/pycaret_experiment/supervised_experiment.py\u001b[0m in \u001b[0;36mcompare_models\u001b[0;34m(self, include, exclude, fold, round, cross_validation, sort, n_select, budget_time, turbo, errors, fit_kwargs, groups, experiment_custom_tags, probability_threshold, verbose, parallel, caller_params)\u001b[0m\n\u001b[1;32m    527\u001b[0m \u001b[0;34m\u001b[0m\u001b[0m\n\u001b[1;32m    528\u001b[0m         \"\"\"\n\u001b[0;32m--> 529\u001b[0;31m         \u001b[0mself\u001b[0m\u001b[0;34m.\u001b[0m\u001b[0m_check_setup_ran\u001b[0m\u001b[0;34m(\u001b[0m\u001b[0;34m)\u001b[0m\u001b[0;34m\u001b[0m\u001b[0;34m\u001b[0m\u001b[0m\n\u001b[0m\u001b[1;32m    530\u001b[0m \u001b[0;34m\u001b[0m\u001b[0m\n\u001b[1;32m    531\u001b[0m         \u001b[0;32mif\u001b[0m \u001b[0mparallel\u001b[0m \u001b[0;32mis\u001b[0m \u001b[0;32mnot\u001b[0m \u001b[0;32mNone\u001b[0m\u001b[0;34m:\u001b[0m\u001b[0;34m\u001b[0m\u001b[0;34m\u001b[0m\u001b[0m\n",
            "\u001b[0;32m/usr/local/lib/python3.9/dist-packages/pycaret/internal/pycaret_experiment/pycaret_experiment.py\u001b[0m in \u001b[0;36m_check_setup_ran\u001b[0;34m(self)\u001b[0m\n\u001b[1;32m    135\u001b[0m         \"\"\"\n\u001b[1;32m    136\u001b[0m         \u001b[0;32mif\u001b[0m \u001b[0;32mnot\u001b[0m \u001b[0mself\u001b[0m\u001b[0;34m.\u001b[0m\u001b[0m_setup_ran\u001b[0m\u001b[0;34m:\u001b[0m\u001b[0;34m\u001b[0m\u001b[0;34m\u001b[0m\u001b[0m\n\u001b[0;32m--> 137\u001b[0;31m             raise RuntimeError(\n\u001b[0m\u001b[1;32m    138\u001b[0m                 \u001b[0;34m\"This function/method requires the users to run setup() first.\"\u001b[0m\u001b[0;34m\u001b[0m\u001b[0;34m\u001b[0m\u001b[0m\n\u001b[1;32m    139\u001b[0m                 \u001b[0;34m\"\\nMore info: https://pycaret.gitbook.io/docs/get-started/quickstart\"\u001b[0m\u001b[0;34m\u001b[0m\u001b[0;34m\u001b[0m\u001b[0m\n",
            "\u001b[0;31mRuntimeError\u001b[0m: This function/method requires the users to run setup() first.\nMore info: https://pycaret.gitbook.io/docs/get-started/quickstart"
          ]
        }
      ],
      "source": [
        "# Komparasi model dengan akurasi terbaik\n",
        "\n",
        "compare_models(cross_validation=True, sort=\"Accuracy\")"
      ]
    },
    {
      "cell_type": "code",
      "execution_count": null,
      "metadata": {
        "colab": {
          "base_uri": "https://localhost:8080/",
          "height": 201
        },
        "id": "LAkPb98U6A1E",
        "outputId": "6b7b5341-cb68-413c-ebdf-dfa70928c4fb"
      },
      "outputs": [
        {
          "output_type": "error",
          "ename": "NameError",
          "evalue": "ignored",
          "traceback": [
            "\u001b[0;31m---------------------------------------------------------------------------\u001b[0m",
            "\u001b[0;31mNameError\u001b[0m                                 Traceback (most recent call last)",
            "\u001b[0;32m<ipython-input-29-96cd41c193fe>\u001b[0m in \u001b[0;36m<module>\u001b[0;34m\u001b[0m\n\u001b[1;32m      1\u001b[0m \u001b[0;31m# Membuat classifier model dengan Algoritma XGBoost\u001b[0m\u001b[0;34m\u001b[0m\u001b[0;34m\u001b[0m\u001b[0m\n\u001b[1;32m      2\u001b[0m \u001b[0;34m\u001b[0m\u001b[0m\n\u001b[0;32m----> 3\u001b[0;31m \u001b[0mxgboost_model\u001b[0m \u001b[0;34m=\u001b[0m \u001b[0mcreate_model\u001b[0m\u001b[0;34m(\u001b[0m\u001b[0;34m'xgboost'\u001b[0m\u001b[0;34m)\u001b[0m\u001b[0;34m\u001b[0m\u001b[0;34m\u001b[0m\u001b[0m\n\u001b[0m",
            "\u001b[0;31mNameError\u001b[0m: name 'create_model' is not defined"
          ]
        }
      ],
      "source": [
        "# Membuat classifier model dengan Algoritma XGBoost\n",
        "\n",
        "xgboost_model = create_model('xgboost')"
      ]
    },
    {
      "cell_type": "markdown",
      "metadata": {
        "id": "WVQMpMGeLoxb"
      },
      "source": [
        "Bisa dilihat bahwa rata-rata akurasi dengan XGBoost model ini mencapai 0.99 %"
      ]
    },
    {
      "cell_type": "code",
      "execution_count": null,
      "metadata": {
        "colab": {
          "base_uri": "https://localhost:8080/",
          "height": 201
        },
        "id": "OOZdJOZ86Ldv",
        "outputId": "057e99a6-5759-474e-f35f-fab21b04ef21"
      },
      "outputs": [
        {
          "output_type": "error",
          "ename": "NameError",
          "evalue": "ignored",
          "traceback": [
            "\u001b[0;31m---------------------------------------------------------------------------\u001b[0m",
            "\u001b[0;31mNameError\u001b[0m                                 Traceback (most recent call last)",
            "\u001b[0;32m<ipython-input-30-d9259a707085>\u001b[0m in \u001b[0;36m<module>\u001b[0;34m\u001b[0m\n\u001b[1;32m      1\u001b[0m \u001b[0;31m# Mengevaluasi Model\u001b[0m\u001b[0;34m\u001b[0m\u001b[0;34m\u001b[0m\u001b[0m\n\u001b[1;32m      2\u001b[0m \u001b[0;34m\u001b[0m\u001b[0m\n\u001b[0;32m----> 3\u001b[0;31m \u001b[0mevaluation_xgboost\u001b[0m \u001b[0;34m=\u001b[0m \u001b[0mevaluate_model\u001b[0m\u001b[0;34m(\u001b[0m\u001b[0mxgboost_model\u001b[0m\u001b[0;34m)\u001b[0m\u001b[0;34m\u001b[0m\u001b[0;34m\u001b[0m\u001b[0m\n\u001b[0m",
            "\u001b[0;31mNameError\u001b[0m: name 'evaluate_model' is not defined"
          ]
        }
      ],
      "source": [
        "# Mengevaluasi Model\n",
        "\n",
        "evaluation_xgboost = evaluate_model(xgboost_model)"
      ]
    },
    {
      "cell_type": "code",
      "execution_count": null,
      "metadata": {
        "colab": {
          "base_uri": "https://localhost:8080/",
          "height": 623,
          "referenced_widgets": [
            "1408c25cca534a8aa48bd552ef2885e8",
            "5ee6ccd740f64986b8f78d5690a1bbb4",
            "0f510aff27ee4b50bd8530b792a5d2fe"
          ]
        },
        "id": "Y7nZgq1V6Jzq",
        "outputId": "e2b23174-b990-4e6e-d756-28a51d10b1be"
      },
      "outputs": [
        {
          "data": {
            "text/html": [
              "\n",
              "  <div id=\"df-1a0dd0ce-f7ad-42f3-a1ad-4dc61ced5031\">\n",
              "    <div class=\"colab-df-container\">\n",
              "      <div>\n",
              "<style scoped>\n",
              "    .dataframe tbody tr th:only-of-type {\n",
              "        vertical-align: middle;\n",
              "    }\n",
              "\n",
              "    .dataframe tbody tr th {\n",
              "        vertical-align: top;\n",
              "    }\n",
              "\n",
              "    .dataframe thead th {\n",
              "        text-align: right;\n",
              "    }\n",
              "</style>\n",
              "<table border=\"1\" class=\"dataframe\">\n",
              "  <thead>\n",
              "    <tr style=\"text-align: right;\">\n",
              "      <th></th>\n",
              "      <th>Accuracy</th>\n",
              "      <th>AUC</th>\n",
              "      <th>Recall</th>\n",
              "      <th>Prec.</th>\n",
              "      <th>F1</th>\n",
              "      <th>Kappa</th>\n",
              "      <th>MCC</th>\n",
              "    </tr>\n",
              "    <tr>\n",
              "      <th>Fold</th>\n",
              "      <th></th>\n",
              "      <th></th>\n",
              "      <th></th>\n",
              "      <th></th>\n",
              "      <th></th>\n",
              "      <th></th>\n",
              "      <th></th>\n",
              "    </tr>\n",
              "  </thead>\n",
              "  <tbody>\n",
              "    <tr>\n",
              "      <th>0</th>\n",
              "      <td>0.9831</td>\n",
              "      <td>0.9902</td>\n",
              "      <td>0.9730</td>\n",
              "      <td>1.0000</td>\n",
              "      <td>0.9863</td>\n",
              "      <td>0.9641</td>\n",
              "      <td>0.9647</td>\n",
              "    </tr>\n",
              "    <tr>\n",
              "      <th>1</th>\n",
              "      <td>1.0000</td>\n",
              "      <td>1.0000</td>\n",
              "      <td>1.0000</td>\n",
              "      <td>1.0000</td>\n",
              "      <td>1.0000</td>\n",
              "      <td>1.0000</td>\n",
              "      <td>1.0000</td>\n",
              "    </tr>\n",
              "    <tr>\n",
              "      <th>2</th>\n",
              "      <td>1.0000</td>\n",
              "      <td>1.0000</td>\n",
              "      <td>1.0000</td>\n",
              "      <td>1.0000</td>\n",
              "      <td>1.0000</td>\n",
              "      <td>1.0000</td>\n",
              "      <td>1.0000</td>\n",
              "    </tr>\n",
              "    <tr>\n",
              "      <th>3</th>\n",
              "      <td>0.9831</td>\n",
              "      <td>0.9853</td>\n",
              "      <td>0.9730</td>\n",
              "      <td>1.0000</td>\n",
              "      <td>0.9863</td>\n",
              "      <td>0.9641</td>\n",
              "      <td>0.9647</td>\n",
              "    </tr>\n",
              "    <tr>\n",
              "      <th>4</th>\n",
              "      <td>0.9831</td>\n",
              "      <td>0.9791</td>\n",
              "      <td>0.9730</td>\n",
              "      <td>1.0000</td>\n",
              "      <td>0.9863</td>\n",
              "      <td>0.9641</td>\n",
              "      <td>0.9647</td>\n",
              "    </tr>\n",
              "    <tr>\n",
              "      <th>5</th>\n",
              "      <td>0.9831</td>\n",
              "      <td>0.9912</td>\n",
              "      <td>0.9737</td>\n",
              "      <td>1.0000</td>\n",
              "      <td>0.9867</td>\n",
              "      <td>0.9634</td>\n",
              "      <td>0.9641</td>\n",
              "    </tr>\n",
              "    <tr>\n",
              "      <th>6</th>\n",
              "      <td>0.9831</td>\n",
              "      <td>0.9925</td>\n",
              "      <td>0.9737</td>\n",
              "      <td>1.0000</td>\n",
              "      <td>0.9867</td>\n",
              "      <td>0.9634</td>\n",
              "      <td>0.9641</td>\n",
              "    </tr>\n",
              "    <tr>\n",
              "      <th>7</th>\n",
              "      <td>0.9828</td>\n",
              "      <td>1.0000</td>\n",
              "      <td>1.0000</td>\n",
              "      <td>0.9737</td>\n",
              "      <td>0.9867</td>\n",
              "      <td>0.9623</td>\n",
              "      <td>0.9630</td>\n",
              "    </tr>\n",
              "    <tr>\n",
              "      <th>8</th>\n",
              "      <td>0.9828</td>\n",
              "      <td>0.9923</td>\n",
              "      <td>0.9730</td>\n",
              "      <td>1.0000</td>\n",
              "      <td>0.9863</td>\n",
              "      <td>0.9631</td>\n",
              "      <td>0.9637</td>\n",
              "    </tr>\n",
              "    <tr>\n",
              "      <th>9</th>\n",
              "      <td>1.0000</td>\n",
              "      <td>1.0000</td>\n",
              "      <td>1.0000</td>\n",
              "      <td>1.0000</td>\n",
              "      <td>1.0000</td>\n",
              "      <td>1.0000</td>\n",
              "      <td>1.0000</td>\n",
              "    </tr>\n",
              "    <tr>\n",
              "      <th>Mean</th>\n",
              "      <td>0.9881</td>\n",
              "      <td>0.9931</td>\n",
              "      <td>0.9839</td>\n",
              "      <td>0.9974</td>\n",
              "      <td>0.9905</td>\n",
              "      <td>0.9744</td>\n",
              "      <td>0.9749</td>\n",
              "    </tr>\n",
              "    <tr>\n",
              "      <th>Std</th>\n",
              "      <td>0.0078</td>\n",
              "      <td>0.0068</td>\n",
              "      <td>0.0131</td>\n",
              "      <td>0.0079</td>\n",
              "      <td>0.0062</td>\n",
              "      <td>0.0167</td>\n",
              "      <td>0.0164</td>\n",
              "    </tr>\n",
              "  </tbody>\n",
              "</table>\n",
              "</div>\n",
              "      <button class=\"colab-df-convert\" onclick=\"convertToInteractive('df-1a0dd0ce-f7ad-42f3-a1ad-4dc61ced5031')\"\n",
              "              title=\"Convert this dataframe to an interactive table.\"\n",
              "              style=\"display:none;\">\n",
              "        \n",
              "  <svg xmlns=\"http://www.w3.org/2000/svg\" height=\"24px\"viewBox=\"0 0 24 24\"\n",
              "       width=\"24px\">\n",
              "    <path d=\"M0 0h24v24H0V0z\" fill=\"none\"/>\n",
              "    <path d=\"M18.56 5.44l.94 2.06.94-2.06 2.06-.94-2.06-.94-.94-2.06-.94 2.06-2.06.94zm-11 1L8.5 8.5l.94-2.06 2.06-.94-2.06-.94L8.5 2.5l-.94 2.06-2.06.94zm10 10l.94 2.06.94-2.06 2.06-.94-2.06-.94-.94-2.06-.94 2.06-2.06.94z\"/><path d=\"M17.41 7.96l-1.37-1.37c-.4-.4-.92-.59-1.43-.59-.52 0-1.04.2-1.43.59L10.3 9.45l-7.72 7.72c-.78.78-.78 2.05 0 2.83L4 21.41c.39.39.9.59 1.41.59.51 0 1.02-.2 1.41-.59l7.78-7.78 2.81-2.81c.8-.78.8-2.07 0-2.86zM5.41 20L4 18.59l7.72-7.72 1.47 1.35L5.41 20z\"/>\n",
              "  </svg>\n",
              "      </button>\n",
              "      \n",
              "  <style>\n",
              "    .colab-df-container {\n",
              "      display:flex;\n",
              "      flex-wrap:wrap;\n",
              "      gap: 12px;\n",
              "    }\n",
              "\n",
              "    .colab-df-convert {\n",
              "      background-color: #E8F0FE;\n",
              "      border: none;\n",
              "      border-radius: 50%;\n",
              "      cursor: pointer;\n",
              "      display: none;\n",
              "      fill: #1967D2;\n",
              "      height: 32px;\n",
              "      padding: 0 0 0 0;\n",
              "      width: 32px;\n",
              "    }\n",
              "\n",
              "    .colab-df-convert:hover {\n",
              "      background-color: #E2EBFA;\n",
              "      box-shadow: 0px 1px 2px rgba(60, 64, 67, 0.3), 0px 1px 3px 1px rgba(60, 64, 67, 0.15);\n",
              "      fill: #174EA6;\n",
              "    }\n",
              "\n",
              "    [theme=dark] .colab-df-convert {\n",
              "      background-color: #3B4455;\n",
              "      fill: #D2E3FC;\n",
              "    }\n",
              "\n",
              "    [theme=dark] .colab-df-convert:hover {\n",
              "      background-color: #434B5C;\n",
              "      box-shadow: 0px 1px 3px 1px rgba(0, 0, 0, 0.15);\n",
              "      filter: drop-shadow(0px 1px 2px rgba(0, 0, 0, 0.3));\n",
              "      fill: #FFFFFF;\n",
              "    }\n",
              "  </style>\n",
              "\n",
              "      <script>\n",
              "        const buttonEl =\n",
              "          document.querySelector('#df-1a0dd0ce-f7ad-42f3-a1ad-4dc61ced5031 button.colab-df-convert');\n",
              "        buttonEl.style.display =\n",
              "          google.colab.kernel.accessAllowed ? 'block' : 'none';\n",
              "\n",
              "        async function convertToInteractive(key) {\n",
              "          const element = document.querySelector('#df-1a0dd0ce-f7ad-42f3-a1ad-4dc61ced5031');\n",
              "          const dataTable =\n",
              "            await google.colab.kernel.invokeFunction('convertToInteractive',\n",
              "                                                     [key], {});\n",
              "          if (!dataTable) return;\n",
              "\n",
              "          const docLinkHtml = 'Like what you see? Visit the ' +\n",
              "            '<a target=\"_blank\" href=https://colab.research.google.com/notebooks/data_table.ipynb>data table notebook</a>'\n",
              "            + ' to learn more about interactive tables.';\n",
              "          element.innerHTML = '';\n",
              "          dataTable['output_type'] = 'display_data';\n",
              "          await google.colab.output.renderOutput(dataTable, element);\n",
              "          const docLink = document.createElement('div');\n",
              "          docLink.innerHTML = docLinkHtml;\n",
              "          element.appendChild(docLink);\n",
              "        }\n",
              "      </script>\n",
              "    </div>\n",
              "  </div>\n",
              "  "
            ],
            "text/plain": [
              "      Accuracy     AUC  Recall   Prec.      F1   Kappa     MCC\n",
              "Fold                                                          \n",
              "0       0.9831  0.9902  0.9730  1.0000  0.9863  0.9641  0.9647\n",
              "1       1.0000  1.0000  1.0000  1.0000  1.0000  1.0000  1.0000\n",
              "2       1.0000  1.0000  1.0000  1.0000  1.0000  1.0000  1.0000\n",
              "3       0.9831  0.9853  0.9730  1.0000  0.9863  0.9641  0.9647\n",
              "4       0.9831  0.9791  0.9730  1.0000  0.9863  0.9641  0.9647\n",
              "5       0.9831  0.9912  0.9737  1.0000  0.9867  0.9634  0.9641\n",
              "6       0.9831  0.9925  0.9737  1.0000  0.9867  0.9634  0.9641\n",
              "7       0.9828  1.0000  1.0000  0.9737  0.9867  0.9623  0.9630\n",
              "8       0.9828  0.9923  0.9730  1.0000  0.9863  0.9631  0.9637\n",
              "9       1.0000  1.0000  1.0000  1.0000  1.0000  1.0000  1.0000\n",
              "Mean    0.9881  0.9931  0.9839  0.9974  0.9905  0.9744  0.9749\n",
              "Std     0.0078  0.0068  0.0131  0.0079  0.0062  0.0167  0.0164"
            ]
          },
          "metadata": {},
          "output_type": "display_data"
        },
        {
          "name": "stderr",
          "output_type": "stream",
          "text": [
            "INFO:logs:create_model_container: 17\n",
            "INFO:logs:master_model_container: 17\n",
            "INFO:logs:display_container: 4\n",
            "INFO:logs:LogisticRegression(C=1.0, class_weight=None, dual=False, fit_intercept=True,\n",
            "                   intercept_scaling=1, l1_ratio=None, max_iter=1000,\n",
            "                   multi_class='auto', n_jobs=None, penalty='l2',\n",
            "                   random_state=4105, solver='lbfgs', tol=0.0001, verbose=0,\n",
            "                   warm_start=False)\n",
            "INFO:logs:create_model() succesfully completed......................................\n"
          ]
        }
      ],
      "source": [
        "lr_model = create_model('lr')"
      ]
    },
    {
      "cell_type": "code",
      "execution_count": null,
      "metadata": {
        "colab": {
          "base_uri": "https://localhost:8080/",
          "height": 537,
          "referenced_widgets": [
            "7224d834506a486c879f6a71e914d396",
            "446bb824546c4389ad3d2ce94bd1e5ec",
            "63d1214545794c6e9fa429975652ef81",
            "e496ab1e04274f08b70a4c8bd480a646",
            "7e7dac9cedef4f3686d97ac6b5c04db8",
            "917296dd3fb447ec89fa7d104500c1ed",
            "959bc6c9fedc4b739f394f91d47cd757",
            "8f7d4a51d8a64b63be99ec898fcf161b",
            "e398ece97eb748c8bbfa94b0f361649c",
            "5baa796675dd412bbcfff8d6dbdf90f6",
            "ce0892a51c9346f6847ad68414fde1df",
            "ef1e883de8244840bdd798c24e219cb7",
            "aa242d85c2644c53b0f70241be0f9df4"
          ]
        },
        "id": "j9A2v_3C6RYQ",
        "outputId": "03ec643e-57c8-4d3a-eee9-e5a22b781509"
      },
      "outputs": [
        {
          "name": "stderr",
          "output_type": "stream",
          "text": [
            "INFO:logs:Initializing evaluate_model()\n",
            "INFO:logs:evaluate_model(estimator=LogisticRegression(C=1.0, class_weight=None, dual=False, fit_intercept=True,\n",
            "                   intercept_scaling=1, l1_ratio=None, max_iter=1000,\n",
            "                   multi_class='auto', n_jobs=None, penalty='l2',\n",
            "                   random_state=4105, solver='lbfgs', tol=0.0001, verbose=0,\n",
            "                   warm_start=False), fold=None, fit_kwargs=None, plot_kwargs=None, feature_name=None, groups=None, use_train_data=False)\n"
          ]
        },
        {
          "data": {
            "application/vnd.jupyter.widget-view+json": {
              "model_id": "7224d834506a486c879f6a71e914d396",
              "version_major": 2,
              "version_minor": 0
            },
            "text/plain": [
              "interactive(children=(ToggleButtons(description='Plot Type:', icons=('',), options=(('Hyperparameters', 'param…"
            ]
          },
          "metadata": {},
          "output_type": "display_data"
        }
      ],
      "source": [
        "evaluation_lr = evaluate_model(lr_model)"
      ]
    },
    {
      "cell_type": "code",
      "execution_count": null,
      "metadata": {
        "colab": {
          "base_uri": "https://localhost:8080/",
          "height": 641,
          "referenced_widgets": [
            "133ae63d972c4b43a5bb9d0c9178b314",
            "9c8b986b946349d9b7d8cf08928bcd1a",
            "21a5ed99189a47df9983bbbee359de25"
          ]
        },
        "id": "Ry3tfnOZ6K1u",
        "outputId": "855b344e-dff1-4b95-bfab-7d5014c12629"
      },
      "outputs": [
        {
          "data": {
            "text/html": [
              "\n",
              "  <div id=\"df-31ab6db5-dac9-4ead-91ed-7cbdf2e2fc6c\">\n",
              "    <div class=\"colab-df-container\">\n",
              "      <div>\n",
              "<style scoped>\n",
              "    .dataframe tbody tr th:only-of-type {\n",
              "        vertical-align: middle;\n",
              "    }\n",
              "\n",
              "    .dataframe tbody tr th {\n",
              "        vertical-align: top;\n",
              "    }\n",
              "\n",
              "    .dataframe thead th {\n",
              "        text-align: right;\n",
              "    }\n",
              "</style>\n",
              "<table border=\"1\" class=\"dataframe\">\n",
              "  <thead>\n",
              "    <tr style=\"text-align: right;\">\n",
              "      <th></th>\n",
              "      <th>Accuracy</th>\n",
              "      <th>AUC</th>\n",
              "      <th>Recall</th>\n",
              "      <th>Prec.</th>\n",
              "      <th>F1</th>\n",
              "      <th>Kappa</th>\n",
              "      <th>MCC</th>\n",
              "    </tr>\n",
              "    <tr>\n",
              "      <th>Fold</th>\n",
              "      <th></th>\n",
              "      <th></th>\n",
              "      <th></th>\n",
              "      <th></th>\n",
              "      <th></th>\n",
              "      <th></th>\n",
              "      <th></th>\n",
              "    </tr>\n",
              "  </thead>\n",
              "  <tbody>\n",
              "    <tr>\n",
              "      <th>0</th>\n",
              "      <td>0.9831</td>\n",
              "      <td>0.9865</td>\n",
              "      <td>0.9730</td>\n",
              "      <td>1.0000</td>\n",
              "      <td>0.9863</td>\n",
              "      <td>0.9641</td>\n",
              "      <td>0.9647</td>\n",
              "    </tr>\n",
              "    <tr>\n",
              "      <th>1</th>\n",
              "      <td>0.9831</td>\n",
              "      <td>0.9773</td>\n",
              "      <td>1.0000</td>\n",
              "      <td>0.9737</td>\n",
              "      <td>0.9867</td>\n",
              "      <td>0.9634</td>\n",
              "      <td>0.9641</td>\n",
              "    </tr>\n",
              "    <tr>\n",
              "      <th>2</th>\n",
              "      <td>0.9661</td>\n",
              "      <td>0.9545</td>\n",
              "      <td>1.0000</td>\n",
              "      <td>0.9487</td>\n",
              "      <td>0.9737</td>\n",
              "      <td>0.9262</td>\n",
              "      <td>0.9287</td>\n",
              "    </tr>\n",
              "    <tr>\n",
              "      <th>3</th>\n",
              "      <td>0.9492</td>\n",
              "      <td>0.9410</td>\n",
              "      <td>0.9730</td>\n",
              "      <td>0.9474</td>\n",
              "      <td>0.9600</td>\n",
              "      <td>0.8903</td>\n",
              "      <td>0.8909</td>\n",
              "    </tr>\n",
              "    <tr>\n",
              "      <th>4</th>\n",
              "      <td>0.9831</td>\n",
              "      <td>0.9865</td>\n",
              "      <td>0.9730</td>\n",
              "      <td>1.0000</td>\n",
              "      <td>0.9863</td>\n",
              "      <td>0.9641</td>\n",
              "      <td>0.9647</td>\n",
              "    </tr>\n",
              "    <tr>\n",
              "      <th>5</th>\n",
              "      <td>0.9831</td>\n",
              "      <td>0.9868</td>\n",
              "      <td>0.9737</td>\n",
              "      <td>1.0000</td>\n",
              "      <td>0.9867</td>\n",
              "      <td>0.9634</td>\n",
              "      <td>0.9641</td>\n",
              "    </tr>\n",
              "    <tr>\n",
              "      <th>6</th>\n",
              "      <td>0.9492</td>\n",
              "      <td>0.9392</td>\n",
              "      <td>0.9737</td>\n",
              "      <td>0.9487</td>\n",
              "      <td>0.9610</td>\n",
              "      <td>0.8879</td>\n",
              "      <td>0.8885</td>\n",
              "    </tr>\n",
              "    <tr>\n",
              "      <th>7</th>\n",
              "      <td>0.9483</td>\n",
              "      <td>0.9286</td>\n",
              "      <td>1.0000</td>\n",
              "      <td>0.9250</td>\n",
              "      <td>0.9610</td>\n",
              "      <td>0.8845</td>\n",
              "      <td>0.8904</td>\n",
              "    </tr>\n",
              "    <tr>\n",
              "      <th>8</th>\n",
              "      <td>0.9828</td>\n",
              "      <td>0.9865</td>\n",
              "      <td>0.9730</td>\n",
              "      <td>1.0000</td>\n",
              "      <td>0.9863</td>\n",
              "      <td>0.9631</td>\n",
              "      <td>0.9637</td>\n",
              "    </tr>\n",
              "    <tr>\n",
              "      <th>9</th>\n",
              "      <td>1.0000</td>\n",
              "      <td>1.0000</td>\n",
              "      <td>1.0000</td>\n",
              "      <td>1.0000</td>\n",
              "      <td>1.0000</td>\n",
              "      <td>1.0000</td>\n",
              "      <td>1.0000</td>\n",
              "    </tr>\n",
              "    <tr>\n",
              "      <th>Mean</th>\n",
              "      <td>0.9728</td>\n",
              "      <td>0.9687</td>\n",
              "      <td>0.9839</td>\n",
              "      <td>0.9743</td>\n",
              "      <td>0.9788</td>\n",
              "      <td>0.9407</td>\n",
              "      <td>0.9420</td>\n",
              "    </tr>\n",
              "    <tr>\n",
              "      <th>Std</th>\n",
              "      <td>0.0174</td>\n",
              "      <td>0.0240</td>\n",
              "      <td>0.0131</td>\n",
              "      <td>0.0279</td>\n",
              "      <td>0.0132</td>\n",
              "      <td>0.0385</td>\n",
              "      <td>0.0376</td>\n",
              "    </tr>\n",
              "  </tbody>\n",
              "</table>\n",
              "</div>\n",
              "      <button class=\"colab-df-convert\" onclick=\"convertToInteractive('df-31ab6db5-dac9-4ead-91ed-7cbdf2e2fc6c')\"\n",
              "              title=\"Convert this dataframe to an interactive table.\"\n",
              "              style=\"display:none;\">\n",
              "        \n",
              "  <svg xmlns=\"http://www.w3.org/2000/svg\" height=\"24px\"viewBox=\"0 0 24 24\"\n",
              "       width=\"24px\">\n",
              "    <path d=\"M0 0h24v24H0V0z\" fill=\"none\"/>\n",
              "    <path d=\"M18.56 5.44l.94 2.06.94-2.06 2.06-.94-2.06-.94-.94-2.06-.94 2.06-2.06.94zm-11 1L8.5 8.5l.94-2.06 2.06-.94-2.06-.94L8.5 2.5l-.94 2.06-2.06.94zm10 10l.94 2.06.94-2.06 2.06-.94-2.06-.94-.94-2.06-.94 2.06-2.06.94z\"/><path d=\"M17.41 7.96l-1.37-1.37c-.4-.4-.92-.59-1.43-.59-.52 0-1.04.2-1.43.59L10.3 9.45l-7.72 7.72c-.78.78-.78 2.05 0 2.83L4 21.41c.39.39.9.59 1.41.59.51 0 1.02-.2 1.41-.59l7.78-7.78 2.81-2.81c.8-.78.8-2.07 0-2.86zM5.41 20L4 18.59l7.72-7.72 1.47 1.35L5.41 20z\"/>\n",
              "  </svg>\n",
              "      </button>\n",
              "      \n",
              "  <style>\n",
              "    .colab-df-container {\n",
              "      display:flex;\n",
              "      flex-wrap:wrap;\n",
              "      gap: 12px;\n",
              "    }\n",
              "\n",
              "    .colab-df-convert {\n",
              "      background-color: #E8F0FE;\n",
              "      border: none;\n",
              "      border-radius: 50%;\n",
              "      cursor: pointer;\n",
              "      display: none;\n",
              "      fill: #1967D2;\n",
              "      height: 32px;\n",
              "      padding: 0 0 0 0;\n",
              "      width: 32px;\n",
              "    }\n",
              "\n",
              "    .colab-df-convert:hover {\n",
              "      background-color: #E2EBFA;\n",
              "      box-shadow: 0px 1px 2px rgba(60, 64, 67, 0.3), 0px 1px 3px 1px rgba(60, 64, 67, 0.15);\n",
              "      fill: #174EA6;\n",
              "    }\n",
              "\n",
              "    [theme=dark] .colab-df-convert {\n",
              "      background-color: #3B4455;\n",
              "      fill: #D2E3FC;\n",
              "    }\n",
              "\n",
              "    [theme=dark] .colab-df-convert:hover {\n",
              "      background-color: #434B5C;\n",
              "      box-shadow: 0px 1px 3px 1px rgba(0, 0, 0, 0.15);\n",
              "      filter: drop-shadow(0px 1px 2px rgba(0, 0, 0, 0.3));\n",
              "      fill: #FFFFFF;\n",
              "    }\n",
              "  </style>\n",
              "\n",
              "      <script>\n",
              "        const buttonEl =\n",
              "          document.querySelector('#df-31ab6db5-dac9-4ead-91ed-7cbdf2e2fc6c button.colab-df-convert');\n",
              "        buttonEl.style.display =\n",
              "          google.colab.kernel.accessAllowed ? 'block' : 'none';\n",
              "\n",
              "        async function convertToInteractive(key) {\n",
              "          const element = document.querySelector('#df-31ab6db5-dac9-4ead-91ed-7cbdf2e2fc6c');\n",
              "          const dataTable =\n",
              "            await google.colab.kernel.invokeFunction('convertToInteractive',\n",
              "                                                     [key], {});\n",
              "          if (!dataTable) return;\n",
              "\n",
              "          const docLinkHtml = 'Like what you see? Visit the ' +\n",
              "            '<a target=\"_blank\" href=https://colab.research.google.com/notebooks/data_table.ipynb>data table notebook</a>'\n",
              "            + ' to learn more about interactive tables.';\n",
              "          element.innerHTML = '';\n",
              "          dataTable['output_type'] = 'display_data';\n",
              "          await google.colab.output.renderOutput(dataTable, element);\n",
              "          const docLink = document.createElement('div');\n",
              "          docLink.innerHTML = docLinkHtml;\n",
              "          element.appendChild(docLink);\n",
              "        }\n",
              "      </script>\n",
              "    </div>\n",
              "  </div>\n",
              "  "
            ],
            "text/plain": [
              "      Accuracy     AUC  Recall   Prec.      F1   Kappa     MCC\n",
              "Fold                                                          \n",
              "0       0.9831  0.9865  0.9730  1.0000  0.9863  0.9641  0.9647\n",
              "1       0.9831  0.9773  1.0000  0.9737  0.9867  0.9634  0.9641\n",
              "2       0.9661  0.9545  1.0000  0.9487  0.9737  0.9262  0.9287\n",
              "3       0.9492  0.9410  0.9730  0.9474  0.9600  0.8903  0.8909\n",
              "4       0.9831  0.9865  0.9730  1.0000  0.9863  0.9641  0.9647\n",
              "5       0.9831  0.9868  0.9737  1.0000  0.9867  0.9634  0.9641\n",
              "6       0.9492  0.9392  0.9737  0.9487  0.9610  0.8879  0.8885\n",
              "7       0.9483  0.9286  1.0000  0.9250  0.9610  0.8845  0.8904\n",
              "8       0.9828  0.9865  0.9730  1.0000  0.9863  0.9631  0.9637\n",
              "9       1.0000  1.0000  1.0000  1.0000  1.0000  1.0000  1.0000\n",
              "Mean    0.9728  0.9687  0.9839  0.9743  0.9788  0.9407  0.9420\n",
              "Std     0.0174  0.0240  0.0131  0.0279  0.0132  0.0385  0.0376"
            ]
          },
          "metadata": {},
          "output_type": "display_data"
        },
        {
          "name": "stderr",
          "output_type": "stream",
          "text": [
            "INFO:logs:create_model_container: 18\n",
            "INFO:logs:master_model_container: 18\n",
            "INFO:logs:display_container: 5\n",
            "INFO:logs:DecisionTreeClassifier(ccp_alpha=0.0, class_weight=None, criterion='gini',\n",
            "                       max_depth=None, max_features=None, max_leaf_nodes=None,\n",
            "                       min_impurity_decrease=0.0, min_impurity_split=None,\n",
            "                       min_samples_leaf=1, min_samples_split=2,\n",
            "                       min_weight_fraction_leaf=0.0, presort='deprecated',\n",
            "                       random_state=4105, splitter='best')\n",
            "INFO:logs:create_model() succesfully completed......................................\n"
          ]
        }
      ],
      "source": [
        "dt_model = create_model('dt')"
      ]
    },
    {
      "cell_type": "code",
      "execution_count": null,
      "metadata": {
        "colab": {
          "base_uri": "https://localhost:8080/",
          "height": 555,
          "referenced_widgets": [
            "273769f0f9b04078b64f248bec78de42",
            "ee5174e3817b4f049c40887230a530a0",
            "477f5ee6588d44d9a262953382e3f7e3",
            "22323777662e4fb59a1ec05ef167eec2",
            "f2feae45a44a4721ba76b3a392b9cbe7",
            "8e20d7d7c37d47a4859e82573b419f3f",
            "bd6ce77ba91f48bfb50a70394ae12990",
            "ee938752cb9249dda9cbdb39c6f10408",
            "9aa7d9339f7040318cbb0ed11f832512",
            "5622ec826287497697c10c8c0055ab06",
            "70d7a761320c4e54814003ab11697777",
            "0c6ba6c674184ff2af25963737e59ffc",
            "db4831cff0604ac2b06d240c9804e487"
          ]
        },
        "id": "x6Q_rPqT6eW7",
        "outputId": "02482f27-9523-42bf-be36-7ae1a606bdd0"
      },
      "outputs": [
        {
          "name": "stderr",
          "output_type": "stream",
          "text": [
            "INFO:logs:Initializing evaluate_model()\n",
            "INFO:logs:evaluate_model(estimator=DecisionTreeClassifier(ccp_alpha=0.0, class_weight=None, criterion='gini',\n",
            "                       max_depth=None, max_features=None, max_leaf_nodes=None,\n",
            "                       min_impurity_decrease=0.0, min_impurity_split=None,\n",
            "                       min_samples_leaf=1, min_samples_split=2,\n",
            "                       min_weight_fraction_leaf=0.0, presort='deprecated',\n",
            "                       random_state=4105, splitter='best'), fold=None, fit_kwargs=None, plot_kwargs=None, feature_name=None, groups=None, use_train_data=False)\n"
          ]
        },
        {
          "data": {
            "application/vnd.jupyter.widget-view+json": {
              "model_id": "273769f0f9b04078b64f248bec78de42",
              "version_major": 2,
              "version_minor": 0
            },
            "text/plain": [
              "interactive(children=(ToggleButtons(description='Plot Type:', icons=('',), options=(('Hyperparameters', 'param…"
            ]
          },
          "metadata": {},
          "output_type": "display_data"
        }
      ],
      "source": [
        "evaluation_dt = evaluate_model(dt_model)"
      ]
    },
    {
      "cell_type": "markdown",
      "metadata": {
        "id": "MKZyLkeTO5B_"
      },
      "source": [
        "## Test the Models"
      ]
    },
    {
      "cell_type": "code",
      "execution_count": null,
      "metadata": {
        "id": "iVHzcs1Stwzj",
        "colab": {
          "base_uri": "https://localhost:8080/",
          "height": 329
        },
        "outputId": "ee5daa07-0b9e-4b81-f745-bce1c20ca32b"
      },
      "outputs": [
        {
          "output_type": "error",
          "ename": "FileNotFoundError",
          "evalue": "ignored",
          "traceback": [
            "\u001b[0;31m---------------------------------------------------------------------------\u001b[0m",
            "\u001b[0;31mFileNotFoundError\u001b[0m                         Traceback (most recent call last)",
            "\u001b[0;32m<ipython-input-21-4eae8e965a9c>\u001b[0m in \u001b[0;36m<module>\u001b[0;34m\u001b[0m\n\u001b[0;32m----> 1\u001b[0;31m \u001b[0mtest\u001b[0m \u001b[0;34m=\u001b[0m \u001b[0mpd\u001b[0m\u001b[0;34m.\u001b[0m\u001b[0mread_csv\u001b[0m\u001b[0;34m(\u001b[0m\u001b[0;34m\"/content/test.csv\"\u001b[0m\u001b[0;34m)\u001b[0m\u001b[0;34m\u001b[0m\u001b[0;34m\u001b[0m\u001b[0m\n\u001b[0m",
            "\u001b[0;32m/usr/local/lib/python3.9/dist-packages/pandas/util/_decorators.py\u001b[0m in \u001b[0;36mwrapper\u001b[0;34m(*args, **kwargs)\u001b[0m\n\u001b[1;32m    309\u001b[0m                     \u001b[0mstacklevel\u001b[0m\u001b[0;34m=\u001b[0m\u001b[0mstacklevel\u001b[0m\u001b[0;34m,\u001b[0m\u001b[0;34m\u001b[0m\u001b[0;34m\u001b[0m\u001b[0m\n\u001b[1;32m    310\u001b[0m                 )\n\u001b[0;32m--> 311\u001b[0;31m             \u001b[0;32mreturn\u001b[0m \u001b[0mfunc\u001b[0m\u001b[0;34m(\u001b[0m\u001b[0;34m*\u001b[0m\u001b[0margs\u001b[0m\u001b[0;34m,\u001b[0m \u001b[0;34m**\u001b[0m\u001b[0mkwargs\u001b[0m\u001b[0;34m)\u001b[0m\u001b[0;34m\u001b[0m\u001b[0;34m\u001b[0m\u001b[0m\n\u001b[0m\u001b[1;32m    312\u001b[0m \u001b[0;34m\u001b[0m\u001b[0m\n\u001b[1;32m    313\u001b[0m         \u001b[0;32mreturn\u001b[0m \u001b[0mwrapper\u001b[0m\u001b[0;34m\u001b[0m\u001b[0;34m\u001b[0m\u001b[0m\n",
            "\u001b[0;32m/usr/local/lib/python3.9/dist-packages/pandas/io/parsers/readers.py\u001b[0m in \u001b[0;36mread_csv\u001b[0;34m(filepath_or_buffer, sep, delimiter, header, names, index_col, usecols, squeeze, prefix, mangle_dupe_cols, dtype, engine, converters, true_values, false_values, skipinitialspace, skiprows, skipfooter, nrows, na_values, keep_default_na, na_filter, verbose, skip_blank_lines, parse_dates, infer_datetime_format, keep_date_col, date_parser, dayfirst, cache_dates, iterator, chunksize, compression, thousands, decimal, lineterminator, quotechar, quoting, doublequote, escapechar, comment, encoding, encoding_errors, dialect, error_bad_lines, warn_bad_lines, on_bad_lines, delim_whitespace, low_memory, memory_map, float_precision, storage_options)\u001b[0m\n\u001b[1;32m    676\u001b[0m     \u001b[0mkwds\u001b[0m\u001b[0;34m.\u001b[0m\u001b[0mupdate\u001b[0m\u001b[0;34m(\u001b[0m\u001b[0mkwds_defaults\u001b[0m\u001b[0;34m)\u001b[0m\u001b[0;34m\u001b[0m\u001b[0;34m\u001b[0m\u001b[0m\n\u001b[1;32m    677\u001b[0m \u001b[0;34m\u001b[0m\u001b[0m\n\u001b[0;32m--> 678\u001b[0;31m     \u001b[0;32mreturn\u001b[0m \u001b[0m_read\u001b[0m\u001b[0;34m(\u001b[0m\u001b[0mfilepath_or_buffer\u001b[0m\u001b[0;34m,\u001b[0m \u001b[0mkwds\u001b[0m\u001b[0;34m)\u001b[0m\u001b[0;34m\u001b[0m\u001b[0;34m\u001b[0m\u001b[0m\n\u001b[0m\u001b[1;32m    679\u001b[0m \u001b[0;34m\u001b[0m\u001b[0m\n\u001b[1;32m    680\u001b[0m \u001b[0;34m\u001b[0m\u001b[0m\n",
            "\u001b[0;32m/usr/local/lib/python3.9/dist-packages/pandas/io/parsers/readers.py\u001b[0m in \u001b[0;36m_read\u001b[0;34m(filepath_or_buffer, kwds)\u001b[0m\n\u001b[1;32m    573\u001b[0m \u001b[0;34m\u001b[0m\u001b[0m\n\u001b[1;32m    574\u001b[0m     \u001b[0;31m# Create the parser.\u001b[0m\u001b[0;34m\u001b[0m\u001b[0;34m\u001b[0m\u001b[0m\n\u001b[0;32m--> 575\u001b[0;31m     \u001b[0mparser\u001b[0m \u001b[0;34m=\u001b[0m \u001b[0mTextFileReader\u001b[0m\u001b[0;34m(\u001b[0m\u001b[0mfilepath_or_buffer\u001b[0m\u001b[0;34m,\u001b[0m \u001b[0;34m**\u001b[0m\u001b[0mkwds\u001b[0m\u001b[0;34m)\u001b[0m\u001b[0;34m\u001b[0m\u001b[0;34m\u001b[0m\u001b[0m\n\u001b[0m\u001b[1;32m    576\u001b[0m \u001b[0;34m\u001b[0m\u001b[0m\n\u001b[1;32m    577\u001b[0m     \u001b[0;32mif\u001b[0m \u001b[0mchunksize\u001b[0m \u001b[0;32mor\u001b[0m \u001b[0miterator\u001b[0m\u001b[0;34m:\u001b[0m\u001b[0;34m\u001b[0m\u001b[0;34m\u001b[0m\u001b[0m\n",
            "\u001b[0;32m/usr/local/lib/python3.9/dist-packages/pandas/io/parsers/readers.py\u001b[0m in \u001b[0;36m__init__\u001b[0;34m(self, f, engine, **kwds)\u001b[0m\n\u001b[1;32m    930\u001b[0m \u001b[0;34m\u001b[0m\u001b[0m\n\u001b[1;32m    931\u001b[0m         \u001b[0mself\u001b[0m\u001b[0;34m.\u001b[0m\u001b[0mhandles\u001b[0m\u001b[0;34m:\u001b[0m \u001b[0mIOHandles\u001b[0m \u001b[0;34m|\u001b[0m \u001b[0;32mNone\u001b[0m \u001b[0;34m=\u001b[0m \u001b[0;32mNone\u001b[0m\u001b[0;34m\u001b[0m\u001b[0;34m\u001b[0m\u001b[0m\n\u001b[0;32m--> 932\u001b[0;31m         \u001b[0mself\u001b[0m\u001b[0;34m.\u001b[0m\u001b[0m_engine\u001b[0m \u001b[0;34m=\u001b[0m \u001b[0mself\u001b[0m\u001b[0;34m.\u001b[0m\u001b[0m_make_engine\u001b[0m\u001b[0;34m(\u001b[0m\u001b[0mf\u001b[0m\u001b[0;34m,\u001b[0m \u001b[0mself\u001b[0m\u001b[0;34m.\u001b[0m\u001b[0mengine\u001b[0m\u001b[0;34m)\u001b[0m\u001b[0;34m\u001b[0m\u001b[0;34m\u001b[0m\u001b[0m\n\u001b[0m\u001b[1;32m    933\u001b[0m \u001b[0;34m\u001b[0m\u001b[0m\n\u001b[1;32m    934\u001b[0m     \u001b[0;32mdef\u001b[0m \u001b[0mclose\u001b[0m\u001b[0;34m(\u001b[0m\u001b[0mself\u001b[0m\u001b[0;34m)\u001b[0m\u001b[0;34m:\u001b[0m\u001b[0;34m\u001b[0m\u001b[0;34m\u001b[0m\u001b[0m\n",
            "\u001b[0;32m/usr/local/lib/python3.9/dist-packages/pandas/io/parsers/readers.py\u001b[0m in \u001b[0;36m_make_engine\u001b[0;34m(self, f, engine)\u001b[0m\n\u001b[1;32m   1214\u001b[0m             \u001b[0;31m# \"Union[str, PathLike[str], ReadCsvBuffer[bytes], ReadCsvBuffer[str]]\"\u001b[0m\u001b[0;34m\u001b[0m\u001b[0;34m\u001b[0m\u001b[0m\n\u001b[1;32m   1215\u001b[0m             \u001b[0;31m# , \"str\", \"bool\", \"Any\", \"Any\", \"Any\", \"Any\", \"Any\"\u001b[0m\u001b[0;34m\u001b[0m\u001b[0;34m\u001b[0m\u001b[0m\n\u001b[0;32m-> 1216\u001b[0;31m             self.handles = get_handle(  # type: ignore[call-overload]\n\u001b[0m\u001b[1;32m   1217\u001b[0m                 \u001b[0mf\u001b[0m\u001b[0;34m,\u001b[0m\u001b[0;34m\u001b[0m\u001b[0;34m\u001b[0m\u001b[0m\n\u001b[1;32m   1218\u001b[0m                 \u001b[0mmode\u001b[0m\u001b[0;34m,\u001b[0m\u001b[0;34m\u001b[0m\u001b[0;34m\u001b[0m\u001b[0m\n",
            "\u001b[0;32m/usr/local/lib/python3.9/dist-packages/pandas/io/common.py\u001b[0m in \u001b[0;36mget_handle\u001b[0;34m(path_or_buf, mode, encoding, compression, memory_map, is_text, errors, storage_options)\u001b[0m\n\u001b[1;32m    784\u001b[0m         \u001b[0;32mif\u001b[0m \u001b[0mioargs\u001b[0m\u001b[0;34m.\u001b[0m\u001b[0mencoding\u001b[0m \u001b[0;32mand\u001b[0m \u001b[0;34m\"b\"\u001b[0m \u001b[0;32mnot\u001b[0m \u001b[0;32min\u001b[0m \u001b[0mioargs\u001b[0m\u001b[0;34m.\u001b[0m\u001b[0mmode\u001b[0m\u001b[0;34m:\u001b[0m\u001b[0;34m\u001b[0m\u001b[0;34m\u001b[0m\u001b[0m\n\u001b[1;32m    785\u001b[0m             \u001b[0;31m# Encoding\u001b[0m\u001b[0;34m\u001b[0m\u001b[0;34m\u001b[0m\u001b[0m\n\u001b[0;32m--> 786\u001b[0;31m             handle = open(\n\u001b[0m\u001b[1;32m    787\u001b[0m                 \u001b[0mhandle\u001b[0m\u001b[0;34m,\u001b[0m\u001b[0;34m\u001b[0m\u001b[0;34m\u001b[0m\u001b[0m\n\u001b[1;32m    788\u001b[0m                 \u001b[0mioargs\u001b[0m\u001b[0;34m.\u001b[0m\u001b[0mmode\u001b[0m\u001b[0;34m,\u001b[0m\u001b[0;34m\u001b[0m\u001b[0;34m\u001b[0m\u001b[0m\n",
            "\u001b[0;31mFileNotFoundError\u001b[0m: [Errno 2] No such file or directory: '/content/test.csv'"
          ]
        }
      ],
      "source": [
        "test = pd.read_csv(\"/content/test.csv\")"
      ]
    },
    {
      "cell_type": "code",
      "execution_count": null,
      "metadata": {
        "colab": {
          "base_uri": "https://localhost:8080/",
          "height": 166
        },
        "id": "DFtyZ7OUM7n7",
        "outputId": "80c78fd1-605c-40bd-d5dd-69de4a34dfe6"
      },
      "outputs": [
        {
          "output_type": "error",
          "ename": "NameError",
          "evalue": "ignored",
          "traceback": [
            "\u001b[0;31m---------------------------------------------------------------------------\u001b[0m",
            "\u001b[0;31mNameError\u001b[0m                                 Traceback (most recent call last)",
            "\u001b[0;32m<ipython-input-22-4b2ad620f0a0>\u001b[0m in \u001b[0;36m<module>\u001b[0;34m\u001b[0m\n\u001b[0;32m----> 1\u001b[0;31m \u001b[0mpredict_model\u001b[0m\u001b[0;34m(\u001b[0m\u001b[0mxgboost_model\u001b[0m\u001b[0;34m,\u001b[0m \u001b[0mtest\u001b[0m\u001b[0;34m.\u001b[0m\u001b[0mtail\u001b[0m\u001b[0;34m(\u001b[0m\u001b[0;34m)\u001b[0m\u001b[0;34m)\u001b[0m\u001b[0;34m\u001b[0m\u001b[0;34m\u001b[0m\u001b[0m\n\u001b[0m",
            "\u001b[0;31mNameError\u001b[0m: name 'xgboost_model' is not defined"
          ]
        }
      ],
      "source": [
        "predict_model(xgboost_model, test.tail())"
      ]
    },
    {
      "cell_type": "markdown",
      "metadata": {
        "id": "XbgHIqF8WJre"
      },
      "source": [
        "bisa dilihat bahwa model berhasil memprediksi semua data dengan benar pada testing data yang kita gunakan"
      ]
    },
    {
      "cell_type": "markdown",
      "metadata": {
        "id": "wBZ3J8UVO8Nw"
      },
      "source": [
        "## Save the Models"
      ]
    },
    {
      "cell_type": "code",
      "execution_count": null,
      "metadata": {
        "colab": {
          "base_uri": "https://localhost:8080/"
        },
        "id": "uIwwuKA5NnyJ",
        "outputId": "832def23-e010-4822-e01a-e6c200d4aeb7"
      },
      "outputs": [
        {
          "name": "stderr",
          "output_type": "stream",
          "text": [
            "INFO:logs:Initializing save_model()\n",
            "INFO:logs:save_model(model=XGBClassifier(base_score=None, booster='gbtree', callbacks=None,\n",
            "              colsample_bylevel=None, colsample_bynode=None,\n",
            "              colsample_bytree=None, early_stopping_rounds=None,\n",
            "              enable_categorical=False, eval_metric=None, feature_types=None,\n",
            "              gamma=None, gpu_id=None, grow_policy=None, importance_type=None,\n",
            "              interaction_constraints=None, learning_rate=None, max_bin=None,\n",
            "              max_cat_threshold=None, max_cat_to_onehot=None,\n",
            "              max_delta_step=None, max_depth=None, max_leaves=None,\n",
            "              min_child_weight=None, missing=nan, monotone_constraints=None,\n",
            "              n_estimators=100, n_jobs=-1, num_parallel_tree=None,\n",
            "              objective='binary:logistic', predictor=None, ...), model_name=ridge-model, prep_pipe_=Pipeline(memory=None,\n",
            "         steps=[('dtypes',\n",
            "                 DataTypes_Auto_infer(categorical_features=['funding_rounds',\n",
            "                                                            'milestones',\n",
            "                                                            'category_code',\n",
            "                                                            'has_VC',\n",
            "                                                            'has_angel',\n",
            "                                                            'has_roundA',\n",
            "                                                            'has_roundB',\n",
            "                                                            'has_roundC',\n",
            "                                                            'has_roundD',\n",
            "                                                            'city', 'is_CA',\n",
            "                                                            'is_NY', 'is_MA',\n",
            "                                                            'is_TX',\n",
            "                                                            'is_otherstate',\n",
            "                                                            'is_software',\n",
            "                                                            'is_web',\n",
            "                                                            'is_mobile',\n",
            "                                                            'is_enterprise',\n",
            "                                                            'is_advertising',\n",
            "                                                            'is_gamesvideo',\n",
            "                                                            'is_ecommer...\n",
            "                                                  random_state_quantile=4105,\n",
            "                                                  target='status')),\n",
            "                ('binn', 'passthrough'), ('rem_outliers', 'passthrough'),\n",
            "                ('cluster_all', 'passthrough'),\n",
            "                ('dummy', Dummify(target='status')),\n",
            "                ('fix_perfect', Remove_100(target='status')),\n",
            "                ('clean_names', Clean_Colum_Names()),\n",
            "                ('feature_select', 'passthrough'), ('fix_multi', 'passthrough'),\n",
            "                ('dfs', 'passthrough'), ('pca', 'passthrough')],\n",
            "         verbose=False), verbose=True, kwargs={})\n",
            "INFO:logs:Adding model into prep_pipe\n",
            "INFO:logs:ridge-model.pkl saved in current working directory\n",
            "INFO:logs:Pipeline(memory=None,\n",
            "         steps=[('dtypes',\n",
            "                 DataTypes_Auto_infer(categorical_features=['funding_rounds',\n",
            "                                                            'milestones',\n",
            "                                                            'category_code',\n",
            "                                                            'has_VC',\n",
            "                                                            'has_angel',\n",
            "                                                            'has_roundA',\n",
            "                                                            'has_roundB',\n",
            "                                                            'has_roundC',\n",
            "                                                            'has_roundD',\n",
            "                                                            'city', 'is_CA',\n",
            "                                                            'is_NY', 'is_MA',\n",
            "                                                            'is_TX',\n",
            "                                                            'is_otherstate',\n",
            "                                                            'is_software',\n",
            "                                                            'is_web',\n",
            "                                                            'is_mobile',\n",
            "                                                            'is_enterprise',\n",
            "                                                            'is_advertising',\n",
            "                                                            'is_gamesvideo',\n",
            "                                                            'is_ecommer...\n",
            "                               grow_policy=None, importance_type=None,\n",
            "                               interaction_constraints=None, learning_rate=None,\n",
            "                               max_bin=None, max_cat_threshold=None,\n",
            "                               max_cat_to_onehot=None, max_delta_step=None,\n",
            "                               max_depth=None, max_leaves=None,\n",
            "                               min_child_weight=None, missing=nan,\n",
            "                               monotone_constraints=None, n_estimators=100,\n",
            "                               n_jobs=-1, num_parallel_tree=None,\n",
            "                               objective='binary:logistic', predictor=None, ...)]],\n",
            "         verbose=False)\n",
            "INFO:logs:save_model() successfully completed......................................\n"
          ]
        },
        {
          "name": "stdout",
          "output_type": "stream",
          "text": [
            "Transformation Pipeline and Model Successfully Saved\n"
          ]
        },
        {
          "data": {
            "text/plain": [
              "(Pipeline(memory=None,\n",
              "          steps=[('dtypes',\n",
              "                  DataTypes_Auto_infer(categorical_features=['funding_rounds',\n",
              "                                                             'milestones',\n",
              "                                                             'category_code',\n",
              "                                                             'has_VC',\n",
              "                                                             'has_angel',\n",
              "                                                             'has_roundA',\n",
              "                                                             'has_roundB',\n",
              "                                                             'has_roundC',\n",
              "                                                             'has_roundD',\n",
              "                                                             'city', 'is_CA',\n",
              "                                                             'is_NY', 'is_MA',\n",
              "                                                             'is_TX',\n",
              "                                                             'is_otherstate',\n",
              "                                                             'is_software',\n",
              "                                                             'is_web',\n",
              "                                                             'is_mobile',\n",
              "                                                             'is_enterprise',\n",
              "                                                             'is_advertising',\n",
              "                                                             'is_gamesvideo',\n",
              "                                                             'is_ecommer...\n",
              "                                grow_policy=None, importance_type=None,\n",
              "                                interaction_constraints=None, learning_rate=None,\n",
              "                                max_bin=None, max_cat_threshold=None,\n",
              "                                max_cat_to_onehot=None, max_delta_step=None,\n",
              "                                max_depth=None, max_leaves=None,\n",
              "                                min_child_weight=None, missing=nan,\n",
              "                                monotone_constraints=None, n_estimators=100,\n",
              "                                n_jobs=-1, num_parallel_tree=None,\n",
              "                                objective='binary:logistic', predictor=None, ...)]],\n",
              "          verbose=False), 'ridge-model.pkl')"
            ]
          },
          "execution_count": 40,
          "metadata": {},
          "output_type": "execute_result"
        }
      ],
      "source": [
        "save_model(xgboost_model, model_name='ridge-model')"
      ]
    }
  ],
  "metadata": {
    "colab": {
      "collapsed_sections": [
        "MKZyLkeTO5B_",
        "wBZ3J8UVO8Nw"
      ],
      "provenance": [],
      "include_colab_link": true
    },
    "kernelspec": {
      "display_name": "Python 3",
      "name": "python3"
    },
    "language_info": {
      "name": "python"
    },
    "widgets": {
      "application/vnd.jupyter.widget-state+json": {
        "0c6ba6c674184ff2af25963737e59ffc": {
          "model_module": "@jupyter-widgets/base",
          "model_module_version": "1.2.0",
          "model_name": "LayoutModel",
          "state": {
            "_model_module": "@jupyter-widgets/base",
            "_model_module_version": "1.2.0",
            "_model_name": "LayoutModel",
            "_view_count": null,
            "_view_module": "@jupyter-widgets/base",
            "_view_module_version": "1.2.0",
            "_view_name": "LayoutView",
            "align_content": null,
            "align_items": null,
            "align_self": null,
            "border": null,
            "bottom": null,
            "display": null,
            "flex": null,
            "flex_flow": null,
            "grid_area": null,
            "grid_auto_columns": null,
            "grid_auto_flow": null,
            "grid_auto_rows": null,
            "grid_column": null,
            "grid_gap": null,
            "grid_row": null,
            "grid_template_areas": null,
            "grid_template_columns": null,
            "grid_template_rows": null,
            "height": null,
            "justify_content": null,
            "justify_items": null,
            "left": null,
            "margin": null,
            "max_height": null,
            "max_width": null,
            "min_height": null,
            "min_width": null,
            "object_fit": null,
            "object_position": null,
            "order": null,
            "overflow": null,
            "overflow_x": null,
            "overflow_y": null,
            "padding": null,
            "right": null,
            "top": null,
            "visibility": null,
            "width": null
          }
        },
        "0f510aff27ee4b50bd8530b792a5d2fe": {
          "model_module": "@jupyter-widgets/controls",
          "model_module_version": "1.5.0",
          "model_name": "ProgressStyleModel",
          "state": {
            "_model_module": "@jupyter-widgets/controls",
            "_model_module_version": "1.5.0",
            "_model_name": "ProgressStyleModel",
            "_view_count": null,
            "_view_module": "@jupyter-widgets/base",
            "_view_module_version": "1.2.0",
            "_view_name": "StyleView",
            "bar_color": null,
            "description_width": ""
          }
        },
        "133ae63d972c4b43a5bb9d0c9178b314": {
          "model_module": "@jupyter-widgets/controls",
          "model_module_version": "1.5.0",
          "model_name": "IntProgressModel",
          "state": {
            "_dom_classes": [],
            "_model_module": "@jupyter-widgets/controls",
            "_model_module_version": "1.5.0",
            "_model_name": "IntProgressModel",
            "_view_count": null,
            "_view_module": "@jupyter-widgets/controls",
            "_view_module_version": "1.5.0",
            "_view_name": "ProgressView",
            "bar_style": "",
            "description": "Processing: ",
            "description_tooltip": null,
            "layout": "IPY_MODEL_9c8b986b946349d9b7d8cf08928bcd1a",
            "max": 4,
            "min": 0,
            "orientation": "horizontal",
            "style": "IPY_MODEL_21a5ed99189a47df9983bbbee359de25",
            "value": 4
          }
        },
        "1408c25cca534a8aa48bd552ef2885e8": {
          "model_module": "@jupyter-widgets/controls",
          "model_module_version": "1.5.0",
          "model_name": "IntProgressModel",
          "state": {
            "_dom_classes": [],
            "_model_module": "@jupyter-widgets/controls",
            "_model_module_version": "1.5.0",
            "_model_name": "IntProgressModel",
            "_view_count": null,
            "_view_module": "@jupyter-widgets/controls",
            "_view_module_version": "1.5.0",
            "_view_name": "ProgressView",
            "bar_style": "",
            "description": "Processing: ",
            "description_tooltip": null,
            "layout": "IPY_MODEL_5ee6ccd740f64986b8f78d5690a1bbb4",
            "max": 4,
            "min": 0,
            "orientation": "horizontal",
            "style": "IPY_MODEL_0f510aff27ee4b50bd8530b792a5d2fe",
            "value": 4
          }
        },
        "21a5ed99189a47df9983bbbee359de25": {
          "model_module": "@jupyter-widgets/controls",
          "model_module_version": "1.5.0",
          "model_name": "ProgressStyleModel",
          "state": {
            "_model_module": "@jupyter-widgets/controls",
            "_model_module_version": "1.5.0",
            "_model_name": "ProgressStyleModel",
            "_view_count": null,
            "_view_module": "@jupyter-widgets/base",
            "_view_module_version": "1.2.0",
            "_view_name": "StyleView",
            "bar_color": null,
            "description_width": ""
          }
        },
        "22323777662e4fb59a1ec05ef167eec2": {
          "model_module": "@jupyter-widgets/base",
          "model_module_version": "1.2.0",
          "model_name": "LayoutModel",
          "state": {
            "_model_module": "@jupyter-widgets/base",
            "_model_module_version": "1.2.0",
            "_model_name": "LayoutModel",
            "_view_count": null,
            "_view_module": "@jupyter-widgets/base",
            "_view_module_version": "1.2.0",
            "_view_name": "LayoutView",
            "align_content": null,
            "align_items": null,
            "align_self": null,
            "border": null,
            "bottom": null,
            "display": null,
            "flex": null,
            "flex_flow": null,
            "grid_area": null,
            "grid_auto_columns": null,
            "grid_auto_flow": null,
            "grid_auto_rows": null,
            "grid_column": null,
            "grid_gap": null,
            "grid_row": null,
            "grid_template_areas": null,
            "grid_template_columns": null,
            "grid_template_rows": null,
            "height": null,
            "justify_content": null,
            "justify_items": null,
            "left": null,
            "margin": null,
            "max_height": null,
            "max_width": null,
            "min_height": null,
            "min_width": null,
            "object_fit": null,
            "object_position": null,
            "order": null,
            "overflow": null,
            "overflow_x": null,
            "overflow_y": null,
            "padding": null,
            "right": null,
            "top": null,
            "visibility": null,
            "width": null
          }
        },
        "273769f0f9b04078b64f248bec78de42": {
          "model_module": "@jupyter-widgets/controls",
          "model_module_version": "1.5.0",
          "model_name": "VBoxModel",
          "state": {
            "_dom_classes": [
              "widget-interact"
            ],
            "_model_module": "@jupyter-widgets/controls",
            "_model_module_version": "1.5.0",
            "_model_name": "VBoxModel",
            "_view_count": null,
            "_view_module": "@jupyter-widgets/controls",
            "_view_module_version": "1.5.0",
            "_view_name": "VBoxView",
            "box_style": "",
            "children": [
              "IPY_MODEL_ee5174e3817b4f049c40887230a530a0",
              "IPY_MODEL_477f5ee6588d44d9a262953382e3f7e3"
            ],
            "layout": "IPY_MODEL_22323777662e4fb59a1ec05ef167eec2"
          }
        },
        "446bb824546c4389ad3d2ce94bd1e5ec": {
          "model_module": "@jupyter-widgets/controls",
          "model_module_version": "1.5.0",
          "model_name": "ToggleButtonsModel",
          "state": {
            "_dom_classes": [],
            "_model_module": "@jupyter-widgets/controls",
            "_model_module_version": "1.5.0",
            "_model_name": "ToggleButtonsModel",
            "_options_labels": [
              "Hyperparameters",
              "AUC",
              "Confusion Matrix",
              "Threshold",
              "Precision Recall",
              "Prediction Error",
              "Class Report",
              "Feature Selection",
              "Learning Curve",
              "Manifold Learning",
              "Calibration Curve",
              "Validation Curve",
              "Dimensions",
              "Feature Importance",
              "Feature Importance (All)",
              "Decision Boundary",
              "Lift Chart",
              "Gain Chart",
              "Decision Tree",
              "KS Statistic Plot"
            ],
            "_view_count": null,
            "_view_module": "@jupyter-widgets/controls",
            "_view_module_version": "1.5.0",
            "_view_name": "ToggleButtonsView",
            "button_style": "",
            "description": "Plot Type:",
            "description_tooltip": null,
            "disabled": false,
            "icons": [
              ""
            ],
            "index": 1,
            "layout": "IPY_MODEL_7e7dac9cedef4f3686d97ac6b5c04db8",
            "style": "IPY_MODEL_917296dd3fb447ec89fa7d104500c1ed",
            "tooltips": []
          }
        },
        "477f5ee6588d44d9a262953382e3f7e3": {
          "model_module": "@jupyter-widgets/output",
          "model_module_version": "1.0.0",
          "model_name": "OutputModel",
          "state": {
            "_dom_classes": [],
            "_model_module": "@jupyter-widgets/output",
            "_model_module_version": "1.0.0",
            "_model_name": "OutputModel",
            "_view_count": null,
            "_view_module": "@jupyter-widgets/output",
            "_view_module_version": "1.0.0",
            "_view_name": "OutputView",
            "layout": "IPY_MODEL_bd6ce77ba91f48bfb50a70394ae12990",
            "msg_id": "",
            "outputs": [
              {
                "data": {
                  "image/png": "iVBORw0KGgoAAAANSUhEUgAAAYkAAAEZCAYAAABiu9n+AAAAOXRFWHRTb2Z0d2FyZQBNYXRwbG90bGliIHZlcnNpb24zLjUuMywgaHR0cHM6Ly9tYXRwbG90bGliLm9yZy/NK7nSAAAACXBIWXMAAAsTAAALEwEAmpwYAABhYUlEQVR4nO2dd3gVRdfAf3tLGiG00EKXsi+IUhUQEBWBV1FQwREVRbChIiAKoqJgQUCkgwpIEUVxlA+xCwKC8qJSBBVhpXekJ5SU274/dnNJzw0mubnJ/J4nT+6dnZ09O3d3zpwzM2c0n8+HQqFQKBRZYQu2AAqFQqEouigloVAoFIpsUUpCoVAoFNmilIRCoVAoskUpCYVCoVBki1ISCoVCocgWR7AFUCjyiq7rHwG3Aq8ahjEu2PIEiq7rScDdhmEsySXfCOB2wzBaFI5kwUPX9flArGEYtxTwdQzgbcMwJuu6HgksBdoBDwI3ABUMw7ijIGUIVTS1TqLg0HV9L1AN8KRJPgmsBp4zDGNfmrzlgWeB24AaQAqwCZiWsVHRdd0BDATuA+oDLsAAZhqGMS8XmdoDw4BrgEjgCPAFZoN78hJvtdDQdb0JsBloZxjG2nwqcxTwEmadY/3/C5DAdMMwUrI5tchjNY61rK92zI5hcposnQ3DWFNA164NjAD+C1QATgNrgNGGYfxh5ZlPISiJDHJ1B/4PqG0YxoHCum6ootxNBc9zhmFEpP4BrYEY4Ctd1+0Auq5XAtYDlwM9gWhM5fIuMEfX9ddSC9N13YbZC3oIeAooC9QEpgKTdF0fn50guq7fAywDvgfqWnIIoBnwq67rMfl43wVFWeu/kc/l/pXmN6oLvAL0BX6wep4hiWEYepr7eg7Yl/Z5LEAF0QjYCPiAtkAUZsfkNPCzrutXFcR1A6QskKgURGAod1MhYxjGAV3XnwG2ATpmj3UspjVwm2EYbivreeBDXdfPA5/pui4Nw/gd03roBPzHMIzdVt6zVt4zQAdd122GYXjTXtdSAG9h9uKmpDm0Udf1rsA0oDrwl67rPuBOwzA+tc5tianE6hiGsdeykOYAdwN7MHuJaw3DeDrN9e4HpgBVMBuK0UAP6/vfwHDDML618l4FTAKuALzA/4D+GV9iXddvBRZbXw/quv6aYRiv6breB3gGs3E/DrwDjDUMw2dZCddhKpXeQH3DMA5n8/MAYBjGceBrXdd/BrYCTwOvWTK0wfy9mgBuzB7pU4ZhnLeOdwDeBBphWmmjU627tPWa0z1bMvc0DKOxdd7VwAQrrwf4HBhkGEaCruvXYSr+G4AZmJblX0AfwzC25nSfaep1L2l+T8Mwuuq6XhWz49Ees9PyEzDAMIyd1jk5Hrdk+c0wjIfTXGov8Jiu6/GYz0FWsjwGDMbsJJ0EZhiG8YZ1LBLzOb0FKI357L1sGMYn1vGngSessk8Cc4FR1nOwF5gOJGHWu8Ny/z0MdCSNNWM9Zy8CDYFzwALgecMwPLquPwCMwuzAPYtpia0LpJ5DFWVJBIew1A+WZdAD063kzpjRMIylwE7gLivpTmBpGgWRNu/XhmE8m1FBWHTGtBymZDxgGMY5wzD6GobxVx7uoY8l0y3AR8DtGY7fCXxqGEYypoK4EfNlLIP5on+m63qclXchsApT2dTCfMHfzELOL6z7AKhuKYj/YiqFZ6z7uw+zx3xfmlOvwGxQymA23AFhGMYpzIamF/gbxm+BT4CKQHNMZTHWOl4N+BKYCZQDHgHe0XX9miyKD+iedV2PBVYAX2M2fi2t605Ok82J6X7sDMRhKp1XA71Pi7S/J5jWaiJmR6YqcABTIZLbcV3XK2Iq5klZXcgwjOHWb5kOq56mYyq4aOAeYLSu6x2tLE8BV2P+nqUxXVnzdF2vYJ07GnMsJwrTxdUPuDnDtadjKobzliX1fgYZmmK6GcdhWhwdMa37wWmylcf83WKBn7O6x+KEsiQKGctPOwHYgGlNVMJs3HJyn/yF2UMEs7e8OIe82VEXOGwYxtlLODcrVqXxK0tgoq7rzQzD+M2yWjoB/7WU4MPAI4Zh7LHOnaPr+uOYjcCbmC/jeUtJJui6/kA2ii4rHgUWG4bxnfV9ja7rn2I27AustHBgYlZKOAC2YTZOYPa0D1kNDcB+yxX4IfAkpuvumGEY71rHV+q63gPTuslIWQK753sxXTTjrON7dF2fAMzQdf2hNPmmGIbxD4Cu619asuaFtL9nc+Aq4FbDMOKttGeAU5ZV6c3luN0qM68uwXWYA8hnAAzDWKvr+h7rWisw68wFXLDq4jNd12MMw/Dqul4W02JNsM7dqut6rTw8R6n0s+oi9R37S9f1yZjP2QQrrTTwptUBKvYoJVHwjEkzpmADNGAepvnqs1wQqceyw4b5YqZizy5jLlzqeVmR2uBjGMYRXddXA3cAv2HOPDqOOUhZCbMH/76u6wvSnG/DdLGAOZA+3TLllwOfYg7uB8JlwMcZ0nZi+sFTOfwvBp8dXJx40ADQLTdFujxW77kuaeoFwDCML7MpN9B7vgzYnqGx24np4qmcIS2VC5iTEvJCWrkbWP/36bqeNo8XqM3FdiO746luwrw+bzbgOV3Xe2E+Nxqm1R1hHZ8BdAUO6br+PaZV9yHm/a4AvgEMXdd/xKzT94FDeZShAXBjht9Yw3RTpZJiGEZeyw1ZlJIoeJ4zDONNMFsXYAvwuWEYJ6zjxzFdDQ0xfctZ0RDzgQezd3b5JchhAFV0Xa9wCbOYsnrZMza6izBN8hcxXU0fWT28ROv4fw3DWJWlYIYxX9f1zzBdHbcA3+m6PtkwjOEByBaeTXraaXv/ZnZSS0xrAkz3yk+GYXTIKqOu614CdOHm4Z6zuz9If4+ebHMFRto6SsRs8EsZhpGpXGt2UE7Hy1myXU7erIkXMScL3A78bI0BpNY9hmHs03X9CsxxkK6YM9KG6bre0jCMBOAOa8C8G6YLd4Su69cZhrEhDzIkAgsNw+iTQx5XHsoLedSYRCFiGIaB6SueZb1IGIbhw2xgB+m6HpbxHGtQuQ6m3x/MXnNXXdevzCJvR13XN2czG2c5cArI1PDquh6p6/oGXddT/f1JmLNRUqkbwO19CtTTdb0F0AXT547ljjgONM1wzdq6rmvW51jDMM4YhvGBYRi9gMetv0DYhemjTktjYEeA52eLrus1Md0PH1hJO4DLdV13pslTJvW3tGRpkHpf1vG7dV1Pa9Wkpgd6z7uARpbbLpXGmG6VY//i9nJiB2bb4H/GdF3XLFdprscNwziN+bw9m7Yu0uSdr5trQTLSGvjGMIy1loIoj/nsp55XCgg3DGO1YRjDMJVQHGbP36HrelnDMP4yDGMs5tjFRuD+S7j3phnkrWhdu0SiLInC5w1M3/UULj7AL2EOOq6xfPWbMd0F3TAHeYcbhvG3lXcRpr95ua7r/YGvME3y2628ow3DSO29+zEM47w1c2Sh9eKOw1QazTAHGL3Aj6nZgdt0Xf8Yc1DykdxuyjCMU7quL8ccY9hlGMaWNIdnAEN1XV9j3dtNmMquva7rx4Dduq7fDXxm3UtTzBlQgTAXc2bXjcAPmAOmd5B3n7wfSwlch/kbrcWcFQama2M0MFY3ZyBFYM5y8WGub/kQeB0Youv6dKCFdfy/GcqvTuD3vAh4GbPBnYA5yP00MN+y1C71NrPFMIy/dF3/AXNK9T2Yz8kwzJlJdQI4noQ5kL4W+FbX9ScxG99awPOYg8lZWWN7gNbWmFZ5zHdlH+ZMJzAHxo/puj4QOIP57IZZZQ8Feum6frs1qaMWpgL5JI+3Pwt4Stf1IcDbmBMUJOYA9eA8llUsUJZEIWMYhgtzjcM9uq53s9JOYfaifsJ8IM9j+lIfBO43DGN8mvN9mKb0m5iNxxnMF6kf0Dtt3iyuLTFna6S6ARIwe8nfA9elUS6DMadwnsZszMcEeHsfYTauCzOkj7GOfWVd8zXrvjYZhnEQcwB7pHXsIKblcm8gF7QGGJ/BnI55GlPhPWTksqo5Cxrpup5k+aITgInAfODm1AFva0D1FqANZi/+T8z672cdP445FfU+K30e5rTQH9Nch7zcs2FOA74Vs8NwAvgOc+LC0DzeX17pjekG3Q4cBa4FulgKINfjltXcEnM22SrMcYM1mG3OVYZhbCMzr2NOOT2C+ay8gzlYfI+lIB/CHN/agznt+y3M3/oPzN9rDbDWcnGuxqynt/Ny09YU3h6Ys71OY46b/YI53bVEolZcKxQKhSJblCWhUCgUimwplDEJIURjzMU3k6SU0zMcuxHTzPQAX0sp87oISKFQKBQFRIFbEkKIUpgDqiuyyTIV0wfYFugshGhU0DIpFAqFIjAKw92UjDmbIVO8HCHEZcApKeUBKaUXM/RAx4z5FAqFQhEcCtzdJKV0A24hRFaHq5A+ZMExcp+Tr0baFQqF4tLItG4lN4raOomAbuDw4YtGSbLby7kUD14f+Hzgw2f9B68PvF4vHsDrBa/Xh9tnHrdpGjabmed8igeP14fHh1WOF4/Xh92mEek0FxufTfZwNtmDy+vF5wO3zywPH8SWchLmsHEhxcPhsym4PD48Ph8+wOP14fVChSg7FUqF4fH62H0qifMuL16vDy8+U04fRIfZqB4Thh04mJDMP+fc+Hw+fD4fXp+ZL8wONaMdRDo0LuDk7+PncHnNe8K6bx8+qkXaKB8GF9xe9pyDZK95DfOoWVfRDh81I8xzdydqXPBomLPdNKscCNN8VHa6CdPghMvGaY9pfKZqah+mOVrW5iHS5uWCV+O014HP+inTavQwvERrHjw+SMCBN4ufWwPCfB58aKRkNHS1PD/fikJG83mx+7x4NQ2vlnVUDofHRSlPEh5snHNGZZnH5vNSNekkGnAkojyeLMqy+7xUTzpBhNfFsbAynHFeXO+m+cvxUc11mlj3Oc7YozgQVg6PZrv45PnMJ7WS5xx13adJwc62sIokaQ5/ntQnORoXLTzHsAN/2ctzQotAS3MtDYjUPFzBGcppLg4RxQ5fND40M59m5nFoPhraz1PdkcxZr4M/PdEk+cxn3aZZsXs0qOFwcXlkMl40fk+K4IzXgc0qw66BhkY5p5crS7mJcGjsTXJwINmGzaZh83nZtfl/1G92DaXD7dQrBXfekbpWNm8EW0kcJn3I4Gpk4ZbKDrnsNxYej+ASlGNIY5xOjVOXac2cn2NJ2cU1u1hXZz0aRzKFKEtfl8k+jbPJYWg+r9nga5k9lB7gjMtDoteNW7PjcWTtxXR7fTiTE7BjwxtRNnOjbynWKueP4fS6ORBViWR7eLrjpoQ+ap47SjnXWY6Fl+NoZAV8GcrSfD6qJp6k9vkjnHdEsj2mJi5b6kJpn/8uY9wXuCp+J+BjfZl6nHdEpbmOea1Ir4urzu+htDeFvyMqsju8kl+O1EYizOfmyuSjVPcmcMwezZawKqRoDn8em5W/gfc0jb2nSNIc/GqrQoItzF+GDR+aDSqQwrUcw27T2Owty0Etyh/0y6aZf6U1Dy2cCZS1ezniCWOrx2yMbBpEhIfhTkkhzAaXhycTF+bmnNeB4Qrngs+GQ7M6SRo4NI1qEV4ui/Ti0zT2JTlI8Nqw2cBhs2G3OlOlHTZqltJw2m2c9WicdoPdpuGwazg0G3a7HaddIybcjtNuw6NppHhBs9mw2ezY7Jr12YZms5nPkaZB6meblu6/lk8dgri4uHSdylClUwB50m7QMXfuXFZ8NIMrKjvp89BD2Z4TCEFVElLKvUKIGCFEbcwFRbcQ4CIqgPW7T0DpGv7eQGq/tVxyAs1PGaTYnGyo8B+SrIYmbZ5wj4vrjm4kzOdiU7n/cCSqQpoegZknzOPi6pN/UTXpJHtLVeX3svXwaHb/cQ0fdp+Pxmf3cvn5A5xxRLOunM55e4T/eGoDEZdymhvOGvjQWF26Pv+ElUHDd/Hlx0cZbxI3JO6iNC4MR0U2h1c1Gw7tYiMT6fPQ2nOU6lwgPrIsa91lScFu5tHMIEs2G1xOPP/RzpKi2dlMWU4T4W9g7PiwaxrlbS5ahZ9F0zT2eCM55I3ApmlmI4LZgEQ5fDQIS6GUE8757Ox1haNZDYzdZsOmadhtEBuuEeMAj6YR70nBq9nN69ls2Oyp+WxEOsuDpuFBw6vZzMZD09A0G5rdbnW3GliNh2Y1JFa6vyGxgVY9zWeNqnHVOPLPP+nyBd7QXB1AnpYBlhU43QLI0yaAPFdixkFJJbuGMVMclyyonHsWIjGj7+WEg+D3QEsaXq8Xm83soPXs2ZN9+/bRvXv3f11ugS+mE0K0wFw1WRszMNYhzE1T9kgplwghrsUMEQGwWEqZKaZ+BnypL8CHr03j4zqdaFQaXm/qvNgrSdtDyaqhyTbfxUYnv3s0BUFx6SXlB6ouLqLq4iIlpS527NjBCy+8wNNPP02rVq2yzBMXFwdFcUxCSrkRM1RDdsfXEFiHKRPtjm/m4zqdqFapDFrNqpcooUKhUIQ2ycnJGIbBL7/8kq2SuFRC1iL0eT24Lf+4w1Z0e/sKhUJREPz222/UqFGD2NhYGjduzBdffEHNmjXz/TqhG5bD4+W9Ol0BOHGhRIV3VygUJZyNGzdy//33M2bMxdibBaEgIIQtCTxu9pY2XUzJbrV0QqFQFH98Ph+aptGsWTO6d+/OHXfcUeDXDF0l4fXgsdxNTrtyNykUiuJLQkICb7zxBrquc99992Gz2XjttddyPzEfCGF3k8e/WCfcHrq3oVAoFLnhdrv54YcfWLZsGV5vdmugCobQtSQ8Fy2JsLxut65QKBRFnBMnTnDmzBnq1atH+fLlmT9/PrVq1fKvhSgsQldJeD14LUMoPJsVvgqFQhGKxMfHc9ttt1G+fHk+/fRTwsLCqFevXlBkCV0l4fEQ4zrPCUcYUU6lJBQKRfGhTJky3HHHHcTFxeFwBLeZDt3W1ePh/j1fA1A5OizIwigUCsWl4/V6WbhwYbrB6CFDhtCrV69Cdy9lJKSVhNsauLarxXQKhSKE8Xq9LF26lG+++YYTJ04EW5x0hK67yethRZUWwZZCoVAoLgmXy8XOnTtp2LAhDoeD8ePHU6pUKWJjY4MtWjpC2JJws7WsOZCjlkkoFIpQwufz8cgjj9C3b1+OHj0KQK1atYqcgoAQtiR8bo9/P4Jwh9ISCoUidNA0ja5du1K9enUiIyODLU6OhKwl4fV4/J+dajGdQqEo4mzcuJGnn34at9vcNKxnz568+uqrlClTJsiS5UzItq7uNErCUYT3fFAoFAqA//u//2PZsmVs2LAh2KLkiZBVEp60SkINSigUiiLIrl27/J+HDRvGBx98QOvWrYMoUd4JXSXhVpaEQqEousyYMYPu3bv7LYcyZcrQpEmTIEuVd0JWSUTjocvBnwBlSSgUiqJH+/btueKKK4iJiQm2KP+KkFUSmtdDmM+MhmhXloRCoQgyx48f54UXXuDkyZMAXHnllXz44Yc0aNAgyJL9O0JWSSS7PRyOrACAiu+nUCiCzbJly1i6dCmffPKJP00rBh3YkF0n8U+Sj42xlwNqj2uFQhEcjhw5QuXKlbHZbPTq1YvY2Fg6deoUbLHylZDtg6ek2bJUKQmFQlHYrFmzhm7durFo0SIA7HY7Xbp0CXpAvvwmZO8mxXNxdyYV4E+hUBQ2jRo1onLlypQvXz7YohQoIetucnmVJaFQKAoPl8vF3Llzueaaa7jiiiuIjY1l6dKl2O3Fe2vMkLUkXB6lJBQKReHx559/Mm3aNKZPn+5PK+4KAkLYkkhOY0mo0E0KhaIgSEpKwuPxUKpUKZo1a8aYMWPo0KFDsMUqVEK2ea1vO09s4ikAnMqSUCgU+czBgwe54447GDdunD/t1ltvDfnFcXklZJVERZKpnHwaUAPXCoUi/6lcuTLR0dGULl0an8+X+wnFlJB1N6VuX2rDh60YLFhRKBTBZ/Xq1SQlJdGlSxecTicLFy7E6XQGW6ygErJK4rukchgxtVDqQaFQ5Afx8fEMGzaM8PBwrrvuOsLDw0u8goAQVhLnvDbQNKUkFArFJePz+Th37hylS5emTJkyjB49mlq1ahEeHh5s0YoMIaskXJaLUCkJhUJxKbhcLoYMGcLx48dZuHAhdrudG2+8MdhiFTlCduDaZS24VsMRCoXiUnA6nURFRREZGcnZs2eDLU6RJWQtCbf1X01sUigUgbJ//37WrVvHXXfdBcCoUaMIDw8vdvGW8pOQVRIuL2ALYVNIoVAUKj6fj2eeeYZt27bRokUL6tWrR2RkZLDFKvIUipIQQkwCWgM+YJCUcn2aY08AvQEPsEFKOTiQMi/zxqPhJdyp1IRCociepKQkIiIi0DSN559/niNHjlC3bt1gixUyFHgLK4ToANSXUrYBHgSmpjkWAwwF2ksp2wGNhBAB7RJ+o/sAkd5kykUU/9gpCoXi0pgyZQpdu3blzJkzADRt2pSbbrqpWGwGVFgURje8I/AZgJRyG1DOUg4AKdZftBDCAUQBpwIq1VpMp4L7KRSK7Egdazh48GCQJQldCsPdVAXYmOb7cSstQUqZJIR4GdgNJAKLpJR/51ZgXFwcM8Prk2JzkuSzERcXVyCChwIl+d4zouriIiW1Li5cuMDChQt58MEHsdlsPPbYY/Tp06fExVvKT4IxcO3v+lsWxfNAAyABWCmEaCKl3JJTAYcPH2aLtzQ4NBJT3Bw+fLhgJS6ixMXFldh7z4iqi4uU5Lp47bXXWLRoEW63m+7duxMXF8e5c+c4d+5csEULOpfacSgMJXEY03JIJQ44Yn1uCOyWUp4AEEL8CLQAclQSAC6faUaq4H4KRcnG5XL5w2c88sgjlC5dms6dOwdZquJDYYxJLAN6AgghmgOHpZSpK1f2Ag2FEKnz0FoCOwIp1G0NPKkxCYWi5LJ27Vpuvvlmtm3bBkClSpUYNGiQmtqajxS4kpBS/g/YKIT4H+bMpieEEA8IIW6XUv4DjAdWCSF+An6TUv4YSLluy5KwKSWhUJRYNE3jxIkTbN++PdiiFFsKZUxCSjk8Q9KWNMdmAjPzWmaqJeFUKyUVihKDz+fj22+/pV27dpQuXZprrrmGZcuWUbFixWCLVmwJ2RY2wusCwOlQloRCUVL46quvGDp0KNOmTfOnKQVRsISsknj8+GoAqseokL4KRXHG6/X6d4br0qULQgjuu+++IEtVcghZJeGxQoU7QvYOFApFbhw8eJB+/frxxRdfAGbk1pdeeokaNWoEWbKSQ8g2sesiawHg9pTcvWcViuKOpmls3bqV9evX555ZUSCEbBTYZWUaA3AhdWMJhUJRLNi+fTvh4eHUqVOHatWq8X//939Ur1492GKVWELWkvBas5vC7GrgWqEoLuzZs4devXoxYsQI/zhEjRo1VEC+IBKyloSX1Cmw6uFRKEIdn8+HpmnUqVOHu+++m2uuuUYphiJCyCoJD6mWRMgaQwpFiScxMZGpU6dit9t55plnAHj22WeDLJUiLSHbwno1U/QwtU5CoQhZNE1j9erVrFmzhuTk5GCLo8iCkLUkfH5LIsiCKBSKPJGQkMC+ffu44ooriIiI4O2336Zy5cqEh6s1T0WRkLUkehz8AYDS4SGr5xSKEofL5UIIwZNPPkl8fDwAtWrVIiIiIsiSKbIjZFvYisnmA6bGJBSK0MHpdNKrVy9SUlKIiooKtjiKAAhISQghbgbuAKKklPcIIToDP0kpLxSodDlwxmb2PNQMWIWi6OLz+fjiiy9YvXo1b775Jpqm8cADDwRbLEUeyLUbLoR4DngF+ANoZSVfxSVEbs0vfD4fC+rebH5R0+QUiiLNd999x5o1a9i9e3ewRVFcAoH4ah4G2ksppwApVtrrmBsEBQePxz9wHa5MCYWiSOH1evnjjz8Ac/bSyJEj+eyzz6hbt26QJVNcCoEoCZf1B5AaKCm4LbPX4xfBqZSEQlGkeO6557jvvvswDAMwd4urVq1akKVSXCqBjEl8B3wthHgLiLTGJx620oOD96IlobYvVSiKFrfccgvJycmUL18+2KIo8oFALIlngB+B5zDdTUOB1VZ6cPB48Fm6QSkJhSK4bN++nYEDB3L+/HkA2rdvz+TJk9VmQMWEQCyJ7lLKV4FX0yYKIQYDkwtAptzxePwflZJQKILL8uXLWblyJStXruTWW28NtjiKfCZbJSGEqA7UAt4QQhwk/ThEWcwZT5MLUrhs8Xiofe4Ie0pXw66UhEJR6OzcuZO6deuiaRqPPvoorVq14uqrrw62WIoCICd3UyNgBFAN+BBYmOZvMjC9oIXLFq+HJqd3AMqSUCgKm48//pjbb7+db775BoCwsDClIIox2VoSUsplwDIhxCtSypcyHhdC1ClQyXLC48atmUGblJJQKAqXNm3a0LBhQ+Li4oItiqIQyHVMQkr5khCiGlCHi5ZHNDAb08oofDxevq3WGlArrhWKgiY+Pp6JEyfywAMPUKdOHWrWrMnHH3+s9nsoIeSqJIQQTwFjgKNAFeAEEEUQV1x73C7cNicADqUlFIoCZf369SxevBibzcbIkSMBlIIoQQQyBXYA0FBKWRvYI6WsDjwF7C9IwXLCk3Z2k3pYFYp858SJEyQlJQFw4403MnHiRJ5//vkgS6UIBoEoiRQp5Z60+aWU7wGPFphUueBxe/2flSWhUOQvv//+O926dePtt9/2p3Xu3Bmn0xlEqRTBIpB1EnuFENOBQcABIcQjwCYgtkAlywGP+2JYDmVJKBT5S7169ahataoamFYAgVkSfQCvlNIDPA88DSwDxhakYDnhVovpFIp8w+v1snDhQtasWQNAVFQUn3zyCXfddVeQJVMUBQKZ3XQMGGh9/hXQC1qo3NA8HhxecNscajGdQvEvOXjwIG+++SZ16tShffv2aJqGzaY281KY5KgkhBAPAk2BtVLKRWnSLwPGSSnvLFjxsqaMzUOjM/v4vXwDZUkoFJeAy+Xi/PnzlC1blpo1a/LGG2/QrFkzNWtJkYmcwnK8AbQHVgEvCSHKAYuAkcCDwNxCkTArPB48ttTFdEGTQqEISc6cOcNDDz1E+fLlmTlzJpqm0alTp2CLpSii5NTEdgc6SSmfBzoBLwEGEAM0llIOKgT5suSfJC+7o6uh4VM9H4Uij5QpU4bY2FiqVKlCSkpK7icoSjQ5uZt8UspzAFLKQ0KIFOC/UspthSNa9hxL8pHoiODiHkgKhSInNm7cyO7du7nzzjvRNI1p06apKa2KgMhJSXgzfD9fFBQEQLLbVA7KhlAociclJYVhw4Zx5swZOnbsSPny5ZWCUARMIOsk/jVCiElAa8yu/yAp5fo0x2oAHwFhwCYpZf/cynN5lZJQKHIjISGBmJgYwsLCGD16NJGRkWq3OEWeyUlJ/MdyMfnzpvmuYbqjwnK7gBCiA1BfStlGCNEQc8C7TZosE4AJUsolQogZQoiaUsocQ36keLx+IRQKRXp8Ph8jRoxgw4YN/N///R9RUVG0bt062GIpQpSclER+hQLvCHwGIKXcJoQoJ4SIkVImCCFsmDOo7raOPxFIgS7LEaaUhEKRGU3TqFChAjExMZw5c4aoqKhgi6QIYXLaT2JfPl2jCrAxzffjVloCUBE4C0wSQjQHfpRSPpdbgeHh4eDzYbNR4kMHlPT7T0tJroujR4/yySef8OSTTwLw2muvYbfbcTgKxaNcpCnJz0V+EIwnSMvwuRowBdgLfCWE6Cql/CqnAtr5jjDLXY2ypSI4fPhwwUlaxImLiyvR95+Wkl4XAwYM4IcffiAuLo4ePXpw8uTJYItUJCjpz0VaLlVZFoaSOIxpOaQSBxyxPp8A9kkpdwEIIVYAlwM5Kgk8HjyaDbtaSKcowSQmJhIZGQnAM888Q/v27WnVqlWQpVIUNwqjmV0G9ASwXEqHpZRnAaSUbmC3EKK+lbcF5oK9HDmcYiNZc+JRyyQUJZRPP/2Uzp07s3+/Ocejdu3a3HXXXSrmkiLfCWRnunDgNeAOwCGlrCWEGAoslVL+ndv5Usr/CSE2CiH+h7n24gkhxANAvJRyCTAYmG8NYv8BfJFbmauSyuKxOzjlzriUQ6EoGURFReHz+Th06BA1a9YMtjiKYkwg7qa5QDzQA/jYSvsbc/vS6wO5iJRyeIakLWmO7QTaBVJOKimWblB9JkVJweVyIaWkZ8+ehIeHc9NNN9GuXTtiYmKCLZqimBNIO9tGSvm4lHIz4AGQUi4FKhWkYDmR4jP9TDYVt0lRQpg3bx5jxoxh/vz5gDnNVSkIRWEQiJJIFkJUTpsghIgliIGTXD5TOdiVklAUY1wul//zvffeS79+/bj77ruDKJGiJBKIkpgEbBZCTAZirRDiPwMTC1KwnEjxWkpC+ZsUxZQ//viD2267zb9bXKlSpRgyZIiyHhSFTq7NrJRyFnAnkAwsAc4Dd0opg7afhNv6r/YbUhRXwsLCOHLkCDt27Ai2KIoSTiCzmz7EHLB+UUpZJILPd/IdYp1WiRpRSksoig+rV69G13WqVKmCrussW7aM2NjYYIulKOEE4rD5BXgKOCqEeF8IcasQIqhxhqt6zgMQE65CDiiKB7/88gtPPPEEr7/+uj9NKQhFUSAQd9MUKeV1QANgJfAQsE8IMb9gRcsetxUq3GFXloQidPH5fHi95nzuq6++mvvuu88fe0mhKCoEPPQrpTwBLAe+w1zncHNBCZUbb9kbAbDvnFpMpwhNTpw4wcCBA5kzZw5gTml99tlnqV+/fi5nKhSFSyBjEs2Abph7Xsdhhv2eiGlVBIUUS7epCASKUMXpdPLHH3/gdrvx+dRe7YqiSyBO/a+A/wOeBlZLKYPeffdYgWQdSksoQoj9+/eTkJBA48aNKVOmDB988AHVqlVTCkJRpMlWSQghKkopjwOtsFZaA1WEEP48UsqgxOB1W4vpnEpJKEKE06dP07NnTypUqMBnn31GeHg41atXD7ZYCkWu5GRJrAYaAfswV1dn7O74AHsByZUjqZZEmBq4VhRxUl1J5cqV48EHH6RmzZqEheW6669CUWTIaWe6RtbHcCmlK+NxIUSNApMqF/zuJoeyJBRFE5fLxaxZszh48CBjxowB4NFHHw2yVApF3gmkld2SMcEK670xi7yFQv2UEwCUi1TrJBRFE5vNxrp16/j11185depUsMVRKC6ZnMYkHgKGATWFEBn3jYjG3Ks6KFyTuIe1UXWoEhMeLBEUikwkJiby119/0aJFC+x2O+PHj6d06dJER0cHWzSF4pLJyd30rhDiS2At8HCGwy7g94IULCdS9xpSUWAVRQWfz0e/fv3YuXMnS5YsoXr16lStWjXYYikU/5rcZjcdFUK0zyZLDHCuYMTKmSUxVwBwLsWdS06FonDQNI3evXtjGIYKp6EoVuQ0JrHa+n8QOGD9T/t3oGBFy57jjtIA+HzKklAEj1WrVvHII4/4933o2rUrQ4YMISIiIsiSKRT5R66zm6SURW4KkU9NgVUUAdasWcP69evZsmULLVu2DLY4CkWBEEhYjoZAVynlm0KIy4F3MNdIDLS2NC10vJaSiFRTYBWFiM/nY8uWLTRt2hSAp59+mt69e1O3bt3gCqZQFCCBtLLzgD3W57eAb4HXrc9BIXXf1HCHsiQUhceECRPo3bs369atAyA6OlopCEWxJxAlUUZKuVgIUQloAoyTUn4LlC5Y0bLHa81qCleWhKIQ6dq1K23btlXhNBQlikBaWZ8QIgroBSyTUrqtTYeCtkgh0mNukKeUhKIg2bdvH08++STHjh0DoGHDhsycOZMaNYIWbEChKHQCaWXfwpzN9BIw2kpbiLnfdVDodOI3ACKUklAUIL/88gurVq3iyy+/DLYoCkXQyHXgWko53dqFLklKmbow4RUp5Z8FKlkOeKypr3abGpNQ5C+7du2iVq1aOBwOevbsSY0aNWjdunWwxVIogkauXXEhhIa56dC7QoivhRDzgP8UuGQ5sDnmMgCcSkko8pHly5fTo0cP3n//fcCMv9SmTRu134OiRBOIv2Y8MAjYBHyEGfDvOSHEyIIULCf2laoMKEtCkb+0bNkSXddp0KBBsEVRKIoMgYRRvQloIaVMSk0QQswGfgVeLijBAsGhlITiX3DhwgWmTp1K586dad68OeXKlWPRokXKclAo0hCIkrADyRnSEgnMCikQfP7tS4MlgaI4sGPHDhYuXMjBgwdp3rw5gFIQCkUGAlESq4DPhRCzgNNABeBBYGVBChYIypJQ5JX4+HgAypQpQ5MmTZg2bZoamFYociCQvvhgzHDhQ4HZwFPAGmBIwYkVGGpMQpEX9u3bR/fu3Xn99df9adddd50KyKdQ5EAgU2CTgbHWX5HCoVwDijxQvXp1ateuTb169fx7TysUipzJaT+JCsB0oBPmmMRiYFjaAexg0fj0Lv4sXw+HigKryAGfz8fnn3+Oz+fjtttuw263M3fuXGw2NZilUARKTm/LNOAk0B64GXOToXGFIVRu2DC3plM70yly4syZM4wbN44pU6aQkmKGclEKQqHIGzm5m1pIKfXUL0KIRzDXSgSdM05zz2A1u0mREa/Xy6lTp4iNjaVcuXKMHz+e2rVrExYWFmzRFIqQJCcl4U37RUqZIoSwX8pFhBCTgNaYUb4HSSnXZ5FnDNBGSnldbuXtLx0HyqesyEBKSgoPP/ww58+f56OPPsLpdNK2bdtgi6VQhDQ59cV9AabliBCiA1BfStkGc+rs1CzyNAKuzWvZCkVawsLCqFWrFjVr1iQxMTHY4igUxYKcLImaQohlOaVJKTsHcI2OwGdW/m1CiHJCiBgpZUKaPBOAF4BRAUmtUFhs27aNdevWMWLECABefPFFnE5nkKVSKIoPOSmJJ7JIW3gJ16gCbEzz/biVlgAghHgAWA3szUuhmgZxcXGXIE7xoiTXgc/n495772XLli0IIVTMpTSU5OciI6ou/h3ZKgkp5XsFdE3/QIIQojzQF7gRqJbXgg4fPpyPYoUecXFxJbIO4uPjKVOmDAAvvPACp0+fpkGDBiWyLrKipD4XWaHq4iKXqiwLY37QYUzLIZU44Ij1+QagIvAj5iZGza1B7lxRQ9Ylk0mTJtG1a1dOnDgBQKNGjdTgtEJRgAQSu+nfsgwzWuxMIURz4LCU8iyAlPJT4FMAIURtYL6U8qncCgxzJxPhUGqiJFK5cmXKlSvH6dOniY2NDbY4CkWxp8AtCSnl/4CNQoj/Yc5sekII8YAQ4vZLLTPc56aMzZNvMiqKLvHx8bzzzjt4PObv3atXLz799FPq168fZMkUipJBQJaEEOJm4A4gSkp5jxCiM/CTlPJCIOdLKYdnSNqSRZ69wHWBlOfW7DjyPhtXEYJMmTIFKSVVq1ale/fu2Gw2wsPDgy2WQlFiyFVJCCGeA3oA7wMDreSrgPusv0In0R7OEa8394yKkOTChQtERUUBMGDAAGrVqkXXrl2DLJVCUTIJxN30MNBeSjkFSLHSXgdaFphUuaFpyo4opixfvpzOnTuzZYtpbJYvX54+ffrgcBTG8JlCochIIErCZf3BxRXXQR81DroAigKhXLlyuN1ujhw5kntmhUJR4ASiJL4DvhZC3AZEWuMTi630oKH2GyoeeDweFi1a5N8xrmXLlixfvpz//ve/QZZMoVBAYEriGcx1DM9hupuGYq6QHlqAcuWKCgBbPPjyyy957bXXmDZtmj+tdOnSQZRIoVCkJZCd6VKAV62/IoOyJEIXl8uFw+FA0zS6du3K7t27ue++oMyBUCgUuRDI7KYdZBP9VUoZtGA5MTY1uykU2bVrF8OGDePuu++mZ8+eOBwOnnoq1/WTCoUiSAQyZeShDN/LA/cA3+e/OIFTN1ItpgtFoqOjOXz4MLt37w62KAqFIgACcTetzpgmhPgcWAPMLAihAkHtShc6bNiwgZiYGBo0aEDlypX54osvVEgNhSJEuNSmthxQKz8FySuHUi5pkzxFIbNr1y769u3LSy+9hM9nei2VglAoQodLGZOwA1WBuQUlVCAkeJQpUZTxeDzY7Xbq1q1L//79adeundpuVqEIQS5lTMIDHJFS7ioAeQLGrtqbIsm5c+cYPXo00dHRvPDCCwA88URW+1cpFIpQICAlIaUscvMTHWoObJEkLCyMv/76i8jISFJSUggLCwu2SAqF4l8QiJIIE0J0yGoAO5goS6LocOzYMfbu3cvVV19NWFgYM2fOJDY2Nk/xlnw+H0lJSXi93ktySx06dIjExMQ8n1ccUXVxkZJWFz6fD5vNRkRERL65dwN5i6sD3wghLgCn0h4I5joJh02NSRQFUlJS6NWrFykpKXz55ZeULVuWKlWq5H5iBpKSknA6nZccyM/pdKoxDwtVFxcpiXXhdrtJSkoiMjIyX8rL9o0UQpSSUp4Hns+XK+UzEWpyU1Dx+XxomkZYWBj9+/cHICYm5pLL83q9KtKrQpEPOBwOkpOT86+8HI6tBxoVNTdTKs3KKy0RDHw+Hx988AE//fQTb7/9NjabDSHEvy63pPX2FIqCJD/fp5x8NkX6rbXblbspGGiaxqZNm9i6dSv79+8PtjgKhaKAycmSiBBCtCEHZWHtXx0ULqioHIWGy+Viw4YNtGnTBoARI0agaRrly5cPsmT5x9GjR+nXrx8NGpjDbC6Xizp16vDUU09ht9tJSkrirbfeYtu2bTgcDsqVK8fgwYOpVKkSAAcPHmT69OnEx8fj8Xho3Lgx/fv3D2h21/fff8+CBQt45plnuPLKK7PNt3nzZpYsWcLLL7+cPzeNOeng9ddfx+v1Ur58eZ5//vkcZT5+/Di9evXi5Zdfpl27dgB8++237Nmzh8cee8yfb+zYsXTo0IE2bdpw6tQppk2bxuHDh7HZbFSrVo3BgwcTHR2dJ1nPnTvHa6+9xvnz54mMjGTEiBGZXJzz5s3j119/xW638+ijj9K8eXNOnTrF2LFjSU5OpmzZsgwfPjzf/PUlgZy649WAhTn8fVDg0uXA4ZIzYSHoPP300zz66KNs3boVgAoVKhQrBZFKjRo1mDx5MpMnT2bGjBm43W5WrFgBwFtvvUWFChWYPXs2b7/9NnfffTfDhg3D7Xbj8XgYOXIkvXr14u2332bmTDNazYIFCwK67saNG3nkkUdyVBAFxbx587jtttuYOnUq1apV45tvvskx/6pVq6hWrRorV64M+Bpjxoyhbdu2zJw5k7fffpt69eoxefLkPMu6ePFimjZtyrRp02jfvj0fffRRuuM7duxg48aNzJgxgzFjxvh/h4ULF9K2bVumTJlC27ZtWbx4cZ6vXZLJyZLYJaVsWGiS5BGno0h7w4oVvXv3pkKFCtSsWbNQruf9ZB6+jWvzdE5uhqXWoi22O/vmqcyGDRty8OBBLly4wK+//srChQv9x6644goaNmzI2rVriYyMpEaNGjRt2tS8lqbx6KOPZvILu91uJkyYwOHDh3G5XPTt2xdN0/jll18wDIPo6Gh/GQDTpk1j27Zt2O12hgwZkq4sKSWrV6/G6/XSunVr+vTpw44dO5g8eTJhYWE4HA5GjhzJkSNHmDx5Mk6nE6fTyciRI9P14Ddv3uyPwnvNNdfw8ccf071792zr5Pvvv2fQoEG88sorJCYm5toj379/P+fOnePGG2/0p915552kpKSky7du3To+/vjjdGm33HJLuvM2bdrEsGHD/LI+99xz6fIfPHiQBg0aYLPZKF26NNHR0Rw5coRDhw7RuXNnAK666ipefvllevfunaPciouE7HSScLVQosBYv349M2bMYOrUqcTExHD11Vdz9dVXB1usQsXtdrN27Vq6devG4cOHqVGjBnZ7+skS9erV48CBA0RERFCvXr10x8LDwzOVuWLFCsLCwpgyZQonTpzgqaee4v333+fqq6+mQ4cO6RTExo0bOX78OG+99RZbtmxh1apVNG/ePF15U6dOxWazcc8999CzZ0+++eYbunfvTteuXfnll184deqUP61z585s2rSJU6dOpVMSSUlJfvdS2bJlOXUq3Sz3dOzfv5/z58/TokULmjZtyv/+9z86duyYYz3u37+funXrpkuz2+2ZlEubNm387szsOHXqFGXKlMlW1jp16vDBBx+QlJTEhQsX2LlzJ6dOnaJOnTr8/PPP6LrOr7/+ypkzZ3K8jiI9OSmJVYUmxSXgdKjZTQXFpk2b2LRpE+vWraNLly6Ffn3bnX0hj71+p9OJy+XKPWMOHDhwgMGDBwOwe/du7r77btq1a8fOnTvxejPvX5K6cAnI8nhGDMOgSZMmgBnk0Ol0kpCQkGXev//+m8aNGwPQpEkTmjRpwubNm/3Hw8PDGTx4MHa7nfj4eM6ePUvbtm2ZPHkyhw8fpkOHDtSsWdOfdvDgQa6//vp/ZQ2uWLGCG264AYCOHTvy3Xff5aokILC6yQ9q167NLbfcwjPPPEPVqlWpW7cuPp+Pe++9l0mTJjFo0CBat27tDzSpCIxslYSU8vHCFCSvhCklka9s2rSJZs2aoWka/fr149prr6VhwyLrbSwQUsckAEaOHEn16tUBiIuL48CBA7hcLpxOpz//rl27aNeuHU6nk88++yxdWSkpKRw6dIg6der407JyP9myWRRqt9uzbVyPHj3KJ598wuzZs4mMjKRvX1OhtmjRgrfffpv169czZswYHnvsMX/aunXr/GnNmjXzlxUZGUlycjLh4eEcP36cChUqZFs/K1euRNM01q1bh9fr5ciRI5w7d44yZcpw7ty5dHnPnDlDhQoViIiIYN68eZnKMgwDXdf93wNxN1WoUMFvCWUn6+23387tt98OmDHDqlatSnR0NC+++CJgWja//fZbtveoyEzIziMNd4as6EWO+fPnc//997N06VLA7JWXNAWRkf79+zN79mySkpKIioqiTZs2zJ8/33/8zz//ZMeOHbRu3ZqWLVvyzz//8L//mZP9vF4vs2bNYtWq9Mb4f/7zH38DdezYMTRNy3aGj67rfsshdawhlfj4eMqWLUtkZCR///03//zzDy6XiyVLlnD27Fk6d+7MnXfeyY4dO/xpnTp18qelpXnz5qxZswaANWvWZOtW3L59O5GRkSxYsIB3332XuXPnct1117F69WoaNmzIH3/8QXx8PGCODRw9epTatWtTs2ZNKlasyJIlS/xlSSkzDR63adPGP2kg9S+tggBo2bIlq1evzlbWM2fOMHz4cHw+H3v27MHr9VKhQgW+/PJLPv/8c8CciZWbW0uRHi0ETS/fVeNXMqJdZa6qVS7YsgSVuLg4Dh8+/K/LOXLkCC+++CLPPvss9evXzwfJ8s6FCxeIioq65PP/rbvp6NGjjBw50j8jBmD27NkAPPzww7hcLmbNmsWmTZsICwujTJkyDBgwwG9tnDx5kgkTJnDy5EmcTictWrSgT58+6SwFj8fDxIkT/QPXDz/8ME2aNEk3XTQtb731Ftu3bwdg8ODBJCQksGTJEl566SWGDx9OYmIiV1xxBV6vl507d3LXXXcxZ84cSpcujcPhYNiwYezcuZM5c+ZQqlQpwsLCGDZsWLqZaSdPnmTMmDGkpKRQuXJlnn32WRwOB6+88grPPvusf2xlxowZxMXF+XvpAL///jsLFizgzTffZMOGDSxYsAC73Y7dbueRRx7xTyc+f/48U6ZMYffu3URGRlK3bl0ef/zxPAd/TExMZPTo0SQkJBAdHc3zzz9PdHQ006dPp0ePHlStWpXZs2ezfv167HY7Tz/9NA0bNuTYsWOMGjUKl8tFXFwcw4cPL/ar+7N6n+Li4uAS1r+FrJJ4vWN1Lq+St3nWxY1LVRL//PMPY8aMYcCAAZkGXINFsJVEcSI/6mL27Nn069cv02B9qFFSn4v8VBIh67NRkcIvne3bt/P999+r+eKKbLn88stDXkEo8oeQtbkuuEPOAgoq+/fvJzY2lqioKDp06MCcOXNK3LRWReBcc801wRZBUUQIWUsiUs1uCpiNGzdy++23M3XqVH9aq1atVFA9hUKRKyGrJCKcqoELlMaNG9O4cWP/HH2FQqEIlJB1N4U7Qla/FTgpKSnMnj2bBg0a0KlTJ8LDw5k/f76yHBQKRZ4J2ZZWheXInqNHjzJ37lxmz57tX12qFIRCobgUQtaScKr9JNKRmJjIuXPnqFixIjVr1mTatGlceeWVSjkESEkNFQ5mdNW3336bL774IteAfSpUeMmjUJSEEGIS0BrwAYOklOvTHLseGIMZyNMAHpJS5hrsxa7mwPo5deoU99xzD1WqVGHu3LnYbDY1O+USSBuWA8yGbsWKFXTu3DldqHCAP/74g2HDhvHuu++iaRojR47kySefpGnTpvh8PqZNm8aCBQt46KGHcr1uMEOFf/fdd5w+fZrY2NiA8qcNFZ6qJHJjzJgxdOnSxb+CetGiRUyePJkRI0bkSdbUUOG9evXiiy++4KOPPuLRRx/1H08bKvz8+fM899xzzJw50x8qvHv37ixbtozFixerKLB5oMCVhBCiA1BfStlGCNEQmAukXVo6C7heSnlQCPEJ8F/g69zKdSol4adcuXI0bNiQGjVq4PF4so0HFCrM23SM/+3POvBd9miYfZCsuaZmDH2bV8pTiSUhVHj79u2Jiori+++/D6hOVKjwkkdhWBIdgc8ApJTbhBDlhBAxUsrUVqBFms/HgewjjKWhpFsSq1at4vTp09xxxx1omsaECRNCXjkUJUpKqPC8rHJXocJLJoWhJKoAG9N8P26lJQCkKgghRFWgM/BiIIXWqBZXYv3tSUlJvPHGG5w8eZK77747x8idocKhQ4f8EVYfaVWNR1pVK9TrOxwODhw44N+AZ9euXdx7771cf/317NixA5/Ply4CLIDNZsPhcGC329E0LdPxjOzcuZMWLVrgdDqpWrUqYWFhJCYmYrPZsNvtmSLMXnnllTidTlq2bEnLli3ZtGkTNpsNp9NJVFSUf7wkPj6exMREOnTowJtvvsnhw4fp2LEjl112WZZpWaFpGg6HI8d7+OGHH7jxxhtxOp106dKFr7/+mv/+97/Y7Xa/XBnrJvUdza1uAiXVIsqq3Pr169O9e3eGDh1KXFwc9erVw+fz0adPH958802eeuopvyLKL3mKKpGRkalhOP41wRi4ztSyCyEqAV8Aj0spT+Zags/HkSNHCkC0oovP5+P48eP+gdLXX3+dunXrkpycnC9B/oJNYmLiv1L6/zZGj9vtpkaNGkyaNAkwQ4XHxcXhcrmoVKkS+/fv58KFC+kal7///jtdqPC0188qVLjX68XtdvvzuVwuPB4PXq8Xj8eTSf60eQF/3gMHDrBo0aJ0ocLdbjdNmjTxhwp/9dVX/WHBU0OFp03LiM/ny3S9jCxfvhxN01i7dq0/VPjp06eJjo4mISEh3bmpvf6IiAi2bduWqdxLDRX+zz//EB4eztGjR6lQoUKmcrt160a3bt2Ai6HCIyIi/OMf+/fvZ8OGDcU+nlNiYmKmduFSlUZh+CcOY1oOqcQB/hZeCBEDfAOMkFIuKwR5Qg6fz8fgwYO5++67/XH7mzVrxn/+858gS1Z8KSmhwgNFhQovuRSGJbEMeBmYKYRoDhyWUp5Nc3wCMElK+W0hyBKSaJpGgwYNOH/+PImJiXmeOqjIO1WrVqV9+/a8//77PPzwwwwYMIBZs2bx4IMP+kOFjxo1yj9O8cYbbzBhwgTee++9dKHC03LDDTf495R2uVyZBqPT0qRJE9auXcvAgQOBi6HCwRwLiYyMZMCAAVxxxRXceuutTJ48mbvuuotRo0ZlChU+atSodKHC0/LBBx+wYcMGTp06xbPPPkujRo3o379/plDhK1as4Kabbkp37k033cSCBQvo2rUrAwcO5MUXX/SHCn/++ef9039ffPFFpkyZwldffeUPFf7MM8/k+Tfp0aMHo0ePZuDAgf5Q4UC6UOF169bl0Ucf9YcKB2jbti2jRo3i22+/JS4ujn79+uX52iWZQgkVLoQYC1wLeIEngGZAPPAdcBpYlyb7h1LKWTkU57vqjRUs7V28N8XZu3cvS5cuZeDAgWiahtvt9vu+U8mv/SSKAipUeP6hQoVfpKQ+F/kZKrxQxiSklMMzJG1J8znzNBAFb775Jj/88AOtW7emVatWxX6TFEXRQoUKV6QSki2PncLZWL2wiY+P90/xGz58OLfeeqsK560ICmoxpiKVkJxYX9l7Ptgi5DsLFiygU6dO7N69G4Dq1avTpUuXEjvNV6FQFA1CUknYc1hZG6pUq1aNMmXKqIU+CoWiSBGSSuKMFvrDGBcuXOCtt94iMTERgI4dO/LFF19kWlWrUCgUwSQklcQFLffImkWd999/n7feeosPPvjAnxYRERFEiRQKhSIzITlwHape+rTT0u6//34cDocKNBYinDp1innz5vnn3hdnBg8eTFJSEhEREfh8PjRNY/DgwdSuXRswg/x98sknOBwO3G4399xzDx06dADMVeFz5sxh/fr1RERE4HQ6GTBgQLbhQILBhAkT2LZtG++++64/rVevXsybN88fU+ro0aOMHDmSmTNnAvijxzqdTjweD7169fLfc15Yvnw5ixcvRtM0brnlFrp27Zru+P79+5kwYQJgRiVODb3y+eef8/XXX+NwOLjzzjsv6dqXSkgqiZyifRZVfv31V4YNG8YLL7xAp06diIyM5MEHHwy2WIoAKV++fIlQEKk8++yz/pAimzdvZurUqUycOJGtW7fy6aefMn78eGJiYjh//jzDhw8nOjqaFi1a8NFHH3Hu3DlmzZqFpmn8+eefvPjiiyxYsKBITKl1u92sW7cOp9PJ/v37qVmzZq7n/PHHHyxZsoQJEyYQHR3N6dOnGTBgAHXq1Ano/FQSExP9HgSn00n//v1p3759uj0xZs6cyT333EOrVq1YsGABq1atokWLFkgpmTt3LgBDhgyhdevWWQaRLAhCUkmEoiURGxtLcnIyJ0/mHppKAQ9/tjPL9NsaVqCrXg6ASWsP89fxC9aRi6HCG8RGMrSdGSBw2c4zfPLnCWbfVi+L0i7y7bffsmXLFuLj49m7dy8PPvggK1euZO/evbzwwguUL1/e37PcsGED7777LjabjRtuuIGePXvSu3dvWrVqRbly5ejSpQtvvPEGLpcLm83G0KFDqVq1arrrbdy4kblz5+JwOChdujQjR47klVdeoWfPnjRp0oTk5GT69OnDwoULmTdvHn/88Qcej4fbb7+djh07MnbsWBwOBwkJCTz77LO89tprJCUlkZSUxJAhQ6hfvz7Lli1j0aJFVKpUiZiYGJo3b06nTp2YMGECR44cwe1207dv31zHwRo2bMihQ4cAc0+HBx54wN+wlSpVioceeohFixbRokULvvjiC+bMmeOflde4cWNmzpyZSUEsW7aM//u//0PTNO68805uuOEGunfvztKlSwEzdtbtt9/O5s2bOXz4MEePHqVMmTIB1092/Prrr9SrV4969eqxYsUK+vbtm+O9AyxZsoQ+ffr4Ix2UK1eOmTNnZop8MGrUqHQTT5xOJ+PHj/d/37ZtG7qu+89r3Lgxf/75Z7rpxocOHfKH27nqqqtYunQp1apVo2bNmv4V7HXr1mXbtm3pogYXJKGpJEJAS/h8Pj7//HNatGhB9erVueyyy1i+fLkKqVGEOXjwIFOnTuWrr77iww8/ZNasWXz77besXLmSnj17AubvOnnyZKZPn07p0qUZMWIEt956K263m1atWnH11Vczbtw4brrpJm644QZWr17N/PnzM+19cPbsWUaMGEHVqlV5/fXXWb9+Pe3bt2fdunU0adKEDRs20LJlS7Zu3co///zDlClTSElJ4ZFHHvFv9hMTE8MzzzzDgQMH6Nq1K+3atWPTpk0sXLiQl156idmzZzNz5kwiIyPp168fzZs3Z8WKFVSoUIFhw4YRHx/PkCFDmDNnTo71snr1aurXrw+Y7pDUz6mkhkw/d+4cYWFhmZ7xjN8vXLjAggULmDNnDi6XizFjxnDDDTdke323283UqVNZtmxZwPWTXS97xYoV3HDDDdSvX5+RI0cGpCT279+fKRR8Vu/xqFGjcizn1KlTlC1b1v+9XLlymTqNqWHNu3Tpwvr16zl9+jTVqlVj9+7dxMfHExYWxtatW2nSpEmucucXIakkbCHgblq3bh0vvPACN9xwA1OnTgWyfrAUWZNbzx/gqbYXo1pmF36hc72ydK5XNqBr6rqOpmlUqFCByy67DLvdTvny5fnzzz/9ec6cOUNYWJj/ZR8zZoz/WGoP8O+//+bhhx8GoGnTpixYsCDTtcqWLcv48ePxeDwcOXKE5s2b065dOxYtWkT//v1Zu3Yt119/PVu3buWvv/5i8ODBgKmkUhuW1OuVK1eO999/n48//hiXy0VkZCTx8fGUKlWK8uXLA/itha1bt/L777/zxx9/AJCcnIzL5coUOnvcuHFERERw8uRJqlSpwvDhZtAETdPwetMvZvX5fP69TDIey4p9+/ZRs2ZNwsPDCQ8PZ/To0TnmT73Pa665JuD6ySriaWJiIhs2bODpp58mKioKp9PJ33//7d+yNiOp1lBW95wfZBUS6bHHHmPSpEl89913NGnSBJ/PR0xMDP379/dbtKljQ4VFSCqJlrYzwRYhS1JDPjudTtq0acPjjz/ObbfdFmyxFAGS1iWS9nPal9lms2XbYGS1R4Hb7UbTNLZu3erf+vSFF17gjTfeYMyYMdSqVYspU6YAZiciNjaW/fv3s3XrVp5++mn27t3LzTffzL333pvt9RYvXkxsbCzPP/88hmHwzjvv+AecU0n9nDpZIrfNglLHJNatW8eXX37p37OkZs2aGIZBxYoV/Xl37txJ7dq1iY6Oxu12c+rUKb9yAlNp1q9f3y9DTnWYtt4y3mde6ycjP/30Ex6Pxx80MT4+npUrV9KgQQPKli3LuXPn/APXZ86cSXfP27Zt84fpB9O6qFixYrrNk3JzN8XGxrJu3cUwdSdOnKBRo0bpZKxUqZK/4/Hrr7/6OwTXXXcd1113HQCvvvoqVapUobAIySmwwR/+ysyRI0d44IEHmDXLjE2oaRqPP/54vm38oSgalClTBq/Xy/Hjx/H5fDz33HP+8O2ppA0JvmXLFnRd5/LLL/eHwK5YsSLnz5+nUqVKnDt3jt9++81vBbVr144PPviARo0aYbfbadiwIevWrcPr9ZKSkuK3StMSHx/vf85+/PFH3G43ZcqUISEhgbNnz5KcnOwPO5665SrA6dOn/YorO9q0aUNKSoq/cevRowfz58/3N4YXLlxgzpw5fnfcbbfdxowZM/B4PIA56Dtu3Lh0Vl7NmjU5cOAAiYmJpKSk8Mwzz/iVWuq4ys6dWY9JXUr9pLJixQqef/553n33Xd59912mT5/O6tWr8fl8NG/enO+++w4wOwVff/21PyROjx49eO+99zh9+jRguo1GjRrFP//8k678UaNGpQt1nlZBpNb99u3bOXfuHImJifz5559cccUV6fLMmzfPX9epYc09Hg+DBw8mJSWFU6dOsXPnznR7cRQ0IWlJnC+CaqJ06dIcPnyY/fv3Z+rFKYoXgwcP9vufr7vuukxuxL59+zJ+/Hi++uorHA4HQ4cOzVRG9+7defLJJ6levTq9evXivffe45prrqFdu3ZMmzaNV199FTAHN5s2bcoTTzzhPy8jnTt3ZsyYMaxevZrbbruNlStXsmzZMu677z4GDhxI9erV0XUdm83G9ddfz2+//caAAQPweDw88MADud7vE088wUsvvUSLFi1o1KgRDz74IMOGDcPpdOJ2u+nRowdXXnklYE4lXbhwIQ8//LB/n+nRo0f7B10B/0ZJqbPFevbsiaZpdOvWjccff5xatWpl6wIKtH5+/fVXjhw54lde8fHx7N69m1atWvnLqlKlClWrVuXPP//k/vvvZ9q0aQwaNAiPx0OTJk249dZbAWjUqBEPPfQQw4YNIyIiArvdzpNPPplnt094eDiPPPIIQ4cORdM07r//fqKjo9m5cyc//vgjffv2pWPHjowZM4b33nuPK664wr/3RYcOHXjiiSfQNI2BAwcW6kyxQgkVns/4bhz/HQvuvSL3nAXMtm3bSExM9Pt7M5rZBY0KFX6RkhoSOitS62L16tU0a9aMmJgYhg4dSp8+fWjcuHGwxSsUEhMTkVLy0EMPlcjnIuRChec3RcFHdvLkSXr37u3f+SosLKxQFYRCkRup02EjIiKoV69eiVEQYL6f119/fbDFKBaEppLQgmf9eDwe7HY7FSpUYPDgwdStWzedKa1QFBW6dOlCly5dgi1GUKhevXqwRSg2hKSSsAfB3Z+SksKbb77J0aNHmTJlCpqmcd999xW+IAqFQlGIFAXPTZ6xBUFJOBwOduzYwZ49e/wbvisUCkVxJzQtiUJaTBcfH8/vv/9O+/btsdlsjB8/ntKlSxdazBSFQqEINiGpJK6ITCrwa/h8Pvr168fevXtZsmQJNWvWJDY2tsCvq1AoFEWJkFQSVZ0FZ0mkrnHQNI3HHnuM/fv3qwVxihLL/Pnz+f7774mNjcXn85GSksI999xD+/btATAMg5kzZ5KYmIjb7aZdu3b07t3bP48/v0JsFxQrVqxgzJgxLF682L+//NixY+nQoYN/jQKkDyW+fft2Zs6cSUpKCi6Xi7Zt23L//ffneW3Uzp07mTx5MmAG7XvqqafSHU9MTGTs2LGcPn2aiIgIhg8f7g8TkxpJtnHjxv4QMAVFSI5JOOwFI/bSpUu59957SUoyLZUbb7yRfv364XCEpC5VKPKFHj16MHnyZKZMmcK4ceOYPn06ycnJXLhwgddee43HH3+ct99+m1mzZpGQkMB7770HpA+xPX36dF5//XVmzZrF/v37g3xHF1mxYgVxcXGsXr06oPznz59n9OjRDBw4kBkzZvDWW2+xc+dOvvrqqzxfe8aMGQwYMIDp06dz7tw5fvnll3THv/zyS+Li4pg6dSq9e/f2hwqfNGkSw4YNY8qUKZw+fTpdbLGCICRbv5/PR3BLAZS7bds2du7cyfbt2wstDK8ia4paqPBGjRoxY8YMtm/fTkpKCt26daNr164cPXqUsWPH4vV6qVy5MsOHD2f8+PH+MN4vvfQSEyZM4PDhw7hcLvr27ctVV12V7trHjx/n9ddfB8yYRcOHD2fdunWcP3+ePn36APDUU08xYMAADh06hJQSu92Orus8/vjjfPvtt/zyyy+cPHmSF198kcWLF7N169Z0cu7atYuxY8cSHR2NruucOXOG4cOHs2TJElasWIHNZqNdu3YIIXKsp5iYGMqXL8/JkyfZsGEDbdu29UdI1TSNhx56iPvvv5++ffsGHGJ7x44dTJ48GU3TaNy4Mf3792fw4MEMGjSIOnXqsGTJEuLj42natCkff/wxiYmJNGvWDCDX+hk0aFC295KQkMD27dsZOnQoixYtolu3bjneO5hKpW3btv69NhwOB88991ymccoPPviADRs2pEtLu3GTy+XiyJEj6YIXbty4Md2K8IMHD/oX6l555ZVMnDgRMBftppZz1VVXsWHDhgJdAxOSlkR+RbzweDz8+OOP/u8DBw5k6dKlSkGUUA4ePMjo0aO55557+PDDD3nllVe45557WLlyJSkpKVSpUoVp06YxdepU5s2bB8CcOXO48847mTp1KhUqVMAwDMBsTF955RVWrFhBWFgYU6ZM4ZVXXskyttDJkye5//77mTRpEjfddBNLly7l2muv5eeffwbMxuz06dPExcXxwQcfMHHiRKZMmcKxY8f80VyPHTvGlClTKFOmTJZyvvfee/5rHD16FDDjja1Zs4Zp06YxZcoU1qxZkykeUUb279/P6dOnqVixYpZhwyMjIylXrhwnTpwIOMT2tGnTGDJkCNOnT+fUqVN++bJiz549vPHGG9x0000B1c/vv/+ebVk//PADrVu35uqrr+bQoUMcP348x3tPvf+M9xQVFZUpTEbv3r3TxXGaPHlyujAe8fHxlC5d2v+9bNmymcKGX3bZZX7rYvPmzf7fpkqVKmzZsgWfz8fGjRv9MaUKipC0JBz5NAf29ddf5+OPP2b69Olcd911REVF/avQEIr8o6iFCg8LC+Ps2bMMGDAAh8PhD3C3Y8cOBgwYAED//v0B+Pzzz/09RMMw/LH/Y2NjcTqdJCQkpNuNrHz58kybNo358+dz9uxZGjRo4I84evLkSTZu3Ejbtm3Zs2cP//zzD8OGDQNM10dqw5Eqe1hYGAkJCZnk3L9/v7+32bZtWzZu3Mi2bds4ePCg3xd+4cIFjh49SuXKldPVy+LFi1m9ejUXLlwgJSWFESNG4HQ6sw2h7fP5sNvtAYfYPnDgAHXr1gXg+eefzzFv6uLVQOvn6NGjNGzYMMuyVqxYwf3334/dbufaa69l1apVuVpSBRU2PCtuvvlmdu/ezZNPPkmTJk384emHDRvGtGnTsNvt1K1blwsXLuRc0L8kJJWEM58sibvvvptz585lisSoKJnkFCp88+bN/Pbbb0yePBmHw8FNN90EmGGvs4p/lhreOuNgptvtxuVy+fc/uOuuu1izZg1XXXUV3bp1Y/Xq1f4ooO3atWPdunWsX7+ee++9F03TaNCgQaboot9++63/eps3b2bTpk2Z5Ey750NaGVu3bp3rtqw9evTg9ttv5+TJkwwZMsTfoNeoUQPDMOjUqZM/b2JiImfPnqV8+fIBh9jOasA3bVrasOFpxwcDqZ/sOg/Hjx9n27ZtvPXWW2iaRnJyMtHR0Qgh/GHD0+LxeIiMjKRGjRps376dzp07+4/Fx8eTmJiYLnx3bu6msmXLkpCQkE6ejLMnnU6nX4EnJib6o/fWqVPH73r6/PPPM8ma34Sku8l5iUuut27dyn333ecPilevXj3GjRvnjxuvUGRHfHw8FStWxOFwsHbtWrxeLy6XC13X2bRpEwBz585l48aN6c5LGzb82LFjfksl1QXRpk0bf6hvn8/H2rVr/Y1a+/bt+eWXXzh06BANGjSgRo0afncPmGGlM7pI4uPjqVSpUiY54+Li/K6wX3/9FYAGDRqwefNmkpKS8Pl8TJs2jeTk5GzroEKFCnTu3Nk/MN2pUyfWrVvnLxfg3Xff5eabbwYCD7Fdu3Zt/vrrLwDeeOMN9u3bR1RUlN/9kt3A7KXUTyorVqzgtttuY86cObz77rssWLCAhIQEDh065N/BLzXc+YoVK/xWWKdOnfj555/Ztm0bYI4tTJw4MdPvnpu7yeFwULNmTb+78Mcff/SHJk/l559/9g9WL1++3D9eMW7cOHbt2oXH42H58uXpZmEVBKFpSVyiu2nnzp389ttv/PDDD9xzzz35LJWiONOiRQsWLVrEoEGDaNeuHW3atGHSpEn07duXcePGsXTpUipXrkyfPn1Yvny5/7wbbriBzZs389RTT+FyuRgyZEimsm+99VamTp1KlSpVuP3225k4cSLr16/nqquu4vDhw/6B7oiICJ544gmGDx+O0+mkfv36mXqfLVq04OOPP84k53333cf48eP55JNPqF27NufPn6dy5cr06NGDQYMG+Qeuc1soeuedd/LQQw/RpUsX6tSpw9ixY5k0aZJ/CuxVV13l3wAo0BDbAwYMYNKkSf5zatWqxS233MKUKVOoVq1atlPQa9asGVD9HDt2jHnz5qWzmFauXJluS1lN0+jSpQurVq2id+/e7N27l4EDB+J0Oilfvrx/ADwyMpKxY8cyceJEkpOTsdvtdOzYka5du+ZYb1nxxBNPMHHiRLxeLw0bNqRFixaAuSnV6NGjadasGZ999hmPP/44MTExjBgxAjDdUOPGjQOgY8eO/kH0giIkQ4VP/eh7enZolHtOzE1fGjVqhNPpxOfzsXXr1mITDVOFCr+IChV+kazq4q+//iI8PJy6deuycOFCfD4fvXv3DpKEhUdqXbzzzjv+MaOSQH6GCg9Jd1OD0oGJ/dVXX3Hvvff6TbbUKXYKRUkjdSvNQYMGsWXLloCmexYXXC6Xv5euyDsh6W5yOAPblal9+/a0adOG1q1bF7BECkXRpn79+rzzzjvBFiMoOJ3OTGtTFIETkpbE/mxmfJ0+fZrhw4f75xbHxMQwe/Zs/xRERdElBN2eCkWRJT/fp5C0JBJ9WbvVDh06xNdff43L5Uq3clFR9LHZbLjdbhUCRaH4l7jd7kzTnf8NIflGhqeJ3XTs2DFsNhuxsbE0btyYuXPn+pfsK0KHiIgIkpKSSE5OznOgNDBnnSQmJhaAZKGHqouLlLS6SF0PExERkW9lhqSSiLDGJHbt2kXv3r1p3bq1fwpdy5Ytgyma4hLRNC3dAqu8Upxmev1bVF1cRNXFv6dQlIQQYhLQGjMC2yAp5fo0x24EXgc8wNdSyldzKy8izFQSderUoVmzZlxzzTX+EN8KhUKhyD8KfOBaCNEBqC+lbAM8CGSMcDYV6AG0BToLIXJdALH2ezMsr81mY8aMGdx5551KQSgUCkUBUBizmzoCnwFIKbcB5YQQMQBCiMuAU1LKA1JKL/C1lT9Hvv5M+hcLKeWgUCgUBUdhuJuqAGkDmxy30hKs/2mDqxwD6uZWoLF9W37KF9KoXfMuouriIqouLqLq4t8RjIHrnLr+gZgFynRQKBSKQqIw3E2HMS2GVOKAI9kcq2alKRQKhaIIUBhKYhnQE0AI0Rw4LKU8CyCl3AvECCFqCyEcwC1WfoVCoVAUAQolCqwQYixwLeAFngCaAfFSyiVCiGuBcVbWxVLKNwtcIIVCoVAERCiGClcoFApFIRGSAf4UCoVCUTgoJaFQKBSKbCnSsZvyO5xHKJNLXVwPjMGsCwN4yFqcWOzIqR7S5BkDtJFSXlfI4hUquTwTNYCPgDBgk5SyWG/LlktdPAH0xnw/NkgpBwdFyEJECNEYWApMklJOz3AsT21nkbUkCiKcR6gSQF3MAnpKKdsCpYH/FrKIhUIA9YD1HFxb2LIVNgHUxQRggpTyasAjhKhZ2DIWFjnVhRXdYSjQXkrZDmgkhCjWu5AJIUoB04AV2WTJU9tZZJUEBRDOI4TJti4sWkgpD1qfjwMVCle8QiO3egCzcXyhkOUKBjm9HzagPfC5dfwJKeX+IMlZGOT0XKRYf9HWNPso4FQwhCxEkoGbyWLN2aW0nUVZSWQM2ZEaziOrY8eAqoUkVzDIqS6QUiYACCGqAp0xf/jiSI71IIR4AFgN7C1UqYJDTnVRETgLTBJC/GS534oz2daFlDIJeBnYDewDfpFS/l3oEhYiUkq3lDK7TTTy3HYWZSWRkX8bzqM4kel+hRCVgC+Ax6WUJwtfpKDgrwchRHmgL6YlURLRMnyuBkwBOgDNhBBdgyJVcEj7XMQAzwMNgDpAKyGE2s/4Irm2nUVZSahwHhfJqS5SX4RvgBFSyuK8Yj2nergBswf9I7AEaG4NZhZXcqqLE8A+KeUuKaUH0zd9eSHLV5jkVBcNgd1SyhNSyhTM56NFIctXlMhz21mUlYQK53GRbOvCYgLmLIZvgyFcIZLTM/GplLKRlLI1cDvmjJ6ngidqgZNTXbiB3UKI+lbeFpiz3oorOb0fe4GGQojUbQ9bAjsKXcIiwqW0nUV6xbUK53GR7OoC+A44DaxLk/1DKeWsQheyEMjpmUiTpzYwvwRMgc3p/agHzMfsCP4BPFZcp0VDrnXxKKYr0g38T0o5LHiSFjxCiBaYHcfagAs4hDmJYc+ltJ1FWkkoFAqFIrgUZXeTQqFQKIKMUhIKhUKhyBalJBQKhUKRLUpJKBQKhSJblJJQKBQKRbYU6SiwipKBEMIH7MKcopjKPilllxzOqQ3slFL+62dYCHEd5lzx3VaSHXMu/QAp5e7szsulzBXAUCnlJiHEw1LK2RnT80HujPXmwAxLMlBKeT6Xc1sBiVLK3/+tHIrijVISiqLCdWmCFAaD/VLK/6R+EUI8C3yIGX46z0gpO1rl2IHxwOy06fmIv96EEOHAIswwFLkFOewL/AQoJaHIEaUkFEUaIYQOzMGMbOsEXpRSfpQhTzVgAWagsnBgkZTyBSGEBrwI3AtEYEYKHWKFqsiN6cBYIUQZzGB5r2KGVwb4GXhCSnleCHEnMBLT+nBh9uJ/EELsxdzD4BWgjBBiO3ATsMpKnwiMk1Iutu7hNmC4lLK1EKI78BpQCtgJ3COlPJGbwFLKZCHEt0A3q8woYB7QFHNficVSymeEEP2B+4FuVsyvSf+inhTFHDUmoSjqvAl8KaVsCPQD5gghnBnyDAbWSCkbAVcAl1kRcXsDArgaqGv9PRbgdR2Yq3dTrDJuwgxvcTlQFkgN+fEW0NWS73GsBjoN/QCPlPI/Uso9adI/zZD3dkBaoZzfB+6WUl6GqVTeCURgIUQ54B7gf1bSY5j7i/wHaA48IIRoJ6V8B/gVGCalnMi/qydFMUdZEoqiwg9CiLRjEj9KKR8GunMxUuVPmD3djKGNjwG3W/7+dVLKuwGEELcCc6WU8db3d4GBmFZCtlguomHAt1LKRCuC6nupfn4hxDzgacze/jGgvxDiHSnlT5aMgfApMNS6lgZ0BUYAtwI/SCn/tPK9A/wjhLBn07NPrbcwoDyWhQIgpZwghJgqpfQBp4UQW4HLspDxkupJUTJQSkJRVMhuTKILMEIIURGzZ6+R2QKehOnueQuIE0LMAEZh9vifEUI8YuVzkD6WflpqWi6hVH4F+lifK2LGx0rlNFDJ+twNs3HfKIQ4AAyWUq7O4T4BkFLutvJfg+lGM6SUB4QQZYFrM8gSj+luO5ZFUddJKQ8KIWKBv4GPrQB/WAH+Jgoh/oO5VWUNTPdTRsoSeD0pShhKSSiKLJZb6RNASCm/tgZmM22mYjWKYzHHEBpghk3/CTME8ucZ9/jNhnQD1xn4h/S7/VWw0pBS7gL6WrvB3Y852F0tkPvjosspHJBW2mHgeyllzwDLwJLjhBBiKvAGpvUFMAPYCNwmpfQIIdZmc3pe6klRwlBjEoqiTCnrb4P1fRDWVpRpMwkhZgohOllfdwFHAR/mRvD3WQO4CCEeFUL0Ie98CfQWQkRZ4ZUfBL4SQlQUQiwXQsRYEVZ/tq6bFhdgE0KUzqLcT4EbMcM1f2KlfQe0t8YmEEJcLYSYEqCcE4BrrD2fwbR2frMURCegPhfrzoVpQUD+1ZOiGKKUhKLIIqU8g9kz/k0I8RumAvgMs9EulSbrO8Boy0XzF2bY9BVW3i+ATdaxbpiNcF75FHNL2I3An8ABYKqU8jjwLbBeCPEX5vTTBzOcewTTqtkvhLgmw/39jfkOHpJSHrbSjgAPA0uEENswxwU+DkRIaw+FscCb1syu14AJQog/MXeoexl4WQjRFnNjpnFCiInkXz0piiEqVLhCoVAoskVZEgqFQqHIFqUkFAqFQpEtSkkoFAqFIluUklAoFApFtigloVAoFIpsUUpCoVAoFNmilIRCoVAoskUpCYVCoVBky/8D6SVKZiYkq+oAAAAASUVORK5CYII=\n",
                  "text/plain": "<Figure size 432x288 with 1 Axes>"
                },
                "metadata": {
                  "needs_background": "light"
                },
                "output_type": "display_data"
              },
              {
                "name": "stderr",
                "output_type": "stream",
                "text": [
                  "INFO:logs:Visual Rendered Successfully\n"
                ]
              },
              {
                "name": "stderr",
                "output_type": "stream",
                "text": [
                  "INFO:logs:plot_model() succesfully completed......................................\n"
                ]
              }
            ]
          }
        },
        "5622ec826287497697c10c8c0055ab06": {
          "model_module": "@jupyter-widgets/controls",
          "model_module_version": "1.5.0",
          "model_name": "ProgressStyleModel",
          "state": {
            "_model_module": "@jupyter-widgets/controls",
            "_model_module_version": "1.5.0",
            "_model_name": "ProgressStyleModel",
            "_view_count": null,
            "_view_module": "@jupyter-widgets/base",
            "_view_module_version": "1.2.0",
            "_view_name": "StyleView",
            "bar_color": null,
            "description_width": ""
          }
        },
        "5baa796675dd412bbcfff8d6dbdf90f6": {
          "model_module": "@jupyter-widgets/controls",
          "model_module_version": "1.5.0",
          "model_name": "ProgressStyleModel",
          "state": {
            "_model_module": "@jupyter-widgets/controls",
            "_model_module_version": "1.5.0",
            "_model_name": "ProgressStyleModel",
            "_view_count": null,
            "_view_module": "@jupyter-widgets/base",
            "_view_module_version": "1.2.0",
            "_view_name": "StyleView",
            "bar_color": null,
            "description_width": ""
          }
        },
        "5ee6ccd740f64986b8f78d5690a1bbb4": {
          "model_module": "@jupyter-widgets/base",
          "model_module_version": "1.2.0",
          "model_name": "LayoutModel",
          "state": {
            "_model_module": "@jupyter-widgets/base",
            "_model_module_version": "1.2.0",
            "_model_name": "LayoutModel",
            "_view_count": null,
            "_view_module": "@jupyter-widgets/base",
            "_view_module_version": "1.2.0",
            "_view_name": "LayoutView",
            "align_content": null,
            "align_items": null,
            "align_self": null,
            "border": null,
            "bottom": null,
            "display": null,
            "flex": null,
            "flex_flow": null,
            "grid_area": null,
            "grid_auto_columns": null,
            "grid_auto_flow": null,
            "grid_auto_rows": null,
            "grid_column": null,
            "grid_gap": null,
            "grid_row": null,
            "grid_template_areas": null,
            "grid_template_columns": null,
            "grid_template_rows": null,
            "height": null,
            "justify_content": null,
            "justify_items": null,
            "left": null,
            "margin": null,
            "max_height": null,
            "max_width": null,
            "min_height": null,
            "min_width": null,
            "object_fit": null,
            "object_position": null,
            "order": null,
            "overflow": null,
            "overflow_x": null,
            "overflow_y": null,
            "padding": null,
            "right": null,
            "top": null,
            "visibility": null,
            "width": null
          }
        },
        "63d1214545794c6e9fa429975652ef81": {
          "model_module": "@jupyter-widgets/output",
          "model_module_version": "1.0.0",
          "model_name": "OutputModel",
          "state": {
            "_dom_classes": [],
            "_model_module": "@jupyter-widgets/output",
            "_model_module_version": "1.0.0",
            "_model_name": "OutputModel",
            "_view_count": null,
            "_view_module": "@jupyter-widgets/output",
            "_view_module_version": "1.0.0",
            "_view_name": "OutputView",
            "layout": "IPY_MODEL_959bc6c9fedc4b739f394f91d47cd757",
            "msg_id": "",
            "outputs": [
              {
                "data": {
                  "image/png": "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\n",
                  "text/plain": "<Figure size 432x288 with 1 Axes>"
                },
                "metadata": {
                  "needs_background": "light"
                },
                "output_type": "display_data"
              },
              {
                "name": "stderr",
                "output_type": "stream",
                "text": [
                  "INFO:logs:Visual Rendered Successfully\n"
                ]
              },
              {
                "name": "stderr",
                "output_type": "stream",
                "text": [
                  "INFO:logs:plot_model() succesfully completed......................................\n"
                ]
              }
            ]
          }
        },
        "70d7a761320c4e54814003ab11697777": {
          "model_module": "@jupyter-widgets/controls",
          "model_module_version": "1.5.0",
          "model_name": "IntProgressModel",
          "state": {
            "_dom_classes": [],
            "_model_module": "@jupyter-widgets/controls",
            "_model_module_version": "1.5.0",
            "_model_name": "IntProgressModel",
            "_view_count": null,
            "_view_module": "@jupyter-widgets/controls",
            "_view_module_version": "1.5.0",
            "_view_name": "ProgressView",
            "bar_style": "",
            "description": "Processing: ",
            "description_tooltip": null,
            "layout": "IPY_MODEL_0c6ba6c674184ff2af25963737e59ffc",
            "max": 5,
            "min": 0,
            "orientation": "horizontal",
            "style": "IPY_MODEL_db4831cff0604ac2b06d240c9804e487",
            "value": 5
          }
        },
        "7224d834506a486c879f6a71e914d396": {
          "model_module": "@jupyter-widgets/controls",
          "model_module_version": "1.5.0",
          "model_name": "VBoxModel",
          "state": {
            "_dom_classes": [
              "widget-interact"
            ],
            "_model_module": "@jupyter-widgets/controls",
            "_model_module_version": "1.5.0",
            "_model_name": "VBoxModel",
            "_view_count": null,
            "_view_module": "@jupyter-widgets/controls",
            "_view_module_version": "1.5.0",
            "_view_name": "VBoxView",
            "box_style": "",
            "children": [
              "IPY_MODEL_446bb824546c4389ad3d2ce94bd1e5ec",
              "IPY_MODEL_63d1214545794c6e9fa429975652ef81"
            ],
            "layout": "IPY_MODEL_e496ab1e04274f08b70a4c8bd480a646"
          }
        },
        "7e7dac9cedef4f3686d97ac6b5c04db8": {
          "model_module": "@jupyter-widgets/base",
          "model_module_version": "1.2.0",
          "model_name": "LayoutModel",
          "state": {
            "_model_module": "@jupyter-widgets/base",
            "_model_module_version": "1.2.0",
            "_model_name": "LayoutModel",
            "_view_count": null,
            "_view_module": "@jupyter-widgets/base",
            "_view_module_version": "1.2.0",
            "_view_name": "LayoutView",
            "align_content": null,
            "align_items": null,
            "align_self": null,
            "border": null,
            "bottom": null,
            "display": null,
            "flex": null,
            "flex_flow": null,
            "grid_area": null,
            "grid_auto_columns": null,
            "grid_auto_flow": null,
            "grid_auto_rows": null,
            "grid_column": null,
            "grid_gap": null,
            "grid_row": null,
            "grid_template_areas": null,
            "grid_template_columns": null,
            "grid_template_rows": null,
            "height": null,
            "justify_content": null,
            "justify_items": null,
            "left": null,
            "margin": null,
            "max_height": null,
            "max_width": null,
            "min_height": null,
            "min_width": null,
            "object_fit": null,
            "object_position": null,
            "order": null,
            "overflow": null,
            "overflow_x": null,
            "overflow_y": null,
            "padding": null,
            "right": null,
            "top": null,
            "visibility": null,
            "width": null
          }
        },
        "8e20d7d7c37d47a4859e82573b419f3f": {
          "model_module": "@jupyter-widgets/controls",
          "model_module_version": "1.5.0",
          "model_name": "ToggleButtonsStyleModel",
          "state": {
            "_model_module": "@jupyter-widgets/controls",
            "_model_module_version": "1.5.0",
            "_model_name": "ToggleButtonsStyleModel",
            "_view_count": null,
            "_view_module": "@jupyter-widgets/base",
            "_view_module_version": "1.2.0",
            "_view_name": "StyleView",
            "button_width": "",
            "description_width": "",
            "font_weight": ""
          }
        },
        "8f7d4a51d8a64b63be99ec898fcf161b": {
          "model_module": "@jupyter-widgets/controls",
          "model_module_version": "1.5.0",
          "model_name": "IntProgressModel",
          "state": {
            "_dom_classes": [],
            "_model_module": "@jupyter-widgets/controls",
            "_model_module_version": "1.5.0",
            "_model_name": "IntProgressModel",
            "_view_count": null,
            "_view_module": "@jupyter-widgets/controls",
            "_view_module_version": "1.5.0",
            "_view_name": "ProgressView",
            "bar_style": "",
            "description": "Processing: ",
            "description_tooltip": null,
            "layout": "IPY_MODEL_e398ece97eb748c8bbfa94b0f361649c",
            "max": 5,
            "min": 0,
            "orientation": "horizontal",
            "style": "IPY_MODEL_5baa796675dd412bbcfff8d6dbdf90f6",
            "value": 3
          }
        },
        "917296dd3fb447ec89fa7d104500c1ed": {
          "model_module": "@jupyter-widgets/controls",
          "model_module_version": "1.5.0",
          "model_name": "ToggleButtonsStyleModel",
          "state": {
            "_model_module": "@jupyter-widgets/controls",
            "_model_module_version": "1.5.0",
            "_model_name": "ToggleButtonsStyleModel",
            "_view_count": null,
            "_view_module": "@jupyter-widgets/base",
            "_view_module_version": "1.2.0",
            "_view_name": "StyleView",
            "button_width": "",
            "description_width": "",
            "font_weight": ""
          }
        },
        "959bc6c9fedc4b739f394f91d47cd757": {
          "model_module": "@jupyter-widgets/base",
          "model_module_version": "1.2.0",
          "model_name": "LayoutModel",
          "state": {
            "_model_module": "@jupyter-widgets/base",
            "_model_module_version": "1.2.0",
            "_model_name": "LayoutModel",
            "_view_count": null,
            "_view_module": "@jupyter-widgets/base",
            "_view_module_version": "1.2.0",
            "_view_name": "LayoutView",
            "align_content": null,
            "align_items": null,
            "align_self": null,
            "border": null,
            "bottom": null,
            "display": null,
            "flex": null,
            "flex_flow": null,
            "grid_area": null,
            "grid_auto_columns": null,
            "grid_auto_flow": null,
            "grid_auto_rows": null,
            "grid_column": null,
            "grid_gap": null,
            "grid_row": null,
            "grid_template_areas": null,
            "grid_template_columns": null,
            "grid_template_rows": null,
            "height": null,
            "justify_content": null,
            "justify_items": null,
            "left": null,
            "margin": null,
            "max_height": null,
            "max_width": null,
            "min_height": null,
            "min_width": null,
            "object_fit": null,
            "object_position": null,
            "order": null,
            "overflow": null,
            "overflow_x": null,
            "overflow_y": null,
            "padding": null,
            "right": null,
            "top": null,
            "visibility": null,
            "width": null
          }
        },
        "9aa7d9339f7040318cbb0ed11f832512": {
          "model_module": "@jupyter-widgets/base",
          "model_module_version": "1.2.0",
          "model_name": "LayoutModel",
          "state": {
            "_model_module": "@jupyter-widgets/base",
            "_model_module_version": "1.2.0",
            "_model_name": "LayoutModel",
            "_view_count": null,
            "_view_module": "@jupyter-widgets/base",
            "_view_module_version": "1.2.0",
            "_view_name": "LayoutView",
            "align_content": null,
            "align_items": null,
            "align_self": null,
            "border": null,
            "bottom": null,
            "display": null,
            "flex": null,
            "flex_flow": null,
            "grid_area": null,
            "grid_auto_columns": null,
            "grid_auto_flow": null,
            "grid_auto_rows": null,
            "grid_column": null,
            "grid_gap": null,
            "grid_row": null,
            "grid_template_areas": null,
            "grid_template_columns": null,
            "grid_template_rows": null,
            "height": null,
            "justify_content": null,
            "justify_items": null,
            "left": null,
            "margin": null,
            "max_height": null,
            "max_width": null,
            "min_height": null,
            "min_width": null,
            "object_fit": null,
            "object_position": null,
            "order": null,
            "overflow": null,
            "overflow_x": null,
            "overflow_y": null,
            "padding": null,
            "right": null,
            "top": null,
            "visibility": null,
            "width": null
          }
        },
        "9c8b986b946349d9b7d8cf08928bcd1a": {
          "model_module": "@jupyter-widgets/base",
          "model_module_version": "1.2.0",
          "model_name": "LayoutModel",
          "state": {
            "_model_module": "@jupyter-widgets/base",
            "_model_module_version": "1.2.0",
            "_model_name": "LayoutModel",
            "_view_count": null,
            "_view_module": "@jupyter-widgets/base",
            "_view_module_version": "1.2.0",
            "_view_name": "LayoutView",
            "align_content": null,
            "align_items": null,
            "align_self": null,
            "border": null,
            "bottom": null,
            "display": null,
            "flex": null,
            "flex_flow": null,
            "grid_area": null,
            "grid_auto_columns": null,
            "grid_auto_flow": null,
            "grid_auto_rows": null,
            "grid_column": null,
            "grid_gap": null,
            "grid_row": null,
            "grid_template_areas": null,
            "grid_template_columns": null,
            "grid_template_rows": null,
            "height": null,
            "justify_content": null,
            "justify_items": null,
            "left": null,
            "margin": null,
            "max_height": null,
            "max_width": null,
            "min_height": null,
            "min_width": null,
            "object_fit": null,
            "object_position": null,
            "order": null,
            "overflow": null,
            "overflow_x": null,
            "overflow_y": null,
            "padding": null,
            "right": null,
            "top": null,
            "visibility": null,
            "width": null
          }
        },
        "aa242d85c2644c53b0f70241be0f9df4": {
          "model_module": "@jupyter-widgets/controls",
          "model_module_version": "1.5.0",
          "model_name": "ProgressStyleModel",
          "state": {
            "_model_module": "@jupyter-widgets/controls",
            "_model_module_version": "1.5.0",
            "_model_name": "ProgressStyleModel",
            "_view_count": null,
            "_view_module": "@jupyter-widgets/base",
            "_view_module_version": "1.2.0",
            "_view_name": "StyleView",
            "bar_color": null,
            "description_width": ""
          }
        },
        "bd6ce77ba91f48bfb50a70394ae12990": {
          "model_module": "@jupyter-widgets/base",
          "model_module_version": "1.2.0",
          "model_name": "LayoutModel",
          "state": {
            "_model_module": "@jupyter-widgets/base",
            "_model_module_version": "1.2.0",
            "_model_name": "LayoutModel",
            "_view_count": null,
            "_view_module": "@jupyter-widgets/base",
            "_view_module_version": "1.2.0",
            "_view_name": "LayoutView",
            "align_content": null,
            "align_items": null,
            "align_self": null,
            "border": null,
            "bottom": null,
            "display": null,
            "flex": null,
            "flex_flow": null,
            "grid_area": null,
            "grid_auto_columns": null,
            "grid_auto_flow": null,
            "grid_auto_rows": null,
            "grid_column": null,
            "grid_gap": null,
            "grid_row": null,
            "grid_template_areas": null,
            "grid_template_columns": null,
            "grid_template_rows": null,
            "height": null,
            "justify_content": null,
            "justify_items": null,
            "left": null,
            "margin": null,
            "max_height": null,
            "max_width": null,
            "min_height": null,
            "min_width": null,
            "object_fit": null,
            "object_position": null,
            "order": null,
            "overflow": null,
            "overflow_x": null,
            "overflow_y": null,
            "padding": null,
            "right": null,
            "top": null,
            "visibility": null,
            "width": null
          }
        },
        "ce0892a51c9346f6847ad68414fde1df": {
          "model_module": "@jupyter-widgets/controls",
          "model_module_version": "1.5.0",
          "model_name": "IntProgressModel",
          "state": {
            "_dom_classes": [],
            "_model_module": "@jupyter-widgets/controls",
            "_model_module_version": "1.5.0",
            "_model_name": "IntProgressModel",
            "_view_count": null,
            "_view_module": "@jupyter-widgets/controls",
            "_view_module_version": "1.5.0",
            "_view_name": "ProgressView",
            "bar_style": "",
            "description": "Processing: ",
            "description_tooltip": null,
            "layout": "IPY_MODEL_ef1e883de8244840bdd798c24e219cb7",
            "max": 5,
            "min": 0,
            "orientation": "horizontal",
            "style": "IPY_MODEL_aa242d85c2644c53b0f70241be0f9df4",
            "value": 5
          }
        },
        "db4831cff0604ac2b06d240c9804e487": {
          "model_module": "@jupyter-widgets/controls",
          "model_module_version": "1.5.0",
          "model_name": "ProgressStyleModel",
          "state": {
            "_model_module": "@jupyter-widgets/controls",
            "_model_module_version": "1.5.0",
            "_model_name": "ProgressStyleModel",
            "_view_count": null,
            "_view_module": "@jupyter-widgets/base",
            "_view_module_version": "1.2.0",
            "_view_name": "StyleView",
            "bar_color": null,
            "description_width": ""
          }
        },
        "e398ece97eb748c8bbfa94b0f361649c": {
          "model_module": "@jupyter-widgets/base",
          "model_module_version": "1.2.0",
          "model_name": "LayoutModel",
          "state": {
            "_model_module": "@jupyter-widgets/base",
            "_model_module_version": "1.2.0",
            "_model_name": "LayoutModel",
            "_view_count": null,
            "_view_module": "@jupyter-widgets/base",
            "_view_module_version": "1.2.0",
            "_view_name": "LayoutView",
            "align_content": null,
            "align_items": null,
            "align_self": null,
            "border": null,
            "bottom": null,
            "display": null,
            "flex": null,
            "flex_flow": null,
            "grid_area": null,
            "grid_auto_columns": null,
            "grid_auto_flow": null,
            "grid_auto_rows": null,
            "grid_column": null,
            "grid_gap": null,
            "grid_row": null,
            "grid_template_areas": null,
            "grid_template_columns": null,
            "grid_template_rows": null,
            "height": null,
            "justify_content": null,
            "justify_items": null,
            "left": null,
            "margin": null,
            "max_height": null,
            "max_width": null,
            "min_height": null,
            "min_width": null,
            "object_fit": null,
            "object_position": null,
            "order": null,
            "overflow": null,
            "overflow_x": null,
            "overflow_y": null,
            "padding": null,
            "right": null,
            "top": null,
            "visibility": null,
            "width": null
          }
        },
        "e496ab1e04274f08b70a4c8bd480a646": {
          "model_module": "@jupyter-widgets/base",
          "model_module_version": "1.2.0",
          "model_name": "LayoutModel",
          "state": {
            "_model_module": "@jupyter-widgets/base",
            "_model_module_version": "1.2.0",
            "_model_name": "LayoutModel",
            "_view_count": null,
            "_view_module": "@jupyter-widgets/base",
            "_view_module_version": "1.2.0",
            "_view_name": "LayoutView",
            "align_content": null,
            "align_items": null,
            "align_self": null,
            "border": null,
            "bottom": null,
            "display": null,
            "flex": null,
            "flex_flow": null,
            "grid_area": null,
            "grid_auto_columns": null,
            "grid_auto_flow": null,
            "grid_auto_rows": null,
            "grid_column": null,
            "grid_gap": null,
            "grid_row": null,
            "grid_template_areas": null,
            "grid_template_columns": null,
            "grid_template_rows": null,
            "height": null,
            "justify_content": null,
            "justify_items": null,
            "left": null,
            "margin": null,
            "max_height": null,
            "max_width": null,
            "min_height": null,
            "min_width": null,
            "object_fit": null,
            "object_position": null,
            "order": null,
            "overflow": null,
            "overflow_x": null,
            "overflow_y": null,
            "padding": null,
            "right": null,
            "top": null,
            "visibility": null,
            "width": null
          }
        },
        "ee5174e3817b4f049c40887230a530a0": {
          "model_module": "@jupyter-widgets/controls",
          "model_module_version": "1.5.0",
          "model_name": "ToggleButtonsModel",
          "state": {
            "_dom_classes": [],
            "_model_module": "@jupyter-widgets/controls",
            "_model_module_version": "1.5.0",
            "_model_name": "ToggleButtonsModel",
            "_options_labels": [
              "Hyperparameters",
              "AUC",
              "Confusion Matrix",
              "Threshold",
              "Precision Recall",
              "Prediction Error",
              "Class Report",
              "Feature Selection",
              "Learning Curve",
              "Manifold Learning",
              "Calibration Curve",
              "Validation Curve",
              "Dimensions",
              "Feature Importance",
              "Feature Importance (All)",
              "Decision Boundary",
              "Lift Chart",
              "Gain Chart",
              "Decision Tree",
              "KS Statistic Plot"
            ],
            "_view_count": null,
            "_view_module": "@jupyter-widgets/controls",
            "_view_module_version": "1.5.0",
            "_view_name": "ToggleButtonsView",
            "button_style": "",
            "description": "Plot Type:",
            "description_tooltip": null,
            "disabled": false,
            "icons": [
              ""
            ],
            "index": 1,
            "layout": "IPY_MODEL_f2feae45a44a4721ba76b3a392b9cbe7",
            "style": "IPY_MODEL_8e20d7d7c37d47a4859e82573b419f3f",
            "tooltips": []
          }
        },
        "ee938752cb9249dda9cbdb39c6f10408": {
          "model_module": "@jupyter-widgets/controls",
          "model_module_version": "1.5.0",
          "model_name": "IntProgressModel",
          "state": {
            "_dom_classes": [],
            "_model_module": "@jupyter-widgets/controls",
            "_model_module_version": "1.5.0",
            "_model_name": "IntProgressModel",
            "_view_count": null,
            "_view_module": "@jupyter-widgets/controls",
            "_view_module_version": "1.5.0",
            "_view_name": "ProgressView",
            "bar_style": "",
            "description": "Processing: ",
            "description_tooltip": null,
            "layout": "IPY_MODEL_9aa7d9339f7040318cbb0ed11f832512",
            "max": 5,
            "min": 0,
            "orientation": "horizontal",
            "style": "IPY_MODEL_5622ec826287497697c10c8c0055ab06",
            "value": 3
          }
        },
        "ef1e883de8244840bdd798c24e219cb7": {
          "model_module": "@jupyter-widgets/base",
          "model_module_version": "1.2.0",
          "model_name": "LayoutModel",
          "state": {
            "_model_module": "@jupyter-widgets/base",
            "_model_module_version": "1.2.0",
            "_model_name": "LayoutModel",
            "_view_count": null,
            "_view_module": "@jupyter-widgets/base",
            "_view_module_version": "1.2.0",
            "_view_name": "LayoutView",
            "align_content": null,
            "align_items": null,
            "align_self": null,
            "border": null,
            "bottom": null,
            "display": null,
            "flex": null,
            "flex_flow": null,
            "grid_area": null,
            "grid_auto_columns": null,
            "grid_auto_flow": null,
            "grid_auto_rows": null,
            "grid_column": null,
            "grid_gap": null,
            "grid_row": null,
            "grid_template_areas": null,
            "grid_template_columns": null,
            "grid_template_rows": null,
            "height": null,
            "justify_content": null,
            "justify_items": null,
            "left": null,
            "margin": null,
            "max_height": null,
            "max_width": null,
            "min_height": null,
            "min_width": null,
            "object_fit": null,
            "object_position": null,
            "order": null,
            "overflow": null,
            "overflow_x": null,
            "overflow_y": null,
            "padding": null,
            "right": null,
            "top": null,
            "visibility": null,
            "width": null
          }
        },
        "f2feae45a44a4721ba76b3a392b9cbe7": {
          "model_module": "@jupyter-widgets/base",
          "model_module_version": "1.2.0",
          "model_name": "LayoutModel",
          "state": {
            "_model_module": "@jupyter-widgets/base",
            "_model_module_version": "1.2.0",
            "_model_name": "LayoutModel",
            "_view_count": null,
            "_view_module": "@jupyter-widgets/base",
            "_view_module_version": "1.2.0",
            "_view_name": "LayoutView",
            "align_content": null,
            "align_items": null,
            "align_self": null,
            "border": null,
            "bottom": null,
            "display": null,
            "flex": null,
            "flex_flow": null,
            "grid_area": null,
            "grid_auto_columns": null,
            "grid_auto_flow": null,
            "grid_auto_rows": null,
            "grid_column": null,
            "grid_gap": null,
            "grid_row": null,
            "grid_template_areas": null,
            "grid_template_columns": null,
            "grid_template_rows": null,
            "height": null,
            "justify_content": null,
            "justify_items": null,
            "left": null,
            "margin": null,
            "max_height": null,
            "max_width": null,
            "min_height": null,
            "min_width": null,
            "object_fit": null,
            "object_position": null,
            "order": null,
            "overflow": null,
            "overflow_x": null,
            "overflow_y": null,
            "padding": null,
            "right": null,
            "top": null,
            "visibility": null,
            "width": null
          }
        }
      }
    }
  },
  "nbformat": 4,
  "nbformat_minor": 0
}